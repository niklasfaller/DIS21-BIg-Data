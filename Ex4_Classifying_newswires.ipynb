{
  "cells": [
    {
      "cell_type": "markdown",
      "metadata": {
        "id": "view-in-github",
        "colab_type": "text"
      },
      "source": [
        "<a href=\"https://colab.research.google.com/github/niklasfaller/DIS21-BIg-Data/blob/main/Ex4_Classifying_newswires.ipynb\" target=\"_parent\"><img src=\"https://colab.research.google.com/assets/colab-badge.svg\" alt=\"Open In Colab\"/></a>"
      ]
    },
    {
      "cell_type": "markdown",
      "metadata": {
        "id": "_ggC1VCMDyAw"
      },
      "source": [
        "<img src=\"https://www.th-koeln.de/img/logo.svg\" style=\"float: right;\" width=\"200\">"
      ]
    },
    {
      "cell_type": "markdown",
      "metadata": {
        "id": "8UL5TBu3DyA5"
      },
      "source": [
        "# 4th exercise: <font color=\"#C70039\">Multi-Class classification of newswires</font>\n",
        "* Course: DIS21a.1\n",
        "* Lecturer: <a href=\"https://www.gernotheisenberg.de/\">Gernot Heisenberg</a>\n",
        "* Author of notebook modifications and adaptations: Niklas Faller\n",
        "* Date: 08.01.2024\n",
        "\n",
        "<img src=\"https://miro.medium.com/max/700/1*HgXA9v1EsqlrRDaC_iORhQ.png\" style=\"float: center;\" width=\"400\">\n",
        "\n",
        "---------------------------------\n",
        "**GENERAL NOTE 1**:\n",
        "Please make sure you are reading the entire notebook, since it contains a lot of information about your tasks (e.g. regarding the set of certain paramaters or specific computational tricks, etc.), and the written mark downs as well as comments contain a lot of information on how things work together as a whole.\n",
        "\n",
        "**GENERAL NOTE 2**:\n",
        "* Please, when commenting source code, just use English language only.\n",
        "* When describing an observation (for instance, after you have run through your test plan) you may use German language.\n",
        "This applies to all exercises in DIS 21a.1.  \n",
        "\n",
        "--------------------\n",
        "\n",
        "### <font color=\"ce33ff\">DESCRIPTION</font>:\n",
        "The previous exercises were dealing with classification problems, that was to classify data into two mutually exclusive classes using a densely-connected neural network. In this exercise you will deal with a problem where you have more than two classes.\n",
        "\n",
        "This notebook allows you for classifying Reuters newswires into 46 different mutually-exclusive topics (multi-class classification problem), and since each data point should be classified into only one category, the problem is more specifically spoken a \"single-label, multi-class classification\" problem (compare lecture slide p.163).\n",
        "If each data point could have belonged to multiple categories (in our case the topics) then we would be facing a \"multi-label, multi-class classification\" problem.\n",
        "\n",
        "The example works with the so-called _Reuters dataset_, a set of short newswires and their topics, published by Reuters in 1986. It is a very simple, widely used toy data set for text classification. There are 46 different topics. Some topics are more represented than others, but each topic has got at least 10 examples in the training set. Like IMDB and MNIST, the Reuters data set comes packaged as part of Keras.\n",
        "\n",
        "-----------------------\n",
        "\n",
        "### <font color=\"FFC300\">TASKS</font>:\n",
        "Within this notebook, the tasks that you need to work on are always listed as bullet points below.\n",
        "If a task is more challenging and consists of several steps, this is indicated as well.\n",
        "Make sure you have worked down the task list and commented your doings.\n",
        "This should be done using markdown.<br>\n",
        "<font color=red>Make sure you don't forget to specify your name and your matriculation number in the notebook before submitting it.</font>\n",
        "\n",
        "**YOUR TASKS in this exercise are as follows**:\n",
        "1. import the notebook to Google Colab.\n",
        "2. make sure you specified you name and your matriculation number in the header below my name and date.\n",
        "    * set the date too and remove mine.\n",
        "3. read the entire notebook carefully.\n",
        "    * add comments whereever you feel it necessary for better understanding\n",
        "    * run the notebook for the first time and note the result in your markdown result table (your test plan).\n",
        "4. decode the newswire back to english words by what you have learned from the previous exercise.\n",
        "5. go into the section 'building the ANN'.\n",
        "    * add the missing code that does create a network as shown in the image in the lecture slides on page 172 (File: 'DIS21a.1-7.HANDS_ON.First.DLNetwork.Architectures.for.Solving.Three.Interesting.Problems.pdf')\n",
        "    * set the activation function to ReLu\n",
        "    * set the correct activation function in the last layer/the output. What is correct when doing a single-label, multi-class classification?\n",
        "    * add the missing code for compiling the network by setting\n",
        "        * the loss function\n",
        "        * the optimizer\n",
        "        * an evaluation metric, that makes sense\n",
        "6. optimize the hyperparameters, build a new model and evaluate it on the test data.\n",
        "    * determine the minimum number of epochs and train a new model from scratch for this number of epochs.\n",
        "    * evaluate it on the test set from the data set you have loaded.\n",
        "7. make combinations of this according to your test plan. Make sure you combine with sense and reason and not just chaotically.\n",
        "    * Try using smaller or larger layers: 32 units, 128 units...\n",
        "    * We were using two hidden layers. Now try to use a single hidden layer, or three hidden layers.\n",
        "8. comment your observations.\n",
        "    * when is the accuracy increasing/decreasing? Describe your findings!"
      ]
    },
    {
      "cell_type": "markdown",
      "metadata": {
        "id": "UmX2dBvvDyA9"
      },
      "source": [
        "## START OF THE NOTEBOOK CODE\n",
        "----------------------------------------------------------------------------------------------------------------------"
      ]
    },
    {
      "cell_type": "code",
      "execution_count": 2,
      "metadata": {
        "tags": [],
        "id": "Dy_82fB7DyBA"
      },
      "outputs": [],
      "source": [
        "import tensorflow\n",
        "#tensorflow.keras.__version__"
      ]
    },
    {
      "cell_type": "markdown",
      "metadata": {
        "id": "1pZdKED6DyBD"
      },
      "source": [
        "### loading the reuters newswire data set"
      ]
    },
    {
      "cell_type": "code",
      "execution_count": 3,
      "metadata": {
        "tags": [],
        "colab": {
          "base_uri": "https://localhost:8080/"
        },
        "id": "pKog-4ocDyBE",
        "outputId": "95c17b7f-88fa-463e-e296-1327c56b9d53"
      },
      "outputs": [
        {
          "output_type": "stream",
          "name": "stdout",
          "text": [
            "Downloading data from https://storage.googleapis.com/tensorflow/tf-keras-datasets/reuters.npz\n",
            "2110848/2110848 [==============================] - 0s 0us/step\n"
          ]
        }
      ],
      "source": [
        "from tensorflow.keras.datasets import reuters\n",
        "(train_data, train_labels), (test_data, test_labels) = reuters.load_data(num_words=10000)"
      ]
    },
    {
      "cell_type": "markdown",
      "metadata": {
        "id": "IBzyl8pLDyBF"
      },
      "source": [
        "Like with the IMDB data set, the argument `num_words=10000` restricts the data to the 10.000 most frequently occurring words found in the data.\n",
        "\n",
        "There are 8.982 training examples and 2.246 test examples."
      ]
    },
    {
      "cell_type": "code",
      "execution_count": 4,
      "metadata": {
        "tags": [],
        "colab": {
          "base_uri": "https://localhost:8080/"
        },
        "id": "MX1YyEOnDyBG",
        "outputId": "935d48d6-a50f-4166-8283-ff7a72ecde66"
      },
      "outputs": [
        {
          "output_type": "execute_result",
          "data": {
            "text/plain": [
              "8982"
            ]
          },
          "metadata": {},
          "execution_count": 4
        }
      ],
      "source": [
        "len(train_data)"
      ]
    },
    {
      "cell_type": "code",
      "execution_count": 5,
      "metadata": {
        "tags": [],
        "colab": {
          "base_uri": "https://localhost:8080/"
        },
        "id": "k1TrmWTmDyBI",
        "outputId": "869c74f6-b283-4868-fa31-191bdb58c68c"
      },
      "outputs": [
        {
          "output_type": "execute_result",
          "data": {
            "text/plain": [
              "2246"
            ]
          },
          "metadata": {},
          "execution_count": 5
        }
      ],
      "source": [
        "len(test_data)"
      ]
    },
    {
      "cell_type": "markdown",
      "metadata": {
        "id": "I8xIajokDyBJ"
      },
      "source": [
        "As with the IMDB reviews, each example is a list of integers (word indices)."
      ]
    },
    {
      "cell_type": "code",
      "execution_count": 6,
      "metadata": {
        "tags": [],
        "colab": {
          "base_uri": "https://localhost:8080/"
        },
        "id": "U3uUdzc6DyBK",
        "outputId": "0d02018e-5ba5-47e2-c8a8-1a37dd151d6f"
      },
      "outputs": [
        {
          "output_type": "execute_result",
          "data": {
            "text/plain": [
              "[1,\n",
              " 245,\n",
              " 273,\n",
              " 207,\n",
              " 156,\n",
              " 53,\n",
              " 74,\n",
              " 160,\n",
              " 26,\n",
              " 14,\n",
              " 46,\n",
              " 296,\n",
              " 26,\n",
              " 39,\n",
              " 74,\n",
              " 2979,\n",
              " 3554,\n",
              " 14,\n",
              " 46,\n",
              " 4689,\n",
              " 4329,\n",
              " 86,\n",
              " 61,\n",
              " 3499,\n",
              " 4795,\n",
              " 14,\n",
              " 61,\n",
              " 451,\n",
              " 4329,\n",
              " 17,\n",
              " 12]"
            ]
          },
          "metadata": {},
          "execution_count": 6
        }
      ],
      "source": [
        "train_data[10]"
      ]
    },
    {
      "cell_type": "markdown",
      "metadata": {
        "id": "beEYmPd9DyBK"
      },
      "source": [
        "#### <font color=\"#00ff00\">Task 4:</font> decode one entry back to words"
      ]
    },
    {
      "cell_type": "code",
      "execution_count": 7,
      "metadata": {
        "tags": [],
        "colab": {
          "base_uri": "https://localhost:8080/"
        },
        "id": "WFtq7uAODyBL",
        "outputId": "5a6a22b5-3691-450b-ce92-06a987f2b8df"
      },
      "outputs": [
        {
          "output_type": "stream",
          "name": "stdout",
          "text": [
            "Downloading data from https://storage.googleapis.com/tensorflow/tf-keras-datasets/reuters_word_index.json\n",
            "550378/550378 [==============================] - 0s 0us/step\n"
          ]
        }
      ],
      "source": [
        "word_index = reuters.get_word_index()\n",
        "\n",
        "reverse_word_index = dict([(value, key) for (key, value) in word_index.items()])\n",
        "\n",
        "decoded_newswire = ' '.join([reverse_word_index.get(i - 3, '?') for i in train_data[10]])\n"
      ]
    },
    {
      "cell_type": "code",
      "execution_count": 8,
      "metadata": {
        "tags": [],
        "colab": {
          "base_uri": "https://localhost:8080/",
          "height": 35
        },
        "id": "WOoTbZSLDyBM",
        "outputId": "ed5eeef7-d8cb-445b-c167-53ff8e3e0795"
      },
      "outputs": [
        {
          "output_type": "execute_result",
          "data": {
            "text/plain": [
              "'? period ended december 31 shr profit 11 cts vs loss 24 cts net profit 224 271 vs loss 511 349 revs 7 258 688 vs 7 200 349 reuter 3'"
            ],
            "application/vnd.google.colaboratory.intrinsic+json": {
              "type": "string"
            }
          },
          "metadata": {},
          "execution_count": 8
        }
      ],
      "source": [
        "decoded_newswire"
      ]
    },
    {
      "cell_type": "markdown",
      "metadata": {
        "id": "siMR8HRGDyBM"
      },
      "source": [
        "The label associated with an example is an integer between 0 and 45, since there are 46 topics: a topic index"
      ]
    },
    {
      "cell_type": "code",
      "execution_count": 9,
      "metadata": {
        "tags": [],
        "colab": {
          "base_uri": "https://localhost:8080/"
        },
        "id": "Vjc9VlNyDyBM",
        "outputId": "5c00ba89-ae7c-4b16-a5ed-e50d7410238c"
      },
      "outputs": [
        {
          "output_type": "execute_result",
          "data": {
            "text/plain": [
              "3"
            ]
          },
          "metadata": {},
          "execution_count": 9
        }
      ],
      "source": [
        "train_labels[10]"
      ]
    },
    {
      "cell_type": "markdown",
      "metadata": {
        "id": "8VkeqKTeDyBN"
      },
      "source": [
        "### data preparation\n",
        "\n",
        "The data is going to be vectorized with the exact same code as in the previous exercise."
      ]
    },
    {
      "cell_type": "code",
      "execution_count": 10,
      "metadata": {
        "tags": [],
        "id": "jzzVVWshDyBN"
      },
      "outputs": [],
      "source": [
        "import numpy as np\n",
        "\n",
        "def vectorize_sequences(sequences, dimension=10000):\n",
        "    results = np.zeros((len(sequences), dimension))\n",
        "    for i, sequence in enumerate(sequences):\n",
        "        results[i, sequence] = 1.\n",
        "    return results\n",
        "\n",
        "# Our vectorized training data\n",
        "x_train = vectorize_sequences(train_data)\n",
        "# Our vectorized test data\n",
        "x_test = vectorize_sequences(test_data)"
      ]
    },
    {
      "cell_type": "markdown",
      "metadata": {
        "id": "WTH_bWdsDyBO"
      },
      "source": [
        "To vectorize the labels, one-hot-encoding is used, since it is a widely used format for categorical data, very often also referred to as \"categorical encoding\".\n",
        "\n",
        "Here, one-hot encoding of the labels consists in embedding each label as an all-zero vector with a 1 in the place of the label index."
      ]
    },
    {
      "cell_type": "code",
      "execution_count": 11,
      "metadata": {
        "tags": [],
        "id": "mPxWM1QkDyBO"
      },
      "outputs": [],
      "source": [
        "def to_one_hot(labels, dimension=46):\n",
        "    results = np.zeros((len(labels), dimension))\n",
        "    for i, label in enumerate(labels):\n",
        "        results[i, label] = 1.\n",
        "    return results\n",
        "\n",
        "# Our vectorized training labels\n",
        "one_hot_train_labels = to_one_hot(train_labels)\n",
        "# Our vectorized test labels\n",
        "one_hot_test_labels = to_one_hot(test_labels)"
      ]
    },
    {
      "cell_type": "markdown",
      "metadata": {
        "id": "0bPu5FExDyBP"
      },
      "source": [
        "<font color=red>Note</font> that there is a more elegant and built-in way to do this in Keras, which you have already seen in action in the MNIST example:"
      ]
    },
    {
      "cell_type": "code",
      "execution_count": 12,
      "metadata": {
        "tags": [],
        "id": "bzmJDoMwDyBP"
      },
      "outputs": [],
      "source": [
        "from tensorflow.keras.utils import to_categorical\n",
        "\n",
        "one_hot_train_labels = to_categorical(train_labels)\n",
        "one_hot_test_labels = to_categorical(test_labels)"
      ]
    },
    {
      "cell_type": "markdown",
      "metadata": {
        "id": "2N9i4mvtDyBQ"
      },
      "source": [
        "### building the ANN\n",
        "\n",
        "This topic classification problem looks very similar to our previous movie review classification problem: in both cases, we are trying to classify short snippets of text. There is however a new constraint here: the number of output classes has gone from 2 to 46, i.e. the dimensionality of the output space is much larger."
      ]
    },
    {
      "cell_type": "markdown",
      "metadata": {
        "id": "kCcX8jm7DyBQ"
      },
      "source": [
        "#### <font color =\"#00ff00\">Task 5:</font> build and compile the ANN\n",
        "as described in the task list"
      ]
    },
    {
      "cell_type": "code",
      "execution_count": 13,
      "metadata": {
        "tags": [],
        "id": "D4_6YnrADyBR"
      },
      "outputs": [],
      "source": [
        "from tensorflow.keras import models\n",
        "from tensorflow.keras import layers\n",
        "\n",
        "model = models.Sequential()\n",
        "\n",
        "model.add(layers.Dense(64, activation = 'relu', input_shape=(10000,)))\n",
        "model.add(layers.Dense(64, activation = 'relu'))\n",
        "model.add(layers.Dense(46, activation = 'softmax'))\n",
        "model.compile(optimizer = 'rmsprop', loss = 'categorical_crossentropy', metrics = ['accuracy'])\n",
        "\n",
        "\n"
      ]
    },
    {
      "cell_type": "markdown",
      "metadata": {
        "id": "eK3V98kPDyBR"
      },
      "source": [
        "### Validating the ANN model\n",
        "\n",
        "Let's set apart 1000 samples from the training data to use as a validation set. The testing data remains untouched."
      ]
    },
    {
      "cell_type": "code",
      "execution_count": 14,
      "metadata": {
        "tags": [],
        "id": "6Ti4INHgDyBR"
      },
      "outputs": [],
      "source": [
        "x_val = x_train[:1000]\n",
        "partial_x_train = x_train[1000:]\n",
        "\n",
        "y_val = one_hot_train_labels[:1000]\n",
        "partial_y_train = one_hot_train_labels[1000:]"
      ]
    },
    {
      "cell_type": "markdown",
      "metadata": {
        "id": "PtRwXaIADyBS"
      },
      "source": [
        "Now let's train the ANN for 20 epochs with batch_size=512 and use the history object."
      ]
    },
    {
      "cell_type": "code",
      "execution_count": 15,
      "metadata": {
        "tags": [],
        "colab": {
          "base_uri": "https://localhost:8080/"
        },
        "id": "v3l97EiCDyBS",
        "outputId": "c7233da2-e27c-44c1-9f83-6ce586398947"
      },
      "outputs": [
        {
          "output_type": "stream",
          "name": "stdout",
          "text": [
            "Epoch 1/20\n",
            "16/16 [==============================] - 3s 105ms/step - loss: 2.9496 - accuracy: 0.4826 - val_loss: 1.9841 - val_accuracy: 0.6080\n",
            "Epoch 2/20\n",
            "16/16 [==============================] - 1s 64ms/step - loss: 1.6552 - accuracy: 0.6763 - val_loss: 1.4377 - val_accuracy: 0.6890\n",
            "Epoch 3/20\n",
            "16/16 [==============================] - 1s 59ms/step - loss: 1.2545 - accuracy: 0.7387 - val_loss: 1.2172 - val_accuracy: 0.7320\n",
            "Epoch 4/20\n",
            "16/16 [==============================] - 1s 52ms/step - loss: 1.0169 - accuracy: 0.7846 - val_loss: 1.1039 - val_accuracy: 0.7680\n",
            "Epoch 5/20\n",
            "16/16 [==============================] - 1s 61ms/step - loss: 0.8410 - accuracy: 0.8224 - val_loss: 1.0039 - val_accuracy: 0.7830\n",
            "Epoch 6/20\n",
            "16/16 [==============================] - 1s 54ms/step - loss: 0.6997 - accuracy: 0.8530 - val_loss: 0.9558 - val_accuracy: 0.8040\n",
            "Epoch 7/20\n",
            "16/16 [==============================] - 1s 74ms/step - loss: 0.5842 - accuracy: 0.8768 - val_loss: 0.9319 - val_accuracy: 0.7930\n",
            "Epoch 8/20\n",
            "16/16 [==============================] - 2s 97ms/step - loss: 0.4900 - accuracy: 0.8945 - val_loss: 0.8749 - val_accuracy: 0.8190\n",
            "Epoch 9/20\n",
            "16/16 [==============================] - 1s 93ms/step - loss: 0.4141 - accuracy: 0.9103 - val_loss: 0.8593 - val_accuracy: 0.8190\n",
            "Epoch 10/20\n",
            "16/16 [==============================] - 1s 59ms/step - loss: 0.3545 - accuracy: 0.9223 - val_loss: 0.8478 - val_accuracy: 0.8180\n",
            "Epoch 11/20\n",
            "16/16 [==============================] - 1s 52ms/step - loss: 0.2997 - accuracy: 0.9355 - val_loss: 0.8930 - val_accuracy: 0.8100\n",
            "Epoch 12/20\n",
            "16/16 [==============================] - 1s 52ms/step - loss: 0.2652 - accuracy: 0.9401 - val_loss: 0.8770 - val_accuracy: 0.8110\n",
            "Epoch 13/20\n",
            "16/16 [==============================] - 1s 49ms/step - loss: 0.2327 - accuracy: 0.9454 - val_loss: 0.8734 - val_accuracy: 0.8250\n",
            "Epoch 14/20\n",
            "16/16 [==============================] - 1s 82ms/step - loss: 0.2094 - accuracy: 0.9483 - val_loss: 0.8584 - val_accuracy: 0.8190\n",
            "Epoch 15/20\n",
            "16/16 [==============================] - 1s 89ms/step - loss: 0.1917 - accuracy: 0.9514 - val_loss: 0.8576 - val_accuracy: 0.8230\n",
            "Epoch 16/20\n",
            "16/16 [==============================] - 1s 88ms/step - loss: 0.1732 - accuracy: 0.9523 - val_loss: 0.8844 - val_accuracy: 0.8150\n",
            "Epoch 17/20\n",
            "16/16 [==============================] - 2s 114ms/step - loss: 0.1599 - accuracy: 0.9541 - val_loss: 0.9047 - val_accuracy: 0.8160\n",
            "Epoch 18/20\n",
            "16/16 [==============================] - 2s 133ms/step - loss: 0.1531 - accuracy: 0.9539 - val_loss: 0.8940 - val_accuracy: 0.8180\n",
            "Epoch 19/20\n",
            "16/16 [==============================] - 2s 148ms/step - loss: 0.1401 - accuracy: 0.9570 - val_loss: 0.9026 - val_accuracy: 0.8180\n",
            "Epoch 20/20\n",
            "16/16 [==============================] - 2s 100ms/step - loss: 0.1347 - accuracy: 0.9574 - val_loss: 0.9433 - val_accuracy: 0.8200\n"
          ]
        }
      ],
      "source": [
        "history = model.fit(partial_x_train,\n",
        "                    partial_y_train,\n",
        "                    epochs=20,\n",
        "                    batch_size=512,\n",
        "                    validation_data=(x_val, y_val))"
      ]
    },
    {
      "cell_type": "code",
      "execution_count": 16,
      "metadata": {
        "colab": {
          "base_uri": "https://localhost:8080/"
        },
        "id": "a85dYSBKDyBS",
        "outputId": "294b5f94-0212-4c84-9518-a8de8de89fff"
      },
      "outputs": [
        {
          "output_type": "execute_result",
          "data": {
            "text/plain": [
              "dict_keys(['loss', 'accuracy', 'val_loss', 'val_accuracy'])"
            ]
          },
          "metadata": {},
          "execution_count": 16
        }
      ],
      "source": [
        "history.history.keys()"
      ]
    },
    {
      "cell_type": "markdown",
      "metadata": {
        "id": "8VcwA58mDyBT"
      },
      "source": [
        "Visualize the loss and accuracy by using pyplot."
      ]
    },
    {
      "cell_type": "code",
      "execution_count": 17,
      "metadata": {
        "colab": {
          "base_uri": "https://localhost:8080/",
          "height": 472
        },
        "id": "5eAEpkzLDyBT",
        "outputId": "40323b66-b4f4-474c-fae6-c7cf6f5cb1d2"
      },
      "outputs": [
        {
          "output_type": "display_data",
          "data": {
            "text/plain": [
              "<Figure size 640x480 with 1 Axes>"
            ],
            "image/png": "[encoded data removed]"
          },
          "metadata": {}
        }
      ],
      "source": [
        "import matplotlib.pyplot as plt\n",
        "\n",
        "loss = history.history['loss']\n",
        "val_loss = history.history['val_loss']\n",
        "\n",
        "epochs = range(1, len(loss) + 1)\n",
        "\n",
        "plt.plot(epochs, loss, 'bo', label='training loss')\n",
        "plt.plot(epochs, val_loss, 'b', label='validation loss')\n",
        "plt.title('training / validation loss')\n",
        "plt.xlabel('epochs')\n",
        "plt.ylabel('loss')\n",
        "plt.legend()\n",
        "\n",
        "plt.show()"
      ]
    },
    {
      "cell_type": "code",
      "execution_count": 18,
      "metadata": {
        "colab": {
          "base_uri": "https://localhost:8080/",
          "height": 472
        },
        "id": "SIikZkEIDyBU",
        "outputId": "c10f9ed1-f945-4129-fbdc-3cc9c3ce4730"
      },
      "outputs": [
        {
          "output_type": "display_data",
          "data": {
            "text/plain": [
              "<Figure size 640x480 with 1 Axes>"
            ],
            "image/png": "[encoded data removed]"
          },
          "metadata": {}
        }
      ],
      "source": [
        "plt.clf()   # clear the old figure (if you forget it, this might cause problems sometimes.)\n",
        "\n",
        "acc = history.history['accuracy']\n",
        "val_acc = history.history['val_accuracy']\n",
        "\n",
        "plt.plot(epochs, acc, 'bo', label='training acc')\n",
        "plt.plot(epochs, val_acc, 'b', label='validation acc')\n",
        "plt.title('training / validation accuracy')\n",
        "plt.xlabel('epochs')\n",
        "plt.ylabel('loss')\n",
        "plt.legend()\n",
        "\n",
        "plt.show()"
      ]
    },
    {
      "cell_type": "markdown",
      "metadata": {
        "id": "rMul_ZpgDyBU"
      },
      "source": [
        "As you can see the ANN starts overfitting after some epochs."
      ]
    },
    {
      "cell_type": "markdown",
      "metadata": {
        "id": "sp78cz_-DyBV"
      },
      "source": [
        "#### <font color =\"#00ff00\">Task 6:</font> Optimize the hyperparameters, build a new model and evaluate it on the test data\n",
        "1. determine the minimum number of epochs and train a new model from scratch for this number of epochs\n",
        "    * set all missing hyperparameters and other parameters that are needed\n",
        "2. evaluate it on the test set"
      ]
    },
    {
      "cell_type": "code",
      "execution_count": 35,
      "metadata": {
        "colab": {
          "base_uri": "https://localhost:8080/"
        },
        "id": "VhJzJeV1DyBV",
        "outputId": "1a5270dc-279a-4501-ba26-c32dc2a62fd6"
      },
      "outputs": [
        {
          "output_type": "stream",
          "name": "stdout",
          "text": [
            "Epoch 1/4\n",
            "63/63 [==============================] - 2s 27ms/step - loss: 1.8600 - accuracy: 0.6317 - val_loss: 1.2183 - val_accuracy: 0.7250\n",
            "Epoch 2/4\n",
            "63/63 [==============================] - 1s 22ms/step - loss: 0.9852 - accuracy: 0.7801 - val_loss: 1.0025 - val_accuracy: 0.7860\n",
            "Epoch 3/4\n",
            "63/63 [==============================] - 1s 22ms/step - loss: 0.6779 - accuracy: 0.8538 - val_loss: 0.9170 - val_accuracy: 0.8110\n",
            "Epoch 4/4\n",
            "63/63 [==============================] - 1s 21ms/step - loss: 0.4742 - accuracy: 0.8968 - val_loss: 0.9123 - val_accuracy: 0.8060\n",
            "71/71 [==============================] - 1s 7ms/step - loss: 0.9888 - accuracy: 0.7809\n"
          ]
        }
      ],
      "source": [
        "model = models.Sequential()\n",
        "\n",
        "#add your parameters here\n",
        "model.add(layers.Dense(64, activation='relu', input_shape=(10000,)))\n",
        "model.add(layers.Dense(64, activation='relu'))\n",
        "model.add(layers.Dense(46, activation='softmax'))\n",
        "\n",
        "#add your parameters here\n",
        "model.compile(optimizer = 'rmsprop', loss = 'categorical_crossentropy', metrics = ['accuracy'])\n",
        "\n",
        "#add your parameters here\n",
        "model.fit(partial_x_train,\n",
        "          partial_y_train,\n",
        "          epochs=4,\n",
        "          batch_size=128,\n",
        "          validation_data=(x_val, y_val))\n",
        "\n",
        "results = model.evaluate(x_test, one_hot_test_labels)"
      ]
    },
    {
      "cell_type": "code",
      "execution_count": 36,
      "metadata": {
        "colab": {
          "base_uri": "https://localhost:8080/"
        },
        "id": "J-9lcSN9DyBW",
        "outputId": "4cf984c5-da5d-4704-a1b9-7f7528d93cbc"
      },
      "outputs": [
        {
          "output_type": "execute_result",
          "data": {
            "text/plain": [
              "[0.9887981414794922, 0.7809438705444336]"
            ]
          },
          "metadata": {},
          "execution_count": 36
        }
      ],
      "source": [
        "results"
      ]
    },
    {
      "cell_type": "markdown",
      "metadata": {
        "id": "ha4ioi2KDyBW"
      },
      "source": [
        "The approach reaches an accuracy of ~78%. With a balanced binary classification problem, the accuracy reached by a purely random classifier would be 50%, so your results seem pretty good, at least when compared to a random baseline."
      ]
    },
    {
      "cell_type": "code",
      "execution_count": 37,
      "metadata": {
        "colab": {
          "base_uri": "https://localhost:8080/"
        },
        "id": "T6t5n8mgDyBW",
        "outputId": "327a0ffa-d75b-42d2-a301-91f9d7b7426b"
      },
      "outputs": [
        {
          "output_type": "execute_result",
          "data": {
            "text/plain": [
              "0.195013357079252"
            ]
          },
          "metadata": {},
          "execution_count": 37
        }
      ],
      "source": [
        "import copy\n",
        "\n",
        "test_labels_copy = copy.copy(test_labels)\n",
        "np.random.shuffle(test_labels_copy)\n",
        "float(np.sum(np.array(test_labels) == np.array(test_labels_copy))) / len(test_labels)"
      ]
    },
    {
      "cell_type": "markdown",
      "metadata": {
        "id": "xBuriu-ZDyBn"
      },
      "source": [
        "### <font color=\"#C70039\">Include your result table here and reflect a good test plan (see task list)</font>"
      ]
    },
    {
      "cell_type": "markdown",
      "source": [
        "7. make combinations of this according to your test plan. Make sure you combine with sense and reason and not just chaotically."
      ],
      "metadata": {
        "id": "tTRbFcNxVq31"
      }
    },
    {
      "cell_type": "code",
      "execution_count": 39,
      "metadata": {
        "colab": {
          "base_uri": "https://localhost:8080/"
        },
        "id": "2ht1dLPxDyBo",
        "outputId": "fb1a34f6-6eea-4e09-d2ba-a46e17ff7f67"
      },
      "outputs": [
        {
          "output_type": "stream",
          "name": "stdout",
          "text": [
            "Epoch 1/4\n",
            "63/63 [==============================] - 2s 28ms/step - loss: 1.9045 - accuracy: 0.6381 - val_loss: 1.2229 - val_accuracy: 0.7240\n",
            "Epoch 2/4\n",
            "63/63 [==============================] - 2s 25ms/step - loss: 0.9645 - accuracy: 0.7934 - val_loss: 0.9746 - val_accuracy: 0.7990\n",
            "Epoch 3/4\n",
            "63/63 [==============================] - 2s 27ms/step - loss: 0.6690 - accuracy: 0.8643 - val_loss: 0.8666 - val_accuracy: 0.8140\n",
            "Epoch 4/4\n",
            "63/63 [==============================] - 2s 26ms/step - loss: 0.4870 - accuracy: 0.9009 - val_loss: 0.8057 - val_accuracy: 0.8230\n",
            "71/71 [==============================] - 0s 5ms/step - loss: 0.8780 - accuracy: 0.8028\n",
            "[0.8780397772789001, 0.8027604818344116]\n"
          ]
        }
      ],
      "source": [
        "model = models.Sequential()\n",
        "\n",
        "#add your parameters here\n",
        "model.add(layers.Dense(64, activation='relu', input_shape=(10000,)))\n",
        "\n",
        "model.add(layers.Dense(46, activation='softmax'))\n",
        "\n",
        "#add your parameters here\n",
        "model.compile(optimizer = 'rmsprop', loss = 'categorical_crossentropy', metrics = ['accuracy'])\n",
        "\n",
        "#add your parameters here\n",
        "model.fit(partial_x_train,\n",
        "          partial_y_train,\n",
        "          epochs= 4,\n",
        "          batch_size= 128,\n",
        "          validation_data=(x_val, y_val))\n",
        "\n",
        "results = model.evaluate(x_test, one_hot_test_labels)\n",
        "print(results)"
      ]
    },
    {
      "cell_type": "code",
      "source": [
        "model = models.Sequential()\n",
        "\n",
        "#add your parameters here\n",
        "model.add(layers.Dense(46, activation='softmax', input_shape=(10000,)))\n",
        "\n",
        "\n",
        "#add your parameters here\n",
        "model.compile(optimizer = 'rmsprop', loss = 'categorical_crossentropy', metrics = ['accuracy'])\n",
        "\n",
        "#add your parameters here\n",
        "model.fit(partial_x_train,\n",
        "          partial_y_train,\n",
        "          epochs= 4,\n",
        "          batch_size= 128,\n",
        "          validation_data=(x_val, y_val))\n",
        "\n",
        "results = model.evaluate(x_test, one_hot_test_labels)\n",
        "print(results)"
      ],
      "metadata": {
        "colab": {
          "base_uri": "https://localhost:8080/"
        },
        "id": "FoHUuw09iGbz",
        "outputId": "aa03b92a-244d-47ea-bb58-4aa054b25659"
      },
      "execution_count": 40,
      "outputs": [
        {
          "output_type": "stream",
          "name": "stdout",
          "text": [
            "Epoch 1/4\n",
            "63/63 [==============================] - 2s 18ms/step - loss: 2.5476 - accuracy: 0.5782 - val_loss: 1.9148 - val_accuracy: 0.6430\n",
            "Epoch 2/4\n",
            "63/63 [==============================] - 1s 14ms/step - loss: 1.5420 - accuracy: 0.6999 - val_loss: 1.4191 - val_accuracy: 0.7020\n",
            "Epoch 3/4\n",
            "63/63 [==============================] - 1s 15ms/step - loss: 1.1267 - accuracy: 0.7617 - val_loss: 1.1848 - val_accuracy: 0.7380\n",
            "Epoch 4/4\n",
            "63/63 [==============================] - 1s 19ms/step - loss: 0.8948 - accuracy: 0.8118 - val_loss: 1.0537 - val_accuracy: 0.7740\n",
            "71/71 [==============================] - 0s 6ms/step - loss: 1.1280 - accuracy: 0.7493\n",
            "[1.1280241012573242, 0.7493321299552917]\n"
          ]
        }
      ]
    },
    {
      "cell_type": "code",
      "source": [
        "model = models.Sequential()\n",
        "\n",
        "#add your parameters here\n",
        "\n",
        "model.add(layers.Dense(64, activation='relu', input_shape=(10000,)))\n",
        "model.add(layers.Dense(64, activation='relu'))\n",
        "model.add(layers.Dense(64, activation='relu'))\n",
        "model.add(layers.Dense(46, activation='softmax'))\n",
        "\n",
        "#add your parameters here\n",
        "model.compile(optimizer = 'rmsprop', loss = 'categorical_crossentropy', metrics = ['accuracy'])\n",
        "\n",
        "#add your parameters here\n",
        "model.fit(partial_x_train,\n",
        "          partial_y_train,\n",
        "          epochs=4,\n",
        "          batch_size=128,\n",
        "          validation_data=(x_val, y_val))\n",
        "\n",
        "results = model.evaluate(x_test, one_hot_test_labels)"
      ],
      "metadata": {
        "colab": {
          "base_uri": "https://localhost:8080/"
        },
        "id": "5j_rkuWJlNBc",
        "outputId": "7b9dd7fc-bb7d-4d88-eaa7-ec28b771c54a"
      },
      "execution_count": 41,
      "outputs": [
        {
          "output_type": "stream",
          "name": "stdout",
          "text": [
            "Epoch 1/4\n",
            "63/63 [==============================] - 2s 28ms/step - loss: 1.9539 - accuracy: 0.5874 - val_loss: 1.3108 - val_accuracy: 0.7010\n",
            "Epoch 2/4\n",
            "63/63 [==============================] - 1s 18ms/step - loss: 1.0904 - accuracy: 0.7502 - val_loss: 1.0764 - val_accuracy: 0.7570\n",
            "Epoch 3/4\n",
            "63/63 [==============================] - 1s 20ms/step - loss: 0.7768 - accuracy: 0.8230 - val_loss: 0.9805 - val_accuracy: 0.7940\n",
            "Epoch 4/4\n",
            "63/63 [==============================] - 1s 21ms/step - loss: 0.5517 - accuracy: 0.8740 - val_loss: 0.9167 - val_accuracy: 0.8010\n",
            "71/71 [==============================] - 0s 4ms/step - loss: 1.0332 - accuracy: 0.7769\n"
          ]
        }
      ]
    },
    {
      "cell_type": "code",
      "source": [
        "model = models.Sequential()\n",
        "\n",
        "#add your parameters here\n",
        "\n",
        "model.add(layers.Dense(32, activation='relu', input_shape=(10000,)))\n",
        "model.add(layers.Dense(32, activation='relu'))\n",
        "model.add(layers.Dense(46, activation='softmax'))\n",
        "\n",
        "#add your parameters here\n",
        "model.compile(optimizer = 'rmsprop', loss = 'categorical_crossentropy', metrics = ['accuracy'])\n",
        "\n",
        "#add your parameters here\n",
        "model.fit(partial_x_train,\n",
        "          partial_y_train,\n",
        "          epochs=4,\n",
        "          batch_size=128,\n",
        "          validation_data=(x_val, y_val))\n",
        "\n",
        "results = model.evaluate(x_test, one_hot_test_labels)"
      ],
      "metadata": {
        "colab": {
          "base_uri": "https://localhost:8080/"
        },
        "id": "mdj0UHzklovv",
        "outputId": "c3d3e8e3-94d8-491e-9e5e-d51bb4682a71"
      },
      "execution_count": 43,
      "outputs": [
        {
          "output_type": "stream",
          "name": "stdout",
          "text": [
            "Epoch 1/4\n",
            "63/63 [==============================] - 2s 29ms/step - loss: 2.1694 - accuracy: 0.5432 - val_loss: 1.4609 - val_accuracy: 0.6650\n",
            "Epoch 2/4\n",
            "63/63 [==============================] - 1s 19ms/step - loss: 1.2400 - accuracy: 0.7270 - val_loss: 1.1779 - val_accuracy: 0.7490\n",
            "Epoch 3/4\n",
            "63/63 [==============================] - 1s 23ms/step - loss: 0.9345 - accuracy: 0.8037 - val_loss: 1.0269 - val_accuracy: 0.7870\n",
            "Epoch 4/4\n",
            "63/63 [==============================] - 2s 28ms/step - loss: 0.7245 - accuracy: 0.8447 - val_loss: 0.9553 - val_accuracy: 0.7960\n",
            "71/71 [==============================] - 0s 4ms/step - loss: 1.0369 - accuracy: 0.7698\n"
          ]
        }
      ]
    },
    {
      "cell_type": "markdown",
      "source": [
        "| epoch | batch sitze | layer | units | method | loss function | optimizer | accuracy |\n",
        "| :-: | :-: | :-: | :-: | :-: | :-: | :-: | :-: |\n",
        "|4 | 128 | 3 | 64/64/46 | classification | categorical_crossentropy | rsmprop |.7809\n",
        "|4 | 128 | 2 | 64/46 | classification | categorical_crossentropy | rsmprop |.8028\n",
        "|4 | 128 | 1 | 46 | classification | categorical_crossentropy | rsmprop |.7493\n",
        "|8 | 128 | 2 | 64/46 | classification | categorical_crossentropy | rsmprop |.7996\n",
        "|4 | 128 | 3 | 32/32/46 | classification | categorical_crossentropy | rsmprop |.7698\n"
      ],
      "metadata": {
        "id": "kVkBukLNjqfj"
      }
    },
    {
      "cell_type": "markdown",
      "metadata": {
        "id": "__C9ZM-aDyBo"
      },
      "source": [
        "### generating predictions on new data\n",
        "\n",
        "The `predict` method of your model returns a probability distribution over all 46 topics (which sums to 1).\n",
        "Now, generate topic predictions for all of the test data."
      ]
    },
    {
      "cell_type": "code",
      "execution_count": 44,
      "metadata": {
        "colab": {
          "base_uri": "https://localhost:8080/"
        },
        "id": "ilPsIfOkDyBp",
        "outputId": "50cac80c-365d-41ec-88f2-235cc1364d9c"
      },
      "outputs": [
        {
          "output_type": "stream",
          "name": "stdout",
          "text": [
            "71/71 [==============================] - 0s 3ms/step\n"
          ]
        }
      ],
      "source": [
        "predictions = model.predict(x_test)"
      ]
    },
    {
      "cell_type": "markdown",
      "metadata": {
        "id": "UtzoRHrWDyBq"
      },
      "source": [
        "Each entry in predictions is a vector of length 46."
      ]
    },
    {
      "cell_type": "code",
      "execution_count": 45,
      "metadata": {
        "colab": {
          "base_uri": "https://localhost:8080/"
        },
        "id": "hbBkkRIKDyBq",
        "outputId": "701927ed-436e-4082-f256-de88213f6928"
      },
      "outputs": [
        {
          "output_type": "execute_result",
          "data": {
            "text/plain": [
              "(46,)"
            ]
          },
          "metadata": {},
          "execution_count": 45
        }
      ],
      "source": [
        "predictions[0].shape"
      ]
    },
    {
      "cell_type": "markdown",
      "metadata": {
        "id": "azbF3cX9DyBr"
      },
      "source": [
        "The coefficients in this vector sum to 1."
      ]
    },
    {
      "cell_type": "code",
      "execution_count": 46,
      "metadata": {
        "colab": {
          "base_uri": "https://localhost:8080/"
        },
        "id": "YtHfEl99DyBr",
        "outputId": "597ebc69-81d8-4a65-cbd9-296356cb52c7"
      },
      "outputs": [
        {
          "output_type": "execute_result",
          "data": {
            "text/plain": [
              "0.99999994"
            ]
          },
          "metadata": {},
          "execution_count": 46
        }
      ],
      "source": [
        "np.sum(predictions[0])"
      ]
    },
    {
      "cell_type": "markdown",
      "metadata": {
        "id": "Z5r6Ow8CDyBs"
      },
      "source": [
        "The largest entry is the predicted class, i.e. the class with the highest probability."
      ]
    },
    {
      "cell_type": "code",
      "execution_count": 47,
      "metadata": {
        "colab": {
          "base_uri": "https://localhost:8080/"
        },
        "id": "LF2nBtJRDyBs",
        "outputId": "cc8aa89d-a53e-4b04-f277-abb268e07f2d"
      },
      "outputs": [
        {
          "output_type": "execute_result",
          "data": {
            "text/plain": [
              "3"
            ]
          },
          "metadata": {},
          "execution_count": 47
        }
      ],
      "source": [
        "np.argmax(predictions[0])"
      ]
    }
  ],
  "metadata": {
    "kernelspec": {
      "display_name": "Python 3 (ipykernel)",
      "language": "python",
      "name": "python3"
    },
    "language_info": {
      "codemirror_mode": {
        "name": "ipython",
        "version": 3
      },
      "file_extension": ".py",
      "mimetype": "text/x-python",
      "name": "python",
      "nbconvert_exporter": "python",
      "pygments_lexer": "ipython3",
      "version": "3.9.17"
    },
    "colab": {
      "provenance": [],
      "include_colab_link": true
    }
  },
  "nbformat": 4,
  "nbformat_minor": 0
}