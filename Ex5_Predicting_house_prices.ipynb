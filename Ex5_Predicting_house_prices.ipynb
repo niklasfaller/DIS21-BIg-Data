{
  "cells": [
    {
      "cell_type": "markdown",
      "metadata": {
        "id": "view-in-github",
        "colab_type": "text"
      },
      "source": [
        "<a href=\"https://colab.research.google.com/github/niklasfaller/DIS21-BIg-Data/blob/main/Ex5_Predicting_house_prices.ipynb\" target=\"_parent\"><img src=\"https://colab.research.google.com/assets/colab-badge.svg\" alt=\"Open In Colab\"/></a>"
      ]
    },
    {
      "cell_type": "markdown",
      "metadata": {
        "id": "UgDHqzp7tzen"
      },
      "source": [
        "<img src=\"https://www.th-koeln.de/img/logo.svg\" style=\"float: right;\" width=\"200\">"
      ]
    },
    {
      "cell_type": "markdown",
      "metadata": {
        "id": "mesY1OSztzeu"
      },
      "source": [
        "# 5th exercise: <font color=\"#C70039\">Predicting house prices by a regression</font>\n",
        "* Course: DIS21a.1\n",
        "* Lecturer: <a href=\"https://www.gernotheisenberg.de/\">Gernot Heisenberg</a>\n",
        "* Author of notebook modifications and adaptations: Niklas Faller 11154696\n",
        "* Date: 08.01.2024\n",
        "\n",
        "<img src=\"https://miro.medium.com/max/876/0*YnFjHIvXcDv8oL3q.\" style=\"float: center;\" width=\"300\">\n",
        "\n",
        "---------------------------------\n",
        "**GENERAL NOTE 1**:\n",
        "Please make sure you are reading the entire notebook, since it contains a lot of information about your tasks (e.g. regarding the set of certain paramaters or specific computational tricks, etc.), and the written mark downs as well as comments contain a lot of information on how things work together as a whole.\n",
        "\n",
        "**GENERAL NOTE 2**:\n",
        "* Please, when commenting source code, just use English language only.\n",
        "* When describing an observation (for instance, after you have run through your test plan) you may use German language.\n",
        "This applies to all exercises in DIS 21a.1.  \n",
        "\n",
        "---------------------\n",
        "\n",
        "### <font color=\"ce33ff\">DESCRIPTION</font>:\n",
        "The previous exercises were dealing with classification problems, where the goal was to predict a single discrete/categorial label. As you have learned already, another common type of machine learning problem is *regression*, which consists of predicting a continuous value instead of a discrete label.\n",
        "For instance, predicting the temperature tomorrow, given meteorological data, or predicting the time that a\n",
        "software project will take to complete, given its specifications.\n",
        "Make sure, you do not mix up \"regression\" with the algorithm \"logistic regression\": confusingly, \"logistic regression\" is not a regression algorithm, it is a classification algorithm. :-)\n",
        "\n",
        "This notebook allows you for predict the median price of homes in a given Boston suburb in the mid-1970s, given a few data points about the suburb at the time, such as the crime rate, the local property tax rate, etc.\n",
        "The dataset we will be using has another interesting difference from our two previous examples: it has very few data points, only 506 in total, split between 404 training samples and 102 test samples, and each \"feature\" in the input data (e.g. the crime rate is a feature) has a different scale. For instance some values are proportions, which take a values between 0 and 1, others take values between 1 and 12, others between 0 and 100...\n",
        "\n",
        "-----------------------\n",
        "### <font color=\"FFC300\">TASKS</font>:\n",
        "Within this notebook, the tasks that you need to work on are always listed as bullet points below.\n",
        "If a task is more challenging and consists of several steps, this is indicated as well.\n",
        "Make sure you have worked down the task list and commented your doings.\n",
        "This should be done using markdown.<br>\n",
        "<font color=red>Make sure you don't forget to specify your name and your matriculation number in the notebook before submitting it.</font>\n",
        "\n",
        "**YOUR TASKS in this exercise are as follows**:\n",
        "1. import the notebook to Google Colab.\n",
        "2. make sure you specified you name and your matriculation number in the header below my name and date.\n",
        "    * set the date too and remove mine.\n",
        "3. read the entire notebook carefully\n",
        "    * for better understanding, add comments whereever you feel it necessary\n",
        "    * run the notebook for the first time and note the result in your markdown result table (your test plan).\n",
        "4. go into the section 'building the ANN'.\n",
        "    * add the missing code that does create a network as shown in the image in the lecture slides on page 179 (File: 'DIS21a.1-7.HANDS_ON.First.DLNetwork.Architectures.for.Solving.Three.Interesting.Problems.pdf')\n",
        "    * set the activation function to ReLu\n",
        "    * set the correct activation function in the last layer/the output. What is correct when doing a regression?\n",
        "    * add the missing code for compiling the network by setting\n",
        "        * the loss function (keep in mind you are building a regression model)\n",
        "        * the optimizer\n",
        "        * the evaluation metric (keep in mind you are building a regression model)\n",
        "5. optimize the hyperparameters of the model as you are still some good way off the actual price.\n",
        "    * compute the minimum of the number of epochs which you can see in the chart\n",
        "    * increase the batch size\n",
        "    * adjust the size of the hidden layers\n",
        "6. build a production model and test on the test data.\n",
        "\n",
        "-----------------"
      ]
    },
    {
      "cell_type": "markdown",
      "metadata": {
        "id": "J9lUh-gVtzex"
      },
      "source": [
        "\n",
        "## START OF THE NOTEBOOK CODE\n",
        "----------------------------------------------------------------------------------------------------------------------"
      ]
    },
    {
      "cell_type": "code",
      "execution_count": null,
      "metadata": {
        "tags": [],
        "id": "oGoQZcKBtzez"
      },
      "outputs": [],
      "source": [
        "import tensorflow\n",
        "#tensorflow.keras.__version__"
      ]
    },
    {
      "cell_type": "markdown",
      "metadata": {
        "id": "8FuqL9XZtze2"
      },
      "source": [
        "### loading the house price data set"
      ]
    },
    {
      "cell_type": "code",
      "execution_count": null,
      "metadata": {
        "tags": [],
        "colab": {
          "base_uri": "https://localhost:8080/"
        },
        "id": "Ch3cRimYtze3",
        "outputId": "68f1a9a4-3637-44b0-e434-115e37ca50b3"
      },
      "outputs": [
        {
          "output_type": "stream",
          "name": "stdout",
          "text": [
            "Downloading data from https://storage.googleapis.com/tensorflow/tf-keras-datasets/boston_housing.npz\n",
            "57026/57026 [==============================] - 0s 0us/step\n"
          ]
        }
      ],
      "source": [
        "from tensorflow.keras.datasets import boston_housing\n",
        "(train_data, train_targets), (test_data, test_targets) =  boston_housing.load_data()"
      ]
    },
    {
      "cell_type": "code",
      "execution_count": null,
      "metadata": {
        "tags": [],
        "colab": {
          "base_uri": "https://localhost:8080/"
        },
        "id": "LsnA64kHtze4",
        "outputId": "db4c6e19-5606-4c14-d16f-ba29533d0930"
      },
      "outputs": [
        {
          "output_type": "execute_result",
          "data": {
            "text/plain": [
              "(404, 13)"
            ]
          },
          "metadata": {},
          "execution_count": 3
        }
      ],
      "source": [
        "train_data.shape"
      ]
    },
    {
      "cell_type": "code",
      "execution_count": null,
      "metadata": {
        "tags": [],
        "colab": {
          "base_uri": "https://localhost:8080/"
        },
        "id": "XMxf5l6Ftze5",
        "outputId": "bdd17a24-6a83-443c-bc7b-fba6de9b9750"
      },
      "outputs": [
        {
          "output_type": "execute_result",
          "data": {
            "text/plain": [
              "(102, 13)"
            ]
          },
          "metadata": {},
          "execution_count": 4
        }
      ],
      "source": [
        "test_data.shape"
      ]
    },
    {
      "cell_type": "markdown",
      "metadata": {
        "id": "hpKyVKe4tze6"
      },
      "source": [
        "--------------\n",
        "\n",
        "### data preparation"
      ]
    },
    {
      "cell_type": "markdown",
      "metadata": {
        "id": "cBw9isqitze7"
      },
      "source": [
        "As you can see, there are 404 training samples and 102 test samples. The data consists of 13 features. The 13 features in the input data are as follows:\n",
        "\n",
        "1. Per capita crime rate (Pro-Kopf-Verbrechensrate).\n",
        "2. Proportion of residential land zoned for lots over 25.000 square feet.\n",
        "3. Proportion of non-retail business acres per town.\n",
        "4. Charles River dummy variable (= 1 if tract bounds river; 0 otherwise).\n",
        "5. Nitric oxides concentration (parts per 10 million).\n",
        "6. Average number of rooms per dwelling.\n",
        "7. Proportion of owner-occupied units built prior to 1940.\n",
        "8. Weighted distances to five Boston employment centres.\n",
        "9. Index of accessibility to radial highways.\n",
        "10. Full-value property-tax rate per US$ 10.000.\n",
        "11. Pupil-teacher ratio by town.\n",
        "12. 1000 * (Bk - 0.63) ** 2 where Bk is the proportion of black people by town.\n",
        "    * Unbelievable, this attribute was taken into account back then (Comment: Gernot Heisenberg)\n",
        "13. % lower status of the population.\n",
        "\n",
        "If you want to read more about the Boston housing data set click here:\n",
        "<a href=\"https://www.kaggle.com/c/boston-housing\">https://www.kaggle.com/c/boston-housing</a>\n",
        "\n",
        "The targets are the median values of owner-occupied homes, in thousands of dollars.\n",
        "The prices are typically between US$ 10.000 - 50.000."
      ]
    },
    {
      "cell_type": "code",
      "execution_count": null,
      "metadata": {
        "tags": [],
        "colab": {
          "base_uri": "https://localhost:8080/"
        },
        "id": "3lmjBsbMtze8",
        "outputId": "3341e246-4e66-4699-8b75-065145f4d4b6"
      },
      "outputs": [
        {
          "output_type": "execute_result",
          "data": {
            "text/plain": [
              "(404,)"
            ]
          },
          "metadata": {},
          "execution_count": 5
        }
      ],
      "source": [
        "train_targets.shape"
      ]
    },
    {
      "cell_type": "code",
      "execution_count": null,
      "metadata": {
        "tags": [],
        "colab": {
          "base_uri": "https://localhost:8080/"
        },
        "id": "PoRVvZ5etze8",
        "outputId": "e45197d8-252f-4447-a917-e85b72686d8e"
      },
      "outputs": [
        {
          "output_type": "execute_result",
          "data": {
            "text/plain": [
              "array([15.2, 42.3, 50. , 21.1, 17.7, 18.5, 11.3, 15.6, 15.6, 14.4, 12.1,\n",
              "       17.9, 23.1, 19.9, 15.7,  8.8, 50. , 22.5, 24.1, 27.5, 10.9, 30.8,\n",
              "       32.9, 24. , 18.5, 13.3, 22.9, 34.7, 16.6, 17.5, 22.3, 16.1, 14.9,\n",
              "       23.1, 34.9, 25. , 13.9, 13.1, 20.4, 20. , 15.2, 24.7, 22.2, 16.7,\n",
              "       12.7, 15.6, 18.4, 21. , 30.1, 15.1, 18.7,  9.6, 31.5, 24.8, 19.1,\n",
              "       22. , 14.5, 11. , 32. , 29.4, 20.3, 24.4, 14.6, 19.5, 14.1, 14.3,\n",
              "       15.6, 10.5,  6.3, 19.3, 19.3, 13.4, 36.4, 17.8, 13.5, 16.5,  8.3,\n",
              "       14.3, 16. , 13.4, 28.6, 43.5, 20.2, 22. , 23. , 20.7, 12.5, 48.5,\n",
              "       14.6, 13.4, 23.7, 50. , 21.7, 39.8, 38.7, 22.2, 34.9, 22.5, 31.1,\n",
              "       28.7])"
            ]
          },
          "metadata": {},
          "execution_count": 6
        }
      ],
      "source": [
        "train_targets[0:100]"
      ]
    },
    {
      "cell_type": "markdown",
      "metadata": {
        "id": "9MjyhF_0tze8"
      },
      "source": [
        "As you have learned in the lecture, into an ANN, it is going to be problematic to feed values that all take wildly different ranges. The ANN might be able to automatically adapt to such heterogeneous data but it would definitely make learning more difficult, since attributes are not comparable.\n",
        "Hence, standardization of the attributes is needed:\n",
        "* For each attribute in the input data (a column in the input data matrix),  subtract the mean of the attribute and divide by the standard deviation, so that the attribute will be centered around 0 and will have a unit standard deviation.\n",
        "* This is called z-score-standardization (see lecture slides) and can be easily done using python's standard lib:"
      ]
    },
    {
      "cell_type": "code",
      "execution_count": null,
      "metadata": {
        "tags": [],
        "id": "zOvQ7yfXtze9"
      },
      "outputs": [],
      "source": [
        "# compute mean and stddev\n",
        "mean = train_data.mean(axis=0)\n",
        "train_data -= mean\n",
        "std = train_data.std(axis=0)\n",
        "train_data /= std\n",
        "\n",
        "test_data -= mean\n",
        "test_data /= std"
      ]
    },
    {
      "cell_type": "markdown",
      "metadata": {
        "id": "X7CARlWutze9"
      },
      "source": [
        "<font color=\"red\">Note:</font>The quantities that are used for standardizing the test data have been computed using the training data. Never, never, never ever in your life, compute any quantity on test data, even not for something as simple as data standardization (compare lecture slides)."
      ]
    },
    {
      "cell_type": "markdown",
      "metadata": {
        "id": "7SGO7O8jtze9"
      },
      "source": [
        "### building the ANN\n",
        "\n",
        "Because so very few samples are available, it will be best using a small network.\n",
        "In general, the less training data there is, the worse overfitting will be, and using a small network is one (of several) ways to fight overfitting."
      ]
    },
    {
      "cell_type": "code",
      "execution_count": null,
      "metadata": {
        "tags": [],
        "id": "W6Dk_u9qtze9"
      },
      "outputs": [],
      "source": [
        "from tensorflow.keras import models\n",
        "from tensorflow.keras import layers\n",
        "\n",
        "# Because you will need to instantiate the same model multiple times,\n",
        "# it is better to implement a build function to construct the model.\n",
        "# Also compile the network here in this function.\n",
        "\n",
        "def build_model(hiddenlayer_units, hidden_activation, optimizer, loss, metrics):\n",
        "    model = models.Sequential()\n",
        "\n",
        "    model.add(layers.Dense(hiddenlayer_units, activation = hidden_activation, input_shape = (13,)))\n",
        "    model.add(layers.Dense(hiddenlayer_units, activation = hidden_activation))\n",
        "    model.add(layers.Dense(1))\n",
        "    model.compile(optimizer = optimizer, loss = loss, metrics = metrics)\n",
        "\n",
        "\n",
        "    return model"
      ]
    },
    {
      "cell_type": "markdown",
      "metadata": {
        "id": "74SL4iIHtze-"
      },
      "source": [
        "### validating the model using k-fold validation\n",
        "\n",
        "You have learned during the lectures, that simple hold-out validation, is the way to go. But it is simply not the case, if data is really small. The best practice in such situations is to use k-fold cross-validation. It consists of splitting the available data into k partitions (typically k= 4 or 5), then instantiating k identical models, and training each one on k-1 partitions while evaluating on the remaining partition. The validation score for the model used would then be the average of the k validation scores obtained.\n",
        "\n",
        "In terms of code, this is straight forward!"
      ]
    },
    {
      "cell_type": "code",
      "execution_count": null,
      "metadata": {
        "tags": [],
        "colab": {
          "base_uri": "https://localhost:8080/"
        },
        "id": "nuJe-sXGtze-",
        "outputId": "3374e35d-aa1a-4232-8c17-939375185d9b"
      },
      "outputs": [
        {
          "output_type": "stream",
          "name": "stdout",
          "text": [
            "processing 1.fold\n",
            "processing 2.fold\n",
            "processing 3.fold\n",
            "processing 4.fold\n"
          ]
        }
      ],
      "source": [
        "import numpy as np\n",
        "\n",
        "k = 4\n",
        "num_val_samples = len(train_data) // k # floor/integer division (see https://www.programiz.com/python-programming/operators also)\n",
        "num_epochs = 100\n",
        "all_scores = []\n",
        "\n",
        "# loop over all folds, k-times\n",
        "for i in range(k):\n",
        "    print('processing ' + str(i+1) + '.fold')\n",
        "\n",
        "    # Prepare the validation data: data from partition # k\n",
        "    val_data = train_data[i * num_val_samples: (i + 1) * num_val_samples]\n",
        "    val_targets = train_targets[i * num_val_samples: (i + 1) * num_val_samples]\n",
        "\n",
        "    # Prepare the training data: data from all other partitions\n",
        "    partial_train_data = np.concatenate(\n",
        "                            [train_data[:i * num_val_samples],\n",
        "                             train_data[(i + 1) * num_val_samples:]],\n",
        "                            axis=0)\n",
        "\n",
        "    partial_train_targets = np.concatenate(\n",
        "                            [train_targets[:i * num_val_samples],\n",
        "                             train_targets[(i + 1) * num_val_samples:]],\n",
        "                            axis=0)\n",
        "\n",
        "    # Build the model (each model should be build with the same parameters)\n",
        "    model = build_model(64, 'relu', 'rmsprop', 'mse', ['mae'])\n",
        "\n",
        "    # Train the model (set the silent mode by verbose=0)\n",
        "    model.fit(partial_train_data, partial_train_targets, epochs=num_epochs, batch_size=1, verbose=0)\n",
        "\n",
        "    # Evaluate the model on the validation data\n",
        "    val_mse, val_mae = model.evaluate(val_data, val_targets, verbose=0)\n",
        "    all_scores.append(val_mae)"
      ]
    },
    {
      "cell_type": "code",
      "execution_count": null,
      "metadata": {
        "tags": [],
        "colab": {
          "base_uri": "https://localhost:8080/"
        },
        "id": "Cf_LWJ6vtze-",
        "outputId": "62a6a577-5812-4859-a030-92761a106a1f"
      },
      "outputs": [
        {
          "output_type": "execute_result",
          "data": {
            "text/plain": [
              "[1.9989911317825317,\n",
              " 2.6361007690429688,\n",
              " 2.6614673137664795,\n",
              " 2.4776151180267334]"
            ]
          },
          "metadata": {},
          "execution_count": 11
        }
      ],
      "source": [
        "# show the scores each fold has predicted on the validation data\n",
        "all_scores"
      ]
    },
    {
      "cell_type": "code",
      "execution_count": null,
      "metadata": {
        "tags": [],
        "colab": {
          "base_uri": "https://localhost:8080/"
        },
        "id": "LmFuTG5Dtze-",
        "outputId": "9d7e07db-1ac9-496a-da6d-324b4de0fabf"
      },
      "outputs": [
        {
          "output_type": "execute_result",
          "data": {
            "text/plain": [
              "2.4435435831546783"
            ]
          },
          "metadata": {},
          "execution_count": 12
        }
      ],
      "source": [
        "# take the average of all scores\n",
        "np.mean(all_scores)"
      ]
    },
    {
      "cell_type": "markdown",
      "metadata": {
        "id": "f7fgPENDtze_"
      },
      "source": [
        "As you can see, the different runs do indeed show rather different validation scores, from 2.0 to 2.77.\n",
        "Their average (2.4) is a much more reliable metric than any single of these scores -- that is the entire point of K-fold cross-validation.\n",
        "\n",
        "In this case, we are off by approximately USD 2.400 on average, which is still significant considering that the prices range from US$ 10.000-50.000.\n",
        "\n",
        "-------------"
      ]
    },
    {
      "cell_type": "markdown",
      "metadata": {
        "id": "RcMzoh7Ktze_"
      },
      "source": [
        "#### new training and validation\n",
        "Let's train the network for a bit longer: 500 epochs.\n",
        "To keep a record of how well the model did after each epoch, we will modify our training loop to save the per-epoch validation score log:"
      ]
    },
    {
      "cell_type": "code",
      "execution_count": null,
      "metadata": {
        "tags": [],
        "id": "eFyfLuGgtze_"
      },
      "outputs": [],
      "source": [
        "# Do some memory clean up\n",
        "from tensorflow.keras import backend as K\n",
        "K.clear_session()"
      ]
    },
    {
      "cell_type": "code",
      "execution_count": null,
      "metadata": {
        "scrolled": true,
        "tags": [],
        "colab": {
          "base_uri": "https://localhost:8080/"
        },
        "id": "jZ2-MzoFtze_",
        "outputId": "802312d3-cfca-496b-907b-9ab32913d3a1"
      },
      "outputs": [
        {
          "output_type": "stream",
          "name": "stdout",
          "text": [
            "processing 1.fold\n",
            "history.history.keys =  dict_keys(['loss', 'mae', 'val_loss', 'val_mae'])\n",
            "--------------------------------------------------\n",
            "processing 2.fold\n",
            "history.history.keys =  dict_keys(['loss', 'mae', 'val_loss', 'val_mae'])\n",
            "--------------------------------------------------\n",
            "processing 3.fold\n",
            "history.history.keys =  dict_keys(['loss', 'mae', 'val_loss', 'val_mae'])\n",
            "--------------------------------------------------\n",
            "processing 4.fold\n",
            "history.history.keys =  dict_keys(['loss', 'mae', 'val_loss', 'val_mae'])\n",
            "--------------------------------------------------\n"
          ]
        }
      ],
      "source": [
        "num_epochs = 500\n",
        "all_mae_histories = []\n",
        "\n",
        "for i in range(k):\n",
        "    print('processing ' + str(i+1) + '.fold')\n",
        "\n",
        "    # Prepare the validation data: data from partition # k\n",
        "    val_data = train_data[i * num_val_samples: (i + 1) * num_val_samples]\n",
        "    val_targets = train_targets[i * num_val_samples: (i + 1) * num_val_samples]\n",
        "\n",
        "    # Prepare the training data: data from all other partitions\n",
        "    partial_train_data = np.concatenate(\n",
        "                        [train_data[:i * num_val_samples],\n",
        "                         train_data[(i + 1) * num_val_samples:]],\n",
        "                        axis=0)\n",
        "\n",
        "    partial_train_targets = np.concatenate(\n",
        "                        [train_targets[:i * num_val_samples],\n",
        "                         train_targets[(i + 1) * num_val_samples:]],\n",
        "                        axis=0)\n",
        "\n",
        "    # Build the model (each model should be build with the same parameters)\n",
        "    model = build_model(64, 'relu', 'rmsprop', 'mse', ['mae'])\n",
        "\n",
        "    # Train the model (in silent mode, verbose=0)\n",
        "    '''Write everything to the history object and explore it afterwards (see below)'''\n",
        "    history = model.fit(partial_train_data, partial_train_targets,\n",
        "                        validation_data=(val_data, val_targets),\n",
        "                        epochs=num_epochs, batch_size=1, verbose=0)\n",
        "\n",
        "    print(\"history.history.keys = \", history.history.keys())\n",
        "    print(\"--------------------------------------------------\")\n",
        "    mae_history = history.history['val_mae']\n",
        "    all_mae_histories.append(mae_history)"
      ]
    },
    {
      "cell_type": "markdown",
      "metadata": {
        "id": "IWB3oarrtze_"
      },
      "source": [
        "Compute the average of the per-epoch MAE scores for all folds"
      ]
    },
    {
      "cell_type": "code",
      "execution_count": null,
      "metadata": {
        "tags": [],
        "id": "EWDsPwQ1tzfA"
      },
      "outputs": [],
      "source": [
        "average_mae_history = [np.mean([x[i] for x in all_mae_histories]) for i in range(num_epochs)]"
      ]
    },
    {
      "cell_type": "markdown",
      "metadata": {
        "id": "rSw2rmVvtzfA"
      },
      "source": [
        "Let's plot the average_mae_history scores using pyplot"
      ]
    },
    {
      "cell_type": "code",
      "execution_count": null,
      "metadata": {
        "tags": [],
        "colab": {
          "base_uri": "https://localhost:8080/",
          "height": 472
        },
        "id": "hcHY7vKQtzfA",
        "outputId": "b8a2bd19-d743-4fdd-8a85-570c5a134f06"
      },
      "outputs": [
        {
          "output_type": "display_data",
          "data": {
            "text/plain": [
              "<Figure size 640x480 with 1 Axes>"
            ],
            "image/png": "[encoded data removed]"
          },
          "metadata": {}
        }
      ],
      "source": [
        "import matplotlib.pyplot as plt\n",
        "\n",
        "plt.plot(range(1, len(average_mae_history) + 1), average_mae_history)\n",
        "plt.xlabel('Epochs')\n",
        "plt.ylabel('Validation MAE score')\n",
        "plt.title(\"Averaged validation MAE score per epoch\")\n",
        "plt.show()"
      ]
    },
    {
      "cell_type": "markdown",
      "metadata": {
        "id": "7YDLWp-otzfA"
      },
      "source": [
        "\n",
        "It may be a bit hard to see the plot due to scaling problems (high value at the beginning)\n",
        "and the high variance of the data.\n",
        "\n",
        "For improving this, let's do the following:\n",
        "\n",
        "1. Omit the first 10 data points, which are on a different scale than the rest of the curve.\n",
        "2. Replace each point with an exponential moving average of the previous points, to obtain a smoother curve.\n",
        "    * this is a common technique for dealing with signals (i.e. time series) of any kind, especially financial stock data.\n",
        "\n",
        "Even though, you can also scale the chart bigger if you want."
      ]
    },
    {
      "cell_type": "code",
      "execution_count": null,
      "metadata": {
        "tags": [],
        "colab": {
          "base_uri": "https://localhost:8080/",
          "height": 472
        },
        "id": "8FWxLguxtzfA",
        "outputId": "6b930dd4-be6f-4369-a119-1558bc53862d"
      },
      "outputs": [
        {
          "output_type": "display_data",
          "data": {
            "text/plain": [
              "<Figure size 640x480 with 1 Axes>"
            ],
            "image/png": "[encoded data removed]"
          },
          "metadata": {}
        }
      ],
      "source": [
        "def smooth_curve(points, factor=0.9):\n",
        "  smoothed_points = []\n",
        "  for point in points:\n",
        "    if smoothed_points:\n",
        "      previous = smoothed_points[-1]\n",
        "      smoothed_points.append(previous * factor + point * (1 - factor))\n",
        "    else:\n",
        "      smoothed_points.append(point)\n",
        "  return smoothed_points\n",
        "\n",
        "smooth_mae_history = smooth_curve(average_mae_history[10:]) # get rid of the first 10 data points\n",
        "factor = '0.9'\n",
        "plt.plot(range(1, len(smooth_mae_history) + 1), smooth_mae_history)\n",
        "plt.xlabel('Epochs')\n",
        "plt.ylabel('Validation MAE score')\n",
        "plt.title(\"Smoothed (f=\"+ factor + \") average validation MAE score per epoch\")\n",
        "plt.show()"
      ]
    },
    {
      "cell_type": "markdown",
      "metadata": {
        "id": "GENJeXmNtzfB"
      },
      "source": [
        "According to this plot, it seems that validation MAE stops improving significantly after some epochs, and the model starts overfitting."
      ]
    },
    {
      "cell_type": "markdown",
      "metadata": {
        "id": "De8ayT1KtzfB"
      },
      "source": [
        "### Your  task now (see task list items 5 and 6 also)\n",
        "\n",
        "5. optimize the hyperparameters of your model\n",
        "    * try to compute the minimum number of epochs after the model starts overfitting\n",
        "    * adjust the batch size\n",
        "    * adjust the number of hidden layers\n",
        "    * <font color=\"#C70039\">Work again with a table to not get lost and reflect a good test plan</font>\n",
        "    \n",
        "6. Now, you can start training a final \"production\" model on all of the training data, with the best parameters, then look at its performance on the test data"
      ]
    },
    {
      "cell_type": "code",
      "execution_count": null,
      "metadata": {
        "tags": [],
        "colab": {
          "base_uri": "https://localhost:8080/"
        },
        "id": "_rxhGuKNtzfB",
        "outputId": "88c9cf75-d4b1-4704-8010-d1ff3e0fdb5f"
      },
      "outputs": [
        {
          "output_type": "stream",
          "name": "stdout",
          "text": [
            "4/4 [==============================] - 0s 4ms/step - loss: 12.7228 - mae: 2.3039\n"
          ]
        }
      ],
      "source": [
        "# Get a fresh, compiled model and optimize all hyperparameters\n",
        "model = build_model(64, 'relu', 'rmsprop', 'mse', ['mae'])\n",
        "\n",
        "history = model.fit(train_data, train_targets,\n",
        "                    validation_data = (val_data, val_targets),\n",
        "                    epochs = 80, batch_size = 1, verbose = 0)\n",
        "\n",
        "test_mse_score, test_mae_score = model.evaluate(test_data, test_targets)"
      ]
    },
    {
      "cell_type": "code",
      "execution_count": null,
      "metadata": {
        "tags": [],
        "colab": {
          "base_uri": "https://localhost:8080/"
        },
        "id": "GrkQ_8oitzfB",
        "outputId": "34f464ba-94e8-4dd8-c8e8-6280c62445ed"
      },
      "outputs": [
        {
          "output_type": "execute_result",
          "data": {
            "text/plain": [
              "2.3039355278015137"
            ]
          },
          "metadata": {},
          "execution_count": 21
        }
      ],
      "source": [
        "test_mae_score # print out the score"
      ]
    },
    {
      "cell_type": "code",
      "execution_count": null,
      "metadata": {
        "colab": {
          "base_uri": "https://localhost:8080/"
        },
        "id": "CxbbFJE_tzfB",
        "outputId": "9763f86b-9bf6-40f8-fb1c-cfc28c758574"
      },
      "outputs": [
        {
          "output_type": "stream",
          "name": "stdout",
          "text": [
            "4/4 [==============================] - 0s 4ms/step - loss: 15.0319 - mae: 2.5362\n"
          ]
        }
      ],
      "source": [
        "# Get a fresh, compiled model and optimize all hyperparameters\n",
        "model = build_model(64, 'relu', 'rmsprop', 'mse', ['mae'])\n",
        "\n",
        "history = model.fit(train_data, train_targets,\n",
        "                    validation_data = (val_data, val_targets),\n",
        "                    epochs = 80, batch_size = 2, verbose = 0)\n",
        "\n",
        "test_mse_score, test_mae_score = model.evaluate(test_data, test_targets)"
      ]
    },
    {
      "cell_type": "code",
      "source": [
        "test_mae_score # print out the score"
      ],
      "metadata": {
        "colab": {
          "base_uri": "https://localhost:8080/"
        },
        "id": "F8lg46aO7qXJ",
        "outputId": "d5276e9a-4019-405f-a625-f32f3d4260ce"
      },
      "execution_count": null,
      "outputs": [
        {
          "output_type": "execute_result",
          "data": {
            "text/plain": [
              "2.536205291748047"
            ]
          },
          "metadata": {},
          "execution_count": 23
        }
      ]
    },
    {
      "cell_type": "code",
      "source": [
        "# Get a fresh, compiled model and optimize all hyperparameters\n",
        "model = build_model(64, 'relu', 'rmsprop', 'mse', ['mae'])\n",
        "\n",
        "history = model.fit(train_data, train_targets,\n",
        "                    validation_data = (val_data, val_targets),\n",
        "                    epochs = 80, batch_size = 1, verbose = 0)\n",
        "\n",
        "test_mse_score, test_mae_score = model.evaluate(test_data, test_targets)"
      ],
      "metadata": {
        "colab": {
          "base_uri": "https://localhost:8080/"
        },
        "id": "Us3AHQgh7x6M",
        "outputId": "37513a89-f5d0-446c-f14a-31a4dc6238a5"
      },
      "execution_count": null,
      "outputs": [
        {
          "output_type": "stream",
          "name": "stdout",
          "text": [
            "4/4 [==============================] - 0s 4ms/step - loss: 15.1527 - mae: 2.7625\n"
          ]
        }
      ]
    },
    {
      "cell_type": "code",
      "source": [
        "test_mae_score # print out the score"
      ],
      "metadata": {
        "colab": {
          "base_uri": "https://localhost:8080/"
        },
        "id": "1NouE7qZ75Fw",
        "outputId": "0cf2d053-2468-4b20-8a7a-a1381e9c6d82"
      },
      "execution_count": null,
      "outputs": [
        {
          "output_type": "execute_result",
          "data": {
            "text/plain": [
              "2.762493133544922"
            ]
          },
          "metadata": {},
          "execution_count": 29
        }
      ]
    }
  ],
  "metadata": {
    "kernelspec": {
      "display_name": "Python 3 (ipykernel)",
      "language": "python",
      "name": "python3"
    },
    "language_info": {
      "codemirror_mode": {
        "name": "ipython",
        "version": 3
      },
      "file_extension": ".py",
      "mimetype": "text/x-python",
      "name": "python",
      "nbconvert_exporter": "python",
      "pygments_lexer": "ipython3",
      "version": "3.9.17"
    },
    "colab": {
      "provenance": [],
      "include_colab_link": true
    }
  },
  "nbformat": 4,
  "nbformat_minor": 0
}