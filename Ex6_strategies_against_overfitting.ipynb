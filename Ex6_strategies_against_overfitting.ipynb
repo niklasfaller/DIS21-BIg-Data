{
  "cells": [
    {
      "cell_type": "markdown",
      "metadata": {
        "id": "view-in-github",
        "colab_type": "text"
      },
      "source": [
        "<a href=\"https://colab.research.google.com/github/niklasfaller/DIS21-BIg-Data/blob/main/Ex6_strategies_against_overfitting.ipynb\" target=\"_parent\"><img src=\"https://colab.research.google.com/assets/colab-badge.svg\" alt=\"Open In Colab\"/></a>"
      ]
    },
    {
      "cell_type": "markdown",
      "metadata": {
        "id": "7lBxqtktmmTo"
      },
      "source": [
        "<img src=\"https://www.th-koeln.de/img/logo.svg\" style=\"float: right;\" width=\"200\">"
      ]
    },
    {
      "cell_type": "markdown",
      "metadata": {
        "id": "wwdRI0p5mmTt"
      },
      "source": [
        "# 6th exercise: <font color=\"#C70039\">Strategies against overfitting</font>\n",
        "* Course: DIS21a.1\n",
        "* Lecturer: <a href=\"https://www.gernotheisenberg.de/\">Gernot Heisenberg</a>\n",
        "* Author of notebook modifications and adaptations: Niklas Faller 11154696\n",
        "* Date:   11.01.2024\n",
        "\n",
        "<img src=\"https://docs.aws.amazon.com/machine-learning/latest/dg/images/mlconcepts_image5.png\" style=\"float: center;\" width=\"600\">\n",
        "\n",
        "---------------------------------\n",
        "**GENERAL NOTE 1**:\n",
        "Please make sure you are reading the entire notebook, since it contains a lot of information about your tasks (e.g. regarding the set of certain paramaters or specific computational tricks, etc.), and the written mark downs as well as comments contain a lot of information on how things work together as a whole.\n",
        "\n",
        "**GENERAL NOTE 2**:\n",
        "* Please, when commenting source code, just use English language only.\n",
        "* When describing an observation (for instance, after you have run through your test plan) you may use German language.\n",
        "This applies to all exercises in DIS 21a.1.  \n",
        "\n",
        "---------------------\n",
        "\n",
        "### <font color=\"ce33ff\">DESCRIPTION</font>:\n",
        "\n",
        "Until now, in all the examples  (movie review sentiment prediction, topic classification, and house price regression)\n",
        "we noticed that the model performance on the simple hold-out validation data always peaked after a few epochs and then started degrading, i.e. the model quickly started to _overfit_ to the training data. Overfitting happens in every single machine learning problem. Learning how to deal with overfitting is essential to mastering machine learning and becoming a good data scientist.\n",
        "\n",
        "This notebook allows you for learning how you effectively can fight overfitting by preventing a model from learning misleading or irrelevant patterns found in the training data. As you have learned in my lecture already, the best solution is of course to get more training data. A model trained on more data will naturally generalize better. When that is not possible, the next best solution is to modulate the quantity of information that your model is allowed to store, or to add constraints on what information it is allowed to store. If a network can only afford to memorize a small number of patterns, the optimization process will force it to focus on the most prominent patterns, which have a better chance of generalizing well.\n",
        "\n",
        "The process of fighting overfitting this way is called _regularization_. Let us review some of the most common regularization techniques and apply them in practice. For doing so, the IMDB movie classification model from the previous exercise is chosen again.\n",
        "\n",
        "-------------------------------------------------------------------------------------------------------------\n",
        "\n",
        "### <font color=\"FFC300\">TASKS</font>:\n",
        "Within this notebook, the tasks that you need to work on are always listed as bullet points below.\n",
        "If a task is more challenging and consists of several steps, this is indicated as well.\n",
        "Make sure you have worked down the task list and commented your doings.\n",
        "This should be done using markdown.<br>\n",
        "<font color=red>Make sure you don't forget to specify your name and your matriculation number in the notebook before submitting it.</font>\n",
        "\n",
        "**YOUR TASKS in this exercise are as follows**:\n",
        "1. import the notebook to Google Colab.\n",
        "2. make sure you specified you name and your matriculation number in the header below my name and date.\n",
        "    * set the date too and remove mine.\n",
        "3. read the entire notebook carefully.\n",
        "    * for better understanding, add comments whereever you feel it necessary\n",
        "    * run the notebook for the first time and note the result in a markdown table.\n",
        "        * I have provided you with an example of a table in markdown (see below). Make sure you adapt your table accordingly.\n",
        "        * Put the table at the end of the notebook.\n",
        "        * This type of table will be needed in the other exercises as well. Always put it at the end.\n",
        "    \n",
        "| type of method | loss function | optimizer | accuracy |\n",
        "| :-: | :-: | :-: | :-: |\n",
        "| classification | categorical_crossentropy | bamm !|.666\n",
        "\n",
        "4. in section 1 (Reducing the network's size) add your own code whereever it is indicated in the notebook and get it running.\n",
        "5. add networks that are slightly bigger and smaller than the one that is optimal (i.e., in addition to the ones that are largely smaller or bigger).\n",
        "    * visualize all their performance curves in the same two charts: the one for the acc and the one for the loss.\n",
        "    * (`little hint`: since the batch_size and the no_of_epochs stays the same always, you should consider to build yourself a (ANN_build_compile_function) which you can instantiate everytime you want to build a new ANN of different size. Store the history object in a list and visualize them as indicated above.\n",
        "    * use a table similar to the one from above to store the min_no_of_epochs for every model. You might consider to call a python function to compute the minimum rather than doing it visually.\n",
        "    \n",
        "6. write a test plan for testing the so-called dropout regularization. Start with dropout of 10% and then increase stepwise to end up with 90% and see what happens to the ANN. Store the values in the table (as the one from above) and try find the best dropout-rate.\n",
        "\n",
        "-----------------------------------------------------------------------------------"
      ]
    },
    {
      "cell_type": "markdown",
      "metadata": {
        "id": "Xwly947AmmTv"
      },
      "source": [
        "## START OF THE NOTEBOOK CODE\n",
        "----------------------------------------------------------------------------------------------------------------------\n",
        "### necessary imports\n",
        "others are going to be included as soon as they are needed"
      ]
    },
    {
      "cell_type": "code",
      "execution_count": 1,
      "metadata": {
        "tags": [],
        "id": "6xvELvAsmmTx"
      },
      "outputs": [],
      "source": [
        "import tensorflow\n",
        "from tensorflow.keras.datasets import imdb\n",
        "import numpy as np\n",
        "#tensorflow.keras.__version__"
      ]
    },
    {
      "cell_type": "markdown",
      "metadata": {
        "id": "qNAbj4NcmmT2"
      },
      "source": [
        "### loading and preparing the IMDB movie review data set\n",
        "as done before"
      ]
    },
    {
      "cell_type": "code",
      "execution_count": 2,
      "metadata": {
        "tags": [],
        "colab": {
          "base_uri": "https://localhost:8080/"
        },
        "id": "blzUjRB8mmT3",
        "outputId": "006afbd5-6eca-4945-d925-3d3f994392bb"
      },
      "outputs": [
        {
          "output_type": "stream",
          "name": "stdout",
          "text": [
            "Downloading data from https://storage.googleapis.com/tensorflow/tf-keras-datasets/imdb.npz\n",
            "17464789/17464789 [==============================] - 0s 0us/step\n"
          ]
        }
      ],
      "source": [
        "(train_data, train_labels), (test_data, test_labels) = imdb.load_data(num_words=10000)\n",
        "\n",
        "def vectorize_sequences(sequences, dimension=10000):\n",
        "    # Create an all-zero matrix of shape (len(sequences), dimension)\n",
        "    results = np.zeros((len(sequences), dimension))\n",
        "    for i, sequence in enumerate(sequences):\n",
        "        results[i, sequence] = 1.  # set specific indices of results[i] to 1s\n",
        "    return results\n",
        "\n",
        "# Our vectorized training data\n",
        "x_train = vectorize_sequences(train_data)\n",
        "# Our vectorized test data\n",
        "x_test = vectorize_sequences(test_data)\n",
        "# Our vectorized labels\n",
        "y_train = np.asarray(train_labels).astype('float32')\n",
        "y_test = np.asarray(test_labels).astype('float32')"
      ]
    },
    {
      "cell_type": "markdown",
      "metadata": {
        "id": "WGSr5KrBmmT5"
      },
      "source": [
        "### Fighting overfitting\n",
        "\n",
        "#### 1. Reducing the network's size\n",
        "\n",
        "The simplest way to prevent overfitting is to reduce the size of the model, i.e. the number of learnable parameters in the model (which is determined by the number of layers and the number of units per layer). In deep learning, the number of learnable parameters in a model is often referred to as the model's \"capacity\". Intuitively, a model with more parameters will have more \"memorization capacity\" and therefore will be able to easily learn a perfect dictionary-like mapping between training samples and their targets, a mapping without any generalization power.\n",
        "\n",
        "<font color=\"C70039\">Always keep this in mind:</font> <font color=\"ce33ff\">machine learning, and especially deep learning models tend to be good at fitting to the training data, but the real challenge is generalization, not fitting.</font>\n",
        "\n",
        "However, if the network has limited memorization resources, it will not be able to learn this mapping as easily, and thus, in order to minimize its loss, it will have to resort to learning compressed representations that have predictive power regarding the targets, in other words, the type of representations that we data scientists are interested in.\n",
        "\n",
        "<font color=\"C70039\">NOTE:</font><font color=\"ce33ff\">Always keep in mind that you should be using models that have enough parameters that they will not be underfitting: your model should not be starved for memorization resources. </font>\n",
        "    \n",
        "<font color=\"C70039\">There is a compromise to be found between `too much capacity` and `not enough capacity`.</font>\n",
        "\n",
        "Unfortunately, there is no magical formula to determine what the right number of layers is or what the right size for each layer is. A data scientist needs to evaluate an array of different architectures in order to find the right model size. The general workflow to find an appropriate model size is to start with relatively few layers and parameters and start increasing the size of the layers or adding new layers until diminishing returns with regard to the validation loss.\n",
        "\n",
        "If you are interested to deepen this topic on how to compute the right size of training data, you should query the web for _learning curves_ such as the following:\n",
        "\n",
        "<img src=\"https://upload.wikimedia.org/wikipedia/commons/2/24/Learning_Curves_%28Naive_Bayes%29.png\" style=\"float: center;\" width=\"500\">\n"
      ]
    },
    {
      "cell_type": "markdown",
      "metadata": {
        "id": "na-BeyYFmmT7"
      },
      "source": [
        "However, let us try to determine the right size stepwise on the IMDB movie review classifications ANN, who's architecture was: (compare lecture slides)"
      ]
    },
    {
      "cell_type": "code",
      "execution_count": 3,
      "metadata": {
        "tags": [],
        "id": "5akoQ7EnmmT8"
      },
      "outputs": [],
      "source": [
        "from tensorflow.keras import models\n",
        "from tensorflow.keras import layers\n",
        "\n",
        "original_model = models.Sequential()\n",
        "original_model.add(layers.Dense(16, activation='relu', input_shape=(10000,)))\n",
        "original_model.add(layers.Dense(16, activation='relu'))\n",
        "original_model.add(layers.Dense(1, activation='sigmoid'))\n",
        "\n",
        "original_model.compile(optimizer='rmsprop',\n",
        "                       loss='binary_crossentropy',\n",
        "                       metrics=['acc'])"
      ]
    },
    {
      "cell_type": "markdown",
      "metadata": {
        "id": "eheZ0MuOmmT8"
      },
      "source": [
        "Now let's try to replace that ANN of (16,16,1) with a smaller network of (4,4,1), as shown on lecture slides p.210."
      ]
    },
    {
      "cell_type": "code",
      "execution_count": 4,
      "metadata": {
        "tags": [],
        "id": "hHXjNCK4mmT9"
      },
      "outputs": [],
      "source": [
        "smaller_model = models.Sequential()\n",
        "\n",
        "smaller_model.add(layers.Dense(4, activation = 'relu', input_shape = (10000,)))\n",
        "smaller_model.add(layers.Dense(4, activation = 'relu'))\n",
        "smaller_model.add(layers.Dense(1, activation = 'sigmoid'))\n",
        "\n",
        "smaller_model.compile(optimizer = 'rmsprop',\n",
        "                       loss = 'binary_crossentropy',\n",
        "                       metrics = ['acc'])"
      ]
    },
    {
      "cell_type": "markdown",
      "metadata": {
        "id": "ePUN-IgqmmT-"
      },
      "source": [
        "\n",
        "Now, let's compare the validation losses of the original network and the smaller network. The dots are the validation loss values of the smaller network, and the crosses are the initial network (remember: a lower validation loss signals a better model)."
      ]
    },
    {
      "cell_type": "code",
      "execution_count": 5,
      "metadata": {
        "scrolled": true,
        "tags": [],
        "colab": {
          "base_uri": "https://localhost:8080/"
        },
        "id": "WWNmKm7KmmT_",
        "outputId": "a412d09e-2701-4140-e36c-2a97b92d14c1"
      },
      "outputs": [
        {
          "output_type": "stream",
          "name": "stdout",
          "text": [
            "Epoch 1/20\n",
            "49/49 [==============================] - 6s 99ms/step - loss: 0.4736 - acc: 0.8048 - val_loss: 0.3472 - val_acc: 0.8768\n",
            "Epoch 2/20\n",
            "49/49 [==============================] - 2s 41ms/step - loss: 0.2777 - acc: 0.9027 - val_loss: 0.2880 - val_acc: 0.8889\n",
            "Epoch 3/20\n",
            "49/49 [==============================] - 2s 41ms/step - loss: 0.2141 - acc: 0.9227 - val_loss: 0.2940 - val_acc: 0.8807\n",
            "Epoch 4/20\n",
            "49/49 [==============================] - 3s 57ms/step - loss: 0.1824 - acc: 0.9348 - val_loss: 0.2900 - val_acc: 0.8846\n",
            "Epoch 5/20\n",
            "49/49 [==============================] - 3s 51ms/step - loss: 0.1563 - acc: 0.9460 - val_loss: 0.3105 - val_acc: 0.8774\n",
            "Epoch 6/20\n",
            "49/49 [==============================] - 2s 41ms/step - loss: 0.1351 - acc: 0.9534 - val_loss: 0.3283 - val_acc: 0.8740\n",
            "Epoch 7/20\n",
            "49/49 [==============================] - 2s 38ms/step - loss: 0.1219 - acc: 0.9580 - val_loss: 0.3325 - val_acc: 0.8768\n",
            "Epoch 8/20\n",
            "49/49 [==============================] - 3s 54ms/step - loss: 0.1066 - acc: 0.9638 - val_loss: 0.3804 - val_acc: 0.8661\n",
            "Epoch 9/20\n",
            "49/49 [==============================] - 3s 54ms/step - loss: 0.0955 - acc: 0.9685 - val_loss: 0.3720 - val_acc: 0.8714\n",
            "Epoch 10/20\n",
            "49/49 [==============================] - 3s 66ms/step - loss: 0.0793 - acc: 0.9764 - val_loss: 0.3963 - val_acc: 0.8701\n",
            "Epoch 11/20\n",
            "49/49 [==============================] - 3s 55ms/step - loss: 0.0729 - acc: 0.9766 - val_loss: 0.4299 - val_acc: 0.8654\n",
            "Epoch 12/20\n",
            "49/49 [==============================] - 2s 40ms/step - loss: 0.0635 - acc: 0.9807 - val_loss: 0.4761 - val_acc: 0.8576\n",
            "Epoch 13/20\n",
            "49/49 [==============================] - 2s 39ms/step - loss: 0.0534 - acc: 0.9853 - val_loss: 0.4899 - val_acc: 0.8608\n",
            "Epoch 14/20\n",
            "49/49 [==============================] - 2s 41ms/step - loss: 0.0441 - acc: 0.9886 - val_loss: 0.5143 - val_acc: 0.8607\n",
            "Epoch 15/20\n",
            "49/49 [==============================] - 3s 56ms/step - loss: 0.0378 - acc: 0.9911 - val_loss: 0.5326 - val_acc: 0.8598\n",
            "Epoch 16/20\n",
            "49/49 [==============================] - 3s 67ms/step - loss: 0.0339 - acc: 0.9924 - val_loss: 0.5735 - val_acc: 0.8551\n",
            "Epoch 17/20\n",
            "49/49 [==============================] - 2s 41ms/step - loss: 0.0277 - acc: 0.9936 - val_loss: 0.6236 - val_acc: 0.8519\n",
            "Epoch 18/20\n",
            "49/49 [==============================] - 3s 54ms/step - loss: 0.0238 - acc: 0.9952 - val_loss: 0.6191 - val_acc: 0.8563\n",
            "Epoch 19/20\n",
            "49/49 [==============================] - 2s 41ms/step - loss: 0.0208 - acc: 0.9952 - val_loss: 0.6753 - val_acc: 0.8568\n",
            "Epoch 20/20\n",
            "49/49 [==============================] - 2s 40ms/step - loss: 0.0181 - acc: 0.9958 - val_loss: 0.6582 - val_acc: 0.8583\n"
          ]
        }
      ],
      "source": [
        "original_hist = original_model.fit(x_train, y_train,\n",
        "                                   epochs=20,\n",
        "                                   batch_size=512,\n",
        "                                   validation_data=(x_test, y_test))"
      ]
    },
    {
      "cell_type": "code",
      "execution_count": 6,
      "metadata": {
        "tags": [],
        "colab": {
          "base_uri": "https://localhost:8080/"
        },
        "id": "8GwygwbKmmT_",
        "outputId": "ed80f637-8d12-409c-f53f-cfe155f51de4"
      },
      "outputs": [
        {
          "output_type": "stream",
          "name": "stdout",
          "text": [
            "Epoch 1/20\n",
            "49/49 [==============================] - 6s 117ms/step - loss: 0.4851 - acc: 0.8138 - val_loss: 0.3874 - val_acc: 0.8659\n",
            "Epoch 2/20\n",
            "49/49 [==============================] - 3s 52ms/step - loss: 0.3072 - acc: 0.8969 - val_loss: 0.3139 - val_acc: 0.8813\n",
            "Epoch 3/20\n",
            "49/49 [==============================] - 2s 38ms/step - loss: 0.2403 - acc: 0.9180 - val_loss: 0.2868 - val_acc: 0.8877\n",
            "Epoch 4/20\n",
            "49/49 [==============================] - 2s 39ms/step - loss: 0.2043 - acc: 0.9289 - val_loss: 0.2795 - val_acc: 0.8890\n",
            "Epoch 5/20\n",
            "49/49 [==============================] - 2s 39ms/step - loss: 0.1803 - acc: 0.9382 - val_loss: 0.2812 - val_acc: 0.8871\n",
            "Epoch 6/20\n",
            "49/49 [==============================] - 3s 64ms/step - loss: 0.1614 - acc: 0.9455 - val_loss: 0.2867 - val_acc: 0.8864\n",
            "Epoch 7/20\n",
            "49/49 [==============================] - 3s 57ms/step - loss: 0.1475 - acc: 0.9503 - val_loss: 0.2997 - val_acc: 0.8818\n",
            "Epoch 8/20\n",
            "49/49 [==============================] - 2s 40ms/step - loss: 0.1345 - acc: 0.9550 - val_loss: 0.3076 - val_acc: 0.8795\n",
            "Epoch 9/20\n",
            "49/49 [==============================] - 2s 40ms/step - loss: 0.1241 - acc: 0.9596 - val_loss: 0.3184 - val_acc: 0.8783\n",
            "Epoch 10/20\n",
            "49/49 [==============================] - 2s 39ms/step - loss: 0.1156 - acc: 0.9625 - val_loss: 0.3370 - val_acc: 0.8749\n",
            "Epoch 11/20\n",
            "49/49 [==============================] - 2s 41ms/step - loss: 0.1064 - acc: 0.9662 - val_loss: 0.3455 - val_acc: 0.8740\n",
            "Epoch 12/20\n",
            "49/49 [==============================] - 3s 55ms/step - loss: 0.0989 - acc: 0.9696 - val_loss: 0.3610 - val_acc: 0.8717\n",
            "Epoch 13/20\n",
            "49/49 [==============================] - 2s 48ms/step - loss: 0.0922 - acc: 0.9712 - val_loss: 0.3762 - val_acc: 0.8698\n",
            "Epoch 14/20\n",
            "49/49 [==============================] - 3s 61ms/step - loss: 0.0851 - acc: 0.9736 - val_loss: 0.3936 - val_acc: 0.8678\n",
            "Epoch 15/20\n",
            "49/49 [==============================] - 2s 48ms/step - loss: 0.0795 - acc: 0.9760 - val_loss: 0.4105 - val_acc: 0.8669\n",
            "Epoch 16/20\n",
            "49/49 [==============================] - 3s 68ms/step - loss: 0.0735 - acc: 0.9775 - val_loss: 0.4574 - val_acc: 0.8586\n",
            "Epoch 17/20\n",
            "49/49 [==============================] - 3s 71ms/step - loss: 0.0681 - acc: 0.9808 - val_loss: 0.4558 - val_acc: 0.8611\n",
            "Epoch 18/20\n",
            "49/49 [==============================] - 2s 46ms/step - loss: 0.0634 - acc: 0.9820 - val_loss: 0.4679 - val_acc: 0.8618\n",
            "Epoch 19/20\n",
            "49/49 [==============================] - 3s 58ms/step - loss: 0.0598 - acc: 0.9831 - val_loss: 0.4857 - val_acc: 0.8602\n",
            "Epoch 20/20\n",
            "49/49 [==============================] - 2s 45ms/step - loss: 0.0545 - acc: 0.9855 - val_loss: 0.5069 - val_acc: 0.8592\n"
          ]
        }
      ],
      "source": [
        "smaller_model_hist = smaller_model.fit(x_train, y_train,\n",
        "                                       epochs=20,\n",
        "                                       batch_size=512,\n",
        "                                       validation_data=(x_test, y_test))"
      ]
    },
    {
      "cell_type": "code",
      "execution_count": 7,
      "metadata": {
        "tags": [],
        "id": "_WqVll0ommUA"
      },
      "outputs": [],
      "source": [
        "epochs = range(1, 21) # always add one\n",
        "original_val_loss = original_hist.history['val_loss']\n",
        "smaller_model_val_loss = smaller_model_hist.history['val_loss']"
      ]
    },
    {
      "cell_type": "code",
      "execution_count": 8,
      "metadata": {
        "tags": [],
        "colab": {
          "base_uri": "https://localhost:8080/",
          "height": 449
        },
        "id": "z26o2vExmmUB",
        "outputId": "5d386ae0-dc2f-4d11-cf87-56f78be5f060"
      },
      "outputs": [
        {
          "output_type": "display_data",
          "data": {
            "text/plain": [
              "<Figure size 640x480 with 1 Axes>"
            ],
            "image/png": "[encoded data removed]"
          },
          "metadata": {}
        }
      ],
      "source": [
        "import matplotlib.pyplot as plt\n",
        "\n",
        "# b+ is for \"blue cross\"\n",
        "plt.plot(epochs, original_val_loss, 'b+', label='Original model')\n",
        "# \"bo\" is for \"blue dot\"\n",
        "plt.plot(epochs, smaller_model_val_loss, 'bo', label='Smaller model')\n",
        "plt.xlabel('Epochs')\n",
        "plt.ylabel('Validation loss')\n",
        "plt.legend()\n",
        "\n",
        "plt.show()"
      ]
    },
    {
      "cell_type": "markdown",
      "metadata": {
        "id": "aVF1j7ysmmUB"
      },
      "source": [
        "As you can see, the smaller network starts overfitting later than the reference one and its performance\n",
        "degrades much more slowly once it starts overfitting.\n",
        "\n",
        "Now, let's add to this benchmark a network that has much more capacity, far more than the problem would need (again see lectures slide p.210)."
      ]
    },
    {
      "cell_type": "code",
      "execution_count": 9,
      "metadata": {
        "tags": [],
        "id": "EJcz1Y8KmmUC"
      },
      "outputs": [],
      "source": [
        "bigger_model = models.Sequential()\n",
        "bigger_model.add(layers.Dense(512, activation='relu', input_shape=(10000,)))\n",
        "bigger_model.add(layers.Dense(512, activation='relu'))\n",
        "bigger_model.add(layers.Dense(1, activation='sigmoid'))\n",
        "\n",
        "bigger_model.compile(optimizer='rmsprop',\n",
        "                     loss='binary_crossentropy',\n",
        "                     metrics=['acc'])"
      ]
    },
    {
      "cell_type": "code",
      "execution_count": 10,
      "metadata": {
        "tags": [],
        "colab": {
          "base_uri": "https://localhost:8080/"
        },
        "id": "cCb1z3tSmmUC",
        "outputId": "60044f70-a439-449b-9ec2-e46ad0ec1d6d"
      },
      "outputs": [
        {
          "output_type": "stream",
          "name": "stdout",
          "text": [
            "Epoch 1/20\n",
            "49/49 [==============================] - 21s 422ms/step - loss: 0.4930 - acc: 0.7761 - val_loss: 0.5961 - val_acc: 0.7226\n",
            "Epoch 2/20\n",
            "49/49 [==============================] - 22s 455ms/step - loss: 0.2828 - acc: 0.8831 - val_loss: 0.2671 - val_acc: 0.8905\n",
            "Epoch 3/20\n",
            "49/49 [==============================] - 17s 342ms/step - loss: 0.2117 - acc: 0.9167 - val_loss: 0.2817 - val_acc: 0.8849\n",
            "Epoch 4/20\n",
            "49/49 [==============================] - 22s 463ms/step - loss: 0.1716 - acc: 0.9331 - val_loss: 0.3102 - val_acc: 0.8675\n",
            "Epoch 5/20\n",
            "49/49 [==============================] - 16s 333ms/step - loss: 0.1216 - acc: 0.9556 - val_loss: 0.3370 - val_acc: 0.8810\n",
            "Epoch 6/20\n",
            "49/49 [==============================] - 16s 337ms/step - loss: 0.0900 - acc: 0.9686 - val_loss: 0.3763 - val_acc: 0.8757\n",
            "Epoch 7/20\n",
            "49/49 [==============================] - 20s 417ms/step - loss: 0.0677 - acc: 0.9784 - val_loss: 0.3671 - val_acc: 0.8804\n",
            "Epoch 8/20\n",
            "49/49 [==============================] - 17s 353ms/step - loss: 0.0425 - acc: 0.9875 - val_loss: 0.4176 - val_acc: 0.8810\n",
            "Epoch 9/20\n",
            "49/49 [==============================] - 17s 351ms/step - loss: 0.0441 - acc: 0.9880 - val_loss: 0.4271 - val_acc: 0.8816\n",
            "Epoch 10/20\n",
            "49/49 [==============================] - 17s 353ms/step - loss: 0.0481 - acc: 0.9885 - val_loss: 0.3810 - val_acc: 0.8806\n",
            "Epoch 11/20\n",
            "49/49 [==============================] - 17s 343ms/step - loss: 0.0040 - acc: 0.9998 - val_loss: 0.5411 - val_acc: 0.8800\n",
            "Epoch 12/20\n",
            "49/49 [==============================] - 16s 335ms/step - loss: 0.0477 - acc: 0.9894 - val_loss: 0.4804 - val_acc: 0.8798\n",
            "Epoch 13/20\n",
            "49/49 [==============================] - 17s 350ms/step - loss: 0.0015 - acc: 1.0000 - val_loss: 0.6070 - val_acc: 0.8798\n",
            "Epoch 14/20\n",
            "49/49 [==============================] - 17s 346ms/step - loss: 7.1751e-04 - acc: 1.0000 - val_loss: 0.6574 - val_acc: 0.8790\n",
            "Epoch 15/20\n",
            "49/49 [==============================] - 22s 459ms/step - loss: 3.6183e-04 - acc: 1.0000 - val_loss: 0.7140 - val_acc: 0.8794\n",
            "Epoch 16/20\n",
            "49/49 [==============================] - 17s 357ms/step - loss: 2.5189e-04 - acc: 1.0000 - val_loss: 0.7445 - val_acc: 0.8790\n",
            "Epoch 17/20\n",
            "49/49 [==============================] - 23s 464ms/step - loss: 1.9051e-04 - acc: 1.0000 - val_loss: 0.7660 - val_acc: 0.8798\n",
            "Epoch 18/20\n",
            "49/49 [==============================] - 17s 357ms/step - loss: 1.5099e-04 - acc: 1.0000 - val_loss: 0.7864 - val_acc: 0.8789\n",
            "Epoch 19/20\n",
            "49/49 [==============================] - 17s 352ms/step - loss: 1.2508e-04 - acc: 1.0000 - val_loss: 0.8002 - val_acc: 0.8795\n",
            "Epoch 20/20\n",
            "49/49 [==============================] - 22s 448ms/step - loss: 1.0617e-04 - acc: 1.0000 - val_loss: 0.8156 - val_acc: 0.8788\n"
          ]
        }
      ],
      "source": [
        "bigger_model_hist = bigger_model.fit(x_train, y_train,\n",
        "                                     epochs=20,\n",
        "                                     batch_size=512,\n",
        "                                     validation_data=(x_test, y_test))"
      ]
    },
    {
      "cell_type": "markdown",
      "metadata": {
        "id": "tG1gCN9qmmUD"
      },
      "source": [
        "Here's how the bigger ANN performes compared to the reference one. The dots are the validation loss values of the bigger network, and the crosses are the initial network."
      ]
    },
    {
      "cell_type": "code",
      "execution_count": 11,
      "metadata": {
        "tags": [],
        "colab": {
          "base_uri": "https://localhost:8080/",
          "height": 449
        },
        "id": "_iUqtldZmmUD",
        "outputId": "ee427c29-f6e8-4afc-f4ec-d5654ac9656a"
      },
      "outputs": [
        {
          "output_type": "display_data",
          "data": {
            "text/plain": [
              "<Figure size 640x480 with 1 Axes>"
            ],
            "image/png": "[encoded data removed]"
          },
          "metadata": {}
        }
      ],
      "source": [
        "bigger_model_val_loss = bigger_model_hist.history['val_loss']\n",
        "\n",
        "plt.plot(epochs, original_val_loss, 'b+', label='Original model')\n",
        "plt.plot(epochs, bigger_model_val_loss, 'bo', label='Bigger model')\n",
        "plt.xlabel('Epochs')\n",
        "plt.ylabel('Validation loss')\n",
        "plt.legend()\n",
        "\n",
        "plt.show()"
      ]
    },
    {
      "cell_type": "markdown",
      "metadata": {
        "id": "IOh9VaWGmmUE"
      },
      "source": [
        "\n",
        "The bigger network starts overfitting almost right away, after just one epoch and overfits much more severely. Its validation loss is also more noisy.\n",
        "\n",
        "Meanwhile, here are the training losses for our two networks:"
      ]
    },
    {
      "cell_type": "code",
      "execution_count": 12,
      "metadata": {
        "colab": {
          "base_uri": "https://localhost:8080/",
          "height": 449
        },
        "id": "k4-tNe7bmmUE",
        "outputId": "f18257ac-4973-4ccb-f5c6-80de7f44b37e"
      },
      "outputs": [
        {
          "output_type": "display_data",
          "data": {
            "text/plain": [
              "<Figure size 640x480 with 1 Axes>"
            ],
            "image/png": "[encoded data removed]"
          },
          "metadata": {}
        }
      ],
      "source": [
        "original_train_loss = original_hist.history['loss']\n",
        "bigger_model_train_loss = bigger_model_hist.history['loss']\n",
        "\n",
        "plt.plot(epochs, original_train_loss, 'b+', label='Original model')\n",
        "plt.plot(epochs, bigger_model_train_loss, 'bo', label='Bigger model')\n",
        "plt.xlabel('Epochs')\n",
        "plt.ylabel('Training loss')\n",
        "plt.legend()\n",
        "\n",
        "plt.show()"
      ]
    },
    {
      "cell_type": "markdown",
      "metadata": {
        "id": "K7kggP-zmmUE"
      },
      "source": [
        "As you can see, the bigger network gets its training loss near zero very quickly. The more capacity the network has, the quicker it will be\n",
        "able to model the training data (resulting in a low training loss), but the more susceptible it is to overfitting (resulting in a large\n",
        "difference between the training and validation loss)."
      ]
    },
    {
      "cell_type": "markdown",
      "metadata": {
        "id": "kAvOm0M4mmUF"
      },
      "source": [
        "### 2. Adding weight regularization\n",
        "\n",
        "According to Occam's Razor, given some training data and a network architecture, there are multiple sets of weights values (multiple _models_) that could explain the data, and simpler models are less likely to overfit than complex ones.\n",
        "\n",
        "A `simple model` in this context is a model where the distribution of parameter values has got less entropy or a model with fewer parameters altogether, as seen in the first section above. Thus, a common way to fight overfitting is to put constraints on the complexity of a network by forcing its weights to only take small values, which makes the distribution of weight values more \"regular\". This is called \"weight regularization\", and it is done by adding to the loss function of the network a kind of _cost_ associated with having large weights. In the lecture you have learned two ways of regularization:\n",
        "\n",
        "* L1 regularization, where the cost added is proportional to the _absolute value of the weight coefficients_ (i.e. to what is called the \"L1 norm\" of the weights).\n",
        "* L2 regularization, where the cost added is proportional to the _square of the value of the weight coefficients_ (i.e. to what is called the \"L2 norm\" of the weights). L2 regularization is also called _weight decay_ in the context of neural networks. As often in machine learning, do not let the different names confuse you: weight decay is mathematically the exact same as L2 regularization.\n",
        "\n",
        "In Keras, weight regularization is quite easy by super simply passing _weight regularizer instances_ to layers as keyword arguments. Let us add L2 weight regularization to the ANN from above."
      ]
    },
    {
      "cell_type": "code",
      "execution_count": 13,
      "metadata": {
        "tags": [],
        "id": "7mIlUYkSmmUG"
      },
      "outputs": [],
      "source": [
        "from tensorflow.keras import regularizers\n",
        "\n",
        "l2_model = models.Sequential()\n",
        "l2_model.add(layers.Dense(16, kernel_regularizer=regularizers.l2(0.001),\n",
        "                          activation='relu', input_shape=(10000,)))\n",
        "l2_model.add(layers.Dense(16, kernel_regularizer=regularizers.l2(0.001),\n",
        "                          activation='relu'))\n",
        "l2_model.add(layers.Dense(1, activation='sigmoid'))"
      ]
    },
    {
      "cell_type": "code",
      "execution_count": 14,
      "metadata": {
        "tags": [],
        "id": "vC4fzs6JmmUG"
      },
      "outputs": [],
      "source": [
        "l2_model.compile(optimizer='rmsprop',\n",
        "                 loss='binary_crossentropy',\n",
        "                 metrics=['acc'])"
      ]
    },
    {
      "cell_type": "markdown",
      "metadata": {
        "id": "hLL6U2W9mmUH"
      },
      "source": [
        "`l2(0.001)` means that every coefficient in the weight matrix of the layer will add `0.001 * weight_coefficient_value` to the total loss of\n",
        "the network. Note that because this penalty is _only added during training time_, the loss for this network will be much higher at training than at test time.\n",
        "\n",
        "Here is the impact of our L2 regularization penalty:"
      ]
    },
    {
      "cell_type": "code",
      "execution_count": 15,
      "metadata": {
        "colab": {
          "base_uri": "https://localhost:8080/"
        },
        "id": "vRGCsUK2mmUI",
        "outputId": "7022578f-6893-441d-8b8b-474332a0447d"
      },
      "outputs": [
        {
          "output_type": "stream",
          "name": "stdout",
          "text": [
            "Epoch 1/20\n",
            "49/49 [==============================] - 5s 98ms/step - loss: 0.5293 - acc: 0.8081 - val_loss: 0.4042 - val_acc: 0.8756\n",
            "Epoch 2/20\n",
            "49/49 [==============================] - 3s 52ms/step - loss: 0.3386 - acc: 0.8957 - val_loss: 0.3572 - val_acc: 0.8740\n",
            "Epoch 3/20\n",
            "49/49 [==============================] - 2s 40ms/step - loss: 0.2799 - acc: 0.9158 - val_loss: 0.3242 - val_acc: 0.8890\n",
            "Epoch 4/20\n",
            "49/49 [==============================] - 2s 41ms/step - loss: 0.2524 - acc: 0.9265 - val_loss: 0.3254 - val_acc: 0.8883\n",
            "Epoch 5/20\n",
            "49/49 [==============================] - 2s 38ms/step - loss: 0.2385 - acc: 0.9320 - val_loss: 0.3429 - val_acc: 0.8810\n",
            "Epoch 6/20\n",
            "49/49 [==============================] - 2s 40ms/step - loss: 0.2261 - acc: 0.9353 - val_loss: 0.3408 - val_acc: 0.8818\n",
            "Epoch 7/20\n",
            "49/49 [==============================] - 3s 55ms/step - loss: 0.2171 - acc: 0.9396 - val_loss: 0.3697 - val_acc: 0.8726\n",
            "Epoch 8/20\n",
            "49/49 [==============================] - 3s 54ms/step - loss: 0.2138 - acc: 0.9422 - val_loss: 0.3860 - val_acc: 0.8696\n",
            "Epoch 9/20\n",
            "49/49 [==============================] - 2s 40ms/step - loss: 0.2060 - acc: 0.9449 - val_loss: 0.3765 - val_acc: 0.8734\n",
            "Epoch 10/20\n",
            "49/49 [==============================] - 2s 42ms/step - loss: 0.2004 - acc: 0.9483 - val_loss: 0.3673 - val_acc: 0.8762\n",
            "Epoch 11/20\n",
            "49/49 [==============================] - 2s 39ms/step - loss: 0.1979 - acc: 0.9492 - val_loss: 0.3849 - val_acc: 0.8734\n",
            "Epoch 12/20\n",
            "49/49 [==============================] - 3s 53ms/step - loss: 0.1960 - acc: 0.9494 - val_loss: 0.3793 - val_acc: 0.8742\n",
            "Epoch 13/20\n",
            "49/49 [==============================] - 3s 56ms/step - loss: 0.1920 - acc: 0.9515 - val_loss: 0.3998 - val_acc: 0.8705\n",
            "Epoch 14/20\n",
            "49/49 [==============================] - 2s 49ms/step - loss: 0.1897 - acc: 0.9526 - val_loss: 0.3933 - val_acc: 0.8726\n",
            "Epoch 15/20\n",
            "49/49 [==============================] - 2s 40ms/step - loss: 0.1856 - acc: 0.9541 - val_loss: 0.4254 - val_acc: 0.8638\n",
            "Epoch 16/20\n",
            "49/49 [==============================] - 2s 40ms/step - loss: 0.1834 - acc: 0.9546 - val_loss: 0.4116 - val_acc: 0.8683\n",
            "Epoch 17/20\n",
            "49/49 [==============================] - 2s 40ms/step - loss: 0.1798 - acc: 0.9561 - val_loss: 0.4145 - val_acc: 0.8686\n",
            "Epoch 18/20\n",
            "49/49 [==============================] - 2s 41ms/step - loss: 0.1815 - acc: 0.9552 - val_loss: 0.4552 - val_acc: 0.8571\n",
            "Epoch 19/20\n",
            "49/49 [==============================] - 3s 54ms/step - loss: 0.1717 - acc: 0.9604 - val_loss: 0.4712 - val_acc: 0.8551\n",
            "Epoch 20/20\n",
            "49/49 [==============================] - 3s 53ms/step - loss: 0.1726 - acc: 0.9578 - val_loss: 0.4697 - val_acc: 0.8560\n"
          ]
        }
      ],
      "source": [
        "l2_model_hist = l2_model.fit(x_train, y_train,\n",
        "                             epochs=20,\n",
        "                             batch_size=512,\n",
        "                             validation_data=(x_test, y_test))"
      ]
    },
    {
      "cell_type": "code",
      "execution_count": 16,
      "metadata": {
        "colab": {
          "base_uri": "https://localhost:8080/",
          "height": 449
        },
        "id": "tUPt_M6zmmUI",
        "outputId": "27b4d0c0-8c4c-43e1-c454-f5af307cbd8a"
      },
      "outputs": [
        {
          "output_type": "display_data",
          "data": {
            "text/plain": [
              "<Figure size 640x480 with 1 Axes>"
            ],
            "image/png": "[encoded data removed]"
          },
          "metadata": {}
        }
      ],
      "source": [
        "l2_model_val_loss = l2_model_hist.history['val_loss']\n",
        "\n",
        "plt.plot(epochs, original_val_loss, 'b+', label='Original model')\n",
        "plt.plot(epochs, l2_model_val_loss, 'bo', label='L2-regularized model')\n",
        "plt.xlabel('Epochs')\n",
        "plt.ylabel('Validation loss')\n",
        "plt.legend()\n",
        "\n",
        "plt.show()"
      ]
    },
    {
      "cell_type": "markdown",
      "metadata": {
        "id": "D8_B4VAjmmUJ"
      },
      "source": [
        "\n",
        "\n",
        "As you can see, the model with L2 regularization (dots) has become much more resistant to overfitting than the reference model (crosses),\n",
        "even though both models have the same number of parameters.\n",
        "\n",
        "As alternatives to L2 regularization, you could use one of the following Keras weight regularizers:"
      ]
    },
    {
      "cell_type": "code",
      "execution_count": 17,
      "metadata": {
        "colab": {
          "base_uri": "https://localhost:8080/"
        },
        "id": "8EoSmNlUmmUJ",
        "outputId": "ead838cf-6b2a-44f2-c226-9803f82dc124"
      },
      "outputs": [
        {
          "output_type": "execute_result",
          "data": {
            "text/plain": [
              "<keras.regularizers.L1L2 at 0x7f2ab6569630>"
            ]
          },
          "metadata": {},
          "execution_count": 17
        }
      ],
      "source": [
        "from tensorflow.keras import regularizers\n",
        "\n",
        "# L1 regularization\n",
        "regularizers.l1(0.001)\n",
        "\n",
        "# L1 and L2 regularization at the same time\n",
        "regularizers.l1_l2(l1=0.001, l2=0.001)"
      ]
    },
    {
      "cell_type": "markdown",
      "metadata": {
        "id": "Dkep-FRTmmUL"
      },
      "source": [
        "### 3. Adding dropout\n",
        "\n",
        "Dropout is one of the most effective and most commonly used regularization technique for neural networks, developed by Hinton and team. Dropout, applied to a layer, consists of randomly \"dropping out\" (which simply means 'setting to zero') a number of\n",
        "output features of the layer during training.\n",
        "\n",
        "The \"dropout rate\" is the fraction of the features that are being zero'ed-out; it is usually set between 0.2 and 0.5.\n",
        "\n",
        "In Keras, dropout can be added via the so-called `Dropout` layer, which gets applied to the output of layer right before it, e.g.:\n",
        "\n",
        "model.add(layers.Dropout(0.5))\n",
        "\n",
        "Let us add two `Dropout` layers in our IMDB network to see how effective they are for reducing overfitting."
      ]
    },
    {
      "cell_type": "code",
      "execution_count": 18,
      "metadata": {
        "tags": [],
        "id": "v0jQLMJnmmUM"
      },
      "outputs": [],
      "source": [
        "dpt_model = models.Sequential()\n",
        "dpt_model.add(layers.Dense(16, activation='relu', input_shape=(10000,)))\n",
        "dpt_model.add(layers.Dropout(0.5))\n",
        "dpt_model.add(layers.Dense(16, activation='relu'))\n",
        "dpt_model.add(layers.Dropout(0.5))\n",
        "dpt_model.add(layers.Dense(1, activation='sigmoid'))\n",
        "\n",
        "dpt_model.compile(optimizer='rmsprop',\n",
        "                  loss='binary_crossentropy',\n",
        "                  metrics=['acc'])"
      ]
    },
    {
      "cell_type": "code",
      "execution_count": 19,
      "metadata": {
        "tags": [],
        "colab": {
          "base_uri": "https://localhost:8080/"
        },
        "id": "60HR8CZFmmUN",
        "outputId": "f4cf91cf-66b7-463e-bcac-b75713339cb0"
      },
      "outputs": [
        {
          "output_type": "stream",
          "name": "stdout",
          "text": [
            "Epoch 1/20\n",
            "49/49 [==============================] - 4s 67ms/step - loss: 0.6030 - acc: 0.6707 - val_loss: 0.4617 - val_acc: 0.8605\n",
            "Epoch 2/20\n",
            "49/49 [==============================] - 2s 41ms/step - loss: 0.4636 - acc: 0.7974 - val_loss: 0.3584 - val_acc: 0.8788\n",
            "Epoch 3/20\n",
            "49/49 [==============================] - 3s 53ms/step - loss: 0.3804 - acc: 0.8490 - val_loss: 0.3037 - val_acc: 0.8884\n",
            "Epoch 4/20\n",
            "49/49 [==============================] - 3s 54ms/step - loss: 0.3307 - acc: 0.8756 - val_loss: 0.2818 - val_acc: 0.8901\n",
            "Epoch 5/20\n",
            "49/49 [==============================] - 2s 41ms/step - loss: 0.2872 - acc: 0.8978 - val_loss: 0.2930 - val_acc: 0.8841\n",
            "Epoch 6/20\n",
            "49/49 [==============================] - 2s 42ms/step - loss: 0.2604 - acc: 0.9115 - val_loss: 0.2912 - val_acc: 0.8861\n",
            "Epoch 7/20\n",
            "49/49 [==============================] - 2s 41ms/step - loss: 0.2366 - acc: 0.9210 - val_loss: 0.2913 - val_acc: 0.8883\n",
            "Epoch 8/20\n",
            "49/49 [==============================] - 2s 42ms/step - loss: 0.2155 - acc: 0.9304 - val_loss: 0.3156 - val_acc: 0.8844\n",
            "Epoch 9/20\n",
            "49/49 [==============================] - 3s 56ms/step - loss: 0.2001 - acc: 0.9356 - val_loss: 0.3230 - val_acc: 0.8862\n",
            "Epoch 10/20\n",
            "49/49 [==============================] - 3s 53ms/step - loss: 0.1839 - acc: 0.9400 - val_loss: 0.3339 - val_acc: 0.8843\n",
            "Epoch 11/20\n",
            "49/49 [==============================] - 2s 41ms/step - loss: 0.1719 - acc: 0.9429 - val_loss: 0.3459 - val_acc: 0.8818\n",
            "Epoch 12/20\n",
            "49/49 [==============================] - 3s 54ms/step - loss: 0.1593 - acc: 0.9490 - val_loss: 0.3652 - val_acc: 0.8777\n",
            "Epoch 13/20\n",
            "49/49 [==============================] - 2s 41ms/step - loss: 0.1522 - acc: 0.9496 - val_loss: 0.3951 - val_acc: 0.8809\n",
            "Epoch 14/20\n",
            "49/49 [==============================] - 2s 40ms/step - loss: 0.1475 - acc: 0.9499 - val_loss: 0.4135 - val_acc: 0.8804\n",
            "Epoch 15/20\n",
            "49/49 [==============================] - 3s 60ms/step - loss: 0.1372 - acc: 0.9538 - val_loss: 0.4384 - val_acc: 0.8802\n",
            "Epoch 16/20\n",
            "49/49 [==============================] - 2s 47ms/step - loss: 0.1352 - acc: 0.9567 - val_loss: 0.4394 - val_acc: 0.8779\n",
            "Epoch 17/20\n",
            "49/49 [==============================] - 2s 41ms/step - loss: 0.1264 - acc: 0.9585 - val_loss: 0.5032 - val_acc: 0.8765\n",
            "Epoch 18/20\n",
            "49/49 [==============================] - 2s 41ms/step - loss: 0.1242 - acc: 0.9579 - val_loss: 0.4955 - val_acc: 0.8761\n",
            "Epoch 19/20\n",
            "49/49 [==============================] - 2s 42ms/step - loss: 0.1181 - acc: 0.9619 - val_loss: 0.5037 - val_acc: 0.8753\n",
            "Epoch 20/20\n",
            "49/49 [==============================] - 2s 41ms/step - loss: 0.1113 - acc: 0.9615 - val_loss: 0.5324 - val_acc: 0.8769\n"
          ]
        }
      ],
      "source": [
        "dpt_model_hist = dpt_model.fit(x_train, y_train,\n",
        "                               epochs=20,\n",
        "                               batch_size=512,\n",
        "                               validation_data=(x_test, y_test))"
      ]
    },
    {
      "cell_type": "markdown",
      "metadata": {
        "id": "npD7nkO0mmUO"
      },
      "source": [
        "Let's plot the results:"
      ]
    },
    {
      "cell_type": "code",
      "execution_count": 20,
      "metadata": {
        "colab": {
          "base_uri": "https://localhost:8080/",
          "height": 449
        },
        "id": "X3Lcym15mmUP",
        "outputId": "ef5d2dd4-8952-4144-b56a-6936a61b7a38"
      },
      "outputs": [
        {
          "output_type": "display_data",
          "data": {
            "text/plain": [
              "<Figure size 640x480 with 1 Axes>"
            ],
            "image/png": "[encoded data removed]"
          },
          "metadata": {}
        }
      ],
      "source": [
        "dpt_model_val_loss = dpt_model_hist.history['val_loss']\n",
        "\n",
        "plt.plot(epochs, original_val_loss, 'b+', label='Original model')\n",
        "plt.plot(epochs, dpt_model_val_loss, 'bo', label='Dropout-regularized model')\n",
        "plt.xlabel('Epochs')\n",
        "plt.ylabel('Validation loss')\n",
        "plt.legend()\n",
        "\n",
        "plt.show()"
      ]
    },
    {
      "cell_type": "markdown",
      "metadata": {
        "id": "Mowhp4Q7mmUP"
      },
      "source": [
        "### <font color=\"#C70039\">Include your dropout result table here and reflect a good test plan (see task list)</font>"
      ]
    },
    {
      "cell_type": "markdown",
      "source": [
        "5. add networks that are slightly bigger and smaller than the one that is optimal (i.e., in addition to the ones that are largely smaller or bigger).\n",
        "    * visualize all their performance curves in the same two charts: the one for the acc and the one for the loss.\n",
        "    * (`little hint`: since the batch_size and the no_of_epochs stays the same always, you should consider to build yourself a (ANN_build_compile_function) which you can instantiate everytime you want to build a new ANN of different size. Store the history object in a list and visualize them as indicated above.\n",
        "    * use a table similar to the one from above to store the min_no_of_epochs for every model. You might consider to call a python function to compute the minimum rather than doing it visually."
      ],
      "metadata": {
        "id": "eFOc3keiEKea"
      }
    },
    {
      "cell_type": "code",
      "execution_count": 21,
      "metadata": {
        "id": "mPxpidxbmmUR"
      },
      "outputs": [],
      "source": [
        "def get_model(size):\n",
        "    model = models.Sequential()\n",
        "\n",
        "    model.add(layers.Dense(size, activation = 'relu', input_shape = (10000,)))\n",
        "    model.add(layers.Dense(size, activation = 'relu'))\n",
        "    model.add(layers.Dense(1, activation = 'sigmoid'))\n",
        "\n",
        "    model.compile(optimizer = 'rmsprop',\n",
        "                  loss = 'binary_crossentropy',\n",
        "                  metrics = ['acc'])\n",
        "\n",
        "    return model"
      ]
    },
    {
      "cell_type": "code",
      "source": [
        "def get_minimal_loss(hist_list, model_type):\n",
        "  print(hist_list)\n",
        "  values = []\n",
        "  idx = []\n",
        "  for i, val in enumerate(hist_list):\n",
        "    if not values:\n",
        "      values.append(val)\n",
        "      idx.append(i)\n",
        "    elif val < values[-1]:\n",
        "      values.append(val)\n",
        "      idx.append(i)\n",
        "    elif val > values[-1]:\n",
        "      print(f\"listtype: {model_type} //\", f\" index: {idx[-1]} //\",  f\" epoch: {idx[-1] + 1} //\", f\"value: {values[-1]}\")\n",
        "      break"
      ],
      "metadata": {
        "id": "mMO9J1WCeoD7"
      },
      "execution_count": 22,
      "outputs": []
    },
    {
      "cell_type": "code",
      "source": [
        "slightly_smaller_model = get_model(8)\n",
        "\n",
        "slightly_smaller_model_hist = slightly_smaller_model.fit(x_train, y_train,\n",
        "                                     epochs = 20,\n",
        "                                     batch_size = 512,\n",
        "                                     validation_data = (x_test, y_test))"
      ],
      "metadata": {
        "colab": {
          "base_uri": "https://localhost:8080/"
        },
        "id": "lU5TahduEUDi",
        "outputId": "e0e643db-1c6c-4489-a5b8-3def5e50005b"
      },
      "execution_count": 23,
      "outputs": [
        {
          "output_type": "stream",
          "name": "stdout",
          "text": [
            "Epoch 1/20\n",
            "49/49 [==============================] - 5s 78ms/step - loss: 0.4743 - acc: 0.8081 - val_loss: 0.3578 - val_acc: 0.8770\n",
            "Epoch 2/20\n",
            "49/49 [==============================] - 2s 40ms/step - loss: 0.2792 - acc: 0.9064 - val_loss: 0.2907 - val_acc: 0.8885\n",
            "Epoch 3/20\n",
            "49/49 [==============================] - 2s 37ms/step - loss: 0.2149 - acc: 0.9251 - val_loss: 0.2856 - val_acc: 0.8854\n",
            "Epoch 4/20\n",
            "49/49 [==============================] - 2s 39ms/step - loss: 0.1807 - acc: 0.9366 - val_loss: 0.3013 - val_acc: 0.8798\n",
            "Epoch 5/20\n",
            "49/49 [==============================] - 2s 39ms/step - loss: 0.1596 - acc: 0.9457 - val_loss: 0.2973 - val_acc: 0.8815\n",
            "Epoch 6/20\n",
            "49/49 [==============================] - 3s 62ms/step - loss: 0.1408 - acc: 0.9531 - val_loss: 0.3154 - val_acc: 0.8778\n",
            "Epoch 7/20\n",
            "49/49 [==============================] - 2s 44ms/step - loss: 0.1282 - acc: 0.9575 - val_loss: 0.3260 - val_acc: 0.8772\n",
            "Epoch 8/20\n",
            "49/49 [==============================] - 2s 39ms/step - loss: 0.1145 - acc: 0.9626 - val_loss: 0.3613 - val_acc: 0.8697\n",
            "Epoch 9/20\n",
            "49/49 [==============================] - 2s 41ms/step - loss: 0.1059 - acc: 0.9654 - val_loss: 0.3617 - val_acc: 0.8716\n",
            "Epoch 10/20\n",
            "49/49 [==============================] - 2s 38ms/step - loss: 0.0957 - acc: 0.9692 - val_loss: 0.3801 - val_acc: 0.8694\n",
            "Epoch 11/20\n",
            "49/49 [==============================] - 2s 40ms/step - loss: 0.0878 - acc: 0.9722 - val_loss: 0.4083 - val_acc: 0.8644\n",
            "Epoch 12/20\n",
            "49/49 [==============================] - 3s 60ms/step - loss: 0.0794 - acc: 0.9750 - val_loss: 0.4213 - val_acc: 0.8656\n",
            "Epoch 13/20\n",
            "49/49 [==============================] - 2s 46ms/step - loss: 0.0743 - acc: 0.9779 - val_loss: 0.4484 - val_acc: 0.8643\n",
            "Epoch 14/20\n",
            "49/49 [==============================] - 2s 39ms/step - loss: 0.0668 - acc: 0.9805 - val_loss: 0.4752 - val_acc: 0.8597\n",
            "Epoch 15/20\n",
            "49/49 [==============================] - 2s 40ms/step - loss: 0.0602 - acc: 0.9835 - val_loss: 0.4903 - val_acc: 0.8601\n",
            "Epoch 16/20\n",
            "49/49 [==============================] - 2s 40ms/step - loss: 0.0561 - acc: 0.9839 - val_loss: 0.5212 - val_acc: 0.8578\n",
            "Epoch 17/20\n",
            "49/49 [==============================] - 2s 40ms/step - loss: 0.0492 - acc: 0.9869 - val_loss: 0.5366 - val_acc: 0.8574\n",
            "Epoch 18/20\n",
            "49/49 [==============================] - 2s 49ms/step - loss: 0.0448 - acc: 0.9878 - val_loss: 0.5654 - val_acc: 0.8565\n",
            "Epoch 19/20\n",
            "49/49 [==============================] - 3s 66ms/step - loss: 0.0424 - acc: 0.9886 - val_loss: 0.5919 - val_acc: 0.8554\n",
            "Epoch 20/20\n",
            "49/49 [==============================] - 2s 39ms/step - loss: 0.0370 - acc: 0.9910 - val_loss: 0.6720 - val_acc: 0.8441\n"
          ]
        }
      ]
    },
    {
      "cell_type": "code",
      "source": [
        "slightly_bigger_model = get_model(32)\n",
        "\n",
        "slightly_bigger_model_hist = slightly_bigger_model.fit(x_train, y_train,\n",
        "                                     epochs = 20,\n",
        "                                     batch_size = 512,\n",
        "                                     validation_data = (x_test, y_test))"
      ],
      "metadata": {
        "colab": {
          "base_uri": "https://localhost:8080/"
        },
        "id": "z-vA7hVwEnnw",
        "outputId": "4b1154e9-e0f5-4b61-9f53-3cdabf0eb023"
      },
      "execution_count": 24,
      "outputs": [
        {
          "output_type": "stream",
          "name": "stdout",
          "text": [
            "Epoch 1/20\n",
            "49/49 [==============================] - 5s 88ms/step - loss: 0.4434 - acc: 0.8034 - val_loss: 0.3167 - val_acc: 0.8803\n",
            "Epoch 2/20\n",
            "49/49 [==============================] - 3s 63ms/step - loss: 0.2642 - acc: 0.9000 - val_loss: 0.2892 - val_acc: 0.8846\n",
            "Epoch 3/20\n",
            "49/49 [==============================] - 4s 74ms/step - loss: 0.2074 - acc: 0.9226 - val_loss: 0.2857 - val_acc: 0.8837\n",
            "Epoch 4/20\n",
            "49/49 [==============================] - 3s 61ms/step - loss: 0.1750 - acc: 0.9366 - val_loss: 0.3424 - val_acc: 0.8659\n",
            "Epoch 5/20\n",
            "49/49 [==============================] - 2s 49ms/step - loss: 0.1528 - acc: 0.9437 - val_loss: 0.3994 - val_acc: 0.8571\n",
            "Epoch 6/20\n",
            "49/49 [==============================] - 3s 51ms/step - loss: 0.1365 - acc: 0.9506 - val_loss: 0.3570 - val_acc: 0.8721\n",
            "Epoch 7/20\n",
            "49/49 [==============================] - 3s 70ms/step - loss: 0.1172 - acc: 0.9586 - val_loss: 0.3616 - val_acc: 0.8709\n",
            "Epoch 8/20\n",
            "49/49 [==============================] - 3s 66ms/step - loss: 0.1072 - acc: 0.9607 - val_loss: 0.3758 - val_acc: 0.8717\n",
            "Epoch 9/20\n",
            "49/49 [==============================] - 2s 48ms/step - loss: 0.0887 - acc: 0.9702 - val_loss: 0.4417 - val_acc: 0.8649\n",
            "Epoch 10/20\n",
            "49/49 [==============================] - 3s 60ms/step - loss: 0.0752 - acc: 0.9758 - val_loss: 0.4265 - val_acc: 0.8688\n",
            "Epoch 11/20\n",
            "49/49 [==============================] - 3s 60ms/step - loss: 0.0632 - acc: 0.9804 - val_loss: 0.4568 - val_acc: 0.8641\n",
            "Epoch 12/20\n",
            "49/49 [==============================] - 4s 78ms/step - loss: 0.0519 - acc: 0.9847 - val_loss: 0.4963 - val_acc: 0.8658\n",
            "Epoch 13/20\n",
            "49/49 [==============================] - 3s 62ms/step - loss: 0.0467 - acc: 0.9854 - val_loss: 0.5118 - val_acc: 0.8623\n",
            "Epoch 14/20\n",
            "49/49 [==============================] - 3s 61ms/step - loss: 0.0432 - acc: 0.9858 - val_loss: 0.5437 - val_acc: 0.8628\n",
            "Epoch 15/20\n",
            "49/49 [==============================] - 3s 62ms/step - loss: 0.0258 - acc: 0.9942 - val_loss: 0.6978 - val_acc: 0.8341\n",
            "Epoch 16/20\n",
            "49/49 [==============================] - 4s 80ms/step - loss: 0.0288 - acc: 0.9929 - val_loss: 0.5961 - val_acc: 0.8620\n",
            "Epoch 17/20\n",
            "49/49 [==============================] - 3s 51ms/step - loss: 0.0216 - acc: 0.9940 - val_loss: 0.6254 - val_acc: 0.8609\n",
            "Epoch 18/20\n",
            "49/49 [==============================] - 3s 61ms/step - loss: 0.0181 - acc: 0.9951 - val_loss: 0.6533 - val_acc: 0.8607\n",
            "Epoch 19/20\n",
            "49/49 [==============================] - 3s 60ms/step - loss: 0.0173 - acc: 0.9951 - val_loss: 0.6835 - val_acc: 0.8590\n",
            "Epoch 20/20\n",
            "49/49 [==============================] - 3s 60ms/step - loss: 0.0160 - acc: 0.9950 - val_loss: 0.7083 - val_acc: 0.8586\n"
          ]
        }
      ]
    },
    {
      "cell_type": "code",
      "source": [
        "slightly_smaller_loss = slightly_smaller_model_hist.history['val_loss']\n",
        "slightly_bigger_loss = slightly_bigger_model_hist.history['val_loss']\n",
        "\n",
        "get_minimal_loss(slightly_smaller_loss, 'Slightly_small')\n",
        "get_minimal_loss(slightly_bigger_loss, 'Slightly_big')\n",
        "get_minimal_loss(original_val_loss, 'Original')\n",
        "get_minimal_loss(smaller_model_val_loss, 'Small')\n",
        "get_minimal_loss(bigger_model_val_loss, 'Big')\n",
        "\n",
        "import matplotlib.pyplot as plt\n",
        "\n",
        "# b+ is for \"blue cross\"\n",
        "plt.plot(epochs, slightly_smaller_loss, 'b+', label = 'Slightly smaller model')\n",
        "\n",
        "# \"bo\" is for \"blue dot\"\n",
        "plt.plot(epochs, slightly_bigger_loss, 'bo', label = 'Slightly bigger model')\n",
        "\n",
        "# \"gr\" is for \"green cross\"\n",
        "plt.plot(epochs, original_val_loss, 'go', label = 'original')\n",
        "\n",
        "# \"ro\" is for \"red dot\"\n",
        "plt.plot(epochs, smaller_model_val_loss , 'ro', label = 'Small model')\n",
        "\n",
        "# \"bo\" is for \"blue dot\"\n",
        "plt.plot(epochs, bigger_model_val_loss, 'r+', label = 'Big model')\n",
        "\n",
        "plt.xlabel('epochs')\n",
        "plt.ylabel('validation loss')\n",
        "plt.legend()\n",
        "\n",
        "plt.show()"
      ],
      "metadata": {
        "colab": {
          "base_uri": "https://localhost:8080/",
          "height": 643
        },
        "id": "0bgGRLZdE8xF",
        "outputId": "f7fbff3c-519f-40d4-c60d-9dd2c23e5a62"
      },
      "execution_count": 25,
      "outputs": [
        {
          "output_type": "stream",
          "name": "stdout",
          "text": [
            "[0.35783612728118896, 0.29067322611808777, 0.28559985756874084, 0.3012886345386505, 0.29734766483306885, 0.31541672348976135, 0.3260219991207123, 0.36125367879867554, 0.36166343092918396, 0.3801281154155731, 0.40828046202659607, 0.42132753133773804, 0.4484272599220276, 0.4752158522605896, 0.4903084337711334, 0.5212191939353943, 0.5365541577339172, 0.5653517842292786, 0.591862678527832, 0.671963095664978]\n",
            "listtype: Slightly_small //  index: 2 //  epoch: 3 // value: 0.28559985756874084\n",
            "[0.31669241189956665, 0.28922778367996216, 0.28568434715270996, 0.34236663579940796, 0.3994245231151581, 0.35702118277549744, 0.3616035282611847, 0.37582722306251526, 0.44173187017440796, 0.42649245262145996, 0.45678019523620605, 0.49634620547294617, 0.5118006467819214, 0.5437151789665222, 0.697793185710907, 0.5960711240768433, 0.6253718137741089, 0.6532796621322632, 0.6835344433784485, 0.708252489566803]\n",
            "listtype: Slightly_big //  index: 2 //  epoch: 3 // value: 0.28568434715270996\n",
            "[0.3472445011138916, 0.2880344092845917, 0.2939911186695099, 0.2899874746799469, 0.31047752499580383, 0.3282904624938965, 0.33245307207107544, 0.38041210174560547, 0.3720225691795349, 0.3962515592575073, 0.4299471378326416, 0.4761303961277008, 0.4899076223373413, 0.514284074306488, 0.5325918197631836, 0.5735447406768799, 0.6236350536346436, 0.6191006302833557, 0.6752917170524597, 0.658170759677887]\n",
            "listtype: Original //  index: 1 //  epoch: 2 // value: 0.2880344092845917\n",
            "[0.387357234954834, 0.31389862298965454, 0.28680655360221863, 0.27946195006370544, 0.28119969367980957, 0.2866583466529846, 0.29974842071533203, 0.30757415294647217, 0.318411648273468, 0.33696305751800537, 0.3455149531364441, 0.3609635829925537, 0.3761990964412689, 0.3935648798942566, 0.41048663854599, 0.4574440121650696, 0.4557821750640869, 0.4679470658302307, 0.48571208119392395, 0.5069202780723572]\n",
            "listtype: Small //  index: 3 //  epoch: 4 // value: 0.27946195006370544\n",
            "[0.596096932888031, 0.26712387800216675, 0.28168678283691406, 0.31021201610565186, 0.3370310068130493, 0.37630727887153625, 0.367066353559494, 0.41756632924079895, 0.42705315351486206, 0.3809530436992645, 0.5411010980606079, 0.48039180040359497, 0.6069883108139038, 0.6574208736419678, 0.7139663100242615, 0.7444626688957214, 0.7659871578216553, 0.7863722443580627, 0.8002140522003174, 0.8156014680862427]\n",
            "listtype: Big //  index: 1 //  epoch: 2 // value: 0.26712387800216675\n"
          ]
        },
        {
          "output_type": "display_data",
          "data": {
            "text/plain": [
              "<Figure size 640x480 with 1 Axes>"
            ],
            "image/png": "[encoded data removed]"
          },
          "metadata": {}
        }
      ]
    },
    {
      "cell_type": "code",
      "source": [
        "dpt_model = models.Sequential()\n",
        "dpt_model.add(layers.Dense(16, activation = 'relu', input_shape = (10000,)))\n",
        "dpt_model.add(layers.Dropout(0.9))\n",
        "dpt_model.add(layers.Dense(16, activation = 'relu'))\n",
        "dpt_model.add(layers.Dropout(0.9))\n",
        "dpt_model.add(layers.Dense(1, activation = 'sigmoid'))\n",
        "\n",
        "dpt_model.compile(optimizer = 'rmsprop',\n",
        "                  loss = 'binary_crossentropy',\n",
        "                  metrics = ['acc'])"
      ],
      "metadata": {
        "id": "ulqmxfDeFF5l"
      },
      "execution_count": 26,
      "outputs": []
    },
    {
      "cell_type": "code",
      "source": [
        "dpt_model_hist = dpt_model.fit(x_train, y_train,\n",
        "                               epochs = 20,\n",
        "                               batch_size = 512,\n",
        "                               validation_data = (x_test, y_test))"
      ],
      "metadata": {
        "colab": {
          "base_uri": "https://localhost:8080/"
        },
        "id": "-ZucbyX2FIEy",
        "outputId": "4a177d74-2cb8-48cf-fbbc-cb4a9cc83ce8"
      },
      "execution_count": 27,
      "outputs": [
        {
          "output_type": "stream",
          "name": "stdout",
          "text": [
            "Epoch 1/20\n",
            "49/49 [==============================] - 5s 95ms/step - loss: 0.6998 - acc: 0.5042 - val_loss: 0.6930 - val_acc: 0.4896\n",
            "Epoch 2/20\n",
            "49/49 [==============================] - 2s 40ms/step - loss: 0.6935 - acc: 0.5015 - val_loss: 0.6923 - val_acc: 0.4925\n",
            "Epoch 3/20\n",
            "49/49 [==============================] - 2s 40ms/step - loss: 0.6943 - acc: 0.4978 - val_loss: 0.6929 - val_acc: 0.5109\n",
            "Epoch 4/20\n",
            "49/49 [==============================] - 2s 41ms/step - loss: 0.6931 - acc: 0.5016 - val_loss: 0.6925 - val_acc: 0.5295\n",
            "Epoch 5/20\n",
            "49/49 [==============================] - 2s 41ms/step - loss: 0.6932 - acc: 0.4984 - val_loss: 0.6916 - val_acc: 0.5442\n",
            "Epoch 6/20\n",
            "49/49 [==============================] - 3s 54ms/step - loss: 0.6938 - acc: 0.4996 - val_loss: 0.6911 - val_acc: 0.5450\n",
            "Epoch 7/20\n",
            "49/49 [==============================] - 3s 67ms/step - loss: 0.6945 - acc: 0.5012 - val_loss: 0.6909 - val_acc: 0.5583\n",
            "Epoch 8/20\n",
            "49/49 [==============================] - 2s 40ms/step - loss: 0.6930 - acc: 0.4990 - val_loss: 0.6890 - val_acc: 0.6037\n",
            "Epoch 9/20\n",
            "49/49 [==============================] - 2s 40ms/step - loss: 0.6923 - acc: 0.5059 - val_loss: 0.6899 - val_acc: 0.5950\n",
            "Epoch 10/20\n",
            "49/49 [==============================] - 2s 42ms/step - loss: 0.6928 - acc: 0.5085 - val_loss: 0.6854 - val_acc: 0.6274\n",
            "Epoch 11/20\n",
            "49/49 [==============================] - 2s 41ms/step - loss: 0.6914 - acc: 0.5040 - val_loss: 0.6852 - val_acc: 0.6439\n",
            "Epoch 12/20\n",
            "49/49 [==============================] - 3s 59ms/step - loss: 0.6926 - acc: 0.5053 - val_loss: 0.6824 - val_acc: 0.6930\n",
            "Epoch 13/20\n",
            "49/49 [==============================] - 3s 62ms/step - loss: 0.6925 - acc: 0.5053 - val_loss: 0.6818 - val_acc: 0.6873\n",
            "Epoch 14/20\n",
            "49/49 [==============================] - 2s 41ms/step - loss: 0.6910 - acc: 0.5124 - val_loss: 0.6748 - val_acc: 0.7343\n",
            "Epoch 15/20\n",
            "49/49 [==============================] - 3s 54ms/step - loss: 0.6899 - acc: 0.5110 - val_loss: 0.6767 - val_acc: 0.7241\n",
            "Epoch 16/20\n",
            "49/49 [==============================] - 2s 40ms/step - loss: 0.6886 - acc: 0.5167 - val_loss: 0.6736 - val_acc: 0.7414\n",
            "Epoch 17/20\n",
            "49/49 [==============================] - 2s 41ms/step - loss: 0.6875 - acc: 0.5197 - val_loss: 0.6758 - val_acc: 0.7235\n",
            "Epoch 18/20\n",
            "49/49 [==============================] - 3s 60ms/step - loss: 0.6869 - acc: 0.5226 - val_loss: 0.6687 - val_acc: 0.7441\n",
            "Epoch 19/20\n",
            "49/49 [==============================] - 2s 44ms/step - loss: 0.6848 - acc: 0.5237 - val_loss: 0.6677 - val_acc: 0.7673\n",
            "Epoch 20/20\n",
            "49/49 [==============================] - 2s 41ms/step - loss: 0.6862 - acc: 0.5258 - val_loss: 0.6598 - val_acc: 0.7764\n"
          ]
        }
      ]
    },
    {
      "cell_type": "code",
      "source": [
        "results = dpt_model.evaluate(x_test, y_test)"
      ],
      "metadata": {
        "id": "QyiDvzJ_FKAa"
      },
      "execution_count": null,
      "outputs": []
    }
  ],
  "metadata": {
    "kernelspec": {
      "display_name": "Python 3",
      "name": "python3"
    },
    "language_info": {
      "codemirror_mode": {
        "name": "ipython",
        "version": 3
      },
      "file_extension": ".py",
      "mimetype": "text/x-python",
      "name": "python",
      "nbconvert_exporter": "python",
      "pygments_lexer": "ipython3",
      "version": "3.9.17"
    },
    "colab": {
      "provenance": [],
      "include_colab_link": true
    },
    "accelerator": "TPU"
  },
  "nbformat": 4,
  "nbformat_minor": 0
}