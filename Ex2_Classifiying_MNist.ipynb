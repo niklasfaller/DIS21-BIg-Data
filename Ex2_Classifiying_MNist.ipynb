{
  "cells": [
    {
      "cell_type": "markdown",
      "metadata": {
        "id": "view-in-github",
        "colab_type": "text"
      },
      "source": [
        "<a href=\"https://colab.research.google.com/github/niklasfaller/DIS21-BIg-Data/blob/main/Ex2_Classifiying_MNist.ipynb\" target=\"_parent\"><img src=\"https://colab.research.google.com/assets/colab-badge.svg\" alt=\"Open In Colab\"/></a>"
      ]
    },
    {
      "cell_type": "markdown",
      "metadata": {
        "id": "7yi3eRQsqwaV"
      },
      "source": [
        "<image src=\"https://www.th-koeln.de/img/logo.svg\">"
      ]
    },
    {
      "cell_type": "markdown",
      "metadata": {
        "id": "udtUSWtbqwae"
      },
      "source": [
        "<img src=\"https://www.th-koeln.de/img/logo.svg\" style=\"float: right;\" width=\"200\">"
      ]
    },
    {
      "cell_type": "markdown",
      "metadata": {
        "id": "QR-PSc3Wqwag"
      },
      "source": [
        "# 2nd exercise: <font color=\"#C70039\">Classifying the MNIST data set</font>\n",
        "* Course: DIS21a.1\n",
        "* Lecturer: <a href=\"https://www.gernotheisenberg.de/\">Gernot Heisenberg</a>\n",
        "* Author of notebook modifications and adaptations: Niklas Faller\n",
        "* Date:   13.12.2023\n",
        "\n",
        "<img src=\"https://upload.wikimedia.org/wikipedia/commons/2/27/MnistExamples.png\" style=\"float: center;\" width=\"450\">\n",
        "\n",
        "---------------------------------\n",
        "**GENERAL NOTE 1**:\n",
        "Please make sure you are reading the entire notebook, since it contains a lot of information about your tasks (e.g. regarding the set of certain paramaters or specific computational tricks, etc.), and the written mark downs as well as comments contain a lot of information on how things work together as a whole.\n",
        "\n",
        "**GENERAL NOTE 2**:\n",
        "* Please, when commenting source code, just use English language only.\n",
        "* When describing an observation (for instance, after you have run through your test plan) you may use German language.\n",
        "This applies to all exercises in DIS 21a.1.  \n",
        "\n",
        "---------------------\n",
        "\n",
        "### <font color=\"ce33ff\">DESCRIPTION</font>:\n",
        "This notebook allows you for classifying the MNIST data set. That is an inbuild data set coming along with keras. Keras is using tensorflow in the backend.\n",
        "\n",
        "-------------------------------------------------------------------------------------------------------------\n",
        "\n",
        "### <font color=\"FFC300\">TASKS</font>:\n",
        "Within this notebook, the tasks that you need to work on are always listed as bullet points below.\n",
        "If a task is more challenging and consists of several steps, this is indicated as well.\n",
        "Make sure you have worked down the task list and commented your doings.\n",
        "This should be done using markdown.<br>\n",
        "<font color=red>Make sure you don't forget to specify your name and your matriculation number in the notebook before submitting it.</font>\n",
        "\n",
        "**YOUR TASKS in this exercise are as follows**:\n",
        "1. import the notebook to Google Colab.\n",
        "2. make sure you specified you name and your matriculation number in the header below my name and date.\n",
        "    * set the date too and remove mine.\n",
        "3. read the *entire* notebook carefully.\n",
        "    * add comments whereever you feel it necessary for better understanding\n",
        "    * run the notebook for the first time and note the result in a markdown table.\n",
        "        * I have provided you with an example of a table in markdown (see below). Make sure you adapt your table accordingly.\n",
        "        * Put the table at the end of the notebook.\n",
        "        * This type of table will be needed in the other exercises as well. Always put it at the end.\n",
        "    \n",
        "| type of method | loss function | optimizer | accuracy |\n",
        "| :-: | :-: | :-: | :-: |\n",
        "| classification | categorical_crossentropy | bamm !|.666\n",
        "\n",
        "4. do some tensor slicing on the training images as well as the labels.\n",
        "    * slice the first 100\n",
        "    * slice the last 13\n",
        "    * slice between 666 and 999\n",
        "    * slice one image at index '666' and slice the center part of that image\n",
        "        * visualize that image (original and sliced)\n",
        "5. take less training data and rerun the network.\n",
        "    * add the size of the <ins>training</ins> data as a column in the table and note the accuracy you achieve\n",
        "6. take less testing data and rerun the network.\n",
        "    * add the size of the <ins>testing</ins> data as a column in the table and note the accuracy you achieve\n",
        "7. increase/decrease the number of epochs and the batch size.\n",
        "    * add those hyperparameters as columns in the table and note down the accuracy you achieve\n",
        "8. make combinations of this (NOTE: what you are doing here is writing your own test plan, a big future task of yours once you became a data scientist. Make sure you combine with sense and intelligence and not just chaotically.).\n",
        "9. comment your observations.\n",
        "    * when is the accuracy increasing/decreasing?\n",
        "\n",
        "-----------------------------------------------------------------------------------\n",
        "\n"
      ]
    },
    {
      "cell_type": "markdown",
      "metadata": {
        "id": "8XrulyW2qwaj"
      },
      "source": [
        "\n",
        "## START OF THE NOTEBOOK CODE\n",
        "----------------------------------------------------------------------------------------------------------------------\n",
        "### necessary imports\n",
        "others are going to be included as soon as they are needed\n",
        "\n",
        "**GENERAL CODE REMARK**: the common way to import is: \"from keras.datasets import mnist\" (see below).\n",
        "However, this throws several warnings depending on the version of tensorflow you are trying to use. Sometimes this is not compatible.<br>\n",
        "However, by adding \"tensorflow.\" before \"keras.\" that warning is resolved.  \n",
        "This hack was found in a thread on stackoverflow, that is a valuable ressource for you too."
      ]
    },
    {
      "cell_type": "code",
      "execution_count": 120,
      "metadata": {
        "tags": [],
        "colab": {
          "base_uri": "https://localhost:8080/",
          "height": 35
        },
        "id": "3FPMS9iTqwak",
        "outputId": "61084ff6-4b9e-4043-8aa2-2245fc04519a"
      },
      "outputs": [
        {
          "output_type": "execute_result",
          "data": {
            "text/plain": [
              "'Original'"
            ],
            "application/vnd.google.colaboratory.intrinsic+json": {
              "type": "string"
            }
          },
          "metadata": {},
          "execution_count": 120
        }
      ],
      "source": [
        "import tensorflow\n",
        "from tensorflow.keras.datasets import mnist\n",
        "tensorflow.__version__\n",
        "\n",
        "'''Original'''\n",
        "# from keras.datasets import mnist\n",
        "# if you are using Google Colab, this import line should work without causing any problems.\n",
        "# See general code remark above"
      ]
    },
    {
      "cell_type": "markdown",
      "metadata": {
        "id": "7dSPQzA4qwan"
      },
      "source": [
        "### loading the MNIST data set"
      ]
    },
    {
      "cell_type": "code",
      "execution_count": 121,
      "metadata": {
        "tags": [],
        "id": "TWxPexgJqwao"
      },
      "outputs": [],
      "source": [
        "(train_images, train_labels), (test_images, test_labels) = mnist.load_data()"
      ]
    },
    {
      "cell_type": "markdown",
      "metadata": {
        "id": "niPKji0-qwap"
      },
      "source": [
        "### print some shape of the training images and labels until you feel comfortable with the data set structure"
      ]
    },
    {
      "cell_type": "code",
      "execution_count": 122,
      "metadata": {
        "tags": [],
        "colab": {
          "base_uri": "https://localhost:8080/"
        },
        "id": "EAXeaY0Aqwar",
        "outputId": "d0c23522-32d1-4c9b-e23f-0ebe3f46140f"
      },
      "outputs": [
        {
          "output_type": "execute_result",
          "data": {
            "text/plain": [
              "(60000, 28, 28)"
            ]
          },
          "metadata": {},
          "execution_count": 122
        }
      ],
      "source": [
        "train_images.shape"
      ]
    },
    {
      "cell_type": "code",
      "execution_count": 123,
      "metadata": {
        "tags": [],
        "colab": {
          "base_uri": "https://localhost:8080/"
        },
        "id": "hnNBUim5qwas",
        "outputId": "b03131a1-a000-4a2f-f345-60096b12f9d3"
      },
      "outputs": [
        {
          "output_type": "execute_result",
          "data": {
            "text/plain": [
              "(60000,)"
            ]
          },
          "metadata": {},
          "execution_count": 123
        }
      ],
      "source": [
        "train_labels.shape"
      ]
    },
    {
      "cell_type": "code",
      "execution_count": 124,
      "metadata": {
        "tags": [],
        "colab": {
          "base_uri": "https://localhost:8080/"
        },
        "id": "PC7bcNPKqwat",
        "outputId": "17a68f67-b786-49d0-8060-7fc46239ef42"
      },
      "outputs": [
        {
          "output_type": "execute_result",
          "data": {
            "text/plain": [
              "array([5, 0, 4, ..., 5, 6, 8], dtype=uint8)"
            ]
          },
          "metadata": {},
          "execution_count": 124
        }
      ],
      "source": [
        "train_labels"
      ]
    },
    {
      "cell_type": "code",
      "execution_count": 125,
      "metadata": {
        "tags": [],
        "colab": {
          "base_uri": "https://localhost:8080/"
        },
        "id": "5fCOyXB-qwat",
        "outputId": "d4bf7def-5df9-46bb-b6bd-2481629fcbd9"
      },
      "outputs": [
        {
          "output_type": "execute_result",
          "data": {
            "text/plain": [
              "10000"
            ]
          },
          "metadata": {},
          "execution_count": 125
        }
      ],
      "source": [
        "len(test_labels)"
      ]
    },
    {
      "cell_type": "markdown",
      "metadata": {
        "id": "VxhWc8grqwau"
      },
      "source": [
        "### more imports\n",
        "<font color=red>NOTE</font>: the original import was: \"from keras import models\" and \"layers\". However, this throws several warning. Adding \"tensorflow.\" before \"keras.\" solves this. // Found in a thread on stackoverflow."
      ]
    },
    {
      "cell_type": "code",
      "execution_count": 126,
      "metadata": {
        "tags": [],
        "id": "AvcwOmauqwau"
      },
      "outputs": [],
      "source": [
        "from tensorflow.keras import models\n",
        "from tensorflow.keras import layers"
      ]
    },
    {
      "cell_type": "markdown",
      "metadata": {
        "id": "KFrs5C9qqwau"
      },
      "source": [
        "### building the ANN\n",
        "* set the activation function to ReLu\n",
        "* define the shape of the input images\n",
        "* define the size of the output layer\n",
        "* define the size of the hidden, fully connected layer\n",
        "* define softmax as the probability function"
      ]
    },
    {
      "cell_type": "code",
      "execution_count": 127,
      "metadata": {
        "tags": [],
        "id": "UDPCLu5Nqwav"
      },
      "outputs": [],
      "source": [
        "network = models.Sequential()\n",
        "network.add(layers.Dense(512, activation='relu', input_shape=(28 * 28,)))\n",
        "network.add(layers.Dense(10, activation='softmax'))"
      ]
    },
    {
      "cell_type": "code",
      "execution_count": 128,
      "metadata": {
        "tags": [],
        "id": "kYYlH2Kzqwaw"
      },
      "outputs": [],
      "source": [
        "network.compile(optimizer='rmsprop',loss='categorical_crossentropy',metrics=['accuracy'])"
      ]
    },
    {
      "cell_type": "markdown",
      "metadata": {
        "id": "aQNtOIJuqwax"
      },
      "source": [
        "### Prepare the image data and normalize them (/255 since they were 8Bit-encoded)"
      ]
    },
    {
      "cell_type": "code",
      "execution_count": 129,
      "metadata": {
        "tags": [],
        "id": "1H1hHQAGqwax"
      },
      "outputs": [],
      "source": [
        "train_images = train_images.reshape((60000, 28 * 28))\n",
        "train_images = train_images.astype('float32') / 255\n",
        "\n",
        "test_images = test_images.reshape((10000, 28 * 28))\n",
        "test_images = test_images.astype('float32') / 255"
      ]
    },
    {
      "cell_type": "markdown",
      "metadata": {
        "id": "KRRDMxZgqwax"
      },
      "source": [
        "### categorical encoding of the labels is needed"
      ]
    },
    {
      "cell_type": "code",
      "execution_count": 130,
      "metadata": {
        "tags": [],
        "id": "FdcHfxJQqwax"
      },
      "outputs": [],
      "source": [
        "from tensorflow.keras.utils import to_categorical\n",
        "\n",
        "train_labels = to_categorical(train_labels)\n",
        "test_labels = to_categorical(test_labels)"
      ]
    },
    {
      "cell_type": "code",
      "execution_count": 131,
      "metadata": {
        "tags": [],
        "colab": {
          "base_uri": "https://localhost:8080/"
        },
        "id": "ahdxeYbUqway",
        "outputId": "b2381ed4-3e98-45c9-fbea-afc00ad1d042"
      },
      "outputs": [
        {
          "output_type": "stream",
          "name": "stdout",
          "text": [
            "Epoch 1/5\n",
            "469/469 [==============================] - 6s 12ms/step - loss: 0.2671 - accuracy: 0.9233\n",
            "Epoch 2/5\n",
            "469/469 [==============================] - 4s 9ms/step - loss: 0.1085 - accuracy: 0.9684\n",
            "Epoch 3/5\n",
            "469/469 [==============================] - 4s 9ms/step - loss: 0.0712 - accuracy: 0.9787\n",
            "Epoch 4/5\n",
            "469/469 [==============================] - 6s 12ms/step - loss: 0.0518 - accuracy: 0.9848\n",
            "Epoch 5/5\n",
            "469/469 [==============================] - 4s 9ms/step - loss: 0.0386 - accuracy: 0.9885\n"
          ]
        },
        {
          "output_type": "execute_result",
          "data": {
            "text/plain": [
              "<keras.src.callbacks.History at 0x7e1e840f9f90>"
            ]
          },
          "metadata": {},
          "execution_count": 131
        }
      ],
      "source": [
        "network.fit(train_images, train_labels, epochs=5, batch_size=128)"
      ]
    },
    {
      "cell_type": "code",
      "execution_count": 132,
      "metadata": {
        "tags": [],
        "colab": {
          "base_uri": "https://localhost:8080/"
        },
        "id": "_VBSdKcPqway",
        "outputId": "e7c97a82-219e-499b-e4ee-3de31d323807"
      },
      "outputs": [
        {
          "output_type": "stream",
          "name": "stdout",
          "text": [
            "313/313 [==============================] - 1s 2ms/step - loss: 0.0652 - accuracy: 0.9804\n"
          ]
        }
      ],
      "source": [
        "test_loss, test_acc = network.evaluate(test_images, test_labels)"
      ]
    },
    {
      "cell_type": "code",
      "execution_count": 133,
      "metadata": {
        "tags": [],
        "colab": {
          "base_uri": "https://localhost:8080/"
        },
        "id": "-Sk2QTixqway",
        "outputId": "81e887bd-2074-4b49-d727-83f7421a93b8"
      },
      "outputs": [
        {
          "output_type": "stream",
          "name": "stdout",
          "text": [
            "test_acc: 0.980400025844574\n"
          ]
        }
      ],
      "source": [
        "print('test_acc:', test_acc)"
      ]
    },
    {
      "cell_type": "markdown",
      "source": [
        "| Type of Method | Loss Function | Optimizer | Accuracy | Size of Test Data | Size of Training Data | Epochs (Amount) |\n",
        "| --------------- | ------------- | --------- | -------- | ------------------ | --------------------- | -------------- |\n",
        "| Classification  | Categorical Crossentropy | Adam (default) | 98,04%   | 10,000 | 60,000 | 5  |\n"
      ],
      "metadata": {
        "id": "ey-CHNgr_kxg"
      }
    },
    {
      "cell_type": "markdown",
      "metadata": {
        "id": "3K8KoPoaqwaz"
      },
      "source": [
        "That's the final accuracy result for the classification of the test data set."
      ]
    },
    {
      "cell_type": "markdown",
      "metadata": {
        "id": "K-gj9nKpqwaz"
      },
      "source": [
        "### <font color=\"#C70039\">Include your result table here and reflect a good test plan (see task list)</font>"
      ]
    },
    {
      "cell_type": "markdown",
      "source": [
        "4. do some tensor slicing on the training images as well as the labels.\n",
        "    * slice the first 100\n",
        "    * slice the last 13\n",
        "    * slice between 666 and 999\n",
        "    * slice one image at index '666' and slice the center part of that image\n",
        "        * visualize that image (original and sliced)"
      ],
      "metadata": {
        "id": "HORFBA5qnTH-"
      }
    },
    {
      "cell_type": "code",
      "source": [
        "import matplotlib.pyplot as plt"
      ],
      "metadata": {
        "id": "SKBvVcwinX0S"
      },
      "execution_count": 134,
      "outputs": []
    },
    {
      "cell_type": "code",
      "source": [
        "import tensorflow\n",
        "from tensorflow.keras.datasets import mnist\n",
        "tensorflow.__version__"
      ],
      "metadata": {
        "colab": {
          "base_uri": "https://localhost:8080/",
          "height": 35
        },
        "id": "8Fu60I66qrNJ",
        "outputId": "52c2003e-c651-40fc-dc06-df590aa87959"
      },
      "execution_count": 135,
      "outputs": [
        {
          "output_type": "execute_result",
          "data": {
            "text/plain": [
              "'2.15.0'"
            ],
            "application/vnd.google.colaboratory.intrinsic+json": {
              "type": "string"
            }
          },
          "metadata": {},
          "execution_count": 135
        }
      ]
    },
    {
      "cell_type": "code",
      "source": [
        "(train_images, train_labels), (test_images, test_labels) = mnist.load_data()"
      ],
      "metadata": {
        "id": "ZguEMt62qs8j"
      },
      "execution_count": 136,
      "outputs": []
    },
    {
      "cell_type": "code",
      "source": [
        "slice_first_100_images = train_images[:100]\n",
        "slice_first_100_labels = train_labels[:100]\n",
        "\n",
        "slice_last_13_images = train_images[-13:]\n",
        "slice_last_13_labels = train_labels[-13:]\n",
        "\n",
        "slice_between_images = train_images[666:999]\n",
        "slice_between_labels = train_labels[666:999]\n",
        "slice_666 = train_images[666]"
      ],
      "metadata": {
        "id": "gUb6wUdsoWiZ"
      },
      "execution_count": 137,
      "outputs": []
    },
    {
      "cell_type": "code",
      "source": [
        "plt.imshow(slice_666, cmap = plt.cm.binary)\n",
        "plt.show()"
      ],
      "metadata": {
        "colab": {
          "base_uri": "https://localhost:8080/",
          "height": 430
        },
        "id": "cJLw0Ng9pKCn",
        "outputId": "283e30b0-4539-4f51-ec1f-1831346a7da9"
      },
      "execution_count": 138,
      "outputs": [
        {
          "output_type": "display_data",
          "data": {
            "text/plain": [
              "<Figure size 640x480 with 1 Axes>"
            ],
            "image/png": "[encoded data removed]"
          },
          "metadata": {}
        }
      ]
    },
    {
      "cell_type": "code",
      "source": [
        "slice_666_center = train_images[666,6:-6,6:-6]\n",
        "plt.imshow(slice_666_center, cmap = plt.cm.binary)\n",
        "plt.show()"
      ],
      "metadata": {
        "colab": {
          "base_uri": "https://localhost:8080/",
          "height": 430
        },
        "id": "DUfn7-LT1R7l",
        "outputId": "406bc9a2-9cb3-43a6-e80f-4e47d18a0cf4"
      },
      "execution_count": 139,
      "outputs": [
        {
          "output_type": "display_data",
          "data": {
            "text/plain": [
              "<Figure size 640x480 with 1 Axes>"
            ],
            "image/png": "[encoded data removed]"
          },
          "metadata": {}
        }
      ]
    },
    {
      "cell_type": "markdown",
      "source": [
        "5. take less training data and rerun the network.\n",
        "    * add the size of the <ins>training</ins> data as a column in the table and note the accuracy you achieve"
      ],
      "metadata": {
        "id": "-FisNkyD1s1J"
      }
    },
    {
      "cell_type": "code",
      "source": [
        "network = models.Sequential()\n",
        "network.add(layers.Dense(512, activation='relu', input_shape=(28 * 28,)))\n",
        "network.add(layers.Dense(10, activation='softmax'))"
      ],
      "metadata": {
        "id": "KXeu92ONqH52"
      },
      "execution_count": 140,
      "outputs": []
    },
    {
      "cell_type": "code",
      "source": [
        "network.compile(optimizer='rmsprop',loss='categorical_crossentropy',metrics=['accuracy'])"
      ],
      "metadata": {
        "id": "-RmUH9-PqAni"
      },
      "execution_count": 141,
      "outputs": []
    },
    {
      "cell_type": "code",
      "source": [
        "#prepare images\n",
        "\n",
        "train_images = train_images.reshape((60000, 28 * 28))\n",
        "train_images = train_images.astype('float32') / 255\n",
        "train_images1 = train_images[:20000]\n",
        "test_images = test_images.reshape((10000, 28 * 28))\n",
        "test_images = test_images.astype('float32') / 255\n"
      ],
      "metadata": {
        "id": "UOWR5fo9No2P"
      },
      "execution_count": 142,
      "outputs": []
    },
    {
      "cell_type": "code",
      "source": [
        "#categorize\n",
        "train_labels = to_categorical(train_labels)\n",
        "test_labels = to_categorical(test_labels)\n",
        "\n",
        "train_labels1 = train_labels[:20000]\n"
      ],
      "metadata": {
        "id": "70TEuTmMlDZz"
      },
      "execution_count": 143,
      "outputs": []
    },
    {
      "cell_type": "code",
      "source": [
        "network.fit(train_images1, train_labels1, epochs=5, batch_size=128)"
      ],
      "metadata": {
        "colab": {
          "base_uri": "https://localhost:8080/"
        },
        "id": "NE_fuHyIlaSw",
        "outputId": "1a8314e0-d7f1-4694-dc8a-110039f552d5"
      },
      "execution_count": 144,
      "outputs": [
        {
          "output_type": "stream",
          "name": "stdout",
          "text": [
            "Epoch 1/5\n",
            "157/157 [==============================] - 2s 10ms/step - loss: 0.4287 - accuracy: 0.8800\n",
            "Epoch 2/5\n",
            "157/157 [==============================] - 2s 14ms/step - loss: 0.1939 - accuracy: 0.9438\n",
            "Epoch 3/5\n",
            "157/157 [==============================] - 2s 12ms/step - loss: 0.1320 - accuracy: 0.9627\n",
            "Epoch 4/5\n",
            "157/157 [==============================] - 1s 9ms/step - loss: 0.0962 - accuracy: 0.9729\n",
            "Epoch 5/5\n",
            "157/157 [==============================] - 1s 9ms/step - loss: 0.0698 - accuracy: 0.9804\n"
          ]
        },
        {
          "output_type": "execute_result",
          "data": {
            "text/plain": [
              "<keras.src.callbacks.History at 0x7e1e83e71d80>"
            ]
          },
          "metadata": {},
          "execution_count": 144
        }
      ]
    },
    {
      "cell_type": "code",
      "source": [
        "test_loss, test_acc = network.evaluate(test_images, test_labels)"
      ],
      "metadata": {
        "colab": {
          "base_uri": "https://localhost:8080/"
        },
        "id": "AkhYjy4erD2Z",
        "outputId": "32e04025-6b06-429c-f70f-12d251006cb9"
      },
      "execution_count": 145,
      "outputs": [
        {
          "output_type": "stream",
          "name": "stdout",
          "text": [
            "313/313 [==============================] - 1s 2ms/step - loss: 0.1160 - accuracy: 0.9642\n"
          ]
        }
      ]
    },
    {
      "cell_type": "code",
      "source": [
        "print('test_acc:', test_acc)"
      ],
      "metadata": {
        "colab": {
          "base_uri": "https://localhost:8080/"
        },
        "id": "aNj9zG-Dra7_",
        "outputId": "bbaeab88-ba28-43e1-dd57-96d4ad35e6a6"
      },
      "execution_count": 146,
      "outputs": [
        {
          "output_type": "stream",
          "name": "stdout",
          "text": [
            "test_acc: 0.9642000198364258\n"
          ]
        }
      ]
    },
    {
      "cell_type": "markdown",
      "source": [
        "| Type of Method | Loss Function | Optimizer | Accuracy | Size of Test Data | Size of Training Data | Epochs (Amount) |\n",
        "| --------------- | ------------- | --------- | -------- | ------------------ | --------------------- | -------------- |\n",
        "| Classification  | Categorical Crossentropy | Adam (default) | 96,42%   | 10,000 | 20,000 | 5  |"
      ],
      "metadata": {
        "id": "86KdVQS5rxeb"
      }
    },
    {
      "cell_type": "code",
      "source": [
        "(train_images, train_labels), (test_images, test_labels) = mnist.load_data()"
      ],
      "metadata": {
        "id": "fQMHF8neCJ9O"
      },
      "execution_count": 147,
      "outputs": []
    },
    {
      "cell_type": "code",
      "source": [
        "network = models.Sequential()\n",
        "network.add(layers.Dense(512, activation='relu', input_shape=(28 * 28,)))\n",
        "network.add(layers.Dense(10, activation='softmax'))"
      ],
      "metadata": {
        "id": "5aFdmxS1Bz5v"
      },
      "execution_count": 148,
      "outputs": []
    },
    {
      "cell_type": "code",
      "source": [
        "network.compile(optimizer='rmsprop',loss='categorical_crossentropy',metrics=['accuracy'])"
      ],
      "metadata": {
        "id": "c31tyLW9By8k"
      },
      "execution_count": 149,
      "outputs": []
    },
    {
      "cell_type": "code",
      "source": [
        "#prepare images\n",
        "\n",
        "train_images = train_images.reshape((60000, 28 * 28))\n",
        "train_images = train_images.astype('float32') / 255\n",
        "test_images = test_images.reshape((10000, 28 * 28))\n",
        "test_images = test_images.astype('float32') / 255\n",
        "test_images2 = test_images[:5000]\n"
      ],
      "metadata": {
        "id": "e3w_fQsJsYvi"
      },
      "execution_count": 150,
      "outputs": []
    },
    {
      "cell_type": "code",
      "source": [
        "#categorize\n",
        "train_labels = to_categorical(train_labels)\n",
        "test_labels = to_categorical(test_labels)\n",
        "\n",
        "test_labels2 = test_labels[:5000]"
      ],
      "metadata": {
        "id": "SyJRuD-1BDFg"
      },
      "execution_count": 151,
      "outputs": []
    },
    {
      "cell_type": "code",
      "source": [
        "network.fit(train_images, train_labels, epochs=5, batch_size=128)\n",
        "\n",
        "test_loss, test_acc = network.evaluate(test_images2, test_labels2)\n",
        "\n",
        "print('test_acc:', test_acc)"
      ],
      "metadata": {
        "colab": {
          "base_uri": "https://localhost:8080/"
        },
        "id": "5gFGI4FVt2QX",
        "outputId": "6ab08a4f-0126-4c03-b861-e4d5e4fe20f7"
      },
      "execution_count": 152,
      "outputs": [
        {
          "output_type": "stream",
          "name": "stdout",
          "text": [
            "Epoch 1/5\n",
            "469/469 [==============================] - 6s 11ms/step - loss: 0.2635 - accuracy: 0.9234\n",
            "Epoch 2/5\n",
            "469/469 [==============================] - 5s 11ms/step - loss: 0.1081 - accuracy: 0.9679\n",
            "Epoch 3/5\n",
            "469/469 [==============================] - 4s 9ms/step - loss: 0.0709 - accuracy: 0.9790\n",
            "Epoch 4/5\n",
            "469/469 [==============================] - 5s 11ms/step - loss: 0.0513 - accuracy: 0.9846\n",
            "Epoch 5/5\n",
            "469/469 [==============================] - 5s 11ms/step - loss: 0.0386 - accuracy: 0.9885\n",
            "157/157 [==============================] - 1s 2ms/step - loss: 0.0879 - accuracy: 0.9712\n",
            "test_acc: 0.9711999893188477\n"
          ]
        }
      ]
    },
    {
      "cell_type": "markdown",
      "source": [
        "| Type of Method | Loss Function | Optimizer | Accuracy | Size of Test Data | Size of Training Data | Epochs (Amount) |\n",
        "| --------------- | ------------- | --------- | -------- | ------------------ | --------------------- | -------------- |\n",
        "| Classification  | Categorical Crossentropy | Adam (default) | 97,12%   | 5,000 | 60,000 | 5  |"
      ],
      "metadata": {
        "id": "Q6bSNbSUCw8F"
      }
    },
    {
      "cell_type": "code",
      "source": [
        "network.fit(train_images, train_labels, epochs=3, batch_size=128)\n",
        "\n",
        "test_loss, test_acc = network.evaluate(test_images2, test_labels2)\n",
        "\n",
        "print('test_acc:', test_acc)"
      ],
      "metadata": {
        "colab": {
          "base_uri": "https://localhost:8080/"
        },
        "id": "KopNqUE7vVMS",
        "outputId": "40643a42-49d0-4048-f607-23cc2a7aa14b"
      },
      "execution_count": 153,
      "outputs": [
        {
          "output_type": "stream",
          "name": "stdout",
          "text": [
            "Epoch 1/3\n",
            "469/469 [==============================] - 5s 11ms/step - loss: 0.0286 - accuracy: 0.9917\n",
            "Epoch 2/3\n",
            "469/469 [==============================] - 4s 9ms/step - loss: 0.0219 - accuracy: 0.9940\n",
            "Epoch 3/3\n",
            "469/469 [==============================] - 6s 12ms/step - loss: 0.0164 - accuracy: 0.9957\n",
            "157/157 [==============================] - 0s 2ms/step - loss: 0.1197 - accuracy: 0.9638\n",
            "test_acc: 0.9638000130653381\n"
          ]
        }
      ]
    },
    {
      "cell_type": "markdown",
      "source": [
        "| Type of Method | Loss Function | Optimizer | Accuracy | Size of Test Data | Size of Training Data | Epochs (Amount) |\n",
        "| --------------- | ------------- | --------- | -------- | ------------------ | --------------------- | -------------- |\n",
        "| Classification  | Categorical Crossentropy | Adam (default) | 96,38%   | 5,000 | 60,000 | 3  |"
      ],
      "metadata": {
        "id": "IQ1fMayjLeCu"
      }
    },
    {
      "cell_type": "code",
      "source": [
        "network.fit(train_images, train_labels, epochs=10, batch_size=128)\n",
        "\n",
        "test_loss, test_acc = network.evaluate(test_images2, test_labels2)\n",
        "\n",
        "print('test_acc:', test_acc)"
      ],
      "metadata": {
        "colab": {
          "base_uri": "https://localhost:8080/"
        },
        "id": "qB_ZIqIIwJus",
        "outputId": "674ec07a-2308-4399-ebec-2a99f8b00711"
      },
      "execution_count": 154,
      "outputs": [
        {
          "output_type": "stream",
          "name": "stdout",
          "text": [
            "Epoch 1/10\n",
            "469/469 [==============================] - 4s 9ms/step - loss: 0.0124 - accuracy: 0.9968\n",
            "Epoch 2/10\n",
            "469/469 [==============================] - 4s 9ms/step - loss: 0.0090 - accuracy: 0.9980\n",
            "Epoch 3/10\n",
            "469/469 [==============================] - 6s 12ms/step - loss: 0.0067 - accuracy: 0.9986\n",
            "Epoch 4/10\n",
            "469/469 [==============================] - 4s 9ms/step - loss: 0.0052 - accuracy: 0.9990\n",
            "Epoch 5/10\n",
            "469/469 [==============================] - 4s 9ms/step - loss: 0.0036 - accuracy: 0.9993\n",
            "Epoch 6/10\n",
            "469/469 [==============================] - 6s 12ms/step - loss: 0.0027 - accuracy: 0.9995\n",
            "Epoch 7/10\n",
            "469/469 [==============================] - 4s 10ms/step - loss: 0.0017 - accuracy: 0.9998\n",
            "Epoch 8/10\n",
            "469/469 [==============================] - 5s 11ms/step - loss: 9.1430e-04 - accuracy: 1.0000\n",
            "Epoch 9/10\n",
            "469/469 [==============================] - 5s 11ms/step - loss: 6.4640e-04 - accuracy: 1.0000\n",
            "Epoch 10/10\n",
            "469/469 [==============================] - 4s 9ms/step - loss: 4.8183e-04 - accuracy: 1.0000\n",
            "157/157 [==============================] - 0s 2ms/step - loss: 0.1014 - accuracy: 0.9760\n",
            "test_acc: 0.9760000109672546\n"
          ]
        }
      ]
    },
    {
      "cell_type": "markdown",
      "source": [
        "| Type of Method | Loss Function | Optimizer | Accuracy | Size of Test Data | Size of Training Data | Epochs (Amount) |\n",
        "| --------------- | ------------- | --------- | -------- | ------------------ | --------------------- | -------------- |\n",
        "| Classification  | Categorical Crossentropy | Adam (default) | 97,60%   | 5,000 | 60,000 | 10  |"
      ],
      "metadata": {
        "id": "sJLSZ8ATMIWk"
      }
    },
    {
      "cell_type": "markdown",
      "source": [
        "| Type of Method | Loss Function | Optimizer | Accuracy | Size of Test Data | Size of Training Data | Epochs (Amount) |\n",
        "| --------------- | ------------- | --------- | -------- | ------------------ | --------------------- | -------------- |\n",
        "| Classification  | Categorical Crossentropy | Adam (default) | 98,04%   | 10,000 | 60,000 | 5  |\n",
        "| Classification  | Categorical Crossentropy | Adam (default) | 96,42%   | 10,000 | 20,000 | 5  |\n",
        "| Classification  | Categorical Crossentropy | Adam (default) | 97,12%   | 5,000 | 60,000 | 5  |\n",
        "| Classification  | Categorical Crossentropy | Adam (default) | 96,83%   | 5,000 | 60,000 | 3  |\n",
        "| Classification  | Categorical Crossentropy | Adam (default) | 97,60%   | 5,000 | 60,000 | 10  |"
      ],
      "metadata": {
        "id": "vVfL0AMiMtZG"
      }
    }
  ],
  "metadata": {
    "kernelspec": {
      "display_name": "Python 3 (ipykernel)",
      "language": "python",
      "name": "python3"
    },
    "language_info": {
      "codemirror_mode": {
        "name": "ipython",
        "version": 3
      },
      "file_extension": ".py",
      "mimetype": "text/x-python",
      "name": "python",
      "nbconvert_exporter": "python",
      "pygments_lexer": "ipython3",
      "version": "3.9.17"
    },
    "colab": {
      "provenance": [],
      "include_colab_link": true
    }
  },
  "nbformat": 4,
  "nbformat_minor": 0
}