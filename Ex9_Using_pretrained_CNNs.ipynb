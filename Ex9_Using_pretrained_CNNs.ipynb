{
  "cells": [
    {
      "cell_type": "markdown",
      "metadata": {
        "id": "view-in-github",
        "colab_type": "text"
      },
      "source": [
        "<a href=\"https://colab.research.google.com/github/niklasfaller/DIS21-BIg-Data/blob/main/Ex9_Using_pretrained_CNNs.ipynb\" target=\"_parent\"><img src=\"https://colab.research.google.com/assets/colab-badge.svg\" alt=\"Open In Colab\"/></a>"
      ]
    },
    {
      "cell_type": "markdown",
      "metadata": {
        "id": "h3r3HE5xjgzf"
      },
      "source": [
        "<img src=\"https://www.th-koeln.de/img/logo.svg\" style=\"float: right;\" width=\"200\">"
      ]
    },
    {
      "cell_type": "markdown",
      "metadata": {
        "id": "k-AL-0jCjgzg"
      },
      "source": [
        "# 9th exercise: <font color=\"#C70039\">Using pre-trained CNNs for better predictions</font>\n",
        "* Course: DIS21a.1\n",
        "* Lecturer: <a href=\"https://www.gernotheisenberg.de/\">Gernot Heisenberg</a>\n",
        "* Author of notebook modifications and adaptations: Niklas Faller\n",
        "* Date:   21.01.2024\n",
        "\n",
        "<table><tr>\n",
        "<td> <img src=\"https://miro.medium.com/max/491/1*heOde2iTazjgrF7YzvOFyQ.png\" style=\"width: 350px;\"/> </td>\n",
        "<td> <img src=\"https://miro.medium.com/max/510/1*7ZD-u-h8hFPuN2PYJvLMBw.png\" style=\"width: 363px;\"/> </td>\n",
        "</tr></table>\n",
        "\n",
        "---------------------------------\n",
        "**GENERAL NOTE 1**:\n",
        "Please make sure you are reading the entire notebook, since it contains a lot of information about your tasks (e.g. regarding the set of certain paramaters or specific computational tricks, etc.), and the written mark downs as well as comments contain a lot of information on how things work together as a whole.\n",
        "\n",
        "**GENERAL NOTE 2**:\n",
        "* Please, when commenting source code, just use English language only.\n",
        "* When describing an observation (for instance, after you have run through your test plan) you may use German language.\n",
        "This applies to all exercises in DIS 21a.1.  \n",
        "\n",
        "---------------------\n",
        "\n",
        "### <font color=\"ce33ff\">DESCRIPTION</font>:\n",
        "\n",
        "This notebook allows for reviewing two additional and essential techniques for applying deep learning to small data sets. These are:\n",
        "* doing feature extraction with a pre-trained network (this will get you to an accuracy of 90% up to 93%)\n",
        "* fine-tuning a pre-trained network (this will get you to a final accuracy of 95%).\n",
        "\n",
        "In combination, the three strategies you have learned, as (1) training a small model from scratch as in the previous exercise, (2) doing feature extracting using a pre-trained model, and (3) fine-tuning a pre-trained model will constitute your future toolbox for tackling the problem of performing computer vision with small data sets.\n",
        "\n",
        "The reason the latter two are good options is that deep learning models are by nature highly reusable. It is possible to take an image classification model trained on a large-scale data set and then reuse it on a significantly different problem with only minor changes.\n",
        "Specifically, in the case of computer vision, many pre-trained models (usually trained on the ImageNet data set) are now publicly available for download and can be used to bootstrap (`https://de.wikipedia.org/wiki/Bootstrapping`) powerful vision models out of very little data.\n",
        "\n",
        "That is what you will learn in this exercise.\n",
        "\n",
        "-------------------------------------------------------------------------------------------------------------\n",
        "\n",
        "### <font color=\"FFC300\">TASKS</font>:\n",
        "Within this notebook, the tasks that you need to work on are always listed as bullet points below.\n",
        "If a task is more challenging and consists of several steps, this is indicated as well.\n",
        "Make sure you have worked down the task list and commented your doings.\n",
        "This should be done using markdown.<br>\n",
        "<font color=red>Make sure you don't forget to specify your name and your matriculation number in the notebook before submitting it.</font>\n",
        "\n",
        "**YOUR TASKS in this exercise are as follows**:\n",
        "1. import the notebook to Google Colab.\n",
        "2. make sure you specified you name and your matriculation number in the header below my name and date.\n",
        "    * set the date too and remove mine.\n",
        "3. read the entire notebook carefully.  \n",
        "    * add comments whereever you feel it necessary for better understanding.\n",
        "    * run the notebook for the first time and note the result in a markdown table.\n",
        "        * I have provided you with an example of a table in markdown (see below). Make sure you adapt your table accordingly.\n",
        "        * Put the table at the end of the notebook.\n",
        "        * This type of table will be needed in the other exercises as well. Always put it at the end.\n",
        "    \n",
        "| type of method | loss function | optimizer | accuracy |\n",
        "| :-: | :-: | :-: | :-: |\n",
        "| classification | categorical_crossentropy | bamm !|.666\n",
        "\n",
        "4. in PART I,\n",
        "    * save the model of feature extraction with method A\n",
        "    * load the model in a new, own code line,\n",
        "    * print out the model's summary,\n",
        "5. in PART I, if you have a personal data cracking machine with GPU support try to compile and train the model of feature extraction with method B.\n",
        "    * if you do not have a GPU (Note: you can have GPU support in Colab, too), then\n",
        "        * load the model I have saved for you on Moodle (it was too large to be put on github),\n",
        "        * print out the model's summary.\n",
        "6. then, after you loaded the model,\n",
        "    * take the validation data set and validate it using a history object,\n",
        "    * take the history object and plot the validaton results using pyplot.\n",
        "7. in PART II,  \n",
        "    * save the model using fine-tuning\n",
        "    * validate the model by using the validation data set using a history object\n",
        "    * take the history object and plot the validaton results using pyplot.\n",
        "8. in PART II, do a validation using the same model\n",
        "    * with more validation data (4000 samples)\n",
        "    * with less validation data (500 samples)\n",
        "   Store the results into a table. What is your observation?\n",
        "   \n",
        "-----------------------------------------------------------------------------------"
      ]
    },
    {
      "cell_type": "markdown",
      "metadata": {
        "id": "bqAVtfwajgzh"
      },
      "source": [
        "## START OF THE NOTEBOOK CODE\n",
        "----------------------------------------------------------------------------------------------------------------------\n",
        "### Preface\n",
        "\n",
        "A pre-trained network is simply a saved network previously trained on a large data set, typically on a large-scale image classification task. If this original data set is large and general enough, then the spatial feature hierarchy learned by the pre-trained network can effectively act as a generic model of our visual world and hence its features can prove useful for many different computer vision problems, even though these new problems might involve completely different classes from those of the original task.\n",
        "\n",
        "For instance, one might train a network on ImageNet (where classes are mostly animals and everyday objects) and then re-purpose this trained network for something as remote as identifying furniture items in images. Such portability of learned features across different problems is a key advantage of deep learning compared to many older shallow learning approaches, and it makes deep learning very effective for small-data problems.\n",
        "\n",
        "In the case of this exercise, a large CNN trained on the ImageNet data set is going to be used. ImageNet contains many animal classes, including different species of cats and dogs, and we can thus expect to perform very well on our cat vs. dog classification problem (1.4 million labeled images and 1000 different classes: read more following <a href=\"https://de.wikipedia.org/wiki/ImageNet\">https://de.wikipedia.org/wiki/ImageNet</a>).\n",
        "\n",
        "We will use the VGG16 architecture, developed by Karen Simonyan and Andrew Zisserman in 2014, a simple and widely used CNN architecture for ImageNet (<a href=\"https://keras.io/api/applications/vgg/\">https://keras.io/api/applications/vgg/</a>).\n",
        "\n",
        "Although it is a bit of an older model, its architecture is similar to what you are already familiar with, and easy to understand without introducing any new concepts. You may also have heart other model names e.g. -- VGG, ResNet, Inception, Inception-ResNet, Xception... you will get used to them, as they will come up frequently if you keep doing deep learning for computer vision.\n",
        "\n",
        "So finally, let's get started with feature extraction."
      ]
    },
    {
      "cell_type": "markdown",
      "metadata": {
        "id": "uhhSMTGIjgzi"
      },
      "source": [
        "## <font color=\"#C70039\">PART I</font>\n",
        "### building a CNN by using a pre-trained CNN with feature extraction\n",
        "\n",
        "Feature extraction consists of using the representations learned by a previous network to extract interesting features from new samples. These features are then run through a new classifier, which is trained from scratch.\n",
        "\n",
        "As we saw previously, CNNs used for image classification comprise two parts: they start with a series of pooling and convolution layers, and they end with a densely (fully) connected classifier.\n",
        "\n",
        "The first part is called the \"convolutional base\" of the model. In the case of CNNs, \"feature extraction\" will simply consist of taking the convolutional base of a previously-trained network, running the new data through it, and training a new classifier on top of the output (see pages 254-258 in slides `DIS21a.1-9.Convolutional.NeuralNetworks.pdf`).\n",
        "\n",
        "Why only reuse the convolutional base? Could we reuse the densely-connected classifier as well?\n",
        "\n",
        "In general, it should be avoided. The reason is simply that the representations learned by the convolutional base are likely to be more generic and therefore more reusable: the\n",
        "feature maps of a CNN are presence maps of generic concepts over a picture, which is likely to be useful regardless of the computer vision problem at hand.\n",
        "On the other end, the representations learned by the classifier will necessarily be very specific to the set of\n",
        "classes that the model was trained on -- they will only contain information about the presence probability of this or that class in the entire picture.\n",
        "Additionally, representations found in densely (fully) connected layers no longer contain any information about _where_ objects are located in the input image: these layers get rid of the notion of space, whereas the object location is still described by convolutional feature maps. For problems where object location matters, densely (fully) connected features would be largely useless.\n",
        "\n",
        "Note, the level of generality (and therefore reusability) of the representations extracted by specific convolution layers depends on the depth of the layer in the model. Layers that come earlier in the model, extract local, highly generic feature maps (such as visual edges, colors, and textures), while layers higher-up extract more abstract concepts (such as \"cat ear\" or \"dog eye\"). So if your new data set differs a lot from the data set that the original model was trained on, you may be better off using only the first few layers of the model to do feature extraction, rather than using the entire convolutional base (compare the two images at the top of this exercise notebook that I provided you with).\n",
        "\n",
        "In our case, since the ImageNet class set did contain multiple dog and cat classes, it is likely that it would be beneficial to reuse the information contained in the densely (fully) connected layers of the original model. However, we will choose not to, in order to cover the more general case where the class set of the new problem does not overlap with the class set of the original model."
      ]
    },
    {
      "cell_type": "markdown",
      "metadata": {
        "id": "jeQ8YLafjgzi"
      },
      "source": [
        "### approach\n",
        "\n",
        "Put the above said into practice by using the convolutional base of the VGG16 network, trained on ImageNet, to extract interesting features from our cat and dog images, and then training a cat vs. dog classifier on top of these features.\n",
        "\n",
        "The VGG16 model, among others, comes pre-packaged with Keras. You can import it from the `keras.applications` module. Here's the list of\n",
        "image classification models (all pre-trained on the ImageNet dataset) that are available as part of `keras.applications`:\n",
        "\n",
        "* Xception\n",
        "* InceptionV3\n",
        "* ResNet50\n",
        "* VGG16\n",
        "* VGG19\n",
        "* MobileNet\n",
        "\n",
        "To read more about the models use this reference: <a href=\"https://wiki.tum.de/display/ldv/Vergleich+von+vortrainierten+Neuronalen+Netzen\">https://wiki.tum.de/display/ldv/Vergleich+von+vortrainierten+Neuronalen+Netzen</a>.<br>\n",
        "For now, instantiate the VGG16 model:"
      ]
    },
    {
      "cell_type": "code",
      "execution_count": null,
      "metadata": {
        "tags": [],
        "id": "T7TWhFXnjgzi"
      },
      "outputs": [],
      "source": [
        "import tensorflow\n",
        "# tensorflow.keras.__version__"
      ]
    },
    {
      "cell_type": "code",
      "execution_count": null,
      "metadata": {
        "tags": [],
        "colab": {
          "base_uri": "https://localhost:8080/"
        },
        "id": "cAkzbRXujgzj",
        "outputId": "d1048739-e961-4e27-e1bf-a76cb8794a32"
      },
      "outputs": [
        {
          "output_type": "stream",
          "name": "stdout",
          "text": [
            "Downloading data from https://storage.googleapis.com/tensorflow/keras-applications/vgg16/vgg16_weights_tf_dim_ordering_tf_kernels_notop.h5\n",
            "58889256/58889256 [==============================] - 1s 0us/step\n"
          ]
        }
      ],
      "source": [
        "from tensorflow.keras.applications import VGG16\n",
        "\n",
        "conv_base = VGG16(weights='imagenet', include_top=False, input_shape=(150, 150, 3))"
      ]
    },
    {
      "cell_type": "markdown",
      "metadata": {
        "id": "rYGdQQw6jgzj"
      },
      "source": [
        "Pass three arguments to the VGG16 constructor. These are:\n",
        "\n",
        "* *weights*: specifies which weight checkpoint in keras to initialize the model from\n",
        "\n",
        "* *include_top*: refers to including (or not including) the densely connected classifier on top of the network. By default, this densely connected classifier would correspond to the 1000 classes from ImageNet. Since we intend to use our own densely connected classifier (with only two classes, namely cat and dog), we don't need to include it.\n",
        "\n",
        "* *input_shape*: the shape of the image tensors that will be fed to the network. This argument is purely optional: if it is not specified, then the network will be able to process inputs of any size. Use here the size of the inputs as in the last exercise.\n",
        "\n",
        "Print out the model's summary and have a look at the architecture of the VGG16."
      ]
    },
    {
      "cell_type": "code",
      "execution_count": null,
      "metadata": {
        "scrolled": true,
        "tags": [],
        "colab": {
          "base_uri": "https://localhost:8080/"
        },
        "id": "tCQkkRrEjgzj",
        "outputId": "893d12f3-cab3-4b5e-c950-0e800deabebc"
      },
      "outputs": [
        {
          "output_type": "stream",
          "name": "stdout",
          "text": [
            "Model: \"vgg16\"\n",
            "_________________________________________________________________\n",
            " Layer (type)                Output Shape              Param #   \n",
            "=================================================================\n",
            " input_1 (InputLayer)        [(None, 150, 150, 3)]     0         \n",
            "                                                                 \n",
            " block1_conv1 (Conv2D)       (None, 150, 150, 64)      1792      \n",
            "                                                                 \n",
            " block1_conv2 (Conv2D)       (None, 150, 150, 64)      36928     \n",
            "                                                                 \n",
            " block1_pool (MaxPooling2D)  (None, 75, 75, 64)        0         \n",
            "                                                                 \n",
            " block2_conv1 (Conv2D)       (None, 75, 75, 128)       73856     \n",
            "                                                                 \n",
            " block2_conv2 (Conv2D)       (None, 75, 75, 128)       147584    \n",
            "                                                                 \n",
            " block2_pool (MaxPooling2D)  (None, 37, 37, 128)       0         \n",
            "                                                                 \n",
            " block3_conv1 (Conv2D)       (None, 37, 37, 256)       295168    \n",
            "                                                                 \n",
            " block3_conv2 (Conv2D)       (None, 37, 37, 256)       590080    \n",
            "                                                                 \n",
            " block3_conv3 (Conv2D)       (None, 37, 37, 256)       590080    \n",
            "                                                                 \n",
            " block3_pool (MaxPooling2D)  (None, 18, 18, 256)       0         \n",
            "                                                                 \n",
            " block4_conv1 (Conv2D)       (None, 18, 18, 512)       1180160   \n",
            "                                                                 \n",
            " block4_conv2 (Conv2D)       (None, 18, 18, 512)       2359808   \n",
            "                                                                 \n",
            " block4_conv3 (Conv2D)       (None, 18, 18, 512)       2359808   \n",
            "                                                                 \n",
            " block4_pool (MaxPooling2D)  (None, 9, 9, 512)         0         \n",
            "                                                                 \n",
            " block5_conv1 (Conv2D)       (None, 9, 9, 512)         2359808   \n",
            "                                                                 \n",
            " block5_conv2 (Conv2D)       (None, 9, 9, 512)         2359808   \n",
            "                                                                 \n",
            " block5_conv3 (Conv2D)       (None, 9, 9, 512)         2359808   \n",
            "                                                                 \n",
            " block5_pool (MaxPooling2D)  (None, 4, 4, 512)         0         \n",
            "                                                                 \n",
            "=================================================================\n",
            "Total params: 14714688 (56.13 MB)\n",
            "Trainable params: 14714688 (56.13 MB)\n",
            "Non-trainable params: 0 (0.00 Byte)\n",
            "_________________________________________________________________\n"
          ]
        }
      ],
      "source": [
        "conv_base.summary()"
      ]
    },
    {
      "cell_type": "markdown",
      "metadata": {
        "id": "fnOb7-Htjgzj"
      },
      "source": [
        "This is the architecture of the VGG16 convolutional base. Its is very similar to the simple CNNs that were used in exercises 7 and 8.\n",
        "\n",
        "The final feature map has got a shape of `(4, 4, 512)`. On top of this feature, a densely connected classifier will be sticked.\n",
        "\n",
        "<font color=\"#C70039\">NOTE:</font>At this point, there are two ways you could proceed:\n",
        "\n",
        "1. <font color=\"orange\">possible method A</font>\n",
        "    * running the convolutional base over the entire data set\n",
        "    * recording its output to a numpy array on disk\n",
        "    * then using this data as input to a standalone densely connected classifier\n",
        "\n",
        "This method is very fast and cheap to run because it only requires running the convolutional base once for every input image, and the convolutional base is by far the most expensive part of the pipeline. However, for the exact same reason, this technique would not allow for leveraging data augmentation at all.\n",
        "\n",
        "2. <font color=\"blue\">possible method B</font>\n",
        "    * extending the convolutional base by adding `Dense` layers on top\n",
        "    * then running the whole thing end-to-end on the entire input data.\n",
        "    \n",
        "This method allows for using data augmentation, because every input image is going through the convolutional base every time it is seen by the model. However, for this same reason, this technique is far more expensive than the first one.\n",
        "\n",
        "In this ninth exercise both techniques are shown.\n",
        "\n",
        "-----------------"
      ]
    },
    {
      "cell_type": "markdown",
      "metadata": {
        "id": "l1_2_6wdjgzk"
      },
      "source": [
        "## <font color=\"orange\">method A</font>\n",
        "\n",
        "Let's walk through the code required to set-up the first method A: recording the output of `conv_base` on the data and using these outputs as inputs to a new model.\n",
        "\n",
        "Simply start by running instances of the previously-introduced `ImageDataGenerator()` to extract images as numpy arrays as well as their labels. Then extract the features from these images simply by calling the `predict` method of the `conv_base` model."
      ]
    },
    {
      "cell_type": "code",
      "metadata": {
        "colab": {
          "base_uri": "https://localhost:8080/"
        },
        "id": "FFeUFIsdqaIz",
        "outputId": "ad33c1e4-55a2-49d9-af62-2b740a3cd9ed"
      },
      "source": [
        "from google.colab import drive\n",
        "drive.mount('/content/drive')"
      ],
      "execution_count": null,
      "outputs": [
        {
          "output_type": "stream",
          "name": "stdout",
          "text": [
            "Mounted at /content/drive\n"
          ]
        }
      ]
    },
    {
      "cell_type": "code",
      "metadata": {
        "colab": {
          "base_uri": "https://localhost:8080/"
        },
        "id": "hdxiENx_pyAB",
        "outputId": "7cb65b94-42e2-494a-89b4-2f9a1f41de3e"
      },
      "source": [
        "import os\n",
        "import numpy as np\n",
        "from tensorflow.keras.preprocessing.image import ImageDataGenerator\n",
        "\n",
        "base_dir = '/content/drive/MyDrive/small'\n",
        "\n",
        "train_dir = os.path.join(base_dir, 'train')\n",
        "validation_dir = os.path.join(base_dir, 'validation')\n",
        "test_dir = os.path.join(base_dir, 'test')\n",
        "\n",
        "datagen = ImageDataGenerator(rescale=1./255)\n",
        "batch_size = 20\n",
        "\n",
        "def extract_features(directory, sample_count):\n",
        "    features = np.zeros(shape=(sample_count, 4, 4, 512))\n",
        "    labels = np.zeros(shape=(sample_count))\n",
        "    generator = datagen.flow_from_directory(\n",
        "        directory,\n",
        "        target_size=(150, 150),\n",
        "        batch_size=batch_size,\n",
        "        class_mode='binary')\n",
        "\n",
        "    i = 0\n",
        "\n",
        "    for inputs_batch, labels_batch in generator:\n",
        "        features_batch = conv_base.predict(inputs_batch)\n",
        "        features[i * batch_size : (i + 1) * batch_size] = features_batch\n",
        "        labels[i * batch_size : (i + 1) * batch_size] = labels_batch\n",
        "        i += 1\n",
        "        if i * batch_size >= sample_count:\n",
        "            # Note that since generators yield data indefinitely in a loop,\n",
        "            # we must `break` after every image has been seen once.\n",
        "            break\n",
        "    return features, labels\n",
        "\n",
        "train_features, train_labels = extract_features(train_dir, 2000)\n",
        "validation_features, validation_labels = extract_features(validation_dir, 1000)\n",
        "test_features, test_labels = extract_features(test_dir, 1000)"
      ],
      "execution_count": null,
      "outputs": [
        {
          "output_type": "stream",
          "text": [
            "Found 2000 images belonging to 2 classes.\n",
            "Found 1000 images belonging to 2 classes.\n",
            "Found 1000 images belonging to 2 classes.\n"
          ],
          "name": "stdout"
        }
      ]
    },
    {
      "cell_type": "markdown",
      "metadata": {
        "id": "husg3wKWjgzk"
      },
      "source": [
        "The extracted features are currently of shape `(samples, 4, 4, 512)`. <br>\n",
        "Feed them to a densely connected classifier!<br>\n",
        "Hence, flatten them to `(samples, 8192)`, (reshape into 4x4x512 !!!)"
      ]
    },
    {
      "cell_type": "code",
      "execution_count": null,
      "metadata": {
        "tags": [],
        "id": "v-DikX4-jgzk"
      },
      "outputs": [],
      "source": [
        "train_features = np.reshape(train_features, (2000, 4 * 4 * 512))\n",
        "validation_features = np.reshape(validation_features, (1000, 4 * 4 * 512))\n",
        "test_features = np.reshape(test_features, (1000, 4 * 4 * 512))"
      ]
    },
    {
      "cell_type": "markdown",
      "metadata": {
        "id": "A_M8DZa_jgzk"
      },
      "source": [
        "Now, define a densely (fully) connected classifier and train it on the data and labels that were just recorded. Use 50% dropout as regularization method."
      ]
    },
    {
      "cell_type": "code",
      "metadata": {
        "colab": {
          "base_uri": "https://localhost:8080/"
        },
        "id": "QUvw_O39pyAC",
        "outputId": "bfcb71e9-d4d9-4794-898f-e3cb5931262f"
      },
      "source": [
        "from tensorflow.keras import models\n",
        "from tensorflow.keras import layers\n",
        "from tensorflow.keras import optimizers\n",
        "\n",
        "model = models.Sequential()\n",
        "model.add(layers.Dense(256, activation='relu', input_dim=4 * 4 * 512))\n",
        "model.add(layers.Dropout(0.5))\n",
        "model.add(layers.Dense(1, activation='sigmoid'))\n",
        "\n",
        "# compare the parameters with those from Ex.8\n",
        "model.compile(optimizer=optimizers.RMSprop(lr=2e-5), # set a low learning rate\n",
        "              loss='binary_crossentropy',\n",
        "              metrics=['acc'])\n",
        "\n",
        "# write everything into a history object and set the same hyperparameters from Ex.8\n",
        "# train and validate the FC-ANN in one pass\n",
        "history = model.fit(train_features, train_labels,\n",
        "                    epochs=30,\n",
        "                    batch_size=20,\n",
        "                    validation_data=(validation_features, validation_labels))"
      ],
      "execution_count": null,
      "outputs": [
        {
          "output_type": "stream",
          "text": [
            "Epoch 1/30\n",
            "100/100 [==============================] - 1s 7ms/step - loss: 0.6717 - acc: 0.6063 - val_loss: 0.4351 - val_acc: 0.8310\n",
            "Epoch 2/30\n",
            "100/100 [==============================] - 0s 4ms/step - loss: 0.4595 - acc: 0.8067 - val_loss: 0.3618 - val_acc: 0.8530\n",
            "Epoch 3/30\n",
            "100/100 [==============================] - 0s 4ms/step - loss: 0.3769 - acc: 0.8408 - val_loss: 0.3381 - val_acc: 0.8550\n",
            "Epoch 4/30\n",
            "100/100 [==============================] - 0s 4ms/step - loss: 0.3073 - acc: 0.8801 - val_loss: 0.2977 - val_acc: 0.8870\n",
            "Epoch 5/30\n",
            "100/100 [==============================] - 0s 4ms/step - loss: 0.2805 - acc: 0.8823 - val_loss: 0.2825 - val_acc: 0.8890\n",
            "Epoch 6/30\n",
            "100/100 [==============================] - 0s 4ms/step - loss: 0.2613 - acc: 0.8931 - val_loss: 0.2768 - val_acc: 0.8880\n",
            "Epoch 7/30\n",
            "100/100 [==============================] - 0s 4ms/step - loss: 0.2268 - acc: 0.9116 - val_loss: 0.2603 - val_acc: 0.8900\n",
            "Epoch 8/30\n",
            "100/100 [==============================] - 0s 4ms/step - loss: 0.2128 - acc: 0.9138 - val_loss: 0.2550 - val_acc: 0.8990\n",
            "Epoch 9/30\n",
            "100/100 [==============================] - 0s 4ms/step - loss: 0.2158 - acc: 0.9218 - val_loss: 0.2611 - val_acc: 0.8920\n",
            "Epoch 10/30\n",
            "100/100 [==============================] - 0s 4ms/step - loss: 0.1982 - acc: 0.9238 - val_loss: 0.2469 - val_acc: 0.9010\n",
            "Epoch 11/30\n",
            "100/100 [==============================] - 0s 4ms/step - loss: 0.1929 - acc: 0.9219 - val_loss: 0.2603 - val_acc: 0.8920\n",
            "Epoch 12/30\n",
            "100/100 [==============================] - 0s 5ms/step - loss: 0.1746 - acc: 0.9317 - val_loss: 0.2411 - val_acc: 0.9020\n",
            "Epoch 13/30\n",
            "100/100 [==============================] - 0s 4ms/step - loss: 0.1785 - acc: 0.9338 - val_loss: 0.2446 - val_acc: 0.9030\n",
            "Epoch 14/30\n",
            "100/100 [==============================] - 0s 4ms/step - loss: 0.1629 - acc: 0.9413 - val_loss: 0.2418 - val_acc: 0.9040\n",
            "Epoch 15/30\n",
            "100/100 [==============================] - 0s 4ms/step - loss: 0.1696 - acc: 0.9367 - val_loss: 0.2370 - val_acc: 0.9060\n",
            "Epoch 16/30\n",
            "100/100 [==============================] - 0s 4ms/step - loss: 0.1522 - acc: 0.9529 - val_loss: 0.2416 - val_acc: 0.9030\n",
            "Epoch 17/30\n",
            "100/100 [==============================] - 0s 3ms/step - loss: 0.1481 - acc: 0.9493 - val_loss: 0.2420 - val_acc: 0.9030\n",
            "Epoch 18/30\n",
            "100/100 [==============================] - 0s 4ms/step - loss: 0.1636 - acc: 0.9369 - val_loss: 0.2339 - val_acc: 0.9050\n",
            "Epoch 19/30\n",
            "100/100 [==============================] - 0s 3ms/step - loss: 0.1290 - acc: 0.9605 - val_loss: 0.2377 - val_acc: 0.9020\n",
            "Epoch 20/30\n",
            "100/100 [==============================] - 0s 3ms/step - loss: 0.1371 - acc: 0.9554 - val_loss: 0.2342 - val_acc: 0.9070\n",
            "Epoch 21/30\n",
            "100/100 [==============================] - 0s 3ms/step - loss: 0.1204 - acc: 0.9564 - val_loss: 0.2495 - val_acc: 0.9020\n",
            "Epoch 22/30\n",
            "100/100 [==============================] - 0s 4ms/step - loss: 0.1257 - acc: 0.9528 - val_loss: 0.2395 - val_acc: 0.9050\n",
            "Epoch 23/30\n",
            "100/100 [==============================] - 0s 4ms/step - loss: 0.1061 - acc: 0.9646 - val_loss: 0.2391 - val_acc: 0.9030\n",
            "Epoch 24/30\n",
            "100/100 [==============================] - 0s 4ms/step - loss: 0.1137 - acc: 0.9602 - val_loss: 0.2355 - val_acc: 0.9060\n",
            "Epoch 25/30\n",
            "100/100 [==============================] - 0s 4ms/step - loss: 0.1075 - acc: 0.9623 - val_loss: 0.2489 - val_acc: 0.9010\n",
            "Epoch 26/30\n",
            "100/100 [==============================] - 0s 4ms/step - loss: 0.1058 - acc: 0.9641 - val_loss: 0.2363 - val_acc: 0.9020\n",
            "Epoch 27/30\n",
            "100/100 [==============================] - 0s 4ms/step - loss: 0.0986 - acc: 0.9688 - val_loss: 0.2408 - val_acc: 0.9080\n",
            "Epoch 28/30\n",
            "100/100 [==============================] - 0s 3ms/step - loss: 0.0951 - acc: 0.9716 - val_loss: 0.2407 - val_acc: 0.9070\n",
            "Epoch 29/30\n",
            "100/100 [==============================] - 0s 3ms/step - loss: 0.0944 - acc: 0.9678 - val_loss: 0.2410 - val_acc: 0.9060\n",
            "Epoch 30/30\n",
            "100/100 [==============================] - 0s 4ms/step - loss: 0.0934 - acc: 0.9705 - val_loss: 0.2576 - val_acc: 0.9010\n"
          ],
          "name": "stdout"
        }
      ]
    },
    {
      "cell_type": "markdown",
      "metadata": {
        "id": "TFyVeCWVjgzl"
      },
      "source": [
        "Training is very fast, since it only has got to deal with two dense layers.\n",
        "An epoch takes between two to three seconds to compute on CPU. (on Colab with pure CPU it is going to be slower for sure)<br>\n",
        "Let's have a look at the loss and accuracy curves during training plotting the history object with pyplot."
      ]
    },
    {
      "cell_type": "code",
      "metadata": {
        "colab": {
          "base_uri": "https://localhost:8080/",
          "height": 545
        },
        "id": "-ejXodIHpyAD",
        "outputId": "e7c685c5-4516-4dd6-a25b-32f75366ab50"
      },
      "source": [
        "import matplotlib.pyplot as plt\n",
        "\n",
        "acc = history.history['acc']\n",
        "val_acc = history.history['val_acc']\n",
        "loss = history.history['loss']\n",
        "val_loss = history.history['val_loss']\n",
        "\n",
        "epochs = range(len(acc))\n",
        "\n",
        "plt.plot(epochs, acc, 'bo', label='Training acc')\n",
        "plt.plot(epochs, val_acc, 'b', label='Validation acc')\n",
        "plt.title('Training and validation accuracy')\n",
        "plt.legend()\n",
        "\n",
        "plt.figure()\n",
        "\n",
        "plt.plot(epochs, loss, 'bo', label='Training loss')\n",
        "plt.plot(epochs, val_loss, 'b', label='Validation loss')\n",
        "plt.title('Training and validation loss')\n",
        "plt.legend()\n",
        "\n",
        "plt.show()"
      ],
      "execution_count": null,
      "outputs": [
        {
          "output_type": "display_data",
          "data": {
            "image/png": "[encoded data removed]",
            "text/plain": [
              "<Figure size 432x288 with 1 Axes>"
            ]
          },
          "metadata": {
            "tags": [],
            "needs_background": "light"
          }
        },
        {
          "output_type": "display_data",
          "data": {
            "image/png": "[encoded data removed]",
            "text/plain": [
              "<Figure size 432x288 with 1 Axes>"
            ]
          },
          "metadata": {
            "tags": [],
            "needs_background": "light"
          }
        }
      ]
    },
    {
      "cell_type": "markdown",
      "metadata": {
        "id": "6nfkGtxWjgzl"
      },
      "source": [
        "### result of feature extraction: <font color=\"orange\">method A</font>\n",
        "The models reaches a validation accuracy of about 90% and hence it is much better than what was achieved in the previous, eigth exercise with the small self-build model trained from scratch.\n",
        "However, the plots also indicate that the model starts overfitting almost from start -- despite using dropout with a fairly large rate (Dropout(0.5)).\n",
        "This is because method A does not leverage data augmentation, which is essential to preventing overfitting with small image data sets."
      ]
    },
    {
      "cell_type": "markdown",
      "metadata": {
        "id": "w9y3rGGkjgzl"
      },
      "source": [
        "<font color=\"ce33ff\">TASK 4</font>"
      ]
    },
    {
      "cell_type": "code",
      "metadata": {
        "colab": {
          "base_uri": "https://localhost:8080/"
        },
        "id": "7c1qPSnIpyAE",
        "outputId": "454ba94c-5ae1-4672-eee3-593102acfbfb"
      },
      "source": [
        "\n",
        "model.save('/content/drive/MyDrive/small/ex9_extraction_model.h5')\n",
        "\n",
        "model = models.load_model('/content/drive/MyDrive/small/ex9_extraction_model.h5')\n",
        "\n",
        "model.summary()\n"
      ],
      "execution_count": null,
      "outputs": [
        {
          "output_type": "stream",
          "text": [
            "Model: \"sequential\"\n",
            "_________________________________________________________________\n",
            "Layer (type)                 Output Shape              Param #   \n",
            "=================================================================\n",
            "dense (Dense)                (None, 256)               2097408   \n",
            "_________________________________________________________________\n",
            "dropout (Dropout)            (None, 256)               0         \n",
            "_________________________________________________________________\n",
            "dense_1 (Dense)              (None, 1)                 257       \n",
            "=================================================================\n",
            "Total params: 2,097,665\n",
            "Trainable params: 2,097,665\n",
            "Non-trainable params: 0\n",
            "_________________________________________________________________\n"
          ],
          "name": "stdout"
        }
      ]
    },
    {
      "cell_type": "markdown",
      "metadata": {
        "id": "2K67nLfXjgzl"
      },
      "source": [
        "## <font color=\"green\">method B</font>\n",
        "Now, try the second method (method B) for doing feature extraction, which is much slower and more expensive, but which allows\n",
        "for leveraging `data augmentation` during training: extending the conv_base model and running it end-to-end on the inputs.\n",
        "\n",
        "----------------------------------------\n",
        "\n",
        "<font color=\"#C70039\">IMPORTANT NOTE | IMPORTANT NOTE | IMPORTANT NOTE: </font>Method B is in fact so expensive that you should only try it if you have access to a GPU: it lasts a really long time on CPU. So either you have access to a really powerful GPU (I have not tested it on Google Colab with GPU support yet) or if not, and you cannot run your code on a GPU, then the previous method A is your way to go.\n",
        "\n",
        "<font color=\"ce33ff\">Just to give you an idea:</font> My virtual machine at the institute has got only CPU support (but ordentlich Wumms!!! as you can see from the following configuration) and it lasts for about 55 minutes to train and validate 30 epochs.\n",
        "\n",
        "<img src=\"./system.png\" style=\"float: center;\" width=\"600\">\n",
        "\n",
        "It would be fun to see and test, for how long it lasts to train and validate an epoch in Google's Colab (I have not done that yet).\n",
        "\n",
        "Nevertheless, this exercise shows the way method B is implemented, so you will be introduced to it and know how to use it somewhen later. Try it youself, if you are brave enough :-)\n",
        "\n",
        "----------------------------------------"
      ]
    },
    {
      "cell_type": "markdown",
      "metadata": {
        "id": "n9majbsSjgzl"
      },
      "source": [
        "Because models behave just like layers, a model (like the `conv_base`) can be added to a `Sequential` model just like adding a layer. So doing it the following way, is the way to go."
      ]
    },
    {
      "cell_type": "code",
      "execution_count": null,
      "metadata": {
        "tags": [],
        "id": "8ApXtFrmjgzl"
      },
      "outputs": [],
      "source": [
        "from tensorflow.keras import models\n",
        "from tensorflow.keras import layers\n",
        "\n",
        "model = models.Sequential()\n",
        "model.add(conv_base)\n",
        "model.add(layers.Flatten())\n",
        "model.add(layers.Dense(256, activation='relu'))\n",
        "model.add(layers.Dense(1, activation='sigmoid'))"
      ]
    },
    {
      "cell_type": "markdown",
      "metadata": {
        "id": "1wBVUrlnjgzl"
      },
      "source": [
        "This was pretty straight forward and this is what the model looks like now"
      ]
    },
    {
      "cell_type": "code",
      "execution_count": null,
      "metadata": {
        "tags": [],
        "colab": {
          "base_uri": "https://localhost:8080/"
        },
        "id": "Hz7mKMbcjgzm",
        "outputId": "d3a6b026-60de-4e5e-baca-e4f7011b52e3"
      },
      "outputs": [
        {
          "output_type": "stream",
          "name": "stdout",
          "text": [
            "Model: \"sequential\"\n",
            "_________________________________________________________________\n",
            " Layer (type)                Output Shape              Param #   \n",
            "=================================================================\n",
            " vgg16 (Functional)          (None, 4, 4, 512)         14714688  \n",
            "                                                                 \n",
            " flatten (Flatten)           (None, 8192)              0         \n",
            "                                                                 \n",
            " dense (Dense)               (None, 256)               2097408   \n",
            "                                                                 \n",
            " dense_1 (Dense)             (None, 1)                 257       \n",
            "                                                                 \n",
            "=================================================================\n",
            "Total params: 16812353 (64.13 MB)\n",
            "Trainable params: 16812353 (64.13 MB)\n",
            "Non-trainable params: 0 (0.00 Byte)\n",
            "_________________________________________________________________\n"
          ]
        }
      ],
      "source": [
        "model.summary()"
      ]
    },
    {
      "cell_type": "markdown",
      "metadata": {
        "id": "OxDzo2OHjgzm"
      },
      "source": [
        "Now, it becomes obvious that the VGG16 is fairly large with a convolutional base of 14.714.688 parameters.\n",
        "The classifier we are adding on top has got additional 2 million parameters.\n",
        "\n",
        "Before compiling and training the new model, a very important thing to do is to `freeze` the convolutional base. **Freezing** a layer or set of layers means preventing their weights from getting updated during training again, since they are already trained, right. If this is forgotten, then the representations that were previously learned by the convolutional base would get modified (forgotten) during training.\n",
        "Since the dense layers on top are randomly initialized, very large weight updates would be propagated through the network, effectively destroying the representations previously learned.\n",
        "\n",
        "In Keras, freezing a network is simply done by setting its `trainable` attribute to `False`:"
      ]
    },
    {
      "cell_type": "code",
      "metadata": {
        "colab": {
          "base_uri": "https://localhost:8080/"
        },
        "id": "N8TU-Jg3pyAG",
        "outputId": "905e54aa-2e24-49c3-e1a3-11845a533915"
      },
      "source": [
        "conv_base.trainable = True # should be the default setting\n",
        "\n",
        "print('This is the number of trainable weight tensors '\n",
        "      '\\033[4mbefore\\033[0m freezing the conv_base:', len(model.trainable_weights))\n",
        "\n",
        "# now freeze it\n",
        "conv_base.trainable = False\n",
        "\n",
        "print('This is the number of trainable weight tensors '\n",
        "      '\\033[4mafter\\033[0m freezing the conv_base:', len(model.trainable_weights))"
      ],
      "execution_count": null,
      "outputs": [
        {
          "output_type": "stream",
          "text": [
            "This is the number of trainable weight tensors \u001b[4mbefore\u001b[0m freezing the conv_base: 30\n",
            "This is the number of trainable weight tensors \u001b[4mafter\u001b[0m freezing the conv_base: 4\n"
          ],
          "name": "stdout"
        }
      ]
    },
    {
      "cell_type": "markdown",
      "metadata": {
        "id": "CSeaKgBOjgzm"
      },
      "source": [
        "Now, only the weights from the two dense layers will be trained which is a total of four weight tensors - two per layer (the main weight matrix and the bias vector).\n",
        "\n",
        "<font color=\"#C70039\">IMPORTANT NOTE:</font>\n",
        "\n",
        "* in order for these changes to take effect, first compile the model.\n",
        "* if weight trainability is ever modified after compilation, then the model must be re-compiled or these changes will be ignored.\n",
        "\n",
        "Finally, start training the model with the same data augmentation configuration that was used in exercise 8."
      ]
    },
    {
      "cell_type": "code",
      "metadata": {
        "colab": {
          "base_uri": "https://localhost:8080/"
        },
        "id": "wA5G63xOpyAI",
        "outputId": "d533e499-f3f6-4fc1-9d57-e36b1e171531"
      },
      "source": [
        "from tensorflow.keras.preprocessing.image import ImageDataGenerator\n",
        "\n",
        "train_datagen = ImageDataGenerator(\n",
        "      rescale=1./255,\n",
        "      rotation_range=40,\n",
        "      width_shift_range=0.2,\n",
        "      height_shift_range=0.2,\n",
        "      shear_range=0.2,\n",
        "      zoom_range=0.2,\n",
        "      horizontal_flip=True,\n",
        "      fill_mode='nearest')\n",
        "\n",
        "# Note again, that the validation data should not be augmented!\n",
        "test_datagen = ImageDataGenerator(rescale=1./255)\n",
        "\n",
        "train_generator = train_datagen.flow_from_directory(\n",
        "        train_dir,\n",
        "        target_size=(150, 150),\n",
        "        batch_size=20,\n",
        "        class_mode='binary')\n",
        "\n",
        "validation_generator = test_datagen.flow_from_directory(\n",
        "        validation_dir,\n",
        "        target_size=(150, 150),\n",
        "        batch_size=20,\n",
        "        class_mode='binary')\n",
        "\n",
        "model.compile(loss='binary_crossentropy',\n",
        "              optimizer=optimizers.RMSprop(lr=2e-5),\n",
        "              metrics=['acc'])\n",
        "\n",
        "history = model.fit(\n",
        "      train_generator,\n",
        "      steps_per_epoch=100,\n",
        "      epochs=30,\n",
        "      validation_data=validation_generator,\n",
        "      validation_steps=50,\n",
        "      verbose=2)"
      ],
      "execution_count": null,
      "outputs": [
        {
          "output_type": "stream",
          "text": [
            "Found 2000 images belonging to 2 classes.\n",
            "Found 1000 images belonging to 2 classes.\n",
            "Epoch 1/30\n",
            "100/100 - 22s - loss: 0.6176 - acc: 0.6735 - val_loss: 0.4710 - val_acc: 0.8200\n",
            "Epoch 2/30\n",
            "100/100 - 21s - loss: 0.4821 - acc: 0.7885 - val_loss: 0.3771 - val_acc: 0.8610\n",
            "Epoch 3/30\n",
            "100/100 - 21s - loss: 0.4344 - acc: 0.8140 - val_loss: 0.3447 - val_acc: 0.8660\n",
            "Epoch 4/30\n",
            "100/100 - 20s - loss: 0.4073 - acc: 0.8275 - val_loss: 0.3170 - val_acc: 0.8770\n",
            "Epoch 5/30\n",
            "100/100 - 20s - loss: 0.3884 - acc: 0.8290 - val_loss: 0.3306 - val_acc: 0.8450\n",
            "Epoch 6/30\n",
            "100/100 - 21s - loss: 0.3684 - acc: 0.8410 - val_loss: 0.3039 - val_acc: 0.8710\n",
            "Epoch 7/30\n",
            "100/100 - 20s - loss: 0.3543 - acc: 0.8440 - val_loss: 0.2844 - val_acc: 0.8860\n",
            "Epoch 8/30\n",
            "100/100 - 20s - loss: 0.3573 - acc: 0.8460 - val_loss: 0.2773 - val_acc: 0.8910\n",
            "Epoch 9/30\n",
            "100/100 - 20s - loss: 0.3435 - acc: 0.8430 - val_loss: 0.2712 - val_acc: 0.8930\n",
            "Epoch 10/30\n",
            "100/100 - 20s - loss: 0.3354 - acc: 0.8500 - val_loss: 0.2781 - val_acc: 0.8790\n",
            "Epoch 11/30\n",
            "100/100 - 20s - loss: 0.3344 - acc: 0.8575 - val_loss: 0.2624 - val_acc: 0.8920\n",
            "Epoch 12/30\n",
            "100/100 - 20s - loss: 0.3225 - acc: 0.8545 - val_loss: 0.2608 - val_acc: 0.8960\n",
            "Epoch 13/30\n",
            "100/100 - 20s - loss: 0.3196 - acc: 0.8610 - val_loss: 0.2572 - val_acc: 0.8950\n",
            "Epoch 14/30\n",
            "100/100 - 20s - loss: 0.3176 - acc: 0.8570 - val_loss: 0.2533 - val_acc: 0.8940\n",
            "Epoch 15/30\n",
            "100/100 - 21s - loss: 0.3162 - acc: 0.8620 - val_loss: 0.2525 - val_acc: 0.8980\n",
            "Epoch 16/30\n",
            "100/100 - 21s - loss: 0.3086 - acc: 0.8665 - val_loss: 0.2551 - val_acc: 0.8930\n",
            "Epoch 17/30\n",
            "100/100 - 20s - loss: 0.3109 - acc: 0.8625 - val_loss: 0.2496 - val_acc: 0.9030\n",
            "Epoch 18/30\n",
            "100/100 - 20s - loss: 0.3228 - acc: 0.8605 - val_loss: 0.2495 - val_acc: 0.9000\n",
            "Epoch 19/30\n",
            "100/100 - 20s - loss: 0.3149 - acc: 0.8670 - val_loss: 0.2473 - val_acc: 0.9040\n",
            "Epoch 20/30\n",
            "100/100 - 20s - loss: 0.3016 - acc: 0.8675 - val_loss: 0.2488 - val_acc: 0.8960\n",
            "Epoch 21/30\n",
            "100/100 - 20s - loss: 0.3005 - acc: 0.8625 - val_loss: 0.2455 - val_acc: 0.8960\n",
            "Epoch 22/30\n",
            "100/100 - 20s - loss: 0.3033 - acc: 0.8670 - val_loss: 0.2442 - val_acc: 0.9030\n",
            "Epoch 23/30\n",
            "100/100 - 20s - loss: 0.2908 - acc: 0.8735 - val_loss: 0.2502 - val_acc: 0.8970\n",
            "Epoch 24/30\n",
            "100/100 - 20s - loss: 0.2993 - acc: 0.8750 - val_loss: 0.2481 - val_acc: 0.9050\n",
            "Epoch 25/30\n",
            "100/100 - 20s - loss: 0.2943 - acc: 0.8745 - val_loss: 0.2514 - val_acc: 0.9010\n",
            "Epoch 26/30\n",
            "100/100 - 20s - loss: 0.2881 - acc: 0.8795 - val_loss: 0.2461 - val_acc: 0.8960\n",
            "Epoch 27/30\n",
            "100/100 - 20s - loss: 0.2858 - acc: 0.8715 - val_loss: 0.2440 - val_acc: 0.9060\n",
            "Epoch 28/30\n",
            "100/100 - 20s - loss: 0.2775 - acc: 0.8790 - val_loss: 0.2435 - val_acc: 0.9020\n",
            "Epoch 29/30\n",
            "100/100 - 20s - loss: 0.2887 - acc: 0.8720 - val_loss: 0.2510 - val_acc: 0.9040\n",
            "Epoch 30/30\n",
            "100/100 - 21s - loss: 0.2811 - acc: 0.8800 - val_loss: 0.2492 - val_acc: 0.9050\n"
          ],
          "name": "stdout"
        }
      ]
    },
    {
      "cell_type": "code",
      "execution_count": null,
      "metadata": {
        "tags": [],
        "id": "2q-e-CJhjgzm"
      },
      "outputs": [],
      "source": [
        "model.save('CatDogClass_pretrained_CNN_FeatExtraction_using_data_augmentation.h5')"
      ]
    },
    {
      "cell_type": "code",
      "execution_count": null,
      "metadata": {
        "tags": [],
        "id": "XZoxAH7hjgzm"
      },
      "outputs": [],
      "source": [
        "# dump the history object to a file using pickle\n",
        "import pickle\n",
        "\n",
        "class History_trained_model(object):\n",
        "    def __init__(self, history, epoch, params):\n",
        "        self.history = history\n",
        "        self.epoch = epoch\n",
        "        self.params = params\n",
        "\n",
        "with open('/content/drive/MyDrive/CatDogClass_pretrained_CNN_FeatExtraction_using_data_augmentation_history', 'wb') as file:\n",
        "  model_history = History_trained_model(history.history, history.epoch, history.params)\n",
        "  pickle.dump(model_history, file, pickle.HIGHEST_PROTOCOL)"
      ]
    },
    {
      "cell_type": "markdown",
      "metadata": {
        "id": "WC0NmLNxjgzm"
      },
      "source": [
        "<font color=\"ce33ff\">TASKS 5 and 6</font>"
      ]
    },
    {
      "cell_type": "code",
      "metadata": {
        "colab": {
          "base_uri": "https://localhost:8080/"
        },
        "id": "8JfUdl49pyAJ",
        "outputId": "ae7de76f-4599-4988-a413-89a96109ec8b"
      },
      "source": [
        "# add your code here\n",
        "import pickle\n",
        "model = models.load_model('/content/drive/MyDrive/CatDogClass_pretrained_CNN_FeatExtraction_using_data_augmentation.h5')\n",
        "print(model.summary())\n",
        "\n",
        "#then, after you loaded the model,\n",
        "#take the validation data set and validate it using a history object,\n",
        "#take the history object and plot the validaton results using pyplot.\n",
        "class History_trained_model(object):\n",
        "  def __init__(self, history, epoch, params):\n",
        "    self.history = history\n",
        "    self.epoch = epoch\n",
        "    self.params = params\n",
        "\n",
        "with open('/content/drive/MyDrive/CatDogClass_pretrained_CNN_FeatExtraction_using_data_augmentation_history', 'wb') as file:\n",
        "  model_history = History_trained_model(history.history, history.epoch, history.params)\n",
        "  pickle.dump(model_history, file, pickle.HIGHEST_PROTOCOL)\n",
        "\n",
        "with open('/content/drive/MyDrive/CatDogClass_pretrained_CNN_FeatExtraction_using_data_augmentation_history', 'rb') as file:\n",
        "  history = pickle.load(file)\n"
      ],
      "execution_count": null,
      "outputs": [
        {
          "output_type": "stream",
          "text": [
            "Model: \"sequential_1\"\n",
            "_________________________________________________________________\n",
            "Layer (type)                 Output Shape              Param #   \n",
            "=================================================================\n",
            "vgg16 (Functional)           (None, 4, 4, 512)         14714688  \n",
            "_________________________________________________________________\n",
            "flatten (Flatten)            (None, 8192)              0         \n",
            "_________________________________________________________________\n",
            "dense_2 (Dense)              (None, 256)               2097408   \n",
            "_________________________________________________________________\n",
            "dense_3 (Dense)              (None, 1)                 257       \n",
            "=================================================================\n",
            "Total params: 16,812,353\n",
            "Trainable params: 2,097,665\n",
            "Non-trainable params: 14,714,688\n",
            "_________________________________________________________________\n",
            "None\n"
          ],
          "name": "stdout"
        }
      ]
    },
    {
      "cell_type": "markdown",
      "metadata": {
        "id": "utIPQjP8jgzn"
      },
      "source": [
        "Plot the results again."
      ]
    },
    {
      "cell_type": "code",
      "metadata": {
        "colab": {
          "base_uri": "https://localhost:8080/",
          "height": 545
        },
        "id": "RImelVfrpyAK",
        "outputId": "edfe9411-895b-4ef9-d65e-aba6387fd560"
      },
      "source": [
        "acc = history.history['acc']\n",
        "val_acc = history.history['val_acc']\n",
        "loss = history.history['loss']\n",
        "val_loss = history.history['val_loss']\n",
        "\n",
        "epochs = range(len(acc))\n",
        "\n",
        "plt.plot(epochs, acc, 'bo', label='Training acc')\n",
        "plt.plot(epochs, val_acc, 'b', label='Validation acc')\n",
        "plt.title('Training and validation accuracy')\n",
        "plt.legend()\n",
        "\n",
        "plt.figure()\n",
        "\n",
        "plt.plot(epochs, loss, 'bo', label='Training loss')\n",
        "plt.plot(epochs, val_loss, 'b', label='Validation loss')\n",
        "plt.title('Training and validation loss')\n",
        "plt.legend()\n",
        "\n",
        "plt.show()"
      ],
      "execution_count": null,
      "outputs": [
        {
          "output_type": "display_data",
          "data": {
            "image/png": "[encoded data removed]",
            "text/plain": [
              "<Figure size 432x288 with 1 Axes>"
            ]
          },
          "metadata": {
            "tags": [],
            "needs_background": "light"
          }
        },
        {
          "output_type": "display_data",
          "data": {
            "image/png": "[encoded data removed]",
            "text/plain": [
              "<Figure size 432x288 with 1 Axes>"
            ]
          },
          "metadata": {
            "tags": [],
            "needs_background": "light"
          }
        }
      ]
    },
    {
      "cell_type": "markdown",
      "metadata": {
        "id": "eUX6o1STjgzn"
      },
      "source": [
        "### result of feature extraction: <font color=\"green\">method B</font>\n",
        "\n",
        "Double BAMM! This is a much higher validation accuracy using data augmentation and so it is much better than the small CNN trained from scratch."
      ]
    },
    {
      "cell_type": "markdown",
      "metadata": {
        "id": "amr477yxjgzn"
      },
      "source": [
        "---------------------------\n",
        "---------------------------\n",
        "\n",
        "## <font color=\"#C70039\">PART II</font>\n",
        "### building a CNN by using a pre-trained CNN with fine-tuning\n",
        "\n",
        "Complementary to *feature extraction*, is the so-called _fine-tuning_.<br>\n",
        "Fine-tuning consists in unfreezing a few of the top layers of a frozen model base used for feature extraction, and jointly training both, the newly added part of the model (in this case, the densely (fully) connected classifier) and these top layers.\n",
        "It is called `fine-tuning`, because it slightly adjusts the more abstract representations of the model being reused, in order to make them more relevant for the problem at hand.\n",
        "\n",
        "------"
      ]
    },
    {
      "cell_type": "markdown",
      "metadata": {
        "id": "M5R6elD4jgzn"
      },
      "source": [
        "We have stated before that it was necessary to freeze the convolution base of VGG16 in order to be able to train a randomly initialized classifier on top. For the same reason, it is only possible to fine-tune the top layers of the convolutional base once the classifier on top has already been trained. If the classifier wasn't already trained, then the error signal propagating through the network during training would become too large, and the representations previously learned by the layers being fine-tuned would get destroyed. Thus, the steps for fine-tuning a network are as follows<br>\n",
        "(see page 257 of slides `DIS21a.1-9.Convolutional.NeuralNetworks.pdf`):\n",
        "\n",
        "1. Add your custom network on top of an already trained base network.\n",
        "2. Freeze the base network.\n",
        "3. Train the part you added.\n",
        "4. Unfreeze some layers in the base network.\n",
        "5. Jointly train both these layers and the part you added.\n",
        "\n",
        "The first 3 steps are already completed when you did feature extraction. Thus proceed with the 4th step, unfreeze the `conv_base`, and then freeze individual layers inside of it.\n",
        "\n",
        "As a reminder, this is what the convolutional base looks like:"
      ]
    },
    {
      "cell_type": "code",
      "metadata": {
        "colab": {
          "base_uri": "https://localhost:8080/"
        },
        "id": "WmqwhkhqpyAM",
        "outputId": "d9e7477d-f8e5-45dc-c196-6b2a6c197436"
      },
      "source": [
        "conv_base.summary()"
      ],
      "execution_count": null,
      "outputs": [
        {
          "output_type": "stream",
          "text": [
            "Model: \"vgg16\"\n",
            "_________________________________________________________________\n",
            "Layer (type)                 Output Shape              Param #   \n",
            "=================================================================\n",
            "input_1 (InputLayer)         [(None, 150, 150, 3)]     0         \n",
            "_________________________________________________________________\n",
            "block1_conv1 (Conv2D)        (None, 150, 150, 64)      1792      \n",
            "_________________________________________________________________\n",
            "block1_conv2 (Conv2D)        (None, 150, 150, 64)      36928     \n",
            "_________________________________________________________________\n",
            "block1_pool (MaxPooling2D)   (None, 75, 75, 64)        0         \n",
            "_________________________________________________________________\n",
            "block2_conv1 (Conv2D)        (None, 75, 75, 128)       73856     \n",
            "_________________________________________________________________\n",
            "block2_conv2 (Conv2D)        (None, 75, 75, 128)       147584    \n",
            "_________________________________________________________________\n",
            "block2_pool (MaxPooling2D)   (None, 37, 37, 128)       0         \n",
            "_________________________________________________________________\n",
            "block3_conv1 (Conv2D)        (None, 37, 37, 256)       295168    \n",
            "_________________________________________________________________\n",
            "block3_conv2 (Conv2D)        (None, 37, 37, 256)       590080    \n",
            "_________________________________________________________________\n",
            "block3_conv3 (Conv2D)        (None, 37, 37, 256)       590080    \n",
            "_________________________________________________________________\n",
            "block3_pool (MaxPooling2D)   (None, 18, 18, 256)       0         \n",
            "_________________________________________________________________\n",
            "block4_conv1 (Conv2D)        (None, 18, 18, 512)       1180160   \n",
            "_________________________________________________________________\n",
            "block4_conv2 (Conv2D)        (None, 18, 18, 512)       2359808   \n",
            "_________________________________________________________________\n",
            "block4_conv3 (Conv2D)        (None, 18, 18, 512)       2359808   \n",
            "_________________________________________________________________\n",
            "block4_pool (MaxPooling2D)   (None, 9, 9, 512)         0         \n",
            "_________________________________________________________________\n",
            "block5_conv1 (Conv2D)        (None, 9, 9, 512)         2359808   \n",
            "_________________________________________________________________\n",
            "block5_conv2 (Conv2D)        (None, 9, 9, 512)         2359808   \n",
            "_________________________________________________________________\n",
            "block5_conv3 (Conv2D)        (None, 9, 9, 512)         2359808   \n",
            "_________________________________________________________________\n",
            "block5_pool (MaxPooling2D)   (None, 4, 4, 512)         0         \n",
            "=================================================================\n",
            "Total params: 14,714,688\n",
            "Trainable params: 0\n",
            "Non-trainable params: 14,714,688\n",
            "_________________________________________________________________\n"
          ],
          "name": "stdout"
        }
      ]
    },
    {
      "cell_type": "markdown",
      "metadata": {
        "id": "2p8vcP8bjgzv"
      },
      "source": [
        "\n",
        "The last 3 convolutional layers will be fine-tuned, which means that all layers up until `block4_pool` should be frozen, and the layers `block5_conv1`, `block5_conv2` and `block5_conv3` should set to be trainable.\n",
        "\n",
        "<font color=\"#C70039\">NOTE:</font> the question would come up, why not fine-tune more layers?\n",
        "Why not fine-tune the entire convolutional base? Obviously you could decide to do that, however, before you are starting this entirely new training, consider the following:\n",
        "\n",
        "* Earlier layers in the convolutional base encode more generic, reusable features, while layers higher up encode more specialized features. It is more useful to fine-tune the more specialized features as these are the ones that need to be repurposed on the new problem at hand. There would be fast-decreasing returns in fine-tuning lower layers.\n",
        "\n",
        "* The more parameters are trained, the more the model is at risk of overfitting. The convolutional base has got 15 million parameters, hence, it would be risky to attempt to train it on the small dataset.\n",
        "\n",
        "Thus, in the current situation it is a pretty good strategy to only fine-tune the top 2 to 3 layers in the convolutional base.\n",
        "\n",
        "So, do continue where you stopped in the previous example."
      ]
    },
    {
      "cell_type": "code",
      "execution_count": null,
      "metadata": {
        "tags": [],
        "id": "E_LGLluXjgzv"
      },
      "outputs": [],
      "source": [
        "conv_base.trainable = True\n",
        "set_trainable = False\n",
        "\n",
        "for layer in conv_base.layers:\n",
        "    if layer.name == 'block5_conv1':\n",
        "        set_trainable = True\n",
        "    if set_trainable:\n",
        "        layer.trainable = True\n",
        "    else:\n",
        "        layer.trainable = False"
      ]
    },
    {
      "cell_type": "markdown",
      "metadata": {
        "id": "E0pnRJKyjgzv"
      },
      "source": [
        "Now we can start fine-tuning our network. We will do this with the RMSprop optimizer, using a very low learning rate. The reason for using\n",
        "a low learning rate is that we want to limit the magnitude of the modifications we make to the representations of the 3 layers that we are\n",
        "fine-tuning. Updates that are too large may harm these representations.\n",
        "\n",
        "Now let's proceed with fine-tuning:"
      ]
    },
    {
      "cell_type": "code",
      "metadata": {
        "colab": {
          "base_uri": "https://localhost:8080/"
        },
        "id": "4XKshfx4pyAN",
        "outputId": "3cd44df4-3e6b-45cd-f8f0-12cae90be62a"
      },
      "source": [
        "model.compile(loss='binary_crossentropy',\n",
        "              optimizer=optimizers.RMSprop(lr=1e-5),\n",
        "              metrics=['acc'])\n",
        "\n",
        "history = model.fit(\n",
        "      train_generator,\n",
        "      steps_per_epoch=100,\n",
        "      epochs=100,\n",
        "      validation_data=validation_generator,\n",
        "      validation_steps=50)"
      ],
      "execution_count": null,
      "outputs": [
        {
          "output_type": "stream",
          "text": [
            "Epoch 1/100\n",
            "100/100 [==============================] - 22s 212ms/step - loss: 0.2985 - acc: 0.8606 - val_loss: 0.2445 - val_acc: 0.9050\n",
            "Epoch 2/100\n",
            "100/100 [==============================] - 21s 209ms/step - loss: 0.2711 - acc: 0.8811 - val_loss: 0.2463 - val_acc: 0.9010\n",
            "Epoch 3/100\n",
            "100/100 [==============================] - 21s 207ms/step - loss: 0.2489 - acc: 0.8910 - val_loss: 0.2454 - val_acc: 0.9040\n",
            "Epoch 4/100\n",
            "100/100 [==============================] - 21s 207ms/step - loss: 0.2962 - acc: 0.8675 - val_loss: 0.2425 - val_acc: 0.9010\n",
            "Epoch 5/100\n",
            "100/100 [==============================] - 21s 210ms/step - loss: 0.2581 - acc: 0.8955 - val_loss: 0.2429 - val_acc: 0.9000\n",
            "Epoch 6/100\n",
            "100/100 [==============================] - 21s 212ms/step - loss: 0.2633 - acc: 0.8807 - val_loss: 0.2425 - val_acc: 0.9010\n",
            "Epoch 7/100\n",
            "100/100 [==============================] - 21s 208ms/step - loss: 0.2899 - acc: 0.8763 - val_loss: 0.2421 - val_acc: 0.9080\n",
            "Epoch 8/100\n",
            "100/100 [==============================] - 21s 207ms/step - loss: 0.2799 - acc: 0.8860 - val_loss: 0.2413 - val_acc: 0.8980\n",
            "Epoch 9/100\n",
            "100/100 [==============================] - 21s 207ms/step - loss: 0.2902 - acc: 0.8795 - val_loss: 0.2447 - val_acc: 0.9030\n",
            "Epoch 10/100\n",
            "100/100 [==============================] - 21s 207ms/step - loss: 0.2677 - acc: 0.8903 - val_loss: 0.2394 - val_acc: 0.9050\n",
            "Epoch 11/100\n",
            "100/100 [==============================] - 21s 206ms/step - loss: 0.2792 - acc: 0.8639 - val_loss: 0.2401 - val_acc: 0.9040\n",
            "Epoch 12/100\n",
            "100/100 [==============================] - 21s 206ms/step - loss: 0.2722 - acc: 0.8806 - val_loss: 0.2394 - val_acc: 0.9050\n",
            "Epoch 13/100\n",
            "100/100 [==============================] - 21s 206ms/step - loss: 0.2576 - acc: 0.8872 - val_loss: 0.2408 - val_acc: 0.8980\n",
            "Epoch 14/100\n",
            "100/100 [==============================] - 21s 206ms/step - loss: 0.2635 - acc: 0.8851 - val_loss: 0.2380 - val_acc: 0.9030\n",
            "Epoch 15/100\n",
            "100/100 [==============================] - 20s 205ms/step - loss: 0.2707 - acc: 0.8763 - val_loss: 0.2386 - val_acc: 0.9040\n",
            "Epoch 16/100\n",
            "100/100 [==============================] - 21s 206ms/step - loss: 0.2837 - acc: 0.8710 - val_loss: 0.2390 - val_acc: 0.9060\n",
            "Epoch 17/100\n",
            "100/100 [==============================] - 20s 204ms/step - loss: 0.2657 - acc: 0.8882 - val_loss: 0.2396 - val_acc: 0.9020\n",
            "Epoch 18/100\n",
            "100/100 [==============================] - 21s 205ms/step - loss: 0.2672 - acc: 0.8933 - val_loss: 0.2423 - val_acc: 0.9050\n",
            "Epoch 19/100\n",
            "100/100 [==============================] - 21s 205ms/step - loss: 0.2840 - acc: 0.8800 - val_loss: 0.2386 - val_acc: 0.9050\n",
            "Epoch 20/100\n",
            "100/100 [==============================] - 20s 205ms/step - loss: 0.2501 - acc: 0.8956 - val_loss: 0.2386 - val_acc: 0.9060\n",
            "Epoch 21/100\n",
            "100/100 [==============================] - 21s 211ms/step - loss: 0.2791 - acc: 0.8700 - val_loss: 0.2396 - val_acc: 0.9010\n",
            "Epoch 22/100\n",
            "100/100 [==============================] - 20s 204ms/step - loss: 0.2728 - acc: 0.8957 - val_loss: 0.2390 - val_acc: 0.9030\n",
            "Epoch 23/100\n",
            "100/100 [==============================] - 20s 205ms/step - loss: 0.2694 - acc: 0.8879 - val_loss: 0.2404 - val_acc: 0.9020\n",
            "Epoch 24/100\n",
            "100/100 [==============================] - 21s 206ms/step - loss: 0.2661 - acc: 0.8851 - val_loss: 0.2407 - val_acc: 0.9040\n",
            "Epoch 25/100\n",
            "100/100 [==============================] - 20s 205ms/step - loss: 0.2584 - acc: 0.8975 - val_loss: 0.2410 - val_acc: 0.9040\n",
            "Epoch 26/100\n",
            "100/100 [==============================] - 20s 204ms/step - loss: 0.2485 - acc: 0.9000 - val_loss: 0.2403 - val_acc: 0.9060\n",
            "Epoch 27/100\n",
            "100/100 [==============================] - 20s 204ms/step - loss: 0.2699 - acc: 0.8839 - val_loss: 0.2465 - val_acc: 0.9020\n",
            "Epoch 28/100\n",
            "100/100 [==============================] - 20s 203ms/step - loss: 0.2678 - acc: 0.8968 - val_loss: 0.2394 - val_acc: 0.9030\n",
            "Epoch 29/100\n",
            "100/100 [==============================] - 21s 207ms/step - loss: 0.2482 - acc: 0.9020 - val_loss: 0.2394 - val_acc: 0.9030\n",
            "Epoch 30/100\n",
            "100/100 [==============================] - 21s 206ms/step - loss: 0.2583 - acc: 0.8845 - val_loss: 0.2472 - val_acc: 0.8980\n",
            "Epoch 31/100\n",
            "100/100 [==============================] - 21s 210ms/step - loss: 0.2695 - acc: 0.8868 - val_loss: 0.2457 - val_acc: 0.8980\n",
            "Epoch 32/100\n",
            "100/100 [==============================] - 21s 210ms/step - loss: 0.2572 - acc: 0.8812 - val_loss: 0.2399 - val_acc: 0.9020\n",
            "Epoch 33/100\n",
            "100/100 [==============================] - 21s 207ms/step - loss: 0.2531 - acc: 0.9038 - val_loss: 0.2414 - val_acc: 0.9020\n",
            "Epoch 34/100\n",
            "100/100 [==============================] - 21s 207ms/step - loss: 0.2294 - acc: 0.9100 - val_loss: 0.2403 - val_acc: 0.9050\n",
            "Epoch 35/100\n",
            "100/100 [==============================] - 21s 206ms/step - loss: 0.2647 - acc: 0.8832 - val_loss: 0.2401 - val_acc: 0.9070\n",
            "Epoch 36/100\n",
            "100/100 [==============================] - 21s 210ms/step - loss: 0.2641 - acc: 0.8858 - val_loss: 0.2384 - val_acc: 0.9080\n",
            "Epoch 37/100\n",
            "100/100 [==============================] - 21s 207ms/step - loss: 0.2582 - acc: 0.8965 - val_loss: 0.2425 - val_acc: 0.9030\n",
            "Epoch 38/100\n",
            "100/100 [==============================] - 20s 204ms/step - loss: 0.2648 - acc: 0.8766 - val_loss: 0.2410 - val_acc: 0.9070\n",
            "Epoch 39/100\n",
            "100/100 [==============================] - 21s 208ms/step - loss: 0.2686 - acc: 0.8836 - val_loss: 0.2448 - val_acc: 0.9030\n",
            "Epoch 40/100\n",
            "100/100 [==============================] - 21s 209ms/step - loss: 0.2678 - acc: 0.8756 - val_loss: 0.2400 - val_acc: 0.9050\n",
            "Epoch 41/100\n",
            "100/100 [==============================] - 21s 208ms/step - loss: 0.2504 - acc: 0.8937 - val_loss: 0.2500 - val_acc: 0.8990\n",
            "Epoch 42/100\n",
            "100/100 [==============================] - 21s 206ms/step - loss: 0.2504 - acc: 0.8937 - val_loss: 0.2450 - val_acc: 0.9030\n",
            "Epoch 43/100\n",
            "100/100 [==============================] - 21s 207ms/step - loss: 0.2341 - acc: 0.9011 - val_loss: 0.2388 - val_acc: 0.9090\n",
            "Epoch 44/100\n",
            "100/100 [==============================] - 21s 211ms/step - loss: 0.2562 - acc: 0.8909 - val_loss: 0.2381 - val_acc: 0.9080\n",
            "Epoch 45/100\n",
            "100/100 [==============================] - 21s 208ms/step - loss: 0.2507 - acc: 0.8942 - val_loss: 0.2376 - val_acc: 0.9100\n",
            "Epoch 46/100\n",
            "100/100 [==============================] - 21s 208ms/step - loss: 0.2452 - acc: 0.8963 - val_loss: 0.2408 - val_acc: 0.9070\n",
            "Epoch 47/100\n",
            "100/100 [==============================] - 21s 208ms/step - loss: 0.2528 - acc: 0.8945 - val_loss: 0.2413 - val_acc: 0.9040\n",
            "Epoch 48/100\n",
            "100/100 [==============================] - 21s 207ms/step - loss: 0.2497 - acc: 0.8881 - val_loss: 0.2448 - val_acc: 0.9040\n",
            "Epoch 49/100\n",
            "100/100 [==============================] - 21s 208ms/step - loss: 0.2419 - acc: 0.8999 - val_loss: 0.2419 - val_acc: 0.9050\n",
            "Epoch 50/100\n",
            "100/100 [==============================] - 21s 208ms/step - loss: 0.2394 - acc: 0.9011 - val_loss: 0.2407 - val_acc: 0.9030\n",
            "Epoch 51/100\n",
            "100/100 [==============================] - 21s 212ms/step - loss: 0.2345 - acc: 0.9017 - val_loss: 0.2408 - val_acc: 0.9060\n",
            "Epoch 52/100\n",
            "100/100 [==============================] - 21s 209ms/step - loss: 0.2647 - acc: 0.8899 - val_loss: 0.2437 - val_acc: 0.9070\n",
            "Epoch 53/100\n",
            "100/100 [==============================] - 21s 210ms/step - loss: 0.2434 - acc: 0.9029 - val_loss: 0.2566 - val_acc: 0.8990\n",
            "Epoch 54/100\n",
            "100/100 [==============================] - 21s 213ms/step - loss: 0.2528 - acc: 0.8922 - val_loss: 0.2432 - val_acc: 0.9050\n",
            "Epoch 55/100\n",
            "100/100 [==============================] - 21s 209ms/step - loss: 0.2532 - acc: 0.8880 - val_loss: 0.2498 - val_acc: 0.9020\n",
            "Epoch 56/100\n",
            "100/100 [==============================] - 21s 210ms/step - loss: 0.2531 - acc: 0.8953 - val_loss: 0.2411 - val_acc: 0.9040\n",
            "Epoch 57/100\n",
            "100/100 [==============================] - 21s 209ms/step - loss: 0.2512 - acc: 0.8949 - val_loss: 0.2421 - val_acc: 0.9030\n",
            "Epoch 58/100\n",
            "100/100 [==============================] - 21s 209ms/step - loss: 0.2696 - acc: 0.8859 - val_loss: 0.2527 - val_acc: 0.8970\n",
            "Epoch 59/100\n",
            "100/100 [==============================] - 21s 210ms/step - loss: 0.2348 - acc: 0.8954 - val_loss: 0.2425 - val_acc: 0.9020\n",
            "Epoch 60/100\n",
            "100/100 [==============================] - 21s 211ms/step - loss: 0.2397 - acc: 0.8924 - val_loss: 0.2406 - val_acc: 0.9030\n",
            "Epoch 61/100\n",
            "100/100 [==============================] - 21s 209ms/step - loss: 0.2567 - acc: 0.8888 - val_loss: 0.2409 - val_acc: 0.9020\n",
            "Epoch 62/100\n",
            "100/100 [==============================] - 21s 208ms/step - loss: 0.2285 - acc: 0.9110 - val_loss: 0.2416 - val_acc: 0.8990\n",
            "Epoch 63/100\n",
            "100/100 [==============================] - 21s 209ms/step - loss: 0.2452 - acc: 0.8976 - val_loss: 0.2439 - val_acc: 0.9010\n",
            "Epoch 64/100\n",
            "100/100 [==============================] - 21s 210ms/step - loss: 0.2437 - acc: 0.8948 - val_loss: 0.2396 - val_acc: 0.9020\n",
            "Epoch 65/100\n",
            "100/100 [==============================] - 21s 211ms/step - loss: 0.2413 - acc: 0.8948 - val_loss: 0.2389 - val_acc: 0.9060\n",
            "Epoch 66/100\n",
            "100/100 [==============================] - 21s 212ms/step - loss: 0.2601 - acc: 0.8944 - val_loss: 0.2396 - val_acc: 0.9060\n",
            "Epoch 67/100\n",
            "100/100 [==============================] - 21s 207ms/step - loss: 0.2649 - acc: 0.8887 - val_loss: 0.2420 - val_acc: 0.9060\n",
            "Epoch 68/100\n",
            "100/100 [==============================] - 21s 210ms/step - loss: 0.2611 - acc: 0.8926 - val_loss: 0.2389 - val_acc: 0.9050\n",
            "Epoch 69/100\n",
            "100/100 [==============================] - 21s 210ms/step - loss: 0.2326 - acc: 0.8944 - val_loss: 0.2395 - val_acc: 0.9050\n",
            "Epoch 70/100\n",
            "100/100 [==============================] - 21s 210ms/step - loss: 0.2522 - acc: 0.8874 - val_loss: 0.2383 - val_acc: 0.9080\n",
            "Epoch 71/100\n",
            "100/100 [==============================] - 21s 209ms/step - loss: 0.2433 - acc: 0.8956 - val_loss: 0.2494 - val_acc: 0.8980\n",
            "Epoch 72/100\n",
            "100/100 [==============================] - 21s 211ms/step - loss: 0.2533 - acc: 0.8909 - val_loss: 0.2391 - val_acc: 0.9060\n",
            "Epoch 73/100\n",
            "100/100 [==============================] - 21s 209ms/step - loss: 0.2315 - acc: 0.9035 - val_loss: 0.2409 - val_acc: 0.9010\n",
            "Epoch 74/100\n",
            "100/100 [==============================] - 21s 208ms/step - loss: 0.2687 - acc: 0.8858 - val_loss: 0.2414 - val_acc: 0.9040\n",
            "Epoch 75/100\n",
            "100/100 [==============================] - 21s 210ms/step - loss: 0.2324 - acc: 0.8987 - val_loss: 0.2534 - val_acc: 0.8960\n",
            "Epoch 76/100\n",
            "100/100 [==============================] - 21s 209ms/step - loss: 0.2430 - acc: 0.8881 - val_loss: 0.2405 - val_acc: 0.9040\n",
            "Epoch 77/100\n",
            "100/100 [==============================] - 21s 209ms/step - loss: 0.2303 - acc: 0.9092 - val_loss: 0.2407 - val_acc: 0.9050\n",
            "Epoch 78/100\n",
            "100/100 [==============================] - 21s 210ms/step - loss: 0.2597 - acc: 0.8963 - val_loss: 0.2401 - val_acc: 0.9090\n",
            "Epoch 79/100\n",
            "100/100 [==============================] - 21s 210ms/step - loss: 0.2541 - acc: 0.8928 - val_loss: 0.2420 - val_acc: 0.9020\n",
            "Epoch 80/100\n",
            "100/100 [==============================] - 21s 209ms/step - loss: 0.2385 - acc: 0.9043 - val_loss: 0.2407 - val_acc: 0.9070\n",
            "Epoch 81/100\n",
            "100/100 [==============================] - 21s 211ms/step - loss: 0.2440 - acc: 0.8985 - val_loss: 0.2403 - val_acc: 0.9050\n",
            "Epoch 82/100\n",
            "100/100 [==============================] - 21s 209ms/step - loss: 0.2456 - acc: 0.9041 - val_loss: 0.2424 - val_acc: 0.8990\n",
            "Epoch 83/100\n",
            "100/100 [==============================] - 21s 209ms/step - loss: 0.2533 - acc: 0.8938 - val_loss: 0.2412 - val_acc: 0.9050\n",
            "Epoch 84/100\n",
            "100/100 [==============================] - 21s 208ms/step - loss: 0.2775 - acc: 0.8887 - val_loss: 0.2420 - val_acc: 0.8990\n",
            "Epoch 85/100\n",
            "100/100 [==============================] - 21s 210ms/step - loss: 0.2406 - acc: 0.9015 - val_loss: 0.2391 - val_acc: 0.9070\n",
            "Epoch 86/100\n",
            "100/100 [==============================] - 21s 209ms/step - loss: 0.2367 - acc: 0.9035 - val_loss: 0.2465 - val_acc: 0.8970\n",
            "Epoch 87/100\n",
            "100/100 [==============================] - 21s 209ms/step - loss: 0.2415 - acc: 0.9019 - val_loss: 0.2420 - val_acc: 0.9050\n",
            "Epoch 88/100\n",
            "100/100 [==============================] - 21s 208ms/step - loss: 0.2461 - acc: 0.8945 - val_loss: 0.2431 - val_acc: 0.9060\n",
            "Epoch 89/100\n",
            "100/100 [==============================] - 21s 207ms/step - loss: 0.2568 - acc: 0.8800 - val_loss: 0.2434 - val_acc: 0.9100\n",
            "Epoch 90/100\n",
            "100/100 [==============================] - 21s 207ms/step - loss: 0.2325 - acc: 0.9026 - val_loss: 0.2431 - val_acc: 0.9050\n",
            "Epoch 91/100\n",
            "100/100 [==============================] - 21s 210ms/step - loss: 0.2564 - acc: 0.8911 - val_loss: 0.2428 - val_acc: 0.9050\n",
            "Epoch 92/100\n",
            "100/100 [==============================] - 21s 209ms/step - loss: 0.2340 - acc: 0.9021 - val_loss: 0.2483 - val_acc: 0.8990\n",
            "Epoch 93/100\n",
            "100/100 [==============================] - 21s 209ms/step - loss: 0.2507 - acc: 0.8989 - val_loss: 0.2472 - val_acc: 0.8970\n",
            "Epoch 94/100\n",
            "100/100 [==============================] - 21s 211ms/step - loss: 0.2367 - acc: 0.9023 - val_loss: 0.2521 - val_acc: 0.8950\n",
            "Epoch 95/100\n",
            "100/100 [==============================] - 21s 209ms/step - loss: 0.2304 - acc: 0.9038 - val_loss: 0.2440 - val_acc: 0.9050\n",
            "Epoch 96/100\n",
            "100/100 [==============================] - 21s 214ms/step - loss: 0.2484 - acc: 0.8907 - val_loss: 0.2482 - val_acc: 0.9000\n",
            "Epoch 97/100\n",
            "100/100 [==============================] - 21s 209ms/step - loss: 0.2295 - acc: 0.9051 - val_loss: 0.2446 - val_acc: 0.9020\n",
            "Epoch 98/100\n",
            "100/100 [==============================] - 21s 211ms/step - loss: 0.2232 - acc: 0.9095 - val_loss: 0.2467 - val_acc: 0.9020\n",
            "Epoch 99/100\n",
            "100/100 [==============================] - 21s 210ms/step - loss: 0.2502 - acc: 0.8860 - val_loss: 0.2442 - val_acc: 0.9030\n",
            "Epoch 100/100\n",
            "100/100 [==============================] - 21s 210ms/step - loss: 0.2473 - acc: 0.8948 - val_loss: 0.2443 - val_acc: 0.9090\n"
          ],
          "name": "stdout"
        }
      ]
    },
    {
      "cell_type": "markdown",
      "metadata": {
        "id": "x0MK1uQtjgzv"
      },
      "source": [
        "Save the model to your disk for further processing. I have put the model on Moodle, since it was too large to be put on github. On my machine (the same that was mentioned above) the computation last for about 4,5 hours."
      ]
    },
    {
      "cell_type": "code",
      "execution_count": null,
      "metadata": {
        "tags": [],
        "id": "ychUNurZjgzv"
      },
      "outputs": [],
      "source": [
        "model.save('CatDogClass_pretrained_CNN_FeatExtraction_using_fine-tuning.h5')"
      ]
    },
    {
      "cell_type": "code",
      "execution_count": null,
      "metadata": {
        "tags": [],
        "id": "_Ur1CRzvjgzv"
      },
      "outputs": [],
      "source": [
        "# dump the history object to a file using pickle\n",
        "with open('/content/drive/MyDrive/CatDogClass_pretrained_CNN_FeatExtraction_using_data_augmentation_history', 'wb') as file:\n",
        "  model_history = History_trained_model(history.history, history.epoch, history.params)\n",
        "  pickle.dump(model_history, file, pickle.HIGHEST_PROTOCOL)"
      ]
    },
    {
      "cell_type": "markdown",
      "metadata": {
        "id": "yi2Rh1Z-jgzv"
      },
      "source": [
        "<font color=\"ce33ff\">TASK 7</font>"
      ]
    },
    {
      "cell_type": "code",
      "metadata": {
        "colab": {
          "base_uri": "https://localhost:8080/"
        },
        "id": "rwbmPRv0pyAP",
        "outputId": "4c8e9bca-9dfa-4cdf-d6bf-2b3ea4193fd5"
      },
      "source": [
        "# add your code here\n",
        "import pickle\n",
        "model = models.load_model('/content/drive/MyDrive/CatDogClass_pretrained_CNN_FeatExtraction_using_data_augmentation.h5')\n",
        "print(model.summary())\n",
        "\n",
        "#then, after you loaded the model,\n",
        "#take the validation data set and validate it using a history object,\n",
        "#take the history object and plot the validaton results using pyplot.\n",
        "class History_trained_model(object):\n",
        "  def __init__(self, history, epoch, params):\n",
        "    self.history = history\n",
        "    self.epoch = epoch\n",
        "    self.params = params\n",
        "\n",
        "with open('/content/drive/MyDrive/CatDogClass_pretrained_CNN_FeatExtraction_using_data_augmentation_history', 'wb') as file:\n",
        "  model_history = History_trained_model(history.history, history.epoch, history.params)\n",
        "  pickle.dump(model_history, file, pickle.HIGHEST_PROTOCOL)\n",
        "\n",
        "with open('/content/drive/MyDrive/CatDogClass_pretrained_CNN_FeatExtraction_using_data_augmentation_history', 'rb') as file:\n",
        "  history = pickle.load(file)\n"
      ],
      "execution_count": null,
      "outputs": [
        {
          "output_type": "stream",
          "text": [
            "Model: \"sequential_1\"\n",
            "_________________________________________________________________\n",
            "Layer (type)                 Output Shape              Param #   \n",
            "=================================================================\n",
            "vgg16 (Functional)           (None, 4, 4, 512)         14714688  \n",
            "_________________________________________________________________\n",
            "flatten (Flatten)            (None, 8192)              0         \n",
            "_________________________________________________________________\n",
            "dense_2 (Dense)              (None, 256)               2097408   \n",
            "_________________________________________________________________\n",
            "dense_3 (Dense)              (None, 1)                 257       \n",
            "=================================================================\n",
            "Total params: 16,812,353\n",
            "Trainable params: 2,097,665\n",
            "Non-trainable params: 14,714,688\n",
            "_________________________________________________________________\n",
            "None\n"
          ],
          "name": "stdout"
        }
      ]
    },
    {
      "cell_type": "markdown",
      "metadata": {
        "id": "nwcgycYCjgzw"
      },
      "source": [
        "Now, plot the results using the same plotting code as before."
      ]
    },
    {
      "cell_type": "code",
      "metadata": {
        "colab": {
          "base_uri": "https://localhost:8080/",
          "height": 545
        },
        "id": "1tj_eKenpyAQ",
        "outputId": "383b991d-d009-41aa-c4d8-504335e72d3e"
      },
      "source": [
        "acc = history.history['acc']\n",
        "val_acc = history.history['val_acc']\n",
        "loss = history.history['loss']\n",
        "val_loss = history.history['val_loss']\n",
        "\n",
        "epochs = range(len(acc))\n",
        "\n",
        "plt.plot(epochs, acc, 'bo', label='Training acc')\n",
        "plt.plot(epochs, val_acc, 'b', label='Validation acc')\n",
        "plt.title('Training and validation accuracy')\n",
        "plt.legend()\n",
        "\n",
        "plt.figure()\n",
        "\n",
        "plt.plot(epochs, loss, 'bo', label='Training loss')\n",
        "plt.plot(epochs, val_loss, 'b', label='Validation loss')\n",
        "plt.title('Training and validation loss')\n",
        "plt.legend()\n",
        "\n",
        "plt.show()"
      ],
      "execution_count": null,
      "outputs": [
        {
          "output_type": "display_data",
          "data": {
            "image/png": "[encoded data removed]",
            "text/plain": [
              "<Figure size 432x288 with 1 Axes>"
            ]
          },
          "metadata": {
            "tags": [],
            "needs_background": "light"
          }
        },
        {
          "output_type": "display_data",
          "data": {
            "image/png": "[encoded data removed]",
            "text/plain": [
              "<Figure size 432x288 with 1 Axes>"
            ]
          },
          "metadata": {
            "tags": [],
            "needs_background": "light"
          }
        }
      ]
    },
    {
      "cell_type": "markdown",
      "metadata": {
        "id": "J3gEX1r-jgzw"
      },
      "source": [
        "### result of fine tuning\n",
        "\n",
        "This is a higher validation accuracy using data augmentation and so it is much better than the small CNN trained from scratch. These curves look very noisy. To make them more readable, smooth them by replacing every loss and accuracy value with the exponential moving averages of these quantities. Here is a trivial utility function to do this. BTW, this is very often used when working with financial stock market data.Try to follow and understand the code."
      ]
    },
    {
      "cell_type": "code",
      "metadata": {
        "colab": {
          "base_uri": "https://localhost:8080/",
          "height": 545
        },
        "id": "m7lOKTiDpyAR",
        "outputId": "ce66fa7c-02d7-4118-de02-d4cada1943db"
      },
      "source": [
        "def smooth_curve(points, factor=0.8):\n",
        "  smoothed_points = []\n",
        "  for point in points:\n",
        "    if smoothed_points:\n",
        "      previous = smoothed_points[-1]\n",
        "      smoothed_points.append(previous * factor + point * (1 - factor))\n",
        "    else:\n",
        "      smoothed_points.append(point)\n",
        "  return smoothed_points\n",
        "\n",
        "plt.plot(epochs,\n",
        "         smooth_curve(acc), 'bo', label='Smoothed training acc')\n",
        "plt.plot(epochs,\n",
        "         smooth_curve(val_acc), 'b', label='Smoothed validation acc')\n",
        "plt.title('Training and validation accuracy')\n",
        "plt.legend()\n",
        "\n",
        "plt.figure()\n",
        "\n",
        "plt.plot(epochs,\n",
        "         smooth_curve(loss), 'bo', label='Smoothed training loss')\n",
        "plt.plot(epochs,\n",
        "         smooth_curve(val_loss), 'b', label='Smoothed validation loss')\n",
        "plt.title('Training and validation loss')\n",
        "plt.legend()\n",
        "\n",
        "plt.show()"
      ],
      "execution_count": null,
      "outputs": [
        {
          "output_type": "display_data",
          "data": {
            "image/png": "[encoded data removed]",
            "text/plain": [
              "<Figure size 432x288 with 1 Axes>"
            ]
          },
          "metadata": {
            "tags": [],
            "needs_background": "light"
          }
        },
        {
          "output_type": "display_data",
          "data": {
            "image/png": "[encoded data removed]",
            "text/plain": [
              "<Figure size 432x288 with 1 Axes>"
            ]
          },
          "metadata": {
            "tags": [],
            "needs_background": "light"
          }
        }
      ]
    },
    {
      "cell_type": "markdown",
      "metadata": {
        "id": "gbGIc_qsjgzw"
      },
      "source": [
        "Double BAMM!<br>\n",
        "These curves look much cleaner and more stable. This is a very nice 1% absolute improvement.\n",
        "\n",
        "<font color=\"#C70039\">IMPORTANT NOTE:</font> See that the loss curve does not show any real improvement (in fact, it is deteriorating). You may wonder, how could accuracy improve if the loss isn't decreasing? The answer is simple: what is displayed here is an average of pointwise loss values, but what actually matters for accuracy is the distribution of the loss values, not their average, since accuracy is the result of a binary thresholding of the class probability predicted by the model. The model may still be improving even if this isn't reflected in the average loss.\n",
        "\n",
        "Now finally evaluate this model on the test data."
      ]
    },
    {
      "cell_type": "code",
      "metadata": {
        "colab": {
          "base_uri": "https://localhost:8080/"
        },
        "id": "5zBpDRRHpyAS",
        "outputId": "78820171-3989-4959-8e09-00431641e59a"
      },
      "source": [
        "test_generator = test_datagen.flow_from_directory(\n",
        "        test_dir,\n",
        "        target_size=(150, 150),\n",
        "        batch_size=20,\n",
        "        class_mode='binary')\n",
        "\n",
        "test_loss, test_acc = model.evaluate_generator(test_generator, steps=50)\n",
        "print('test acc:', test_acc)"
      ],
      "execution_count": null,
      "outputs": [
        {
          "output_type": "stream",
          "text": [
            "Found 1000 images belonging to 2 classes.\n"
          ],
          "name": "stdout"
        },
        {
          "output_type": "stream",
          "text": [
            "/usr/local/lib/python3.6/dist-packages/tensorflow/python/keras/engine/training.py:1877: UserWarning: `Model.evaluate_generator` is deprecated and will be removed in a future version. Please use `Model.evaluate`, which supports generators.\n",
            "  warnings.warn('`Model.evaluate_generator` is deprecated and '\n"
          ],
          "name": "stderr"
        },
        {
          "output_type": "stream",
          "text": [
            "test acc: 0.8870000243186951\n"
          ],
          "name": "stdout"
        }
      ]
    },
    {
      "cell_type": "markdown",
      "metadata": {
        "id": "0k0DA850jgzw"
      },
      "source": [
        "\n",
        "Here we get a test accuracy of 94%. Using modern deep learning techniques, we managed to reach this result using only a very small fraction of the training data available (remember the dogs and cats data set to be 25.000 pictures large). There is a huge difference between being able to train on 20.000 samples compared to 2.000 samples!"
      ]
    }
  ],
  "metadata": {
    "kernelspec": {
      "display_name": "Python 3 (ipykernel)",
      "language": "python",
      "name": "python3"
    },
    "language_info": {
      "codemirror_mode": {
        "name": "ipython",
        "version": 3
      },
      "file_extension": ".py",
      "mimetype": "text/x-python",
      "name": "python",
      "nbconvert_exporter": "python",
      "pygments_lexer": "ipython3",
      "version": "3.9.17"
    },
    "colab": {
      "provenance": [],
      "include_colab_link": true
    }
  },
  "nbformat": 4,
  "nbformat_minor": 0
}