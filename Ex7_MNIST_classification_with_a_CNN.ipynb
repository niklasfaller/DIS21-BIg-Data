{
  "cells": [
    {
      "cell_type": "markdown",
      "metadata": {
        "id": "view-in-github",
        "colab_type": "text"
      },
      "source": [
        "<a href=\"https://colab.research.google.com/github/niklasfaller/DIS21-BIg-Data/blob/main/Ex7_MNIST_classification_with_a_CNN.ipynb\" target=\"_parent\"><img src=\"https://colab.research.google.com/assets/colab-badge.svg\" alt=\"Open In Colab\"/></a>"
      ]
    },
    {
      "cell_type": "markdown",
      "metadata": {
        "id": "kLdhQ2WoKRdf"
      },
      "source": [
        "<img src=\"https://www.th-koeln.de/img/logo.svg\" style=\"float: right;\" width=\"200\">"
      ]
    },
    {
      "cell_type": "markdown",
      "metadata": {
        "id": "ioE5vydrKRdi"
      },
      "source": [
        "# 7th exercise: <font color=\"#C70039\">MNIST Classification with a Convolutional Neural Network</font>\n",
        "* Course: DIS21a.1\n",
        "* Lecturer: <a href=\"https://www.gernotheisenberg.de/\">Gernot Heisenberg</a>\n",
        "* Author of notebook modifications and adaptations: <a href=\"https://www.gernotheisenberg.de/\">Gernot Heisenberg</a>\n",
        "* Date:   08.08.2023\n",
        "\n",
        "<img src=\"https://miro.medium.com/max/1250/1*vkQ0hXDaQv57sALXAJquxA.jpeg\" style=\"float: center;\" width=\"600\">\n",
        "\n",
        "---------------------------------\n",
        "**GENERAL NOTE 1**:\n",
        "Please make sure you are reading the entire notebook, since it contains a lot of information about your tasks (e.g. regarding the set of certain paramaters or specific computational tricks, etc.), and the written mark downs as well as comments contain a lot of information on how things work together as a whole.\n",
        "\n",
        "**GENERAL NOTE 2**:\n",
        "* Please, when commenting source code, just use English language only.\n",
        "* When describing an observation (for instance, after you have run through your test plan) you may use German language.\n",
        "This applies to all exercises in DIS 21a.1.  \n",
        "\n",
        "---------------------\n",
        "\n",
        "### <font color=\"ce33ff\">DESCRIPTION</font>:\n",
        "\n",
        "This notebook allows you for learning how you effectively setup and use convolutional neural networks (CNN).\n",
        "For this purpose, the classification of the MNIST digits from the earlier exercise is done again.\n",
        "Using a densely (fully) connected ANN in that previous exercise, you have achieved a test accuracy of about 97%.\n",
        "Even though the CNN will be very basic, its accuracy will blow out that of a densely-connected ANN.\n",
        "\n",
        "This notebook shows in a few lines of code what a basic CNN looks alike.\n",
        "Basically, it is a simple stack of `Conv2D` and `MaxPooling2D` layers.\n",
        "\n",
        "-------------------------------------------------------------------------------------------------------------\n",
        "\n",
        "### <font color=\"FFC300\">TASKS</font>:\n",
        "Within this notebook, the tasks that you need to work on are always listed as bullet points below.\n",
        "If a task is more challenging and consists of several steps, this is indicated as well.\n",
        "Make sure you have worked down the task list and commented your doings.\n",
        "This should be done using markdown.<br>\n",
        "<font color=red>Make sure you don't forget to specify your name and your matriculation number in the notebook before submitting it.</font>\n",
        "\n",
        "**YOUR TASKS in this exercise are as follows**:\n",
        "1. import the notebook to Google Colab.\n",
        "2. make sure you specified you name and your matriculation number in the header below my name and date.\n",
        "    * set the date too and remove mine.\n",
        "3. read the entire notebook carefully.\n",
        "    * for better understanding, add comments whereever you feel it necessary.\n",
        "    * run the notebook for the first time and note the result in a markdown table.\n",
        "        * I have provided you with an example of a table in markdown (see below). Make sure you adapt your table accordingly.\n",
        "        * Put the table at the end of the notebook.\n",
        "        * This type of table will be needed in the other exercises as well. Always put it at the end.\n",
        "    \n",
        "| type of method | loss function | optimizer | accuracy |\n",
        "| :-: | :-: | :-: | :-: |\n",
        "| classification | categorical_crossentropy | bamm !|.666\n",
        "\n",
        "4. write the code for 'loading and preparing the MNIST data set'.\n",
        "5. write the code for 'training the CNN'.\n",
        "    * epochs=5\n",
        "    * batch_size=64\n",
        "6. write the code for 'evaluating the CNN', initially with the given hyperparameters.\n",
        "\n",
        "7. Compare the obtained result to the one you obtained by the densely connected ANN and compute the increase of accuracy in percent.\n",
        "\n",
        "8. write a test plan for testing other hyperparameters. Store the values (also the one from task 7) in a table as the one from above.\n",
        "\n",
        "-----------------------------------------------------------------------------------"
      ]
    },
    {
      "cell_type": "markdown",
      "metadata": {
        "id": "47OOvoUnKRdk"
      },
      "source": [
        "## START OF THE NOTEBOOK CODE\n",
        "----------------------------------------------------------------------------------------------------------------------\n",
        "### necessary imports\n",
        "others are going to be included as soon as they are needed"
      ]
    },
    {
      "cell_type": "code",
      "execution_count": 1,
      "metadata": {
        "tags": [],
        "id": "DdG0gC0zKRdl"
      },
      "outputs": [],
      "source": [
        "import tensorflow\n",
        "#tensorflow.keras.__version__\n",
        "\n",
        "from tensorflow.keras import layers\n",
        "from tensorflow.keras import models"
      ]
    },
    {
      "cell_type": "markdown",
      "metadata": {
        "id": "SlqUlMGqKRdn"
      },
      "source": [
        "### building the CNN"
      ]
    },
    {
      "cell_type": "markdown",
      "metadata": {
        "id": "bgvQc03kKRdn"
      },
      "source": [
        "<font color=\"#C70039\">NOTE: </font>\n",
        "A CNN takes as input tensors of shape `(image_height, image_width, image_channels)`\n",
        "(not including the batch dimension).\n",
        "\n",
        "In this case here, the CNN is configured to process inputs of size `(28, 28, 1)`, which is the format of MNIST grayscale images. This is done by passing the argument `input_shape=(28, 28, 1)` to the first layer."
      ]
    },
    {
      "cell_type": "code",
      "execution_count": 2,
      "metadata": {
        "tags": [],
        "id": "VJI1Lgm2KRdn"
      },
      "outputs": [],
      "source": [
        "model = models.Sequential()\n",
        "\n",
        "model.add(layers.Conv2D(32, (3, 3), activation='relu', input_shape=(28, 28, 1)))\n",
        "model.add(layers.MaxPooling2D((2, 2)))\n",
        "\n",
        "# the subsequent layers are taking the shape of the previous layers as input shape.\n",
        "# Therefore an explicit specification of the input shape is not needed.\n",
        "model.add(layers.Conv2D(64, (3, 3), activation='relu'))\n",
        "model.add(layers.MaxPooling2D((2, 2)))\n",
        "\n",
        "model.add(layers.Conv2D(64, (3, 3), activation='relu'))"
      ]
    },
    {
      "cell_type": "markdown",
      "metadata": {
        "id": "-CnJpQCqKRdo"
      },
      "source": [
        "Display the architecture of the CNN"
      ]
    },
    {
      "cell_type": "code",
      "execution_count": 3,
      "metadata": {
        "tags": [],
        "colab": {
          "base_uri": "https://localhost:8080/"
        },
        "id": "AAhHMg51KRdo",
        "outputId": "62c181c1-1cf0-4322-912a-02e856300ec2"
      },
      "outputs": [
        {
          "output_type": "stream",
          "name": "stdout",
          "text": [
            "Model: \"sequential\"\n",
            "_________________________________________________________________\n",
            " Layer (type)                Output Shape              Param #   \n",
            "=================================================================\n",
            " conv2d (Conv2D)             (None, 26, 26, 32)        320       \n",
            "                                                                 \n",
            " max_pooling2d (MaxPooling2  (None, 13, 13, 32)        0         \n",
            " D)                                                              \n",
            "                                                                 \n",
            " conv2d_1 (Conv2D)           (None, 11, 11, 64)        18496     \n",
            "                                                                 \n",
            " max_pooling2d_1 (MaxPoolin  (None, 5, 5, 64)          0         \n",
            " g2D)                                                            \n",
            "                                                                 \n",
            " conv2d_2 (Conv2D)           (None, 3, 3, 64)          36928     \n",
            "                                                                 \n",
            "=================================================================\n",
            "Total params: 55744 (217.75 KB)\n",
            "Trainable params: 55744 (217.75 KB)\n",
            "Non-trainable params: 0 (0.00 Byte)\n",
            "_________________________________________________________________\n"
          ]
        }
      ],
      "source": [
        "model.summary()"
      ]
    },
    {
      "cell_type": "markdown",
      "metadata": {
        "id": "VNWw1gt8KRdo"
      },
      "source": [
        "The output of every `Conv2D` and `MaxPooling2D` layer is a 3D tensor of shape `(height, width, channels)`. The width\n",
        "and height dimensions tend to shrink by going deeper into the network.\n",
        "The number of channels is controlled by the first argument passed to the `Conv2D` layers (e.g. 32 or 64).\n",
        "\n",
        "The next step is to feed the last output tensor (of shape `(3, 3, 64)`) into a densely (fully) connected classifier network, i.e. a stack of `Dense` ANN layers.\n",
        "These classifiers do process vectors, which are 1D, whereas our current output is a 3D tensor.\n",
        "\n",
        "So, first the 3D outputs needs to be flattened to 1D, and then a few `Dense` layers are added on top."
      ]
    },
    {
      "cell_type": "code",
      "execution_count": 4,
      "metadata": {
        "tags": [],
        "id": "snnadQDSKRdo"
      },
      "outputs": [],
      "source": [
        "model.add(layers.Flatten()) # this could also be done by the reshaping function. You can try it out, if you like.\n",
        "model.add(layers.Dense(64, activation='relu'))\n",
        "model.add(layers.Dense(10, activation='softmax'))"
      ]
    },
    {
      "cell_type": "markdown",
      "metadata": {
        "id": "FcEt89i7KRdp"
      },
      "source": [
        "Since this is a classification of 10 digits again, use a final layer with 10 outputs and a softmax activation (as done before already).\n",
        "Now here's what the final CNN looks like."
      ]
    },
    {
      "cell_type": "code",
      "execution_count": 5,
      "metadata": {
        "tags": [],
        "colab": {
          "base_uri": "https://localhost:8080/"
        },
        "id": "pMD6y6iwKRdp",
        "outputId": "1ebe7ccd-6c7a-4eb0-9d97-c69042319360"
      },
      "outputs": [
        {
          "output_type": "stream",
          "name": "stdout",
          "text": [
            "Model: \"sequential\"\n",
            "_________________________________________________________________\n",
            " Layer (type)                Output Shape              Param #   \n",
            "=================================================================\n",
            " conv2d (Conv2D)             (None, 26, 26, 32)        320       \n",
            "                                                                 \n",
            " max_pooling2d (MaxPooling2  (None, 13, 13, 32)        0         \n",
            " D)                                                              \n",
            "                                                                 \n",
            " conv2d_1 (Conv2D)           (None, 11, 11, 64)        18496     \n",
            "                                                                 \n",
            " max_pooling2d_1 (MaxPoolin  (None, 5, 5, 64)          0         \n",
            " g2D)                                                            \n",
            "                                                                 \n",
            " conv2d_2 (Conv2D)           (None, 3, 3, 64)          36928     \n",
            "                                                                 \n",
            " flatten (Flatten)           (None, 576)               0         \n",
            "                                                                 \n",
            " dense (Dense)               (None, 64)                36928     \n",
            "                                                                 \n",
            " dense_1 (Dense)             (None, 10)                650       \n",
            "                                                                 \n",
            "=================================================================\n",
            "Total params: 93322 (364.54 KB)\n",
            "Trainable params: 93322 (364.54 KB)\n",
            "Non-trainable params: 0 (0.00 Byte)\n",
            "_________________________________________________________________\n"
          ]
        }
      ],
      "source": [
        "model.summary()"
      ]
    },
    {
      "cell_type": "markdown",
      "metadata": {
        "id": "J_eh8WSnKRdp"
      },
      "source": [
        "Note, that the `(3, 3, 64)` outputs were flattened into vectors of shape `(576,)`, before going through two `Dense` layers.\n",
        "\n",
        "Now, train the CNN on the MNIST digits."
      ]
    },
    {
      "cell_type": "markdown",
      "metadata": {
        "id": "egOQEvT5KRdp"
      },
      "source": [
        "### loading and preparing the MNIST data set\n",
        "as done before (compare with your old code)"
      ]
    },
    {
      "cell_type": "code",
      "execution_count": 6,
      "metadata": {
        "tags": [],
        "id": "7bggFEjuKRdp"
      },
      "outputs": [],
      "source": [
        "from tensorflow.keras.datasets import mnist\n",
        "from tensorflow.keras.utils import to_categorical"
      ]
    },
    {
      "cell_type": "code",
      "execution_count": 7,
      "metadata": {
        "tags": [],
        "colab": {
          "base_uri": "https://localhost:8080/"
        },
        "id": "Yq4sjQt9KRdp",
        "outputId": "9f3894a0-1a40-4039-b306-0b64bd7c2fb1"
      },
      "outputs": [
        {
          "output_type": "stream",
          "name": "stdout",
          "text": [
            "Downloading data from https://storage.googleapis.com/tensorflow/tf-keras-datasets/mnist.npz\n",
            "11490434/11490434 [==============================] - 1s 0us/step\n"
          ]
        }
      ],
      "source": [
        "(train_images, train_labels), (test_images, test_labels) = mnist.load_data()\n",
        "\n",
        "train_images = train_images.reshape((60000, 28, 28, 1))\n",
        "train_images = train_images.astype('float32') / 255\n",
        "\n",
        "test_images = test_images.reshape((10000, 28, 28, 1))\n",
        "test_images = test_images.astype('float32') / 255\n",
        "\n",
        "train_labels = to_categorical(train_labels)\n",
        "test_labels = to_categorical(test_labels)\n"
      ]
    },
    {
      "cell_type": "markdown",
      "metadata": {
        "id": "eDZIXR3TKRdq"
      },
      "source": [
        "### training the CNN\n",
        "\n",
        "for the start, take\n",
        "* epochs=5\n",
        "* batch_size=64"
      ]
    },
    {
      "cell_type": "code",
      "execution_count": 8,
      "metadata": {
        "tags": [],
        "colab": {
          "base_uri": "https://localhost:8080/"
        },
        "id": "GM5luENuKRdq",
        "outputId": "2da8b6f4-754a-47a3-fd8e-7f11893206eb"
      },
      "outputs": [
        {
          "output_type": "stream",
          "name": "stdout",
          "text": [
            "Epoch 1/5\n",
            "938/938 [==============================] - 53s 55ms/step - loss: 0.1711 - accuracy: 0.9471\n",
            "Epoch 2/5\n",
            "938/938 [==============================] - 50s 53ms/step - loss: 0.0469 - accuracy: 0.9852\n",
            "Epoch 3/5\n",
            "938/938 [==============================] - 51s 54ms/step - loss: 0.0318 - accuracy: 0.9901\n",
            "Epoch 4/5\n",
            "938/938 [==============================] - 49s 53ms/step - loss: 0.0244 - accuracy: 0.9926\n",
            "Epoch 5/5\n",
            "938/938 [==============================] - 51s 54ms/step - loss: 0.0183 - accuracy: 0.9940\n"
          ]
        },
        {
          "output_type": "execute_result",
          "data": {
            "text/plain": [
              "<keras.src.callbacks.History at 0x7f9b48284e80>"
            ]
          },
          "metadata": {},
          "execution_count": 8
        }
      ],
      "source": [
        "model.compile(optimizer='rmsprop', loss='categorical_crossentropy', metrics=['accuracy'])\n",
        "model.fit(train_images,train_labels,epochs=5,batch_size=64)\n"
      ]
    },
    {
      "cell_type": "markdown",
      "metadata": {
        "id": "3zbzF99kKRdq"
      },
      "source": [
        "### evaluate the CNN\n",
        "Evaluate the model on the test data."
      ]
    },
    {
      "cell_type": "code",
      "execution_count": 9,
      "metadata": {
        "tags": [],
        "colab": {
          "base_uri": "https://localhost:8080/"
        },
        "id": "823XECXyKRdq",
        "outputId": "3ee9e661-175a-4df0-f6a7-3349ef9ce0af"
      },
      "outputs": [
        {
          "output_type": "stream",
          "name": "stdout",
          "text": [
            "313/313 [==============================] - 3s 9ms/step - loss: 0.0314 - accuracy: 0.9915\n"
          ]
        }
      ],
      "source": [
        "test_loss, test_acc = model.evaluate(test_images, test_labels)"
      ]
    },
    {
      "cell_type": "code",
      "execution_count": 10,
      "metadata": {
        "tags": [],
        "colab": {
          "base_uri": "https://localhost:8080/"
        },
        "id": "24NsarN4KRdq",
        "outputId": "5ec36618-7e17-491b-943b-b82cd74a6e2d"
      },
      "outputs": [
        {
          "output_type": "execute_result",
          "data": {
            "text/plain": [
              "0.9915000200271606"
            ]
          },
          "metadata": {},
          "execution_count": 10
        }
      ],
      "source": [
        "test_acc"
      ]
    },
    {
      "cell_type": "markdown",
      "metadata": {
        "id": "RvgsV5qqKRdq"
      },
      "source": [
        "While the densely connected ANN had a test accuracy of about 97,85%.\n",
        "\n",
        "The basic CNN has a test accuracy of about 99,15% (double bamm !!!).\n",
        "\n",
        "This is an increase of 1,3 %"
      ]
    },
    {
      "cell_type": "markdown",
      "metadata": {
        "id": "l2zA-UQYKRdq"
      },
      "source": [
        "### <font color=\"#C70039\">Include your result table here and reflect a good test plan (see task list)</font>"
      ]
    },
    {
      "cell_type": "code",
      "execution_count": 13,
      "metadata": {
        "colab": {
          "base_uri": "https://localhost:8080/"
        },
        "id": "gWMRdUBkKRdr",
        "outputId": "694a2ca4-2503-4f7b-c597-90ace4e50b91"
      },
      "outputs": [
        {
          "output_type": "stream",
          "name": "stdout",
          "text": [
            "Epoch 1/5\n",
            "1875/1875 [==============================] - 57s 30ms/step - loss: 0.0099 - accuracy: 0.9972\n",
            "Epoch 2/5\n",
            "1875/1875 [==============================] - 56s 30ms/step - loss: 0.0092 - accuracy: 0.9974\n",
            "Epoch 3/5\n",
            "1875/1875 [==============================] - 56s 30ms/step - loss: 0.0072 - accuracy: 0.9977\n",
            "Epoch 4/5\n",
            "1875/1875 [==============================] - 56s 30ms/step - loss: 0.0070 - accuracy: 0.9979\n",
            "Epoch 5/5\n",
            "1875/1875 [==============================] - 56s 30ms/step - loss: 0.0072 - accuracy: 0.9981\n",
            "313/313 [==============================] - 4s 12ms/step - loss: 0.0500 - accuracy: 0.9935\n"
          ]
        }
      ],
      "source": [
        "(train_images, train_labels), (test_images, test_labels) = mnist.load_data()\n",
        "\n",
        "train_images = train_images.reshape((60000, 28, 28, 1))\n",
        "train_images = train_images.astype('float32') / 255\n",
        "\n",
        "test_images = test_images.reshape((10000, 28, 28, 1))\n",
        "test_images = test_images.astype('float32') / 255\n",
        "\n",
        "train_labels = to_categorical(train_labels)\n",
        "test_labels = to_categorical(test_labels)\n",
        "model.compile(optimizer='rmsprop', loss='categorical_crossentropy', metrics=['accuracy'])\n",
        "model.fit(train_images,train_labels,epochs=5,batch_size=32)\n",
        "\n",
        "test_loss, test_acc = model.evaluate(test_images, test_labels)"
      ]
    },
    {
      "cell_type": "code",
      "source": [
        "(train_images, train_labels), (test_images, test_labels) = mnist.load_data()\n",
        "\n",
        "train_images = train_images.reshape((60000, 28, 28, 1))\n",
        "train_images = train_images.astype('float32') / 255\n",
        "\n",
        "test_images = test_images.reshape((10000, 28, 28, 1))\n",
        "test_images = test_images.astype('float32') / 255\n",
        "\n",
        "train_labels = to_categorical(train_labels)\n",
        "test_labels = to_categorical(test_labels)\n",
        "model.compile(optimizer='rmsprop', loss='categorical_crossentropy', metrics=['accuracy'])\n",
        "model.fit(train_images,train_labels,epochs=10,batch_size=64)\n",
        "\n",
        "test_loss, test_acc = model.evaluate(test_images, test_labels)"
      ],
      "metadata": {
        "colab": {
          "base_uri": "https://localhost:8080/"
        },
        "id": "3oVntA9xeFSC",
        "outputId": "842f1556-ca7c-4d45-d9ad-aa6afd449856"
      },
      "execution_count": 14,
      "outputs": [
        {
          "output_type": "stream",
          "name": "stdout",
          "text": [
            "Epoch 1/10\n",
            "938/938 [==============================] - 52s 54ms/step - loss: 0.0042 - accuracy: 0.9987\n",
            "Epoch 2/10\n",
            "938/938 [==============================] - 50s 54ms/step - loss: 0.0027 - accuracy: 0.9991\n",
            "Epoch 3/10\n",
            "938/938 [==============================] - 49s 53ms/step - loss: 0.0026 - accuracy: 0.9993\n",
            "Epoch 4/10\n",
            "938/938 [==============================] - 51s 54ms/step - loss: 0.0027 - accuracy: 0.9993\n",
            "Epoch 5/10\n",
            "938/938 [==============================] - 49s 52ms/step - loss: 0.0018 - accuracy: 0.9995\n",
            "Epoch 6/10\n",
            "938/938 [==============================] - 51s 54ms/step - loss: 0.0023 - accuracy: 0.9994\n",
            "Epoch 7/10\n",
            "938/938 [==============================] - 49s 52ms/step - loss: 0.0011 - accuracy: 0.9997\n",
            "Epoch 8/10\n",
            "938/938 [==============================] - 51s 55ms/step - loss: 0.0016 - accuracy: 0.9995\n",
            "Epoch 9/10\n",
            "938/938 [==============================] - 50s 53ms/step - loss: 0.0017 - accuracy: 0.9995\n",
            "Epoch 10/10\n",
            "938/938 [==============================] - 51s 54ms/step - loss: 0.0017 - accuracy: 0.9995\n",
            "313/313 [==============================] - 3s 9ms/step - loss: 0.0679 - accuracy: 0.9926\n"
          ]
        }
      ]
    },
    {
      "cell_type": "markdown",
      "source": [
        "| type of network | type of method | loss_function | optimizer | batch_size | epochs | accuracy |\n",
        "| :-: | :-: | :-: | :-: | :-: | :-: | :-: |\n",
        "| ANN | classification | categorical_crossentropy | rmsprop | 128 | 5 | 0.9785\n",
        "| CNN | classification | categorical_crossentropy | rmsprop | 32 | 5 | 0.9935\n",
        "| CNN | classification | categorical_crossentropy | rmsprop | 64 | 10 | 0.9926"
      ],
      "metadata": {
        "id": "utQIHlltg5ef"
      }
    }
  ],
  "metadata": {
    "kernelspec": {
      "display_name": "Python 3 (ipykernel)",
      "language": "python",
      "name": "python3"
    },
    "language_info": {
      "codemirror_mode": {
        "name": "ipython",
        "version": 3
      },
      "file_extension": ".py",
      "mimetype": "text/x-python",
      "name": "python",
      "nbconvert_exporter": "python",
      "pygments_lexer": "ipython3",
      "version": "3.9.17"
    },
    "colab": {
      "provenance": [],
      "include_colab_link": true
    }
  },
  "nbformat": 4,
  "nbformat_minor": 0
}