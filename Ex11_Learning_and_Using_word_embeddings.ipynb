{
  "cells": [
    {
      "cell_type": "markdown",
      "metadata": {
        "id": "view-in-github",
        "colab_type": "text"
      },
      "source": [
        "<a href=\"https://colab.research.google.com/github/niklasfaller/DIS21-BIg-Data/blob/main/Ex11_Learning_and_Using_word_embeddings.ipynb\" target=\"_parent\"><img src=\"https://colab.research.google.com/assets/colab-badge.svg\" alt=\"Open In Colab\"/></a>"
      ]
    },
    {
      "cell_type": "markdown",
      "metadata": {
        "id": "VwPaUBupRToy"
      },
      "source": [
        "<img src=\"https://www.th-koeln.de/img/logo.svg\" style=\"float: right;\" width=\"200\">"
      ]
    },
    {
      "cell_type": "markdown",
      "metadata": {
        "id": "ZxyypWLnRTo-"
      },
      "source": [
        "# 11th exercise: <font color=\"#C70039\">Learning and using word embeddings</font>\n",
        "* Course: DIS21a.1\n",
        "* Lecturer: <a href=\"https://www.gernotheisenberg.de/\">Gernot Heisenberg</a>\n",
        "* Author of notebook modifications and adaptations: Niklas Faller\n",
        "* Date:   21.01.2024\n",
        "\n",
        "<img src=\"https://media.springernature.com/lw685/springer-static/image/art%3A10.1007%2Fs12115-019-00362-9/MediaObjects/12115_2019_362_Fig2_HTML.png?as=webp\" style=\"float: center;\" width=\"600\">\n",
        "\n",
        "---------------------------------\n",
        "**GENERAL NOTE 1**:\n",
        "Please make sure you are reading the entire notebook, since it contains a lot of information about your tasks (e.g. regarding the set of certain paramaters or specific computational tricks, etc.), and the written mark downs as well as comments contain a lot of information on how things work together as a whole.\n",
        "\n",
        "**GENERAL NOTE 2**:\n",
        "* Please, when commenting source code, just use English language only.\n",
        "* When describing an observation (for instance, after you have run through your test plan) you may use German language.\n",
        "This applies to all exercises in DIS 21a.1.  \n",
        "\n",
        "---------------------\n",
        "\n",
        "### <font color=\"ce33ff\">DESCRIPTION</font>:\n",
        "\n",
        "This notebook allows for learning how to create and use word embeddings as another popular and powerful way for associating a word with a vector. While the vectors obtained through one-hot encoding are binary and sparse, which means mostly made of zeros as well as high-dimensional, which means show the same dimensionality as the number of words in the vocabulary, \"word embeddings\" are low-dimensional floating point vectors. In other words these are dense vectors, in contrast to sparse vectors.\n",
        "Unlike word vectors created by one-hot encoding, word embeddings are `learned` from data. It is common to see word embeddings that are 256-dimensional, 512-dimensional or 1024-dimensional when dealing with very large vocabularies. On the other hand, one-hot encoding words generally leads to vectors that are 20.000-dimensional or higher (capturing a vocabulary of 20.000\n",
        "token in this case). So, word embeddings pack more information into far fewer dimensions.\n",
        "\n",
        "There are two ways to get word embeddings:\n",
        "\n",
        "1. Learn word embeddings jointly with the main task, for example document classification or sentiment prediction as already done in the previous exercises.\n",
        "    * start with random word vectors, then learn word vectors in the same way the weights of a neural network are learned.\n",
        "2. Load into the model word embeddings that were pre-computed using a different machine learning task than the one you are trying to solve.\n",
        "    * these are called \"pre-trained word embeddings\"\n",
        "\n",
        "Each of them is taught in a separate PART of this notebook.\n",
        "\n",
        "So let's go for it.\n",
        "\n",
        "-------------------------------------------------------------------------------------------------------------\n",
        "\n",
        "### <font color=\"FFC300\">TASKS</font>:\n",
        "Within this notebook, the tasks that you need to work on are always listed as bullet points below.\n",
        "If a task is more challenging and consists of several steps, this is indicated as well.\n",
        "Make sure you have worked down the task list and commented your doings.\n",
        "This should be done using markdown.<br>\n",
        "<font color=red>Make sure you don't forget to specify your name and your matriculation number in the notebook before submitting it.</font>\n",
        "\n",
        "**YOUR TASKS in this exercise are as follows**:\n",
        "1. import the notebook to Google Colab.\n",
        "2. make sure you specified you name and your matriculation number in the header below my name and date.\n",
        "    * set the date too and remove mine.\n",
        "3. read the entire notebook carefully.\n",
        "    * add comments whereever you feel it necessary for better understanding.\n",
        "    * run the notebook and try to follow and understand all steps and examples.\n",
        "4. in PART II, try to randomly pick different (n=200) training samples and try to find a model. Compare its performance.\n",
        "    * develop a testplan as you have done before, so you do not change parameters arbitrarily and use a table for the validation results.\n",
        "5. in PART II, increase the number of training samples for the task-specific embedding and compare it again with the pre-trained embedding. Does it become better? When does it beat the pre-trained embedding?\n",
        "    * develop a testplan as you have done before, so you do not change parameters arbitrarily and use a table for the validation results\n",
        "    \n",
        "-----------------------------------------------------------------------------------"
      ]
    },
    {
      "cell_type": "markdown",
      "metadata": {
        "id": "R7suxr75RTpD"
      },
      "source": [
        "## <font color=\"#C70039\">PART I</font>\n",
        "### Learning word embeddings with the `Embedding` layer\n",
        "\n",
        "The simplest way to associate a dense vector to a word would be to pick the vector at random. The problem with this approach is that the resulting embedding space would have no structure and that the words \"accurate\" and \"exact\" may end up with completely different embeddings even though they are interchangeable in many sentences. It would be very difficult for a deep neural network to make sense of such a noisy, unstructured embedding space.\n",
        "\n",
        "This is why within a good embedding space a geometric relationships between word vectors should reflect the semantic relationships between these words. Hence it would to be expected that the geometric distance (e.g. L2 distance) between any two word vectors do relate to the semantic distance of the associated words. I.e., words meaning very different things would be embedded to points far away from each other, while related words would be closer.\n",
        "\n",
        "However, pragmatically seen, what makes a good word embedding space depends heavily on the task at hand. Thus the perfect word embedding space for an English-language movie review sentiment analysis model may look very different from the perfect embedding space for an English-language legal document classification model, because the importance of certain semantic relationships varies from task to task. It is thus reasonable to learn a new embedding space with every new task.\n",
        "\n",
        "Thanks to backpropagation this learning is really easy and thanks to Keras it becomes even easier.\n",
        "Finally it is just about learning the weights of a layer, the so-called `Embedding` layer and this is what PART I is all about."
      ]
    },
    {
      "cell_type": "markdown",
      "metadata": {
        "id": "nYSOO5A3RTpG"
      },
      "source": [
        "### START OF THE NOTEBOOK CODE\n",
        "----------------------------------------------------------------------------------------------------------------------"
      ]
    },
    {
      "cell_type": "code",
      "execution_count": 7,
      "metadata": {
        "tags": [],
        "id": "eAY4Yvo2RTpH"
      },
      "outputs": [],
      "source": [
        "import tensorflow as tf\n",
        "#tensorflow.keras.__version__"
      ]
    },
    {
      "cell_type": "code",
      "execution_count": 2,
      "metadata": {
        "tags": [],
        "id": "RLgPNi6FRTpM"
      },
      "outputs": [],
      "source": [
        "from tensorflow.keras.layers import Embedding\n",
        "\n",
        "# The Embedding layer takes at least two arguments:\n",
        "# the number of possible tokens, here 1000 (1 + maximum word index),\n",
        "# and the dimensionality of the embeddings, here 64.\n",
        "embedding_layer = Embedding(1000, 64)"
      ]
    },
    {
      "cell_type": "markdown",
      "metadata": {
        "id": "LCzY-G2eRTpN"
      },
      "source": [
        "The `Embedding` layer is best understood as a dictionary mapping integer indices (which stand for specific words) to dense vectors. It takes as input those integers, it looks them up in an internal dictionary and finally, it returns the associated vectors. Hence, it is effectively a dictionary lookup."
      ]
    },
    {
      "cell_type": "markdown",
      "metadata": {
        "id": "XO7sy7PFRTpP"
      },
      "source": [
        "The `Embedding` layer takes as input a 2D tensor of integers, of shape `(samples, sequence_length)`, where each entry is a sequence of integers. It can embed sequences of variable lengths, so e.g. one could feed into the embedding layer above batches that could have shapes `(32, 10)` (batch of 32 sequences of length 10) or `(64, 15)` (batch of 64 sequences of length 15). Note that all sequences in a batch must have the same length since they need to be packed into a single tensor and so, sequences  shorter than others should be padded (filled-in) with zeros and sequences that are longer should be truncated (cut).\n",
        "\n",
        "The layer above returns a 3D floating point tensor, of shape `(samples, sequence_length, embedding_dimensionality)`. Such a 3D tensor can then be processed by a recurrent (RNN) or a convolution layer (CNN). For the RNN case see next exercise.\n",
        "\n",
        "When instantiating an `Embedding` layer, its weights (its internal dictionary of token vectors) are initially random, just as always like with any other layer. During training, these word vectors will be gradually adjusted via backpropagation, structuring the space into something that the downstream model can exploit. Once fully trained, the trained embedding space will show a lot of structure - a kind of structure specialized for the specific problem at hand.\n",
        "\n",
        "-----------\n",
        "\n",
        "Now, let us apply this idea to the IMDB movie review sentiment prediction task from the earlier exercise.\n",
        "Quickly prepare the data. The movie reviews will be restricted to the top 10.000 most common words (like the first time when working with this data set), and then the reviews are cut off after only 20 words. <br>\n",
        "The network will simply learn 8-dimensional embeddings for each of the 10.000 words, then turn the input integer sequences (2D integer tensor) into embedded sequences (3D float tensor), flatten the tensor to 2D and train a single `Dense` layer on top for classification."
      ]
    },
    {
      "cell_type": "code",
      "execution_count": 3,
      "metadata": {
        "tags": [],
        "colab": {
          "base_uri": "https://localhost:8080/"
        },
        "id": "3qXEVHp6RTpQ",
        "outputId": "6250dc29-c4e8-4cb1-a6ce-62ca4ce5d7c3"
      },
      "outputs": [
        {
          "output_type": "stream",
          "name": "stdout",
          "text": [
            "Downloading data from https://storage.googleapis.com/tensorflow/tf-keras-datasets/imdb.npz\n",
            "17464789/17464789 [==============================] - 0s 0us/step\n"
          ]
        }
      ],
      "source": [
        "from tensorflow.keras.datasets import imdb\n",
        "from tensorflow.keras import preprocessing\n",
        "\n",
        "# Number of words to consider as features\n",
        "max_features = 10000\n",
        "# Cut texts after this number of words\n",
        "# (among top max_features most common words)\n",
        "maxlen = 20\n",
        "\n",
        "# Load the data as lists of integers.\n",
        "(x_train, y_train), (x_test, y_test) = imdb.load_data(num_words=max_features)\n",
        "\n",
        "# This turns the lists of integers into a 2D integer tensor of shape `(samples, maxlen)`\n",
        "x_train = preprocessing.sequence.pad_sequences(x_train, maxlen=maxlen)\n",
        "x_test = preprocessing.sequence.pad_sequences(x_test, maxlen=maxlen)"
      ]
    },
    {
      "cell_type": "code",
      "execution_count": 4,
      "metadata": {
        "tags": [],
        "colab": {
          "base_uri": "https://localhost:8080/"
        },
        "id": "8jTtZJXZRTpS",
        "outputId": "65cb8675-f9bb-4eee-d1f5-150be11d67a1"
      },
      "outputs": [
        {
          "output_type": "stream",
          "name": "stdout",
          "text": [
            "Model: \"sequential\"\n",
            "_________________________________________________________________\n",
            " Layer (type)                Output Shape              Param #   \n",
            "=================================================================\n",
            " embedding_1 (Embedding)     (None, 20, 8)             80000     \n",
            "                                                                 \n",
            " flatten (Flatten)           (None, 160)               0         \n",
            "                                                                 \n",
            " dense (Dense)               (None, 1)                 161       \n",
            "                                                                 \n",
            "=================================================================\n",
            "Total params: 80161 (313.13 KB)\n",
            "Trainable params: 80161 (313.13 KB)\n",
            "Non-trainable params: 0 (0.00 Byte)\n",
            "_________________________________________________________________\n",
            "Epoch 1/10\n",
            "625/625 [==============================] - 2s 3ms/step - loss: 0.6701 - acc: 0.6200 - val_loss: 0.6180 - val_acc: 0.6942\n",
            "Epoch 2/10\n",
            "625/625 [==============================] - 2s 3ms/step - loss: 0.5418 - acc: 0.7505 - val_loss: 0.5256 - val_acc: 0.7290\n",
            "Epoch 3/10\n",
            "625/625 [==============================] - 2s 3ms/step - loss: 0.4645 - acc: 0.7864 - val_loss: 0.5011 - val_acc: 0.7444\n",
            "Epoch 4/10\n",
            "625/625 [==============================] - 1s 2ms/step - loss: 0.4271 - acc: 0.8063 - val_loss: 0.4953 - val_acc: 0.7488\n",
            "Epoch 5/10\n",
            "625/625 [==============================] - 1s 2ms/step - loss: 0.4016 - acc: 0.8203 - val_loss: 0.4931 - val_acc: 0.7528\n",
            "Epoch 6/10\n",
            "625/625 [==============================] - 2s 3ms/step - loss: 0.3812 - acc: 0.8331 - val_loss: 0.4977 - val_acc: 0.7506\n",
            "Epoch 7/10\n",
            "625/625 [==============================] - 2s 2ms/step - loss: 0.3637 - acc: 0.8432 - val_loss: 0.5001 - val_acc: 0.7512\n",
            "Epoch 8/10\n",
            "625/625 [==============================] - 1s 2ms/step - loss: 0.3471 - acc: 0.8527 - val_loss: 0.5047 - val_acc: 0.7498\n",
            "Epoch 9/10\n",
            "625/625 [==============================] - 2s 2ms/step - loss: 0.3310 - acc: 0.8626 - val_loss: 0.5097 - val_acc: 0.7528\n",
            "Epoch 10/10\n",
            "625/625 [==============================] - 2s 3ms/step - loss: 0.3154 - acc: 0.8717 - val_loss: 0.5173 - val_acc: 0.7510\n"
          ]
        }
      ],
      "source": [
        "from tensorflow.keras.models import Sequential\n",
        "from tensorflow.keras.layers import Flatten, Dense\n",
        "\n",
        "model = Sequential()\n",
        "# Specify the maximum input length to the Embedding layer\n",
        "# Later flatten the embedded inputs\n",
        "model.add(Embedding(10000, 8, input_length=maxlen))\n",
        "# After the Embedding layer, the activations have shape `(samples, maxlen, 8)`.\n",
        "\n",
        "# Flatten the 3D tensor of embeddings into a 2D tensor of shape `(samples, maxlen * 8)`\n",
        "model.add(Flatten())\n",
        "\n",
        "# Add the classifier on top with a single Dense layer\n",
        "model.add(Dense(1, activation='sigmoid'))\n",
        "model.compile(optimizer='rmsprop', loss='binary_crossentropy', metrics=['acc'])\n",
        "model.summary()\n",
        "\n",
        "# use the history object again\n",
        "history = model.fit(x_train, y_train,\n",
        "                    epochs=10,\n",
        "                    batch_size=32,\n",
        "                    validation_split=0.2)"
      ]
    },
    {
      "cell_type": "markdown",
      "metadata": {
        "id": "vImpps9gRTpT"
      },
      "source": [
        "The validation accuracy is about 72-76%, which is pretty good considering that only the first 20 words in every review were taken into account.\n",
        "\n",
        "But note that merely flattening the embedded sequences and training a single `Dense` layer on top leads to a model that treats each word in the input sequence separately, without considering inter-word relationships and structured sentences (for example it would treat both _\"this movie is shit\"_ and _\"this movie is the shit\"_ as being negative \"reviews\" which is obviously not true).\n",
        "\n",
        "It would be much better to add recurrent layers or 1D convolutional layers on top of the embedded sequences to learn features that take into account each sequence as a whole. However, that's the content of the next exercise.\n",
        "\n",
        "----------------------------------------------------"
      ]
    },
    {
      "cell_type": "markdown",
      "metadata": {
        "id": "1xHJeSBURTpU"
      },
      "source": [
        "## <font color=\"#C70039\">PART II</font>\n",
        "### Using `pre-trained` word embeddings\n",
        "\n",
        "Instead of learning word embeddings jointly with the problem, embedding vectors can be loaded from a pre-computed embedding space known to be highly structured and to exhibit useful properties that captures generic aspects of language structure.\n",
        "\n",
        "The reseaon behind using pre-trained word embeddings in natural language processing is very much the same as for using pre-trained CNNs in image classification. There is simply not enough data available to learn truly powerful features on its own but it is expected that the features needed are fairly generic, i.e. common visual features or semantic features. In this case it makes sense to re-use features learned on a different problem.\n",
        "\n",
        "Such word embeddings are generally computed using word occurrence statistics which are observations about what words co-occur in sentences or documents, using a variety of techniques, some involving neural networks, others not.\n",
        "The idea of a dense, low-dimensional embedding space for words computed in an unsupervised way, was initially explored by Bengio et al. in the early 2000s, but it only started really taking off in research and industry applications after the release of one of the most famous and successful word embedding scheme: the Word2Vec algorithm, developed by Mikolov at Google in 2013.<br>\n",
        "\n",
        "There are various pre-computed databases of word embeddings that can be downloaded and started with using a Keras `Embedding` layer. \"Word2Vec\" is one of them. Another popular one is called \"GloVe\", developed by Stanford researchers in 2014.\n",
        "It stands for \"Global Vectors for Word Representation\" and it is an embedding technique based on factorizing a matrix of word co-occurrence statistics. Its developers have made available pre-computed embeddings for millions of English tokens, obtained from Wikipedia data or from common crawl data.\n",
        "\n",
        "Let us take a look at how GloVe embeddings in a Keras model can be used. The same method will of course be valid for Word2Vec embeddings or any other word embedding database."
      ]
    },
    {
      "cell_type": "markdown",
      "metadata": {
        "id": "dGD2imExRTpV"
      },
      "source": [
        "### START OF THE NOTEBOOK CODE\n",
        "----------------------------------------------------------------------------------------------------------------------"
      ]
    },
    {
      "cell_type": "markdown",
      "metadata": {
        "id": "cGl1iUpbRTpV"
      },
      "source": [
        "## Putting it all together: from raw text to word embeddings\n",
        "\n",
        "Use a model similar to the one that was just used earlier -- embedding sentences in sequences of vectors, flattening them and training a `Dense` layer on top. But now, this will be done using pre-trained word embeddings and instead of using the pre-tokenized IMDB data packaged in Keras it will be started from scratch by downloading the original text data."
      ]
    },
    {
      "cell_type": "markdown",
      "metadata": {
        "id": "ol21hvSgRTpW"
      },
      "source": [
        "### Download the IMDB data as raw text\n",
        "\n",
        "First, head to `http://ai.stanford.edu/~amaas/data/sentiment/` and download the raw IMDB data set. Anyways, this data set is distributed and available all over the web and can be found anywhere. After downloading, uncompress it."
      ]
    },
    {
      "cell_type": "markdown",
      "metadata": {
        "id": "Iar8ywN5RTpX"
      },
      "source": [
        "Now, using some lines of code, collect the individual training reviews into a list of strings, one string per review, and also collect the review labels (positive / negative) into a `labels` list. Make sure you are uploading the data to your Google Drive if you are using Google Colab."
      ]
    },
    {
      "cell_type": "code",
      "source": [
        "import os\n",
        " #download and extract the dataset, then explore the directory structure\n",
        "url = \"https://ai.stanford.edu/~amaas/data/sentiment/aclImdb_v1.tar.gz\"\n",
        "\n",
        "dataset = tf.keras.utils.get_file(\"aclImdb_v1.tar.gz\", url,\n",
        "                                    untar=True, cache_dir='.',\n",
        "                                    cache_subdir='')\n",
        "\n",
        "dataset_dir = os.path.join(os.path.dirname(dataset), 'aclImdb')\n"
      ],
      "metadata": {
        "colab": {
          "base_uri": "https://localhost:8080/"
        },
        "id": "JVXwEg_HesXP",
        "outputId": "f19fbbc3-bb07-4776-fcde-cff2be9815a3"
      },
      "execution_count": 8,
      "outputs": [
        {
          "output_type": "stream",
          "name": "stdout",
          "text": [
            "Downloading data from https://ai.stanford.edu/~amaas/data/sentiment/aclImdb_v1.tar.gz\n",
            "84125825/84125825 [==============================] - 5s 0us/step\n"
          ]
        }
      ]
    },
    {
      "cell_type": "code",
      "execution_count": 12,
      "metadata": {
        "tags": [],
        "id": "ONKInuJLRTpX"
      },
      "outputs": [],
      "source": [
        "import os\n",
        "\n",
        "imdb_dir = 'aclImdb'\n",
        "train_dir = os.path.join(imdb_dir, 'train')\n",
        "\n",
        "labels = []\n",
        "texts = []\n",
        "\n",
        "for label_type in ['neg', 'pos']:\n",
        "    dir_name = os.path.join(train_dir, label_type)\n",
        "    for fname in os.listdir(dir_name):\n",
        "        if fname[-4:] == '.txt':\n",
        "            f = open(os.path.join(dir_name, fname), encoding=\"utf8\")\n",
        "            texts.append(f.read())\n",
        "            f.close()\n",
        "            if label_type == 'neg':\n",
        "                labels.append(0)\n",
        "            else:\n",
        "                labels.append(1)"
      ]
    },
    {
      "cell_type": "markdown",
      "metadata": {
        "id": "guxfFL7QRTpZ"
      },
      "source": [
        "### Tokenization\n",
        "\n",
        "Vectorize the texts and prepare a training and validation split. Use the same concepts that were introduced earlier in the notebook of exercise #10.\n",
        "\n",
        "Because pre-trained word embeddings are meant to be particularly useful on problems where little training data is available, add the following restriction (otherwise, task-specific embeddings are always outperforming them):\n",
        "\n",
        "* restrict the training data to its first 200 samples only. Hence, try to let the model learn to classify movie reviews after looking at just 200 examples. That is almost nothing and we will see how far we can get with this."
      ]
    },
    {
      "cell_type": "code",
      "execution_count": 13,
      "metadata": {
        "tags": [],
        "colab": {
          "base_uri": "https://localhost:8080/"
        },
        "id": "3bEdA4pMRTpa",
        "outputId": "305b56ed-9f7c-4403-ba4a-686aae9cf8a6"
      },
      "outputs": [
        {
          "output_type": "stream",
          "name": "stdout",
          "text": [
            "Found 88582 unique tokens\n",
            "Shape of data tensor: (25000, 100)\n",
            "Shape of label tensor: (25000,)\n"
          ]
        }
      ],
      "source": [
        "from tensorflow.keras.preprocessing.text import Tokenizer\n",
        "from tensorflow.keras.preprocessing.sequence import pad_sequences\n",
        "import numpy as np\n",
        "\n",
        "maxlen = 100  # cut reviews after 100 words\n",
        "training_samples = 200  # training on 200 samples only\n",
        "validation_samples = 10000  # validation on 10000 samples\n",
        "max_words = 10000  # consider the top 10000 words in the data set\n",
        "\n",
        "tokenizer = Tokenizer(num_words=max_words)\n",
        "tokenizer.fit_on_texts(texts)\n",
        "sequences = tokenizer.texts_to_sequences(texts)\n",
        "\n",
        "word_index = tokenizer.word_index\n",
        "print('Found %s unique tokens' % len(word_index))\n",
        "\n",
        "data = pad_sequences(sequences, maxlen=maxlen)\n",
        "\n",
        "labels = np.asarray(labels)\n",
        "print('Shape of data tensor:', data.shape)\n",
        "print('Shape of label tensor:', labels.shape)\n",
        "\n",
        "# Split the data into a training set and a validation set\n",
        "# But first, shuffle the data, since the data samples are\n",
        "# ordered (all negative first, then all positive)\n",
        "''' NOTE: Better always shuffle if you are not sure data is ordered'''\n",
        "indices = np.arange(data.shape[0])\n",
        "np.random.shuffle(indices)\n",
        "data = data[indices]\n",
        "labels = labels[indices]\n",
        "\n",
        "x_train = data[:training_samples]\n",
        "y_train = labels[:training_samples]\n",
        "x_val = data[training_samples: training_samples + validation_samples]\n",
        "y_val = labels[training_samples: training_samples + validation_samples]"
      ]
    },
    {
      "cell_type": "markdown",
      "metadata": {
        "id": "UgfiI2AGRTpb"
      },
      "source": [
        "### Downloading the GloVe word embeddings\n",
        "\n",
        "Please visit `https://nlp.stanford.edu/projects/glove/` and download the pre-computed embeddings from 2014 English Wikipedia.\n",
        "By the way, this site is an excellent ressource for further reading where you can learn more about the GloVe algorithm.\n",
        "The pre-computed embeddings are packed together in a 822MB zip file named `glove.6B.zip`, containing 100-dimensional embedding vectors for 400.000 words. Unzip it and put it into the local disk data folder. Since its size is too large for Moodle, I recommend to download it yourself. If you are working on Google Colab please upload the necessary file \"glove.6B.100d.txt\" into your Google drive rather than the entire zip file content."
      ]
    },
    {
      "cell_type": "markdown",
      "metadata": {
        "id": "NLzkRaSORTpb"
      },
      "source": [
        "### Preprocessing the embeddings\n",
        "\n",
        "Parse the unzipped file to build an index, mapping words (as strings) to their vector representation (as number vectors)."
      ]
    },
    {
      "cell_type": "code",
      "source": [
        "!wget http://nlp.stanford.edu/data/glove.6B.zip"
      ],
      "metadata": {
        "colab": {
          "base_uri": "https://localhost:8080/"
        },
        "id": "g13l8mnqmO5O",
        "outputId": "ddd1920f-8827-4b9f-c465-18018f7e210f"
      },
      "execution_count": 15,
      "outputs": [
        {
          "output_type": "stream",
          "name": "stdout",
          "text": [
            "--2024-01-21 15:17:18--  http://nlp.stanford.edu/data/glove.6B.zip\n",
            "Resolving nlp.stanford.edu (nlp.stanford.edu)... 171.64.67.140\n",
            "Connecting to nlp.stanford.edu (nlp.stanford.edu)|171.64.67.140|:80... connected.\n",
            "HTTP request sent, awaiting response... 302 Found\n",
            "Location: https://nlp.stanford.edu/data/glove.6B.zip [following]\n",
            "--2024-01-21 15:17:18--  https://nlp.stanford.edu/data/glove.6B.zip\n",
            "Connecting to nlp.stanford.edu (nlp.stanford.edu)|171.64.67.140|:443... connected.\n",
            "HTTP request sent, awaiting response... 301 Moved Permanently\n",
            "Location: https://downloads.cs.stanford.edu/nlp/data/glove.6B.zip [following]\n",
            "--2024-01-21 15:17:18--  https://downloads.cs.stanford.edu/nlp/data/glove.6B.zip\n",
            "Resolving downloads.cs.stanford.edu (downloads.cs.stanford.edu)... 171.64.64.22\n",
            "Connecting to downloads.cs.stanford.edu (downloads.cs.stanford.edu)|171.64.64.22|:443... connected.\n",
            "HTTP request sent, awaiting response... 200 OK\n",
            "Length: 862182613 (822M) [application/zip]\n",
            "Saving to: ‘glove.6B.zip’\n",
            "\n",
            "glove.6B.zip        100%[===================>] 822.24M  5.01MB/s    in 2m 39s  \n",
            "\n",
            "2024-01-21 15:19:58 (5.16 MB/s) - ‘glove.6B.zip’ saved [862182613/862182613]\n",
            "\n"
          ]
        }
      ]
    },
    {
      "cell_type": "code",
      "source": [
        "!unzip -q /content/glove.6B.zip -d data"
      ],
      "metadata": {
        "id": "-5QrqF0RnEFO"
      },
      "execution_count": 16,
      "outputs": []
    },
    {
      "cell_type": "code",
      "execution_count": 18,
      "metadata": {
        "tags": [],
        "colab": {
          "base_uri": "https://localhost:8080/"
        },
        "id": "FkpTG0OuRTpc",
        "outputId": "9c6b0fdf-152a-4deb-e7fa-dd59cf20cabd"
      },
      "outputs": [
        {
          "output_type": "stream",
          "name": "stdout",
          "text": [
            "Found 400000 word vectors\n"
          ]
        }
      ],
      "source": [
        "glove_dir = 'data'\n",
        "\n",
        "embeddings_index = {}\n",
        "f = open(os.path.join(glove_dir, 'glove.6B.100d.txt'), encoding=\"utf8\")\n",
        "for line in f:\n",
        "    values = line.split()\n",
        "    word = values[0]\n",
        "    coefs = np.asarray(values[1:], dtype='float32')\n",
        "    embeddings_index[word] = coefs\n",
        "f.close()\n",
        "\n",
        "print('Found %s word vectors' % len(embeddings_index))"
      ]
    },
    {
      "cell_type": "markdown",
      "metadata": {
        "id": "L5vLqz_tRTpc"
      },
      "source": [
        "Now, build an embedding matrix that can be loaded into an `Embedding` layer. It must be a matrix of shape `(max_words,embedding_dim)`, where each entry `i` contains the `embedding_dim`-dimensional vector for the word of index `i` in our reference word index (built during tokenization). Note that the index `0` is not supposed to stand for any word or token. It is simply a placeholder."
      ]
    },
    {
      "cell_type": "code",
      "execution_count": 19,
      "metadata": {
        "tags": [],
        "id": "R90AQVyURTpd"
      },
      "outputs": [],
      "source": [
        "embedding_dim = 100\n",
        "embedding_matrix = np.zeros((max_words, embedding_dim))\n",
        "\n",
        "for word, i in word_index.items():\n",
        "    embedding_vector = embeddings_index.get(word)\n",
        "    if i < max_words:\n",
        "        if embedding_vector is not None:\n",
        "            # Words not found in the embedding index will be all-zeros\n",
        "            embedding_matrix[i] = embedding_vector"
      ]
    },
    {
      "cell_type": "markdown",
      "metadata": {
        "id": "7a_IzHpeRTpd"
      },
      "source": [
        "### Model definition\n",
        "\n",
        "Use the same model architecture as before, using a Dense layer."
      ]
    },
    {
      "cell_type": "code",
      "execution_count": 20,
      "metadata": {
        "tags": [],
        "colab": {
          "base_uri": "https://localhost:8080/"
        },
        "id": "obvgkSUCRTpe",
        "outputId": "f88d5e0b-3c1d-4e8a-bb47-bf733ddf0b60"
      },
      "outputs": [
        {
          "output_type": "stream",
          "name": "stdout",
          "text": [
            "Model: \"sequential_1\"\n",
            "_________________________________________________________________\n",
            " Layer (type)                Output Shape              Param #   \n",
            "=================================================================\n",
            " embedding_2 (Embedding)     (None, 100, 100)          1000000   \n",
            "                                                                 \n",
            " flatten_1 (Flatten)         (None, 10000)             0         \n",
            "                                                                 \n",
            " dense_1 (Dense)             (None, 32)                320032    \n",
            "                                                                 \n",
            " dense_2 (Dense)             (None, 1)                 33        \n",
            "                                                                 \n",
            "=================================================================\n",
            "Total params: 1320065 (5.04 MB)\n",
            "Trainable params: 1320065 (5.04 MB)\n",
            "Non-trainable params: 0 (0.00 Byte)\n",
            "_________________________________________________________________\n"
          ]
        }
      ],
      "source": [
        "from tensorflow.keras.models import Sequential\n",
        "from tensorflow.keras.layers import Embedding, Flatten, Dense\n",
        "\n",
        "model = Sequential()\n",
        "model.add(Embedding(max_words, embedding_dim, input_length=maxlen))\n",
        "model.add(Flatten())\n",
        "model.add(Dense(32, activation='relu'))\n",
        "model.add(Dense(1, activation='sigmoid'))\n",
        "model.summary()"
      ]
    },
    {
      "cell_type": "markdown",
      "metadata": {
        "id": "Hvcjo3f-RTpf"
      },
      "source": [
        "### Loading the GloVe embeddings in the model\n",
        "\n",
        "The `Embedding` layer has got a single weight matrix. It is a 2D float matrix where each entry `i` is the word vector meant to be associated with index `i`. Simple enough! Load the GloVe matrix into the `Embedding` layer, which is the first layer in the model."
      ]
    },
    {
      "cell_type": "code",
      "execution_count": 21,
      "metadata": {
        "tags": [],
        "id": "HM48A2g2RTpf"
      },
      "outputs": [],
      "source": [
        "model.layers[0].set_weights([embedding_matrix])\n",
        "model.layers[0].trainable = False"
      ]
    },
    {
      "cell_type": "markdown",
      "metadata": {
        "id": "pRWWEl_4RTpg"
      },
      "source": [
        "Additionally, freeze the embedding layer by setting its `trainable` attribute to `False`, following the same idea that we are already familiar with in the context of pre.trained CNN features in the earlier exercise. The idea was that when parts of a model are pre-trained like this `Embedding` layer and parts are randomly initialized like this classifier, then the pre-trained parts should not be updated during training to avoid forgetting what they already know.\n",
        "The large gradient update triggered by the randomly initialized layers would be very disruptive to the already learned features."
      ]
    },
    {
      "cell_type": "markdown",
      "metadata": {
        "id": "fS6Td7e3RTpg"
      },
      "source": [
        "### Training and evaluating\n",
        "\n",
        "Compile the model and then train and validate it in one pass."
      ]
    },
    {
      "cell_type": "code",
      "execution_count": 22,
      "metadata": {
        "tags": [],
        "colab": {
          "base_uri": "https://localhost:8080/"
        },
        "id": "H1r1Xg3-RTph",
        "outputId": "e36bce90-c111-42b8-82fb-eea3f1935deb"
      },
      "outputs": [
        {
          "output_type": "stream",
          "name": "stdout",
          "text": [
            "Epoch 1/10\n",
            "7/7 [==============================] - 2s 142ms/step - loss: 1.9916 - acc: 0.5200 - val_loss: 0.7126 - val_acc: 0.5370\n",
            "Epoch 2/10\n",
            "7/7 [==============================] - 1s 120ms/step - loss: 0.4801 - acc: 0.8000 - val_loss: 0.8074 - val_acc: 0.5100\n",
            "Epoch 3/10\n",
            "7/7 [==============================] - 1s 221ms/step - loss: 0.3905 - acc: 0.8000 - val_loss: 0.7048 - val_acc: 0.5715\n",
            "Epoch 4/10\n",
            "7/7 [==============================] - 1s 225ms/step - loss: 0.4622 - acc: 0.7750 - val_loss: 0.6926 - val_acc: 0.5755\n",
            "Epoch 5/10\n",
            "7/7 [==============================] - 1s 226ms/step - loss: 0.1368 - acc: 0.9900 - val_loss: 0.9085 - val_acc: 0.5181\n",
            "Epoch 6/10\n",
            "7/7 [==============================] - 1s 115ms/step - loss: 0.1152 - acc: 0.9850 - val_loss: 0.9915 - val_acc: 0.5127\n",
            "Epoch 7/10\n",
            "7/7 [==============================] - 1s 120ms/step - loss: 0.2622 - acc: 0.8650 - val_loss: 0.7246 - val_acc: 0.5809\n",
            "Epoch 8/10\n",
            "7/7 [==============================] - 1s 118ms/step - loss: 0.0497 - acc: 1.0000 - val_loss: 0.7623 - val_acc: 0.5750\n",
            "Epoch 9/10\n",
            "7/7 [==============================] - 1s 219ms/step - loss: 0.0351 - acc: 1.0000 - val_loss: 0.8676 - val_acc: 0.5501\n",
            "Epoch 10/10\n",
            "7/7 [==============================] - 1s 115ms/step - loss: 0.0283 - acc: 1.0000 - val_loss: 1.3531 - val_acc: 0.5093\n"
          ]
        }
      ],
      "source": [
        "model.compile(optimizer='rmsprop',\n",
        "              loss='binary_crossentropy',\n",
        "              metrics=['acc'])\n",
        "\n",
        "history = model.fit(x_train, y_train,\n",
        "                    epochs=10,\n",
        "                    batch_size=32,\n",
        "                    validation_data=(x_val, y_val))\n",
        "\n",
        "model.save_weights('Ex.11.pretrained_GloVe_model.h5')"
      ]
    },
    {
      "cell_type": "markdown",
      "metadata": {
        "id": "hMp3pRt5RTph"
      },
      "source": [
        "Plot its performance"
      ]
    },
    {
      "cell_type": "code",
      "execution_count": 23,
      "metadata": {
        "tags": [],
        "colab": {
          "base_uri": "https://localhost:8080/",
          "height": 887
        },
        "id": "mf3L2VGsRTph",
        "outputId": "064f76fc-a7e6-4ff0-f55c-fccae6e5534c"
      },
      "outputs": [
        {
          "output_type": "display_data",
          "data": {
            "text/plain": [
              "<Figure size 640x480 with 1 Axes>"
            ],
            "image/png": "[encoded data removed]"
          },
          "metadata": {}
        },
        {
          "output_type": "display_data",
          "data": {
            "text/plain": [
              "<Figure size 640x480 with 1 Axes>"
            ],
            "image/png": "[encoded data removed]"
          },
          "metadata": {}
        }
      ],
      "source": [
        "import matplotlib.pyplot as plt\n",
        "\n",
        "acc = history.history['acc']\n",
        "val_acc = history.history['val_acc']\n",
        "loss = history.history['loss']\n",
        "val_loss = history.history['val_loss']\n",
        "\n",
        "epochs = range(1, len(acc) + 1)\n",
        "\n",
        "plt.plot(epochs, acc, 'bo', label='Training acc')\n",
        "plt.plot(epochs, val_acc, 'b', label='Validation acc')\n",
        "plt.title('Training and validation accuracy')\n",
        "plt.legend()\n",
        "\n",
        "plt.figure()\n",
        "\n",
        "plt.plot(epochs, loss, 'bo', label='Training loss')\n",
        "plt.plot(epochs, val_loss, 'b', label='Validation loss')\n",
        "plt.title('Training and validation loss')\n",
        "plt.legend()\n",
        "\n",
        "plt.show()"
      ]
    },
    {
      "cell_type": "markdown",
      "metadata": {
        "id": "nOKeeU4URTpi"
      },
      "source": [
        "The model quickly starts overfitting which is not surprising due to the small number of training samples. Validation accuracy has high variance for the same reason but seems to reach high 50s.\n",
        "\n",
        "Note that the precision may vary since there are so few training samples, that performance heavily depends on which exact 200 samples were picked and in this example they were picked at random (see your task list).\n",
        "\n",
        "----------------\n",
        "### Another attempt\n",
        "We can also try to train the same model <u>without</u> loading the pre-trained word embeddings and <u>without</u> freezing the embedding layer. In that case, it will result in learning a task-specific embedding of the input tokens which is generally more powerful than pre-trained word embeddings when lots of data is available. However, in this case here, there are only 200 training samples available. So let's go for it."
      ]
    },
    {
      "cell_type": "code",
      "execution_count": 24,
      "metadata": {
        "tags": [],
        "colab": {
          "base_uri": "https://localhost:8080/"
        },
        "id": "U2iUlF20RTpi",
        "outputId": "805917cb-b058-4a1c-a8e7-8a3333ccc1c1"
      },
      "outputs": [
        {
          "output_type": "stream",
          "name": "stdout",
          "text": [
            "Model: \"sequential_2\"\n",
            "_________________________________________________________________\n",
            " Layer (type)                Output Shape              Param #   \n",
            "=================================================================\n",
            " embedding_3 (Embedding)     (None, 100, 100)          1000000   \n",
            "                                                                 \n",
            " flatten_2 (Flatten)         (None, 10000)             0         \n",
            "                                                                 \n",
            " dense_3 (Dense)             (None, 32)                320032    \n",
            "                                                                 \n",
            " dense_4 (Dense)             (None, 1)                 33        \n",
            "                                                                 \n",
            "=================================================================\n",
            "Total params: 1320065 (5.04 MB)\n",
            "Trainable params: 1320065 (5.04 MB)\n",
            "Non-trainable params: 0 (0.00 Byte)\n",
            "_________________________________________________________________\n",
            "Epoch 1/10\n",
            "7/7 [==============================] - 2s 264ms/step - loss: 0.6944 - acc: 0.5050 - val_loss: 0.6919 - val_acc: 0.5190\n",
            "Epoch 2/10\n",
            "7/7 [==============================] - 1s 204ms/step - loss: 0.5518 - acc: 1.0000 - val_loss: 0.6922 - val_acc: 0.5157\n",
            "Epoch 3/10\n",
            "7/7 [==============================] - 1s 232ms/step - loss: 0.3831 - acc: 1.0000 - val_loss: 0.6966 - val_acc: 0.5210\n",
            "Epoch 4/10\n",
            "7/7 [==============================] - 1s 229ms/step - loss: 0.2168 - acc: 1.0000 - val_loss: 0.6957 - val_acc: 0.5248\n",
            "Epoch 5/10\n",
            "7/7 [==============================] - 1s 130ms/step - loss: 0.1145 - acc: 1.0000 - val_loss: 0.7016 - val_acc: 0.5318\n",
            "Epoch 6/10\n",
            "7/7 [==============================] - 1s 118ms/step - loss: 0.0651 - acc: 1.0000 - val_loss: 0.7048 - val_acc: 0.5305\n",
            "Epoch 7/10\n",
            "7/7 [==============================] - 1s 227ms/step - loss: 0.0389 - acc: 1.0000 - val_loss: 0.7091 - val_acc: 0.5342\n",
            "Epoch 8/10\n",
            "7/7 [==============================] - 1s 116ms/step - loss: 0.0250 - acc: 1.0000 - val_loss: 0.7152 - val_acc: 0.5338\n",
            "Epoch 9/10\n",
            "7/7 [==============================] - 1s 128ms/step - loss: 0.0170 - acc: 1.0000 - val_loss: 0.7187 - val_acc: 0.5346\n",
            "Epoch 10/10\n",
            "7/7 [==============================] - 1s 228ms/step - loss: 0.0121 - acc: 1.0000 - val_loss: 0.7253 - val_acc: 0.5354\n"
          ]
        }
      ],
      "source": [
        "from tensorflow.keras.models import Sequential\n",
        "from tensorflow.keras.layers import Embedding, Flatten, Dense\n",
        "\n",
        "#-----------------------------------------------------------------\n",
        "maxlen = 100  # cut reviews after 100 words\n",
        "training_samples = 200  # training on 200 samples only\n",
        "validation_samples = 10000  # validation on 10000 samples\n",
        "max_words = 10000  # consider the top 10,000 words in the data set\n",
        "# Number of words to consider as features\n",
        "embedding_dim=100\n",
        "#-----------------------------------------------------------------\n",
        "\n",
        "model = Sequential()\n",
        "model.add(Embedding(max_words, embedding_dim, input_length=maxlen))\n",
        "model.add(Flatten())\n",
        "model.add(Dense(32, activation='relu'))\n",
        "model.add(Dense(1, activation='sigmoid'))\n",
        "model.summary()\n",
        "\n",
        "model.compile(optimizer='rmsprop',\n",
        "              loss='binary_crossentropy',\n",
        "              metrics=['acc'])\n",
        "\n",
        "history = model.fit(x_train, y_train,\n",
        "                    epochs=10,\n",
        "                    batch_size=32,\n",
        "                    validation_data=(x_val, y_val))"
      ]
    },
    {
      "cell_type": "markdown",
      "metadata": {
        "id": "Gu19Bxn5RTpj"
      },
      "source": [
        "Plot the results again."
      ]
    },
    {
      "cell_type": "code",
      "execution_count": 25,
      "metadata": {
        "tags": [],
        "colab": {
          "base_uri": "https://localhost:8080/",
          "height": 887
        },
        "id": "ZHj_MR8MRTpk",
        "outputId": "57ac0394-6dd0-4623-eaec-6d89c5563798"
      },
      "outputs": [
        {
          "output_type": "display_data",
          "data": {
            "text/plain": [
              "<Figure size 640x480 with 1 Axes>"
            ],
            "image/png": "[encoded data removed]"
          },
          "metadata": {}
        },
        {
          "output_type": "display_data",
          "data": {
            "text/plain": [
              "<Figure size 640x480 with 1 Axes>"
            ],
            "image/png": "[encoded data removed]"
          },
          "metadata": {}
        }
      ],
      "source": [
        "acc = history.history['acc']\n",
        "val_acc = history.history['val_acc']\n",
        "loss = history.history['loss']\n",
        "val_loss = history.history['val_loss']\n",
        "\n",
        "epochs = range(1, len(acc) + 1)\n",
        "\n",
        "plt.plot(epochs, acc, 'bo', label='Training acc')\n",
        "plt.plot(epochs, val_acc, 'b', label='Validation acc')\n",
        "plt.title('Training and validation accuracy')\n",
        "plt.legend()\n",
        "\n",
        "plt.figure()\n",
        "\n",
        "plt.plot(epochs, loss, 'bo', label='Training loss')\n",
        "plt.plot(epochs, val_loss, 'b', label='Validation loss')\n",
        "plt.title('Training and validation loss')\n",
        "plt.legend()\n",
        "\n",
        "plt.show()"
      ]
    },
    {
      "cell_type": "markdown",
      "metadata": {
        "id": "BALZhHJFRTpk"
      },
      "source": [
        "Validation accuracy is somewhere in the low 50s. So in this case, pre-trained word embeddings do outperform jointly learned embeddings.\n",
        "\n",
        "Finally, evaluate the model on the test data. Do not forget to tokenize the test data."
      ]
    },
    {
      "cell_type": "code",
      "execution_count": 26,
      "metadata": {
        "tags": [],
        "id": "wS9Sg92bRTpk"
      },
      "outputs": [],
      "source": [
        "test_dir = os.path.join(imdb_dir, 'test')\n",
        "\n",
        "labels = []\n",
        "texts = []\n",
        "\n",
        "for label_type in ['neg', 'pos']:\n",
        "    dir_name = os.path.join(test_dir, label_type)\n",
        "    for fname in sorted(os.listdir(dir_name)):\n",
        "        if fname[-4:] == '.txt':\n",
        "            f = open(os.path.join(dir_name, fname),encoding=\"utf8\")\n",
        "            texts.append(f.read())\n",
        "            f.close()\n",
        "            if label_type == 'neg':\n",
        "                labels.append(0)\n",
        "            else:\n",
        "                labels.append(1)\n",
        "\n",
        "sequences = tokenizer.texts_to_sequences(texts)\n",
        "x_test = pad_sequences(sequences, maxlen=maxlen)\n",
        "y_test = np.asarray(labels)"
      ]
    },
    {
      "cell_type": "markdown",
      "metadata": {
        "id": "HXDNEO81RTp0"
      },
      "source": [
        "Last but not least, load and evaluate the pre-trained model in the testing data."
      ]
    },
    {
      "cell_type": "code",
      "execution_count": 27,
      "metadata": {
        "tags": [],
        "colab": {
          "base_uri": "https://localhost:8080/"
        },
        "id": "YWU-gf7zRTp0",
        "outputId": "0010bcad-83be-4ded-ae99-6d20959fdfb7"
      },
      "outputs": [
        {
          "output_type": "stream",
          "name": "stdout",
          "text": [
            "782/782 [==============================] - 2s 2ms/step - loss: 1.3601 - acc: 0.5088\n"
          ]
        },
        {
          "output_type": "execute_result",
          "data": {
            "text/plain": [
              "[1.360074520111084, 0.508840024471283]"
            ]
          },
          "metadata": {},
          "execution_count": 27
        }
      ],
      "source": [
        "model.load_weights('Ex.11.pretrained_GloVe_model.h5')\n",
        "model.evaluate(x_test, y_test)"
      ]
    },
    {
      "cell_type": "code",
      "source": [
        "# Zufällige Auswahl neuer Trainingsdaten\n",
        "random_indices = np.random.choice(data.shape[0], 200, replace=False)\n",
        "x_train_new = data[random_indices]\n",
        "y_train_new = np.array(labels)[random_indices]\n",
        "\n",
        "# Erstellen eines neuen Modells\n",
        "def create_model():\n",
        "    model = Sequential()\n",
        "    model.add(Embedding(max_words, embedding_dim, input_length=maxlen))\n",
        "    model.add(Flatten())\n",
        "    model.add(Dense(32, activation='relu'))\n",
        "    model.add(Dense(1, activation='sigmoid'))\n",
        "    model.layers[0].set_weights([embedding_matrix])\n",
        "    model.layers[0].trainable = False\n",
        "    model.compile(optimizer='rmsprop', loss='binary_crossentropy', metrics=['acc'])\n",
        "    return model\n",
        "\n",
        "# Trainieren und Auswerten des neuen Modells\n",
        "model_new = create_model()\n",
        "history_new = model_new.fit(x_train_new, y_train_new, epochs=10, batch_size=32, validation_data=(x_val, y_val))\n",
        "\n",
        "# Vergleichen der Modelle\n",
        "acc_difference = history.history['val_acc'][-1] - history_new.history['val_acc'][-1]\n",
        "print(f'Difference in validation accuracy: {acc_difference}')\n"
      ],
      "metadata": {
        "colab": {
          "base_uri": "https://localhost:8080/"
        },
        "id": "UF4HQkpSqXKr",
        "outputId": "6b9efd52-65f9-4a51-ec30-a5e730284c2a"
      },
      "execution_count": 29,
      "outputs": [
        {
          "output_type": "stream",
          "name": "stdout",
          "text": [
            "Epoch 1/10\n",
            "7/7 [==============================] - 3s 274ms/step - loss: 1.8935 - acc: 0.4800 - val_loss: 0.6936 - val_acc: 0.4977\n",
            "Epoch 2/10\n",
            "7/7 [==============================] - 1s 230ms/step - loss: 0.6554 - acc: 0.6000 - val_loss: 0.6993 - val_acc: 0.5062\n",
            "Epoch 3/10\n",
            "7/7 [==============================] - 1s 113ms/step - loss: 0.6131 - acc: 0.6400 - val_loss: 0.7640 - val_acc: 0.4998\n",
            "Epoch 4/10\n",
            "7/7 [==============================] - 1s 117ms/step - loss: 0.5769 - acc: 0.6300 - val_loss: 0.7174 - val_acc: 0.5019\n",
            "Epoch 5/10\n",
            "7/7 [==============================] - 1s 117ms/step - loss: 0.5288 - acc: 0.6600 - val_loss: 0.8028 - val_acc: 0.5014\n",
            "Epoch 6/10\n",
            "7/7 [==============================] - 1s 117ms/step - loss: 0.4927 - acc: 0.6300 - val_loss: 0.6935 - val_acc: 0.5029\n",
            "Epoch 7/10\n",
            "7/7 [==============================] - 1s 113ms/step - loss: 0.4513 - acc: 0.8100 - val_loss: 0.6944 - val_acc: 0.4906\n",
            "Epoch 8/10\n",
            "7/7 [==============================] - 1s 220ms/step - loss: 0.4321 - acc: 0.8450 - val_loss: 0.8399 - val_acc: 0.5008\n",
            "Epoch 9/10\n",
            "7/7 [==============================] - 1s 221ms/step - loss: 0.4430 - acc: 0.7850 - val_loss: 0.7292 - val_acc: 0.5095\n",
            "Epoch 10/10\n",
            "7/7 [==============================] - 1s 222ms/step - loss: 0.3727 - acc: 0.9400 - val_loss: 1.7120 - val_acc: 0.5015\n",
            "Difference in validation accuracy: 0.03389996290206909\n"
          ]
        }
      ]
    },
    {
      "cell_type": "markdown",
      "metadata": {
        "id": "qTmU7HKRRTp1"
      },
      "source": [
        "This is an appalling test accuracy of 54-55%. Working with just a handful of training samples is hard and obviously crazy :-)  Take this is a warning within a lesson-learned!!!"
      ]
    },
    {
      "cell_type": "code",
      "source": [
        "from tensorflow.keras.models import Sequential\n",
        "from tensorflow.keras.layers import Embedding, Flatten, Dense\n",
        "import numpy as np\n",
        "import os\n",
        "\n",
        "# Zufällige Auswahl neuer Trainingsdaten\n",
        "def create_model():\n",
        "    model = Sequential()\n",
        "    model.add(Embedding(max_words, embedding_dim, input_length=maxlen))\n",
        "    model.add(Flatten())\n",
        "    model.add(Dense(32, activation='relu'))\n",
        "    model.add(Dense(1, activation='sigmoid'))\n",
        "    model.layers[0].set_weights([embedding_matrix])\n",
        "    model.layers[0].trainable = False\n",
        "    model.compile(optimizer='rmsprop', loss='binary_crossentropy', metrics=['acc'])\n",
        "    return model\n",
        "\n",
        "# Trainieren und Auswerten des Modells fünfmal\n",
        "for run_id in range(1, 6):\n",
        "    print(f'\\nTraining Run {run_id}:\\n')\n",
        "\n",
        "    # Zufällige Auswahl neuer Trainingsdaten\n",
        "    random_indices = np.random.choice(data.shape[0], 200, replace=False)\n",
        "    x_train_new = data[random_indices]\n",
        "    y_train_new = np.array(labels)[random_indices]\n",
        "\n",
        "    # Erstellen eines neuen Modells\n",
        "    model_new = create_model()\n",
        "\n",
        "    # Trainieren des neuen Modells\n",
        "    history_new = model_new.fit(x_train_new, y_train_new, epochs=10, batch_size=32, validation_data=(x_val, y_val))\n",
        "\n",
        "    # Ausgabe der Validierungs-Genauigkeiten\n",
        "    best_val_acc = max(history_new.history['val_acc'])\n",
        "    print(f'Run {run_id} - Best Validation Accuracy: {best_val_acc:.4f}\\n')\n"
      ],
      "metadata": {
        "colab": {
          "base_uri": "https://localhost:8080/"
        },
        "id": "16JLzs8qqQJw",
        "outputId": "a046d416-67af-44be-8f5d-cea5321d1f62"
      },
      "execution_count": 30,
      "outputs": [
        {
          "output_type": "stream",
          "name": "stdout",
          "text": [
            "\n",
            "Training Run 1:\n",
            "\n",
            "Epoch 1/10\n",
            "7/7 [==============================] - 1s 139ms/step - loss: 1.2662 - acc: 0.5500 - val_loss: 0.8183 - val_acc: 0.5020\n",
            "Epoch 2/10\n",
            "7/7 [==============================] - 1s 219ms/step - loss: 0.5953 - acc: 0.6450 - val_loss: 0.8242 - val_acc: 0.5031\n",
            "Epoch 3/10\n",
            "7/7 [==============================] - 1s 221ms/step - loss: 0.4154 - acc: 0.7950 - val_loss: 0.7561 - val_acc: 0.5040\n",
            "Epoch 4/10\n",
            "7/7 [==============================] - 1s 220ms/step - loss: 0.2795 - acc: 0.9750 - val_loss: 0.8456 - val_acc: 0.5048\n",
            "Epoch 5/10\n",
            "7/7 [==============================] - 1s 223ms/step - loss: 0.4705 - acc: 0.8000 - val_loss: 0.7292 - val_acc: 0.5059\n",
            "Epoch 6/10\n",
            "7/7 [==============================] - 1s 220ms/step - loss: 0.1577 - acc: 1.0000 - val_loss: 0.8101 - val_acc: 0.5042\n",
            "Epoch 7/10\n",
            "7/7 [==============================] - 1s 222ms/step - loss: 0.1610 - acc: 0.9850 - val_loss: 0.9747 - val_acc: 0.5016\n",
            "Epoch 8/10\n",
            "7/7 [==============================] - 1s 229ms/step - loss: 0.0910 - acc: 0.9950 - val_loss: 0.7977 - val_acc: 0.5054\n",
            "Epoch 9/10\n",
            "7/7 [==============================] - 1s 224ms/step - loss: 0.1388 - acc: 0.9800 - val_loss: 0.8571 - val_acc: 0.5025\n",
            "Epoch 10/10\n",
            "7/7 [==============================] - 1s 224ms/step - loss: 0.0417 - acc: 1.0000 - val_loss: 0.8285 - val_acc: 0.5086\n",
            "Run 1 - Best Validation Accuracy: 0.5086\n",
            "\n",
            "\n",
            "Training Run 2:\n",
            "\n",
            "Epoch 1/10\n",
            "7/7 [==============================] - 1s 139ms/step - loss: 1.6881 - acc: 0.5750 - val_loss: 0.7318 - val_acc: 0.4945\n",
            "Epoch 2/10\n",
            "7/7 [==============================] - 1s 115ms/step - loss: 0.8258 - acc: 0.5550 - val_loss: 0.7479 - val_acc: 0.4975\n",
            "Epoch 3/10\n",
            "7/7 [==============================] - 1s 219ms/step - loss: 0.5384 - acc: 0.7550 - val_loss: 0.9661 - val_acc: 0.4949\n",
            "Epoch 4/10\n",
            "7/7 [==============================] - 1s 223ms/step - loss: 0.3725 - acc: 0.8500 - val_loss: 0.8915 - val_acc: 0.4978\n",
            "Epoch 5/10\n",
            "7/7 [==============================] - 1s 113ms/step - loss: 0.2498 - acc: 0.9400 - val_loss: 1.0562 - val_acc: 0.4981\n",
            "Epoch 6/10\n",
            "7/7 [==============================] - 1s 114ms/step - loss: 0.1621 - acc: 0.9750 - val_loss: 1.5704 - val_acc: 0.5011\n",
            "Epoch 7/10\n",
            "7/7 [==============================] - 1s 219ms/step - loss: 0.2601 - acc: 0.8700 - val_loss: 1.4642 - val_acc: 0.5001\n",
            "Epoch 8/10\n",
            "7/7 [==============================] - 1s 219ms/step - loss: 0.1657 - acc: 0.9300 - val_loss: 0.8521 - val_acc: 0.4920\n",
            "Epoch 9/10\n",
            "7/7 [==============================] - 1s 222ms/step - loss: 0.0359 - acc: 1.0000 - val_loss: 0.9089 - val_acc: 0.4937\n",
            "Epoch 10/10\n",
            "7/7 [==============================] - 1s 226ms/step - loss: 0.0223 - acc: 1.0000 - val_loss: 1.2416 - val_acc: 0.4946\n",
            "Run 2 - Best Validation Accuracy: 0.5011\n",
            "\n",
            "\n",
            "Training Run 3:\n",
            "\n",
            "Epoch 1/10\n",
            "7/7 [==============================] - 2s 156ms/step - loss: 1.4315 - acc: 0.5100 - val_loss: 0.9621 - val_acc: 0.5016\n",
            "Epoch 2/10\n",
            "7/7 [==============================] - 1s 134ms/step - loss: 0.6987 - acc: 0.6600 - val_loss: 0.8355 - val_acc: 0.5008\n",
            "Epoch 3/10\n",
            "7/7 [==============================] - 1s 132ms/step - loss: 0.5101 - acc: 0.7700 - val_loss: 0.8265 - val_acc: 0.4933\n",
            "Epoch 4/10\n",
            "7/7 [==============================] - 1s 221ms/step - loss: 0.4237 - acc: 0.8100 - val_loss: 0.7902 - val_acc: 0.4895\n",
            "Epoch 5/10\n",
            "7/7 [==============================] - 1s 219ms/step - loss: 0.2816 - acc: 0.9050 - val_loss: 0.7968 - val_acc: 0.4605\n",
            "Epoch 6/10\n",
            "7/7 [==============================] - 1s 121ms/step - loss: 0.3862 - acc: 0.8200 - val_loss: 0.7878 - val_acc: 0.4787\n",
            "Epoch 7/10\n",
            "7/7 [==============================] - 1s 123ms/step - loss: 0.1334 - acc: 0.9950 - val_loss: 0.9277 - val_acc: 0.4924\n",
            "Epoch 8/10\n",
            "7/7 [==============================] - 1s 113ms/step - loss: 0.1038 - acc: 1.0000 - val_loss: 0.8225 - val_acc: 0.4760\n",
            "Epoch 9/10\n",
            "7/7 [==============================] - 1s 220ms/step - loss: 0.0536 - acc: 1.0000 - val_loss: 0.8729 - val_acc: 0.4808\n",
            "Epoch 10/10\n",
            "7/7 [==============================] - 1s 222ms/step - loss: 0.3338 - acc: 0.8550 - val_loss: 0.9762 - val_acc: 0.4893\n",
            "Run 3 - Best Validation Accuracy: 0.5016\n",
            "\n",
            "\n",
            "Training Run 4:\n",
            "\n",
            "Epoch 1/10\n",
            "7/7 [==============================] - 2s 219ms/step - loss: 2.7941 - acc: 0.4750 - val_loss: 0.8479 - val_acc: 0.4996\n",
            "Epoch 2/10\n",
            "7/7 [==============================] - 1s 229ms/step - loss: 0.6679 - acc: 0.6200 - val_loss: 0.7998 - val_acc: 0.4985\n",
            "Epoch 3/10\n",
            "7/7 [==============================] - 1s 230ms/step - loss: 0.3600 - acc: 0.8850 - val_loss: 1.1457 - val_acc: 0.4984\n",
            "Epoch 4/10\n",
            "7/7 [==============================] - 1s 124ms/step - loss: 0.4220 - acc: 0.7450 - val_loss: 0.7359 - val_acc: 0.5056\n",
            "Epoch 5/10\n",
            "7/7 [==============================] - 1s 115ms/step - loss: 0.1429 - acc: 0.9950 - val_loss: 0.7872 - val_acc: 0.5049\n",
            "Epoch 6/10\n",
            "7/7 [==============================] - 1s 220ms/step - loss: 0.2653 - acc: 0.8750 - val_loss: 1.5206 - val_acc: 0.5019\n",
            "Epoch 7/10\n",
            "7/7 [==============================] - 1s 112ms/step - loss: 0.2188 - acc: 0.9200 - val_loss: 0.8460 - val_acc: 0.4994\n",
            "Epoch 8/10\n",
            "7/7 [==============================] - 1s 114ms/step - loss: 0.0755 - acc: 1.0000 - val_loss: 1.0487 - val_acc: 0.4974\n",
            "Epoch 9/10\n",
            "7/7 [==============================] - 1s 219ms/step - loss: 0.0585 - acc: 1.0000 - val_loss: 0.8943 - val_acc: 0.4995\n",
            "Epoch 10/10\n",
            "7/7 [==============================] - 1s 220ms/step - loss: 0.0293 - acc: 1.0000 - val_loss: 1.2881 - val_acc: 0.4975\n",
            "Run 4 - Best Validation Accuracy: 0.5056\n",
            "\n",
            "\n",
            "Training Run 5:\n",
            "\n",
            "Epoch 1/10\n",
            "7/7 [==============================] - 2s 250ms/step - loss: 1.5558 - acc: 0.4300 - val_loss: 0.6932 - val_acc: 0.5022\n",
            "Epoch 2/10\n",
            "7/7 [==============================] - 1s 221ms/step - loss: 0.6775 - acc: 0.6850 - val_loss: 0.7597 - val_acc: 0.4976\n",
            "Epoch 3/10\n",
            "7/7 [==============================] - 1s 226ms/step - loss: 0.6489 - acc: 0.6200 - val_loss: 0.6977 - val_acc: 0.4951\n",
            "Epoch 4/10\n",
            "7/7 [==============================] - 1s 199ms/step - loss: 0.6159 - acc: 0.5800 - val_loss: 0.8209 - val_acc: 0.5028\n",
            "Epoch 5/10\n",
            "7/7 [==============================] - 1s 192ms/step - loss: 0.4451 - acc: 0.8100 - val_loss: 1.0645 - val_acc: 0.4978\n",
            "Epoch 6/10\n",
            "7/7 [==============================] - 1s 226ms/step - loss: 0.3256 - acc: 0.8700 - val_loss: 0.8698 - val_acc: 0.4956\n",
            "Epoch 7/10\n",
            "7/7 [==============================] - 1s 220ms/step - loss: 0.2364 - acc: 0.9150 - val_loss: 0.9512 - val_acc: 0.4973\n",
            "Epoch 8/10\n",
            "7/7 [==============================] - 1s 222ms/step - loss: 0.1412 - acc: 0.9700 - val_loss: 1.1824 - val_acc: 0.5020\n",
            "Epoch 9/10\n",
            "7/7 [==============================] - 1s 132ms/step - loss: 0.2119 - acc: 0.9000 - val_loss: 0.8669 - val_acc: 0.4960\n",
            "Epoch 10/10\n",
            "7/7 [==============================] - 1s 123ms/step - loss: 0.0592 - acc: 1.0000 - val_loss: 0.8582 - val_acc: 0.4875\n",
            "Run 5 - Best Validation Accuracy: 0.5028\n",
            "\n"
          ]
        }
      ]
    },
    {
      "cell_type": "markdown",
      "source": [
        "| Run ID | Best Validation Accuracy |\n",
        "| :-----: | :------------------------: |\n",
        "|   1   |           0.5086           |\n",
        "|   2   |           0.5011           |\n",
        "|   3   |           0.5016           |\n",
        "|   4   |           0.5056           |\n",
        "|   5   |           0.5028           |\n"
      ],
      "metadata": {
        "id": "0jkCRBFYsvey"
      }
    },
    {
      "cell_type": "code",
      "source": [
        "import os\n",
        "import numpy as np\n",
        "from tensorflow.keras.preprocessing.text import Tokenizer\n",
        "from tensorflow.keras.preprocessing.sequence import pad_sequences\n",
        "from tensorflow.keras.models import Sequential\n",
        "from tensorflow.keras.layers import Embedding, Flatten, Dense\n",
        "\n",
        "\n",
        "\n",
        "# Anzahl der zusätzlichen Trainingssamples für das task-spezifische Embedding\n",
        "additional_training_samples = 200\n",
        "\n",
        "# Zufällige Auswahl neuer Trainingsdaten für das task-spezifische Embedding\n",
        "random_indices = np.random.choice(len(labels), additional_training_samples, replace=False)\n",
        "x_train_additional = data[random_indices]\n",
        "y_train_additional = np.asarray(labels)[random_indices]\n",
        "\n",
        "# Tokenizer und Sequenzen für zusätzliche Trainingsdaten\n",
        "additional_texts = [texts[i] for i in random_indices]\n",
        "additional_sequences = tokenizer.texts_to_sequences(additional_texts)\n",
        "additional_data = pad_sequences(additional_sequences, maxlen=maxlen)\n",
        "\n",
        "# Erstellen eines neuen Modells für das task-spezifische Embedding\n",
        "def create_additional_model():\n",
        "    model = Sequential()\n",
        "    model.add(Embedding(max_words, embedding_dim, input_length=maxlen))\n",
        "    model.add(Flatten())\n",
        "    model.add(Dense(32, activation='relu'))\n",
        "    model.add(Dense(1, activation='sigmoid'))\n",
        "    model.compile(optimizer='rmsprop', loss='binary_crossentropy', metrics=['acc'])\n",
        "    return model\n",
        "\n",
        "# Trainieren und Auswerten des neuen Modells für das task-spezifische Embedding\n",
        "model_additional = create_additional_model()\n",
        "history_additional = model_additional.fit(x_train_additional, y_train_additional,\n",
        "                                        epochs=10, batch_size=32, validation_data=(x_val, y_val))\n",
        "\n",
        "# Vergleichen der Modelle\n",
        "acc_difference = history.history['val_acc'][-1] - history_additional.history['val_acc'][-1]\n",
        "print(f'Difference in validation accuracy: {acc_difference}')\n"
      ],
      "metadata": {
        "colab": {
          "base_uri": "https://localhost:8080/"
        },
        "id": "9xvzKLiptTC_",
        "outputId": "f1934de9-f6ab-4076-fe0d-8a658275e44e"
      },
      "execution_count": 32,
      "outputs": [
        {
          "output_type": "stream",
          "name": "stdout",
          "text": [
            "Epoch 1/10\n",
            "7/7 [==============================] - 2s 177ms/step - loss: 0.6936 - acc: 0.5350 - val_loss: 0.6947 - val_acc: 0.5027\n",
            "Epoch 2/10\n",
            "7/7 [==============================] - 1s 231ms/step - loss: 0.5394 - acc: 0.9650 - val_loss: 0.6996 - val_acc: 0.5026\n",
            "Epoch 3/10\n",
            "7/7 [==============================] - 1s 226ms/step - loss: 0.3797 - acc: 0.9750 - val_loss: 0.7104 - val_acc: 0.5028\n",
            "Epoch 4/10\n",
            "7/7 [==============================] - 1s 225ms/step - loss: 0.2163 - acc: 0.9950 - val_loss: 0.7253 - val_acc: 0.5017\n",
            "Epoch 5/10\n",
            "7/7 [==============================] - 1s 136ms/step - loss: 0.1163 - acc: 1.0000 - val_loss: 0.7360 - val_acc: 0.4995\n",
            "Epoch 6/10\n",
            "7/7 [==============================] - 1s 229ms/step - loss: 0.0640 - acc: 1.0000 - val_loss: 0.7553 - val_acc: 0.5045\n",
            "Epoch 7/10\n",
            "7/7 [==============================] - 1s 230ms/step - loss: 0.0383 - acc: 1.0000 - val_loss: 0.7655 - val_acc: 0.5043\n",
            "Epoch 8/10\n",
            "7/7 [==============================] - 1s 229ms/step - loss: 0.0244 - acc: 1.0000 - val_loss: 0.7743 - val_acc: 0.5016\n",
            "Epoch 9/10\n",
            "7/7 [==============================] - 1s 231ms/step - loss: 0.0166 - acc: 1.0000 - val_loss: 0.8061 - val_acc: 0.5042\n",
            "Epoch 10/10\n",
            "7/7 [==============================] - 1s 232ms/step - loss: 0.0118 - acc: 1.0000 - val_loss: 0.8173 - val_acc: 0.5014\n",
            "Difference in validation accuracy: 0.0339999794960022\n"
          ]
        }
      ]
    },
    {
      "cell_type": "markdown",
      "source": [
        "Das Modell, das mit zusätzlichen Trainingssamples trainiert wurde, zeigt eine Verbesserung in der Validierungsgenauigkeit im Vergleich zum ursprünglichen Modell. Die Validierungsgenauigkeit hat sich um 0.034 erhöht.\n"
      ],
      "metadata": {
        "id": "1QQm0aTjuUF7"
      }
    }
  ],
  "metadata": {
    "kernelspec": {
      "display_name": "Python 3 (ipykernel)",
      "language": "python",
      "name": "python3"
    },
    "language_info": {
      "codemirror_mode": {
        "name": "ipython",
        "version": 3
      },
      "file_extension": ".py",
      "mimetype": "text/x-python",
      "name": "python",
      "nbconvert_exporter": "python",
      "pygments_lexer": "ipython3",
      "version": "3.9.17"
    },
    "colab": {
      "provenance": [],
      "include_colab_link": true
    }
  },
  "nbformat": 4,
  "nbformat_minor": 0
}