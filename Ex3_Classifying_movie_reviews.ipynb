{
  "cells": [
    {
      "cell_type": "markdown",
      "metadata": {
        "id": "view-in-github",
        "colab_type": "text"
      },
      "source": [
        "<a href=\"https://colab.research.google.com/github/niklasfaller/DIS21-BIg-Data/blob/main/Ex3_Classifying_movie_reviews.ipynb\" target=\"_parent\"><img src=\"https://colab.research.google.com/assets/colab-badge.svg\" alt=\"Open In Colab\"/></a>"
      ]
    },
    {
      "cell_type": "markdown",
      "metadata": {
        "id": "4eMNlovB33tl"
      },
      "source": [
        "<img src=\"https://www.th-koeln.de/img/logo.svg\" style=\"float: right;\" width=\"200\">"
      ]
    },
    {
      "cell_type": "markdown",
      "metadata": {
        "id": "wh5F_9Qq33tt"
      },
      "source": [
        "# 3rd exercise: <font color=\"#C70039\">Binary sentiment classification with IMDB movie reviews</font>\n",
        "* Course: DIS21a.1\n",
        "* Lecturer: <a href=\"https://www.gernotheisenberg.de/\">Gernot Heisenberg</a>\n",
        "* Author of notebook modifications and adaptations: Niklas Faller 11154696\n",
        "* Date:   04.01.2024\n",
        "\n",
        "<img src=\"https://brand24.com/blog/wp-content/uploads/2017/04/Screen-Shot-2017-04-12-at-16.24.20.png\" style=\"float: center;\" width=\"200\">\n",
        "\n",
        "**GENERAL NOTE 1**:\n",
        "Please make sure you are reading the entire notebook, since it contains a lot of information about your tasks (e.g. regarding the set of certain paramaters or specific computational tricks, etc.), and the written mark downs as well as comments contain a lot of information on how things work together as a whole.\n",
        "\n",
        "**GENERAL NOTE 2**:\n",
        "* Please, when commenting source code, just use English language only.\n",
        "* When describing an observation (for instance, after you have run through your test plan) you may use German language.\n",
        "This applies to all exercises in DIS 21a.1.  \n",
        "\n",
        "--------------------\n",
        "\n",
        "### <font color=\"ce33ff\">DESCRIPTION</font>:\n",
        "This notebook allows you for a binary classification (two classes only). You will classify movie reviews into \"positive\" reviews and \"negative\" reviews, just based on the text content of the reviews.\n",
        "\n",
        "The **IMDB** dataset is a set of 50.000 highly-polarized reviews from the Internet Movie Database. They are split into 25.000 reviews for training and 25.000 reviews for testing, each set consisting in 50% negative and 50% positive reviews.\n",
        "The IMDB dataset comes packaged with Keras. It has already been preprocessed: the reviews (sequences of words)\n",
        "have been turned into sequences of integers, where each integer stands for a specific word in a dictionary.\n",
        "\n",
        "-----------------------\n",
        "\n",
        "### <font color=\"FFC300\">TASKS</font>:\n",
        "Within this notebook, the tasks that you need to work on are always listed as bullet points below.\n",
        "If a task is more challenging and consists of several steps, this is indicated as well.\n",
        "Make sure you have worked down the task list and commented your doings.\n",
        "This should be done using markdown.<br>\n",
        "<font color=red>Make sure you don't forget to specify your name and your matriculation number in the notebook before submitting it.</font>\n",
        "\n",
        "**YOUR TASKS in this exercise are as follows**:\n",
        "1. import the notebook into Google Colab.\n",
        "2. make sure you specified you name and your matriculation number in the header below my name and date.\n",
        "    * set the date too and remove mine.\n",
        "3. read the entire notebook carefully.\n",
        "    * add comments whereever you feel it necessary for better understanding\n",
        "    * run the notebook for the first time and note the result in your markdown result table (your test plan).\n",
        "4. go into the section 'building the ANN'.\n",
        "    * add the missing code that does create a network as shown in the image in the lecture slides on page 166 (File: 'DIS21a.1-7.HANDS_ON.First.DLNetwork.Architectures.for.Solving.Three.Interesting.Problems.pdf')\n",
        "    * set the activation function to ReLu\n",
        "    * set the correct activation function in the last layer (the output layer). What is correct?\n",
        "5. stay in the 'building the ANN' section again.\n",
        "    * add the missing code for compiling the network by setting\n",
        "        * the loss function\n",
        "        * the optimizer\n",
        "        * the evaluation metric (little hint: is the label distribution balanced ?)\n",
        "6. take less `training` data and rerun the network.\n",
        "    * add the size of the training data as a column in the table and note the accuracy you achieve\n",
        "7. take less `testing` data and rerun the network.\n",
        "    * add the size of the testing data as a column in the table and note the accuracy you achieve\n",
        "8. increase/decrease the number of epochs and the batch size\n",
        "    * add those hyperparameters as columns in the table and note the accuracy you achieve\n",
        "9. make combinations of this according to your testplan. Make sure you combine with sense and reason and not just chaotically.\n",
        "10. comment your observations.\n",
        "    * when is the accuracy increasing / decreasing\n",
        "11. until now there were 2 hidden layers. Try to use 1 or 3 hidden layers and see how it affects the test accuracy. Use again a little table. Describe your observations.\n",
        "12. Try to use layers with more hidden units or less hidden units: 32 units, 64 units, 128 units ...! What effect can you observe?\n",
        "13. Try to use the `mse` loss function instead of `binary_crossentropy`. What effect can you observe?\n",
        "14. Try to use the `tanh` activation (an activation that was popular in the early days of neural networks) instead of `relu`. What effect can you observe?"
      ]
    },
    {
      "cell_type": "markdown",
      "metadata": {
        "id": "qN6cLb_P33tw"
      },
      "source": [
        "\n",
        "## START OF THE NOTEBOOK CODE\n",
        "----------------------------------------------------------------------------------------------------------------------"
      ]
    },
    {
      "cell_type": "code",
      "execution_count": 1,
      "metadata": {
        "tags": [],
        "id": "eu5lkljv33tx"
      },
      "outputs": [],
      "source": [
        "#tensorflow and keras (implicit)\n",
        "import tensorflow\n",
        "#tensorflow.keras.__version__"
      ]
    },
    {
      "cell_type": "markdown",
      "metadata": {
        "id": "PKg1_lvv33t0"
      },
      "source": [
        "### loading the IMDB movie review data set\n",
        "This code loads the data set (when you run it for the first time on a local machine, about approx. 80MB of data will be downloaded into the memory):"
      ]
    },
    {
      "cell_type": "code",
      "execution_count": 2,
      "metadata": {
        "tags": [],
        "id": "lBmP_9Gm33t1"
      },
      "outputs": [],
      "source": [
        "from tensorflow.keras.datasets import imdb\n",
        "\n",
        "(train_data, train_labels), (test_data, test_labels) = imdb.load_data(num_words=10000)"
      ]
    },
    {
      "cell_type": "markdown",
      "metadata": {
        "id": "4XuTfjFt33t1"
      },
      "source": [
        "\n",
        "The argument `num_words=10000` means that we will only keep the top 10.000 most frequently occurring words in the training data. Rare words will be discarded. This allows us to work with vector data of manageable size.\n",
        "\n",
        "The variables `train_data` and `test_data` are lists of reviews, each review being a list of word indices (encoding a sequence of words).\n",
        "`train_labels` and `test_labels` are lists of 0s and 1s, where 0 stands for \"negative\" and 1 stands for \"positive\":"
      ]
    },
    {
      "cell_type": "code",
      "execution_count": 3,
      "metadata": {
        "tags": [],
        "colab": {
          "base_uri": "https://localhost:8080/"
        },
        "id": "HowLU-eQ33t2",
        "outputId": "18eee58e-a28b-4ab1-8821-6b7d056f99fb"
      },
      "outputs": [
        {
          "output_type": "execute_result",
          "data": {
            "text/plain": [
              "[1,\n",
              " 14,\n",
              " 22,\n",
              " 16,\n",
              " 43,\n",
              " 530,\n",
              " 973,\n",
              " 1622,\n",
              " 1385,\n",
              " 65,\n",
              " 458,\n",
              " 4468,\n",
              " 66,\n",
              " 3941,\n",
              " 4,\n",
              " 173,\n",
              " 36,\n",
              " 256,\n",
              " 5,\n",
              " 25,\n",
              " 100,\n",
              " 43,\n",
              " 838,\n",
              " 112,\n",
              " 50,\n",
              " 670,\n",
              " 2,\n",
              " 9,\n",
              " 35,\n",
              " 480,\n",
              " 284,\n",
              " 5,\n",
              " 150,\n",
              " 4,\n",
              " 172,\n",
              " 112,\n",
              " 167,\n",
              " 2,\n",
              " 336,\n",
              " 385,\n",
              " 39,\n",
              " 4,\n",
              " 172,\n",
              " 4536,\n",
              " 1111,\n",
              " 17,\n",
              " 546,\n",
              " 38,\n",
              " 13,\n",
              " 447,\n",
              " 4,\n",
              " 192,\n",
              " 50,\n",
              " 16,\n",
              " 6,\n",
              " 147,\n",
              " 2025,\n",
              " 19,\n",
              " 14,\n",
              " 22,\n",
              " 4,\n",
              " 1920,\n",
              " 4613,\n",
              " 469,\n",
              " 4,\n",
              " 22,\n",
              " 71,\n",
              " 87,\n",
              " 12,\n",
              " 16,\n",
              " 43,\n",
              " 530,\n",
              " 38,\n",
              " 76,\n",
              " 15,\n",
              " 13,\n",
              " 1247,\n",
              " 4,\n",
              " 22,\n",
              " 17,\n",
              " 515,\n",
              " 17,\n",
              " 12,\n",
              " 16,\n",
              " 626,\n",
              " 18,\n",
              " 2,\n",
              " 5,\n",
              " 62,\n",
              " 386,\n",
              " 12,\n",
              " 8,\n",
              " 316,\n",
              " 8,\n",
              " 106,\n",
              " 5,\n",
              " 4,\n",
              " 2223,\n",
              " 5244,\n",
              " 16,\n",
              " 480,\n",
              " 66,\n",
              " 3785,\n",
              " 33,\n",
              " 4,\n",
              " 130,\n",
              " 12,\n",
              " 16,\n",
              " 38,\n",
              " 619,\n",
              " 5,\n",
              " 25,\n",
              " 124,\n",
              " 51,\n",
              " 36,\n",
              " 135,\n",
              " 48,\n",
              " 25,\n",
              " 1415,\n",
              " 33,\n",
              " 6,\n",
              " 22,\n",
              " 12,\n",
              " 215,\n",
              " 28,\n",
              " 77,\n",
              " 52,\n",
              " 5,\n",
              " 14,\n",
              " 407,\n",
              " 16,\n",
              " 82,\n",
              " 2,\n",
              " 8,\n",
              " 4,\n",
              " 107,\n",
              " 117,\n",
              " 5952,\n",
              " 15,\n",
              " 256,\n",
              " 4,\n",
              " 2,\n",
              " 7,\n",
              " 3766,\n",
              " 5,\n",
              " 723,\n",
              " 36,\n",
              " 71,\n",
              " 43,\n",
              " 530,\n",
              " 476,\n",
              " 26,\n",
              " 400,\n",
              " 317,\n",
              " 46,\n",
              " 7,\n",
              " 4,\n",
              " 2,\n",
              " 1029,\n",
              " 13,\n",
              " 104,\n",
              " 88,\n",
              " 4,\n",
              " 381,\n",
              " 15,\n",
              " 297,\n",
              " 98,\n",
              " 32,\n",
              " 2071,\n",
              " 56,\n",
              " 26,\n",
              " 141,\n",
              " 6,\n",
              " 194,\n",
              " 7486,\n",
              " 18,\n",
              " 4,\n",
              " 226,\n",
              " 22,\n",
              " 21,\n",
              " 134,\n",
              " 476,\n",
              " 26,\n",
              " 480,\n",
              " 5,\n",
              " 144,\n",
              " 30,\n",
              " 5535,\n",
              " 18,\n",
              " 51,\n",
              " 36,\n",
              " 28,\n",
              " 224,\n",
              " 92,\n",
              " 25,\n",
              " 104,\n",
              " 4,\n",
              " 226,\n",
              " 65,\n",
              " 16,\n",
              " 38,\n",
              " 1334,\n",
              " 88,\n",
              " 12,\n",
              " 16,\n",
              " 283,\n",
              " 5,\n",
              " 16,\n",
              " 4472,\n",
              " 113,\n",
              " 103,\n",
              " 32,\n",
              " 15,\n",
              " 16,\n",
              " 5345,\n",
              " 19,\n",
              " 178,\n",
              " 32]"
            ]
          },
          "metadata": {},
          "execution_count": 3
        }
      ],
      "source": [
        "train_data[0]"
      ]
    },
    {
      "cell_type": "code",
      "execution_count": 4,
      "metadata": {
        "tags": [],
        "colab": {
          "base_uri": "https://localhost:8080/"
        },
        "id": "3vPiJNRQ33t3",
        "outputId": "f5670cbc-6a49-4328-c887-e358a27f9151"
      },
      "outputs": [
        {
          "output_type": "execute_result",
          "data": {
            "text/plain": [
              "1"
            ]
          },
          "metadata": {},
          "execution_count": 4
        }
      ],
      "source": [
        "train_labels[0]"
      ]
    },
    {
      "cell_type": "markdown",
      "metadata": {
        "id": "NfHsl6L133t4"
      },
      "source": [
        "Since we restricted ourselves to the top 10.000 most frequent words, no word index will exceed 10.000:"
      ]
    },
    {
      "cell_type": "code",
      "execution_count": 5,
      "metadata": {
        "tags": [],
        "colab": {
          "base_uri": "https://localhost:8080/"
        },
        "id": "TQfnYd1333t5",
        "outputId": "4e9ed5d5-e9a4-420d-de45-27fd5b40e772"
      },
      "outputs": [
        {
          "output_type": "execute_result",
          "data": {
            "text/plain": [
              "9999"
            ]
          },
          "metadata": {},
          "execution_count": 5
        }
      ],
      "source": [
        "max([max(sequence) for sequence in train_data])"
      ]
    },
    {
      "cell_type": "markdown",
      "metadata": {
        "id": "Pe9pTjpm33t5"
      },
      "source": [
        "### data preparation\n",
        "\n",
        "Since lists of integers cannot be fed into a neural network, the lists need to be turned into tensors by one-hot-encoding ( vectors of 0s and 1s). This means for instance, turning the sequence `[3, 5]` into a 10000-dimensional vector, that would be all-zeros except for indices 3 and 5, which would be ones. Then use as first layer in the network a `Dense` layer, capable of handling floating point vector data."
      ]
    },
    {
      "cell_type": "code",
      "execution_count": 6,
      "metadata": {
        "tags": [],
        "id": "k88JFOlX33t5"
      },
      "outputs": [],
      "source": [
        "import numpy as np\n",
        "\n",
        "# just take the first 10.000 most frequent words\n",
        "def vectorize_sequences(sequences, dimension=10000):\n",
        "    # Create an all-zero matrix of shape (len(sequences), dimension)\n",
        "    results = np.zeros((len(sequences), dimension))\n",
        "    for i, sequence in enumerate(sequences):\n",
        "        results[i, sequence] = 1.  # set specific indices of results[i] to 1s\n",
        "    return results\n",
        "\n",
        "# Our vectorized training data\n",
        "x_train = vectorize_sequences(train_data)\n",
        "# Our vectorized test data\n",
        "x_test = vectorize_sequences(test_data)"
      ]
    },
    {
      "cell_type": "markdown",
      "metadata": {
        "id": "IIna5huQ33t6"
      },
      "source": [
        "Here's what our samples look like now:"
      ]
    },
    {
      "cell_type": "code",
      "execution_count": 7,
      "metadata": {
        "tags": [],
        "colab": {
          "base_uri": "https://localhost:8080/"
        },
        "id": "odfeBCl133t6",
        "outputId": "ea09daf3-37ef-41cc-cf63-00f22ffdd761"
      },
      "outputs": [
        {
          "output_type": "execute_result",
          "data": {
            "text/plain": [
              "array([0., 1., 1., ..., 0., 0., 0.])"
            ]
          },
          "metadata": {},
          "execution_count": 7
        }
      ],
      "source": [
        "x_train[0]"
      ]
    },
    {
      "cell_type": "markdown",
      "metadata": {
        "id": "X-O4IHmj33t6"
      },
      "source": [
        "Vectorizing the labels too, which is straightforward:"
      ]
    },
    {
      "cell_type": "code",
      "execution_count": 8,
      "metadata": {
        "tags": [],
        "id": "OcI1fwO433t6"
      },
      "outputs": [],
      "source": [
        "# Our vectorized labels\n",
        "y_train = np.asarray(train_labels).astype('float32')\n",
        "y_test = np.asarray(test_labels).astype('float32')"
      ]
    },
    {
      "cell_type": "markdown",
      "metadata": {
        "id": "EnEDmiKq33t7"
      },
      "source": [
        "### building the ANN\n",
        "\n",
        "Now the data is ready to be fed into a neural network. The input data is simply vectors, and the labels are scalars (1s and 0s): this is the easiest setup you will ever encounter.\n",
        "A type of network that performs well on such a problem would be a simple stack of fully-connected (`Dense`) layers as you have learned in my lectures.\n",
        "The final output layer will use a special activation so as to output a probability (a score between 0 and 1, indicating how likely the sample is to have the target \"1\", i.e. how likely the review is to be positive).\n",
        "\n",
        "The implementation is very similar to what you have learned from the MNIST example from the earlier exercise."
      ]
    },
    {
      "cell_type": "code",
      "execution_count": 9,
      "metadata": {
        "tags": [],
        "id": "mwG-T6fy33t7"
      },
      "outputs": [],
      "source": [
        "# necessary inputs\n",
        "from tensorflow.keras import models\n",
        "from tensorflow.keras import layers"
      ]
    },
    {
      "cell_type": "code",
      "execution_count": 10,
      "metadata": {
        "tags": [],
        "id": "Q9vVpx6X33t7"
      },
      "outputs": [],
      "source": [
        "model = models.Sequential()\n",
        "\n",
        "model.add(layers.Dense(16, activation = 'relu', input_shape=(10000,)))\n",
        "model.add(layers.Dense(16, activation = 'relu'))\n",
        "model.add(layers.Dense(1, activation = 'sigmoid'))"
      ]
    },
    {
      "cell_type": "markdown",
      "metadata": {
        "id": "lBQ4gWpx33t7"
      },
      "source": [
        "At last, a loss function and an optimizer needs to be specified.\n",
        "Since this is a binary classification problem and the output of our network is a probability it is best to use the `binary_crossentropy` loss. It is not the only viable choice: you could use, for instance, `mean_squared_error`. But crossentropy is usually the best choice when you are dealing with models that compute and output probabilities.\n",
        "Crossentropy is a quantity from the field of Information Theory, that measures the \"distance\"\n",
        "between probability distributions (or in our case, between the actual distribution (ground-truth) and the predictions).\n",
        "\n",
        "In addition, since the problem is class-balanced, what do you think can be used as an evaluation metric? Is there a special metric that is used when the classification task is binary?\n",
        "\n",
        "The network can be configured with the `rmsprop` optimizer, since it always does a good job."
      ]
    },
    {
      "cell_type": "code",
      "execution_count": 11,
      "metadata": {
        "tags": [],
        "id": "SaA4pLjW33t7"
      },
      "outputs": [],
      "source": [
        "from tensorflow.keras import optimizers\n",
        "from tensorflow.keras import losses\n",
        "from tensorflow.keras import metrics\n",
        "\n",
        "model.compile(optimizer = 'rmsprop', loss = 'binary_crossentropy', metrics = ['accuracy'])\n"
      ]
    },
    {
      "cell_type": "markdown",
      "metadata": {
        "id": "8egFPs-933t8"
      },
      "source": [
        "--------------------"
      ]
    },
    {
      "cell_type": "markdown",
      "metadata": {
        "id": "X0o89yb533t8"
      },
      "source": [
        "### training the ANN\n",
        "Let's train the model for 4 epochs (4 iterations over all samples in the `x_train` and `y_train` tensors), in mini-batches of 512 samples."
      ]
    },
    {
      "cell_type": "code",
      "execution_count": 12,
      "metadata": {
        "tags": [],
        "colab": {
          "base_uri": "https://localhost:8080/"
        },
        "id": "mm1404GE33t8",
        "outputId": "866c52a5-961f-47cb-9e28-e26eb227d8b1"
      },
      "outputs": [
        {
          "output_type": "stream",
          "name": "stdout",
          "text": [
            "Epoch 1/4\n",
            "49/49 [==============================] - 2s 32ms/step - loss: 0.4712 - accuracy: 0.8171\n",
            "Epoch 2/4\n",
            "49/49 [==============================] - 2s 31ms/step - loss: 0.2792 - accuracy: 0.9022\n",
            "Epoch 3/4\n",
            "49/49 [==============================] - 1s 30ms/step - loss: 0.2176 - accuracy: 0.9201\n",
            "Epoch 4/4\n",
            "49/49 [==============================] - 2s 32ms/step - loss: 0.1828 - accuracy: 0.9349\n"
          ]
        }
      ],
      "source": [
        "history = model.fit(x_train, y_train, epochs=4, batch_size=512) # compare to the one from MNIST !!!"
      ]
    },
    {
      "cell_type": "markdown",
      "metadata": {
        "id": "dMEPFWOB33t8"
      },
      "source": [
        "On CPU of a local machine (not on Google Colab), this will take less than two seconds per epoch -- training is over in 9 seconds. If you are using GPU support it is much faster. <font color=red>Note:</font> Colab also offers GPU support. Please read through the Colab documentation for finding out how to set it up."
      ]
    },
    {
      "cell_type": "markdown",
      "metadata": {
        "id": "agit6jF333t8"
      },
      "source": [
        "Note that the call to `model.fit()` returns a `history` object. This object has a member `history`, which is a dictionary containing data about everything that happened during training. Let's use it to output some info on the metrics used."
      ]
    },
    {
      "cell_type": "code",
      "execution_count": 13,
      "metadata": {
        "tags": [],
        "colab": {
          "base_uri": "https://localhost:8080/"
        },
        "id": "sjfgRMCv33t8",
        "outputId": "33c69562-e410-4e39-ed57-128488eabc73"
      },
      "outputs": [
        {
          "output_type": "execute_result",
          "data": {
            "text/plain": [
              "dict_keys(['loss', 'accuracy'])"
            ]
          },
          "metadata": {},
          "execution_count": 13
        }
      ],
      "source": [
        "history_dict = history.history\n",
        "history_dict.keys()"
      ]
    },
    {
      "cell_type": "markdown",
      "metadata": {
        "id": "3kKSS3yb33t8"
      },
      "source": [
        "### evaluate the model"
      ]
    },
    {
      "cell_type": "code",
      "execution_count": 14,
      "metadata": {
        "colab": {
          "base_uri": "https://localhost:8080/"
        },
        "id": "fEjR5fZY33t8",
        "outputId": "afffc2f4-9f7a-48de-fc36-c1c8bbdf1b1c"
      },
      "outputs": [
        {
          "output_type": "stream",
          "name": "stdout",
          "text": [
            "782/782 [==============================] - 2s 3ms/step - loss: 0.2845 - accuracy: 0.8866\n"
          ]
        }
      ],
      "source": [
        "results = model.evaluate(x_test, y_test)"
      ]
    },
    {
      "cell_type": "code",
      "execution_count": 15,
      "metadata": {
        "colab": {
          "base_uri": "https://localhost:8080/"
        },
        "id": "SD6V3Qd133t9",
        "outputId": "680982c8-690e-4657-bef4-bb8ad4c6bd41"
      },
      "outputs": [
        {
          "output_type": "execute_result",
          "data": {
            "text/plain": [
              "[0.28452372550964355, 0.8866000175476074]"
            ]
          },
          "metadata": {},
          "execution_count": 15
        }
      ],
      "source": [
        "results"
      ]
    },
    {
      "cell_type": "markdown",
      "metadata": {
        "id": "buJtVCTg33t9"
      },
      "source": [
        "Our fairly naive approach achieves an accuracy of higher than 80%.\n",
        "With state-of-the-art approaches, one should be able to get close to 95% (we will come to this in a later exercise.)"
      ]
    },
    {
      "cell_type": "markdown",
      "metadata": {
        "id": "BUhBfM7033t9"
      },
      "source": [
        "### <font color=\"#C70039\">Include your result table here and reflect a good test plan (see task list)</font>"
      ]
    },
    {
      "cell_type": "code",
      "source": [
        "len(x_train)"
      ],
      "metadata": {
        "colab": {
          "base_uri": "https://localhost:8080/"
        },
        "id": "uTXwffEx8zLZ",
        "outputId": "01ef27ac-fc6d-448b-a144-82599d3d426a"
      },
      "execution_count": null,
      "outputs": [
        {
          "output_type": "execute_result",
          "data": {
            "text/plain": [
              "25000"
            ]
          },
          "metadata": {},
          "execution_count": 16
        }
      ]
    },
    {
      "cell_type": "code",
      "source": [
        "len(y_train)\n"
      ],
      "metadata": {
        "colab": {
          "base_uri": "https://localhost:8080/"
        },
        "id": "FnDJkGDdADz5",
        "outputId": "d8f75221-1efc-4da9-f086-1b76337b4123"
      },
      "execution_count": null,
      "outputs": [
        {
          "output_type": "execute_result",
          "data": {
            "text/plain": [
              "25000"
            ]
          },
          "metadata": {},
          "execution_count": 17
        }
      ]
    },
    {
      "cell_type": "code",
      "source": [
        "model = models.Sequential()\n",
        "x_less1 = x_train[:15000]\n",
        "y_less1 = y_train[:15000]\n",
        "print(x_less1.shape)\n",
        "print(y_less1.shape)\n",
        "\n",
        "model.add(layers.Dense(16, activation = 'relu', input_shape=(10000,)))\n",
        "model.add(layers.Dense(16, activation = 'relu'))\n",
        "model.add(layers.Dense(1, activation = 'sigmoid'))\n",
        "\n",
        "model.compile(optimizer = 'rmsprop', loss = 'binary_crossentropy', metrics = ['accuracy'])\n",
        "history = model.fit(x_less1, y_less1, epochs = 4, batch_size = 512)\n",
        "\n",
        "history_dict = history.history\n",
        "history_dict.keys()\n",
        "\n",
        "results = model.evaluate(x_test, y_test)\n",
        "print(results)"
      ],
      "metadata": {
        "colab": {
          "base_uri": "https://localhost:8080/"
        },
        "id": "5Wlz9n7gAGJX",
        "outputId": "64975de0-7f89-4e46-d75a-8233e444bfd5"
      },
      "execution_count": null,
      "outputs": [
        {
          "output_type": "stream",
          "name": "stdout",
          "text": [
            "(15000, 10000)\n",
            "(15000,)\n",
            "Epoch 1/4\n",
            "30/30 [==============================] - 1s 26ms/step - loss: 0.5287 - accuracy: 0.7906\n",
            "Epoch 2/4\n",
            "30/30 [==============================] - 1s 22ms/step - loss: 0.3371 - accuracy: 0.8886\n",
            "Epoch 3/4\n",
            "30/30 [==============================] - 1s 22ms/step - loss: 0.2515 - accuracy: 0.9167\n",
            "Epoch 4/4\n",
            "30/30 [==============================] - 1s 28ms/step - loss: 0.2063 - accuracy: 0.9308\n",
            "782/782 [==============================] - 2s 2ms/step - loss: 0.2889 - accuracy: 0.8834\n",
            "[0.28892892599105835, 0.8834400177001953]\n"
          ]
        }
      ]
    },
    {
      "cell_type": "code",
      "source": [
        "model = models.Sequential()\n",
        "x_test_less1 = x_test[:15000]\n",
        "y_test_less1 = y_test[:15000]\n",
        "print(x_test_less1.shape)\n",
        "print(y_test_less1.shape)\n",
        "\n",
        "print(x_train.shape)\n",
        "print(y_train.shape)\n",
        "\n",
        "model.add(layers.Dense(16, activation = 'relu', input_shape=(10000,)))\n",
        "model.add(layers.Dense(16, activation = 'relu'))\n",
        "model.add(layers.Dense(1, activation = 'sigmoid'))\n",
        "\n",
        "model.compile(optimizer = 'rmsprop', loss = 'binary_crossentropy', metrics = ['accuracy'])\n",
        "history = model.fit(x_train, y_train, epochs = 4, batch_size = 512)\n",
        "\n",
        "history_dict = history.history\n",
        "history_dict.keys()\n",
        "\n",
        "results = model.evaluate(x_test_less1, y_test_less1)\n",
        "print(results)"
      ],
      "metadata": {
        "colab": {
          "base_uri": "https://localhost:8080/"
        },
        "id": "1Onz488FDFNY",
        "outputId": "c7e383ed-3d4e-48cd-fde9-3b8ae9a4207d"
      },
      "execution_count": null,
      "outputs": [
        {
          "output_type": "stream",
          "name": "stdout",
          "text": [
            "(15000, 10000)\n",
            "(15000,)\n",
            "(25000, 10000)\n",
            "(25000,)\n",
            "Epoch 1/4\n",
            "49/49 [==============================] - 2s 25ms/step - loss: 0.4763 - accuracy: 0.8090\n",
            "Epoch 2/4\n",
            "49/49 [==============================] - 1s 24ms/step - loss: 0.2717 - accuracy: 0.9017\n",
            "Epoch 3/4\n",
            "49/49 [==============================] - 1s 23ms/step - loss: 0.2121 - accuracy: 0.9213\n",
            "Epoch 4/4\n",
            "49/49 [==============================] - 1s 23ms/step - loss: 0.1805 - accuracy: 0.9345\n",
            "469/469 [==============================] - 1s 3ms/step - loss: 0.3050 - accuracy: 0.8780\n",
            "[0.30495789647102356, 0.878000020980835]\n"
          ]
        }
      ]
    },
    {
      "cell_type": "code",
      "source": [
        "model = models.Sequential()\n",
        "\n",
        "print(x_test.shape)\n",
        "print(y_test.shape)\n",
        "\n",
        "print(x_train.shape)\n",
        "print(y_train.shape)\n",
        "\n",
        "model.add(layers.Dense(16, activation = 'relu', input_shape=(10000,)))\n",
        "model.add(layers.Dense(16, activation = 'relu'))\n",
        "model.add(layers.Dense(1, activation = 'sigmoid'))\n",
        "\n",
        "model.compile(optimizer = 'rmsprop', loss = 'binary_crossentropy', metrics = ['accuracy'])\n",
        "history = model.fit(x_train, y_train, epochs = 2, batch_size = 512)\n",
        "\n",
        "history_dict = history.history\n",
        "history_dict.keys()\n",
        "\n",
        "results = model.evaluate(x_test, y_test)\n",
        "print(results)"
      ],
      "metadata": {
        "colab": {
          "base_uri": "https://localhost:8080/"
        },
        "id": "J5KILgiPG-mz",
        "outputId": "27efc8d5-d86b-45d9-96bf-be2ae0d0f588"
      },
      "execution_count": 16,
      "outputs": [
        {
          "output_type": "stream",
          "name": "stdout",
          "text": [
            "(25000, 10000)\n",
            "(25000,)\n",
            "(25000, 10000)\n",
            "(25000,)\n",
            "Epoch 1/2\n",
            "49/49 [==============================] - 5s 69ms/step - loss: 0.4720 - accuracy: 0.8121\n",
            "Epoch 2/2\n",
            "49/49 [==============================] - 2s 41ms/step - loss: 0.2786 - accuracy: 0.9031\n",
            "782/782 [==============================] - 3s 3ms/step - loss: 0.3045 - accuracy: 0.8795\n",
            "[0.30450427532196045, 0.8795199990272522]\n"
          ]
        }
      ]
    },
    {
      "cell_type": "markdown",
      "source": [
        "|size of training data|size of testing data|epoch|batch size | type of method |loss function|optimizer|accuracy|\n",
        "| :-: | :-: | :-: | :-: | :-: | :-: | :-: | :-: |\n",
        "|25000 | 25000 | 4 | 512 | classification | categorical_crossentropy | rsmprop |.8852\n",
        "|15000 | 25000 | 4 | 512 | classification | categorical_crossentropy | rsmprop |.8808\n",
        "|25000 | 15000 | 4 | 512 | classification | categorical_crossentropy | rsmprop |.8826\n",
        "|25000 | 25000 | 2 | 512 | classification | categorical_crossentropy | rsmprop |.8826"
      ],
      "metadata": {
        "id": "KLniRZd19t58"
      }
    },
    {
      "cell_type": "markdown",
      "metadata": {
        "id": "tuAnnV7v33t9"
      },
      "source": [
        "### using a trained network to generate predictions on new data\n",
        "\n",
        "After having trained a network, you want to use it in a practical setting. You can generate the likelihood of reviews being positive by using the `predict` method:"
      ]
    },
    {
      "cell_type": "code",
      "execution_count": null,
      "metadata": {
        "colab": {
          "base_uri": "https://localhost:8080/"
        },
        "id": "JiJaVMOK33t9",
        "outputId": "5b0d2904-e5e4-444c-919a-9edf8f8aa197"
      },
      "outputs": [
        {
          "output_type": "stream",
          "name": "stdout",
          "text": [
            "782/782 [==============================] - 3s 3ms/step\n"
          ]
        },
        {
          "output_type": "execute_result",
          "data": {
            "text/plain": [
              "array([[0.2286471 ],\n",
              "       [0.9997412 ],\n",
              "       [0.86619776],\n",
              "       ...,\n",
              "       [0.07200957],\n",
              "       [0.06445417],\n",
              "       [0.490932  ]], dtype=float32)"
            ]
          },
          "metadata": {},
          "execution_count": 16
        }
      ],
      "source": [
        "model.predict(x_test)"
      ]
    },
    {
      "cell_type": "markdown",
      "metadata": {
        "id": "Ms3lnDa633t9"
      },
      "source": [
        "Print out the first 10 and the last 10 entries.\n",
        "As you can see, the network is very confident for some samples (0.99, 0.05) but less confident for others (0.7, 0.2).\n",
        "\n",
        "----------------"
      ]
    },
    {
      "cell_type": "code",
      "source": [
        "predictions = model.predict(x_test)\n",
        "print(\"Erste 10 Einträge:\")\n",
        "print(predictions[:10])\n",
        "\n",
        "print(\"Letzte 10 Einträge:\")\n",
        "print(predictions[-10:])\n",
        "\n"
      ],
      "metadata": {
        "colab": {
          "base_uri": "https://localhost:8080/"
        },
        "id": "TebyJ-w-4kvb",
        "outputId": "18510c23-38a2-44d7-8278-cb0cc23d590e"
      },
      "execution_count": null,
      "outputs": [
        {
          "output_type": "stream",
          "name": "stdout",
          "text": [
            "782/782 [==============================] - 3s 3ms/step\n",
            "Erste 10 Einträge:\n",
            "[[0.2286471 ]\n",
            " [0.9997412 ]\n",
            " [0.86619776]\n",
            " [0.8208517 ]\n",
            " [0.9533071 ]\n",
            " [0.7388461 ]\n",
            " [0.99959564]\n",
            " [0.01111769]\n",
            " [0.97656506]\n",
            " [0.99289334]]\n",
            "Letzte 10 Einträge:\n",
            "[[6.9865501e-01]\n",
            " [3.1145624e-04]\n",
            " [9.9877048e-01]\n",
            " [4.3210831e-01]\n",
            " [9.9253261e-01]\n",
            " [9.9924761e-01]\n",
            " [4.6860772e-01]\n",
            " [7.2009571e-02]\n",
            " [6.4454168e-02]\n",
            " [4.9093199e-01]]\n"
          ]
        }
      ]
    },
    {
      "cell_type": "markdown",
      "metadata": {
        "id": "vqUZkYEZ33t-"
      },
      "source": [
        "---------------------------------\n",
        "## <font color=\"ce33ff\">SIDE PROJECT FOR IMPROVING YOUR PYTHON SKILLS</font>\n",
        "\n",
        "**DESCRIPTION:**\n",
        "Here is a way implemented to quickly decode one of the above used reviews back to English words"
      ]
    },
    {
      "cell_type": "code",
      "execution_count": null,
      "metadata": {
        "id": "wsATKIfS33t-"
      },
      "outputs": [],
      "source": [
        "# word_index is a dictionary mapping words to an integer index\n",
        "word_index = imdb.get_word_index()\n",
        "\n",
        "# reverse it, mapping integer indices to words\n",
        "reverse_word_index = dict([(value, key) for (key, value) in word_index.items()])\n",
        "\n",
        "# decode the review; note that the indices were offset by 3\n",
        "# because 0, 1 and 2 are reserved indices for \"padding\", \"start of sequence\", and \"unknown\".\n",
        "decoded_review = ' '.join([reverse_word_index.get(i - 3, '?') for i in train_data[0]])"
      ]
    },
    {
      "cell_type": "code",
      "execution_count": null,
      "metadata": {
        "id": "8pLReNa-33uJ"
      },
      "outputs": [],
      "source": [
        "decoded_review"
      ]
    },
    {
      "cell_type": "code",
      "execution_count": null,
      "metadata": {
        "id": "YGsIC0nt33uJ"
      },
      "outputs": [],
      "source": []
    }
  ],
  "metadata": {
    "kernelspec": {
      "display_name": "Python 3 (ipykernel)",
      "language": "python",
      "name": "python3"
    },
    "language_info": {
      "codemirror_mode": {
        "name": "ipython",
        "version": 3
      },
      "file_extension": ".py",
      "mimetype": "text/x-python",
      "name": "python",
      "nbconvert_exporter": "python",
      "pygments_lexer": "ipython3",
      "version": "3.9.17"
    },
    "colab": {
      "provenance": [],
      "include_colab_link": true
    }
  },
  "nbformat": 4,
  "nbformat_minor": 0
}
